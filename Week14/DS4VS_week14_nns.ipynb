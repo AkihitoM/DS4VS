{
 "cells": [
  {
   "cell_type": "markdown",
   "id": "f9192182",
   "metadata": {
    "slideshow": {
     "slide_type": "slide"
    }
   },
   "source": [
    "# Week 14: an overview of Neural Networks and Deep Learning"
   ]
  },
  {
   "cell_type": "markdown",
   "id": "4ccae4ca",
   "metadata": {
    "slideshow": {
     "slide_type": "slide"
    }
   },
   "source": [
    "## Brief Recap:\n",
    "\n",
    "* Hello, how are you?\n",
    "* Today: An overview of Neural Nets and Deep Learning\n",
    "* Next Class: I will listen to you!: Presentation time\n",
    "* After presentations I will spend the second half talking about the homeworks"
   ]
  },
  {
   "cell_type": "markdown",
   "id": "3790e536",
   "metadata": {
    "slideshow": {
     "slide_type": "slide"
    }
   },
   "source": [
    "## Neural Networks & Deep Learning"
   ]
  },
  {
   "cell_type": "markdown",
   "id": "9a2496bf",
   "metadata": {
    "slideshow": {
     "slide_type": "slide"
    }
   },
   "source": [
    "## Perceptrons"
   ]
  },
  {
   "cell_type": "markdown",
   "id": "413d0fb0",
   "metadata": {},
   "source": []
  },
  {
   "cell_type": "markdown",
   "id": "5e7133d6",
   "metadata": {
    "slideshow": {
     "slide_type": "slide"
    }
   },
   "source": [
    "## 🥺 The! Last! Lecture! 😢\n",
    "<img src=\"https://content.techgig.com/photo/80071467/pros-and-cons-of-python-programming-language-that-every-learner-must-know.jpg?132269\" width=\"100%\" style=\"margin-left:auto; margin-right:auto\">"
   ]
  }
 ],
 "metadata": {
  "celltoolbar": "Slideshow",
  "kernelspec": {
   "display_name": "Python 3",
   "language": "python",
   "name": "python3"
  },
  "language_info": {
   "codemirror_mode": {
    "name": "ipython",
    "version": 3
   },
   "file_extension": ".py",
   "mimetype": "text/x-python",
   "name": "python",
   "nbconvert_exporter": "python",
   "pygments_lexer": "ipython3",
   "version": "3.7.6"
  }
 },
 "nbformat": 4,
 "nbformat_minor": 5
}
