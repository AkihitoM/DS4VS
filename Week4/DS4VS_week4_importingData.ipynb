{
 "cells": [
  {
   "cell_type": "code",
   "execution_count": null,
   "metadata": {},
   "outputs": [],
   "source": []
  },
  {
   "cell_type": "markdown",
   "metadata": {
    "slideshow": {
     "slide_type": "slide"
    }
   },
   "source": [
    "<br>\n",
    "\n",
    "# Week 4: Importing Data"
   ]
  },
  {
   "cell_type": "markdown",
   "metadata": {
    "slideshow": {
     "slide_type": "slide"
    }
   },
   "source": [
    "<br>\n",
    "\n",
    "## Importing Data into the `Python` Environment\n",
    "\n",
    "* Data in Storage\n",
    "* Data in Space\n"
   ]
  },
  {
   "cell_type": "markdown",
   "metadata": {
    "slideshow": {
     "slide_type": "slide"
    }
   },
   "source": [
    "<br>\n",
    "\n",
    "## Data in Storage: Persistent Storage\n",
    "\n",
    "* CSV\n",
    "* JSON\n",
    "* Excel\n",
    "* text\n",
    "* Matlab \n",
    "<img src=\"https://st2.depositphotos.com/2419757/10259/v/950/depositphotos_102598234-stock-illustration-isometric-3d-shelf-with-cartoon.jpg\" width=\"30%\" style=\"margin-left:auto; margin-right:auto\">"
   ]
  },
  {
   "cell_type": "markdown",
   "metadata": {
    "slideshow": {
     "slide_type": "subslide"
    }
   },
   "source": [
    "<br>\n",
    "\n",
    "### Importing Data\n",
    "\n",
    "* There are several Python libraries that can be used for importing `.csv`, `.json` and other files\n",
    "* For example the `csv` and `json` libraries"
   ]
  },
  {
   "cell_type": "code",
   "execution_count": null,
   "metadata": {
    "slideshow": {
     "slide_type": "fragment"
    }
   },
   "outputs": [],
   "source": [
    "import csv\n",
    "\n",
    "res = []\n",
    "with open( '/home/bonzilla/Documents/ScienceLife/DS4VS/datasets/eyesight2.csv', 'r') as myFile:\n",
    "    lines = csv.reader( myFile, delimiter=',' )\n",
    "    for line in lines:\n",
    "        res.append( line )\n",
    "        \n",
    "print( len( res ) )\n",
    "print( res )"
   ]
  },
  {
   "cell_type": "markdown",
   "metadata": {
    "slideshow": {
     "slide_type": "subslide"
    }
   },
   "source": [
    "#### Question: Does this data look ready to work with?"
   ]
  },
  {
   "cell_type": "markdown",
   "metadata": {
    "slideshow": {
     "slide_type": "fragment"
    }
   },
   "source": [
    "<br>\n",
    "\n",
    "### Importing `.csv` Data with `pandas`\n",
    "\n",
    "* using the `pandas` library is a better way to go:\n",
    "    - can be used for multiple types of data:\n",
    "    - more intuitive/readable to use\n",
    "    - the resulting data structure, a `pandas` `DataFrame` is much easier to work with\n",
    "    \n",
    "Here we import the same .csv file:"
   ]
  },
  {
   "cell_type": "code",
   "execution_count": null,
   "metadata": {
    "slideshow": {
     "slide_type": "subslide"
    }
   },
   "outputs": [],
   "source": [
    "import pandas as pd\n",
    "\n",
    "url = 'https://raw.githubusercontent.com/SmilodonCub/DS4VS/master/datasets/eyesight2.csv'\n",
    "df = pd.read_csv( url )\n",
    "df.head()"
   ]
  },
  {
   "cell_type": "markdown",
   "metadata": {
    "slideshow": {
     "slide_type": "subslide"
    }
   },
   "source": [
    "<br>\n",
    "\n",
    "### Importing `.json` Data with `pandas`"
   ]
  },
  {
   "cell_type": "code",
   "execution_count": null,
   "metadata": {},
   "outputs": [],
   "source": [
    "url = 'https://raw.githubusercontent.com/SmilodonCub/DS4VS/master/datasets/tmesh.json'\n",
    "df = pd.read_json( url )\n",
    "df.head()"
   ]
  },
  {
   "cell_type": "code",
   "execution_count": null,
   "metadata": {
    "slideshow": {
     "slide_type": "fragment"
    }
   },
   "outputs": [],
   "source": [
    "dft = df.transpose()\n",
    "dft.head()"
   ]
  },
  {
   "cell_type": "markdown",
   "metadata": {
    "slideshow": {
     "slide_type": "subslide"
    }
   },
   "source": [
    "<br>\n",
    "\n",
    "### Importing Excel Data with `pandas`"
   ]
  },
  {
   "cell_type": "code",
   "execution_count": null,
   "metadata": {},
   "outputs": [],
   "source": [
    "url = 'https://github.com/SmilodonCub/DS4VS/raw/master/datasets/Data_Cortex_Nuclear.xls'\n",
    "df = pd.read_excel( url )\n",
    "df.head()"
   ]
  },
  {
   "cell_type": "markdown",
   "metadata": {
    "slideshow": {
     "slide_type": "subslide"
    }
   },
   "source": [
    "<br>\n",
    "\n",
    "### Reading in `.txt` files with `pandas`"
   ]
  },
  {
   "cell_type": "code",
   "execution_count": null,
   "metadata": {},
   "outputs": [],
   "source": [
    "# a fixed width text file\n",
    "url = 'https://raw.githubusercontent.com/SmilodonCub/DS4VS/master/datasets/CatSearch_Physiol_ML2_2018_8_30(1).txt'\n",
    "df = pd.read_csv( url, sep='\\t')\n",
    "df.head()"
   ]
  },
  {
   "cell_type": "code",
   "execution_count": null,
   "metadata": {
    "slideshow": {
     "slide_type": "subslide"
    }
   },
   "outputs": [],
   "source": [
    "# this txt file has a more complicated format\n",
    "url = 'https://raw.githubusercontent.com/SmilodonCub/DS4VS/master/datasets/gratvernier/mj%20gratvernier%2049.txt'\n",
    "df_sc1 = pd.read_csv( url, skiprows=111, skipfooter=50, sep='\\t', engine='python')\n",
    "df_sc1"
   ]
  },
  {
   "cell_type": "code",
   "execution_count": null,
   "metadata": {
    "slideshow": {
     "slide_type": "subslide"
    }
   },
   "outputs": [],
   "source": [
    "# old school\n",
    "addy = '/home/bonzilla/Documents/ScienceLife/DS4VS/datasets/gratvernier/mj gratvernier 49.txt'\n",
    "lines = []\n",
    "fp = open(addy)\n",
    "for i, line in enumerate(fp):\n",
    "    if i >= 111 and i < 155:\n",
    "        lines.append( line )\n",
    "        print( line )\n",
    "fp.close()\n",
    "#print( lines )"
   ]
  },
  {
   "cell_type": "markdown",
   "metadata": {
    "slideshow": {
     "slide_type": "slide"
    }
   },
   "source": [
    "<br>\n",
    "\n",
    "### Bringing `Matlab` into `Python`"
   ]
  },
  {
   "cell_type": "code",
   "execution_count": null,
   "metadata": {},
   "outputs": [],
   "source": [
    "from scipy.io import loadmat\n",
    "\n",
    "url = '/home/bonzilla/Documents/ScienceLife/DS4VS/datasets/example_mat2.mat'\n",
    "matlab_dat = loadmat( url )\n",
    "print( type( matlab_dat ) )\n",
    "#matlab_dat"
   ]
  },
  {
   "cell_type": "code",
   "execution_count": null,
   "metadata": {},
   "outputs": [],
   "source": [
    "print( matlab_dat.keys() )"
   ]
  },
  {
   "cell_type": "code",
   "execution_count": null,
   "metadata": {},
   "outputs": [],
   "source": [
    "# the delayedSaccIntervals field\n",
    "delayedSaccade_dat = matlab_dat[ 'delayedSaccIntervals' ]\n",
    "delayedSaccade_DF = pd.DataFrame( data = delayedSaccade_dat, columns = [ 'start','end' ] )\n",
    "print( delayedSaccade_DF.shape )\n",
    "delayedSaccade_DF.head()"
   ]
  },
  {
   "cell_type": "markdown",
   "metadata": {
    "slideshow": {
     "slide_type": "slide"
    }
   },
   "source": [
    "<br>\n",
    "\n",
    "## Data in Space\n",
    "\n",
    "* connecting to networks and perform Remote Procedure Calls (RPCs)\n",
    "* Web Services and APIs\n",
    "* 'Big Data'\n",
    "\n",
    "<img src=\"https://i.pinimg.com/originals/a0/26/1b/a0261b885cfba5a65c675c33327acf5a.png\" width=\"20%\" style=\"margin-left:auto; margin-right:auto\">"
   ]
  },
  {
   "cell_type": "markdown",
   "metadata": {
    "slideshow": {
     "slide_type": "subslide"
    }
   },
   "source": [
    "### Web Services and Connecting to APIs\n",
    "\n",
    "**A**pplication **P**rogramming **I**nterface **(API)** - a set of functions/procedures that facilitate access to the data that supports a web application.  \n",
    "\n",
    "There are many popular APIs: [New York Times](https://developer.nytimes.com/), [FaceBook](https://developers.facebook.com/), [Twitter](https://developer.twitter.com/en/docs/twitter-api), [Steam](https://steamcommunity.com/dev) and [Squarespace](https://developers.squarespace.com/commerce-apis/overview) to name a few"
   ]
  },
  {
   "cell_type": "markdown",
   "metadata": {
    "slideshow": {
     "slide_type": "fragment"
    }
   },
   "source": [
    "There is even a [Star Wars API](https://pipedream.com/apps/swapi). Let's take a look.....\n",
    "\n",
    "<img src=\"https://i.kym-cdn.com/photos/images/original/001/762/550/36b.jpg\" width=\"40%\" style=\"margin-left:auto; margin-right:auto\">"
   ]
  },
  {
   "cell_type": "code",
   "execution_count": null,
   "metadata": {
    "slideshow": {
     "slide_type": "subslide"
    }
   },
   "outputs": [],
   "source": [
    "import json\n",
    "import requests\n",
    "\n",
    "url = 'https://swapi.dev/api/starships/3/'\n",
    "response = requests.get( url )\n",
    "api_results = json.loads( response.content )"
   ]
  },
  {
   "cell_type": "code",
   "execution_count": null,
   "metadata": {
    "slideshow": {
     "slide_type": "subslide"
    }
   },
   "outputs": [],
   "source": [
    "def sw_return_planets( film_num ):\n",
    "    \"\"\"\n",
    "    Given an episode number,\n",
    "    Returns the episode title and a list of planets featured in the movie\n",
    "    \"\"\"\n",
    "    response = requests.get( 'https://swapi.dev/api/planets' )\n",
    "    api_results = json.loads( response.content )\n",
    "    planets = []\n",
    "    for planet in api_results[ 'results' ]:\n",
    "        stem = 'https://swapi.dev/api/films/'\n",
    "        film_address = stem + str( film_num ) + '/'\n",
    "        film_data = requests.get( film_address )\n",
    "        film_result = json.loads( film_data.content )\n",
    "        title = film_result['title']\n",
    "        if film_address in planet['films']:\n",
    "            planets.append( planet['name'] )\n",
    "    return title, planets"
   ]
  },
  {
   "cell_type": "code",
   "execution_count": null,
   "metadata": {},
   "outputs": [],
   "source": [
    "title, planets = sw_return_planets( 6 )\n",
    "print( \"'{}' features the planets: {}\".format( title, planets ) )"
   ]
  },
  {
   "cell_type": "markdown",
   "metadata": {
    "slideshow": {
     "slide_type": "subslide"
    }
   },
   "source": [
    "<br>\n",
    "\n",
    "#### OKay, neat. But what does that have to do with me?\n",
    "\n",
    "I present to you [a list of Science APIs](https://www.programmableweb.com/category/science/api)  \n",
    "\n",
    "Example: [The Ocular Tissue DataBase](https://genome.uiowa.edu/otdb/)\n",
    "\n",
    "I have a fun plan for the last week of the course to scrape data from one of these....."
   ]
  },
  {
   "cell_type": "code",
   "execution_count": null,
   "metadata": {},
   "outputs": [],
   "source": [
    "url = 'https://genome.uiowa.edu/otdb/api?term=MAK'\n",
    "response = requests.get( url )\n",
    "api_results = json.loads( response.content )"
   ]
  },
  {
   "cell_type": "code",
   "execution_count": null,
   "metadata": {
    "slideshow": {
     "slide_type": "subslide"
    }
   },
   "outputs": [],
   "source": [
    "page = ''\n",
    "while page == '':\n",
    "    try:\n",
    "        page = requests.get(url)\n",
    "        break\n",
    "    except:\n",
    "        print(\"Connection refused by the server..\")\n",
    "        print(\"Let me sleep for 5 seconds\")\n",
    "        print(\"ZZzzzz...\")\n",
    "        time.sleep(5)\n",
    "        print(\"Was a nice sleep, now let me continue...\")\n",
    "        continue"
   ]
  },
  {
   "cell_type": "code",
   "execution_count": null,
   "metadata": {
    "slideshow": {
     "slide_type": "subslide"
    }
   },
   "outputs": [],
   "source": [
    "from requests.adapters import HTTPAdapter\n",
    "from requests.packages.urllib3.util.retry import Retry\n",
    "\n",
    "\n",
    "session = requests.Session()\n",
    "retry = Retry(connect=3, backoff_factor=0.5)\n",
    "adapter = HTTPAdapter(max_retries=retry)\n",
    "session.mount('http://', adapter)\n",
    "session.mount('https://', adapter)\n",
    "\n",
    "session.get(url)"
   ]
  },
  {
   "cell_type": "markdown",
   "metadata": {
    "slideshow": {
     "slide_type": "subslide"
    }
   },
   "source": [
    "<br>\n",
    "\n",
    "### 'Big Data'\n",
    "\n",
    "traditional computing solutions do not scale.  \n",
    "[**MapReduce**](https://static.googleusercontent.com/media/research.google.com/en//archive/mapreduce-osdi04.pdf) was introduced by Google as a way to distribute calculations across many networked machines.  \n",
    "\n",
    "MapReduce is the foundation that tools such as Hadoop, Spark and other packages were built on. Hadoop and Spark are two of the more popular 'Big Data' tools that help solve the problem: what to do when my dataset is too big for my machine?"
   ]
  },
  {
   "cell_type": "markdown",
   "metadata": {},
   "source": [
    "<tr>\n",
    "<td> <img src=\"https://ih1.redbubble.net/image.917867654.0973/flat,750x1000,075,f.jpg\" alt=\"Drawing\" style=\"width: 200px;\"/> </td>\n",
    "<td> <img src=\"https://iconape.com/wp-content/png_logo_vector/apache-spark.png\" alt=\"Drawing\" style=\"width: 200px;\"/> </td>\n",
    "</tr>"
   ]
  },
  {
   "cell_type": "markdown",
   "metadata": {
    "slideshow": {
     "slide_type": "subslide"
    }
   },
   "source": [
    "<br>\n",
    "\n",
    "### Data in the Cloud\n",
    "\n",
    "Building complex distributed networks and dealing with servers is complicated.  \n",
    "Alternative: move to cloud computing. you rent servers in 'the cloud'. The hardware becomes your service provider's problem."
   ]
  },
  {
   "cell_type": "markdown",
   "metadata": {},
   "source": [
    "\n",
    "<tr>\n",
    "<td> <img src=\"https://whatsthebigdata.files.wordpress.com/2017/02/cloud_storage.jpg?w=640\" alt=\"Drawing\" style=\"width: 200px;\"/> </td>\n",
    "<td> <img src=\"https://miro.medium.com/max/600/1*W02WEmR0_JeJXfLWN2zHwQ.png\" alt=\"Drawing\" style=\"width: 200px;\"/> </td>\n",
    "<td> <img src=\"https://pbs.twimg.com/profile_images/1190319303041724417/1a61e4pu_400x400.jpg\" alt=\"Drawing\" style=\"width: 200px;\"/> </td>\n",
    "<td> <img src=\"https://download.logo.wine/logo/Microsoft_Azure/Microsoft_Azure-Logo.wine.png\" alt=\"Drawing\" style=\"width: 200px;\"/> </td>\n",
    "<td> <img src=\"https://www.kindpng.com/picc/m/502-5024059_ibm-dachlawinen-text-kunststoff-watson-schwarz-vorsicht-ibm.png\" alt=\"Drawing\" style=\"width: 200px;\"/> </td>\n",
    "</tr>"
   ]
  },
  {
   "cell_type": "markdown",
   "metadata": {
    "slideshow": {
     "slide_type": "slide"
    }
   },
   "source": [
    "## That was a lot.  ....any questions?\n",
    "\n",
    "<img src=\"https://content.techgig.com/photo/80071467/pros-and-cons-of-python-programming-language-that-every-learner-must-know.jpg?132269\" width=\"100%\" style=\"margin-left:auto; margin-right:auto\">"
   ]
  }
 ],
 "metadata": {
  "celltoolbar": "Slideshow",
  "kernelspec": {
   "display_name": "Python 3",
   "language": "python",
   "name": "python3"
  },
  "language_info": {
   "codemirror_mode": {
    "name": "ipython",
    "version": 3
   },
   "file_extension": ".py",
   "mimetype": "text/x-python",
   "name": "python",
   "nbconvert_exporter": "python",
   "pygments_lexer": "ipython3",
   "version": "3.7.6"
  }
 },
 "nbformat": 4,
 "nbformat_minor": 4
}
