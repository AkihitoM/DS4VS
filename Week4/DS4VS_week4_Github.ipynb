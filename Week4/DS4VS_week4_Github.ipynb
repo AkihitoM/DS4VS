{
 "cells": [
  {
   "cell_type": "markdown",
   "metadata": {},
   "source": []
  },
  {
   "cell_type": "markdown",
   "metadata": {
    "slideshow": {
     "slide_type": "slide"
    }
   },
   "source": [
    "<br>\n",
    "\n",
    "# Week 4: Github\n",
    "\n",
    "\n",
    "<img src=\"https://github.githubassets.com/images/modules/logos_page/Octocat.png\" width=\"60%\" style=\"margin-left:auto; margin-right:auto\">"
   ]
  },
  {
   "cell_type": "markdown",
   "metadata": {
    "slideshow": {
     "slide_type": "slide"
    }
   },
   "source": [
    "<br>\n",
    "\n",
    "## a Brief Recap:\n",
    "\n",
    "* Hello, how are you?\n",
    "* We will finally cover Git/Github\n",
    "* Next Week: `numpy` and `pandas`\n"
   ]
  },
  {
   "cell_type": "markdown",
   "metadata": {
    "slideshow": {
     "slide_type": "slide"
    }
   },
   "source": [
    "<br>\n",
    "\n",
    "## Version Control: a brief history\n",
    "\n",
    "**Version Control** - is a tool that manages changes made to the files and directories in a project.\n",
    "\n",
    "Local < Central < Distributed  \n",
    "\n",
    "* Local: Revision Control System (RCS) - 1st generation version control. worked locally on single files\n",
    "* Central: Concurrent Versions System (CVS) - built on RCS, but storage is centralized on a networked server. Changes to a file/project can be accessed on any network connection\n",
    "* Distributed: 'peer-to-peer' - there is no centralized hub for the files, each user has thier own working copy that is synchronized by transfering patches to update the history between users.\n",
    "\n",
    "<br>"
   ]
  },
  {
   "cell_type": "markdown",
   "metadata": {
    "slideshow": {
     "slide_type": "slide"
    }
   },
   "source": [
    "<br>\n",
    "\n",
    "### Git\n",
    "\n",
    "*You can do a lot of things with git, and many of the rules of what you should do are not so much technical limitations, but are about what works well when working together with other people. So git is a very powerful set of tools* - Linus Torvalds\n",
    "\n",
    "* free\n",
    "* open-source\n",
    "* fast"
   ]
  },
  {
   "cell_type": "markdown",
   "metadata": {
    "slideshow": {
     "slide_type": "slide"
    }
   },
   "source": [
    "<br>\n",
    "\n",
    "### GitHub\n",
    "\n",
    "**GitHub** - a free host for software development and version control using Git.\n",
    "\n",
    "* access control\n",
    "* collaborative features\n",
    "* social networking features\n",
    "* quite a bit of space:\n",
    "    - repo size limits: 10GB\n",
    "    - file limits 100MB (not intended for data storage)\n",
    "    "
   ]
  },
  {
   "cell_type": "markdown",
   "metadata": {
    "slideshow": {
     "slide_type": "slide"
    }
   },
   "source": [
    "### Getting Started\n",
    "\n",
    "Checklist for today:\n",
    "\n",
    "1. You have to install `git`\n",
    "2. You need a Github account\n",
    "3. Do you have a basic text editor?\n",
    "4. Command Prompt | Terminal\n",
    "\n",
    "<img src=\"https://lh3.googleusercontent.com/proxy/AwtNiRfOfeBc38PWvU0g1G5clSmEdmsDjv9PALQfO8FE3iYXMhvJRgPUJ9O_MFUHTy4pGgg12AWO9Rfd4s21glVZ\" width=\"30%\" style=\"margin-left:auto; margin-right:auto\">"
   ]
  },
  {
   "cell_type": "markdown",
   "metadata": {
    "slideshow": {
     "slide_type": "subslide"
    }
   },
   "source": [
    "Do I already have git installed?  \n",
    "\n",
    "    which git\n",
    "    \n",
    "    # or\n",
    "    git --version\n",
    "    "
   ]
  },
  {
   "cell_type": "markdown",
   "metadata": {
    "slideshow": {
     "slide_type": "subslide"
    }
   },
   "source": [
    "platform specific git installation:\n",
    "\n",
    "    # Linux\n",
    "    sudo apt install git-all\n",
    "    \n",
    "    # macOS (in Terminal)\n",
    "    git --version\n",
    "    \n",
    "Windows:  \n",
    "[best to download from git](https://git-scm.com/download/win)"
   ]
  },
  {
   "cell_type": "markdown",
   "metadata": {
    "slideshow": {
     "slide_type": "fragment"
    }
   },
   "source": [
    "Head over the [github.com](https://github.com/) to open an account"
   ]
  },
  {
   "cell_type": "markdown",
   "metadata": {
    "slideshow": {
     "slide_type": "slide"
    }
   },
   "source": [
    "### Fork a Copy of the DS4VS course material\n",
    "\n",
    "1. You must be logged in to your GitHub account."
   ]
  },
  {
   "cell_type": "markdown",
   "metadata": {
    "slideshow": {
     "slide_type": "fragment"
    }
   },
   "source": [
    "2. Navigate to your Benevolent DS4VS teacher's DS4VS repo: \n",
    "    * [DS4VS repo](https://github.com/SmilodonCub/DS4VS)"
   ]
  },
  {
   "cell_type": "markdown",
   "metadata": {
    "slideshow": {
     "slide_type": "subslide"
    }
   },
   "source": [
    "3. The upper right hand corner has three buttons unter the page banner: Watch, Star & Fork:\n",
    "    - Click 'Fork'\n",
    "    \n",
    "![](forkgit.png)   \n"
   ]
  },
  {
   "cell_type": "markdown",
   "metadata": {
    "slideshow": {
     "slide_type": "fragment"
    }
   },
   "source": [
    "4. It might take a moment, but Github will redirect to your new forked copy of the course repo.  \n",
    "    - Notice that you are no longer in: SmilodonCub/DS4VS"
   ]
  },
  {
   "cell_type": "markdown",
   "metadata": {
    "slideshow": {
     "slide_type": "slide"
    }
   },
   "source": [
    "### Clone Your Forked Copy\n",
    "\n",
    "You now have a copy of the DS4VS repo forked to your own account. That's great, but what you'd really like to do is  have access to the files on your machine, so that you can open the Jupyter notebooks.  \n",
    "\n",
    "Let's make that possible:"
   ]
  },
  {
   "cell_type": "markdown",
   "metadata": {
    "slideshow": {
     "slide_type": "fragment"
    }
   },
   "source": [
    "1. In Command Line / Terminal navigate to a directory where you would like to add the local copy of your forked branch\n",
    "\n",
    "    EX: you could start a new folder called 'DataScience'"
   ]
  },
  {
   "cell_type": "markdown",
   "metadata": {
    "slideshow": {
     "slide_type": "fragment"
    }
   },
   "source": [
    "2. You probably need to configure git:\n",
    "\n",
    "commands:\n",
    "    \n",
    "    #configure git  \n",
    "    git config --global user.name \"MyGitHubUserName\"  \n",
    "    git config --global user.email \"myemailaddress@bestdomain.com\""
   ]
  },
  {
   "cell_type": "markdown",
   "metadata": {
    "slideshow": {
     "slide_type": "subslide"
    }
   },
   "source": [
    "3. Initialize git in your directory\n",
    "\n",
    "commands:\n",
    "\n",
    "    #is git configured here?  \n",
    "    git status  \n",
    "    \n",
    "    #initialize git  \n",
    "    git init"
   ]
  },
  {
   "cell_type": "markdown",
   "metadata": {
    "slideshow": {
     "slide_type": "subslide"
    }
   },
   "source": [
    "4. Retrieve the HTTP key from your forked copy on GitHub\n",
    "\n",
    "ATTN: you are copying the key from your repo, not mine! Instead of SmilodonCub/DS4VS, it will have your user name.\n",
    "\n",
    "![](keysgit.png)"
   ]
  },
  {
   "cell_type": "markdown",
   "metadata": {
    "slideshow": {
     "slide_type": "subslide"
    }
   },
   "source": [
    "**Great!** We're almost there....\n",
    "\n",
    "5. Go back to Command Line/Prompt/Terminal (whatever) and clone the repo\n",
    "\n",
    "type this:\n",
    "\n",
    "    git clone <paste your HTTP key>\n",
    "    "
   ]
  },
  {
   "cell_type": "markdown",
   "metadata": {
    "slideshow": {
     "slide_type": "fragment"
    }
   },
   "source": [
    "it may take a few moments, but you should have a local copy of the DS4VS repo.  \n",
    "\n",
    "Let's check in Terminal:  \n",
    "\n",
    "1. list the contents of the current directory\n",
    "2. Do you see your branched copy?\n",
    "3. change directory to your new DS4VS path\n",
    "4. list the contents.\n",
    "5. Does it look the same as your branched copy on GitHub?"
   ]
  },
  {
   "cell_type": "markdown",
   "metadata": {
    "slideshow": {
     "slide_type": "slide"
    }
   },
   "source": [
    "<br>\n",
    "\n",
    "### Pulling updates  \n",
    "\n",
    "You now have all the material from my copy of the DS4VS repo as a branch on your repo and a local copy on your machine.  \n",
    "\n",
    "Let's look at the Week 4 material.  ....hey, wait, there's no Week 4 material!!!\n",
    "\n",
    "¯\\\\_(ツ)_/¯ "
   ]
  },
  {
   "cell_type": "markdown",
   "metadata": {
    "slideshow": {
     "slide_type": "fragment"
    }
   },
   "source": [
    "(>ლ)\n",
    "\n",
    "Silly Bonnie! .....she didn't push her new material yet!  "
   ]
  },
  {
   "cell_type": "markdown",
   "metadata": {
    "slideshow": {
     "slide_type": "subslide"
    }
   },
   "source": [
    " \n",
    "### A brief intermission while Bonnie pushes changes to DS4VS.....\n",
    "![](https://s14633.pcdn.co/wp-content/uploads/2020/06/bruceb_intermission-1.jpg)"
   ]
  },
  {
   "cell_type": "markdown",
   "metadata": {
    "slideshow": {
     "slide_type": "subslide"
    }
   },
   "source": [
    "### Updating your forked copy\n",
    "\n",
    "Throughout the semester, new material will be added on a week-by-week basis.  \n",
    "You will have to know how to update you forked copy of DS4VS if you want to access the notebooks.  \n",
    "\n",
    "Let's do this now!"
   ]
  },
  {
   "cell_type": "markdown",
   "metadata": {
    "slideshow": {
     "slide_type": "fragment"
    }
   },
   "source": [
    "1. Look at your forked copy in GitHub. Do you notice anything different?...."
   ]
  },
  {
   "cell_type": "markdown",
   "metadata": {
    "slideshow": {
     "slide_type": "subslide"
    }
   },
   "source": [
    "**\"This branch is 1 commit behind SmilodonCub:master\"**  \n",
    "\n",
    "2. To the right of this message, click 'Fetch Upstream'"
   ]
  },
  {
   "cell_type": "markdown",
   "metadata": {
    "slideshow": {
     "slide_type": "fragment"
    }
   },
   "source": [
    "3. You will now be prompted to 'Fetch and Merge'"
   ]
  },
  {
   "cell_type": "markdown",
   "metadata": {
    "slideshow": {
     "slide_type": "fragment"
    }
   },
   "source": [
    "....notice anything different?....."
   ]
  },
  {
   "cell_type": "markdown",
   "metadata": {
    "slideshow": {
     "slide_type": "fragment"
    }
   },
   "source": [
    "**\"This branch is even with SmilodonCub:master\"**"
   ]
  },
  {
   "cell_type": "markdown",
   "metadata": {
    "slideshow": {
     "slide_type": "slide"
    }
   },
   "source": [
    "### Pulling changes\n",
    "\n",
    "Now that your branched copy of DS4VS in GitHub has been updated, we need to make the same updates to our cloned local copy. This process is called **pulling** changes.  \n",
    "\n",
    "In Command Line / Terminal type: \n",
    "\n",
    "    git pull\n",
    "    \n",
    "Check your local copy. Do you see a Week4 folder?\n",
    "it is usually as simple as that."
   ]
  },
  {
   "cell_type": "markdown",
   "metadata": {
    "slideshow": {
     "slide_type": "slide"
    }
   },
   "source": [
    "## Fantastic!: completely up to date  ┏(-_-)┛┗(-_-﻿ )┓┗(-_-)┛┏(-_-)┓"
   ]
  },
  {
   "cell_type": "markdown",
   "metadata": {
    "slideshow": {
     "slide_type": "slide"
    }
   },
   "source": [
    "### Pushing Changes\n",
    "\n",
    "You can contribute to SmilodonCub's DS4VS repo.  \n",
    "Let's see how you can:  \n",
    "\n",
    "1. make changes on you local copy on your machine\n",
    "2. push the changes to your branched repo on GitHub\n",
    "3. merge the changes from your forked copy to SmilodonCub/DS4VS"
   ]
  },
  {
   "cell_type": "markdown",
   "metadata": {
    "slideshow": {
     "slide_type": "subslide"
    }
   },
   "source": [
    "### Make changes to a file on your local machine\n",
    "\n",
    "1. In your text editor, open the file 'README.md' from your local copy of DS4VS\n",
    "2. At the bottom of the file, add your name under 'Dreamteam Fall Semester 2021:'\n",
    "3. Save the changes to the file"
   ]
  },
  {
   "cell_type": "markdown",
   "metadata": {
    "slideshow": {
     "slide_type": "subslide"
    }
   },
   "source": [
    "### Push the changes to your branched repo on GitHub\n",
    "\n",
    "In Terminal | Command line | Command Prompt:\n",
    "\n",
    "1. navigate to your DS4VS repo"
   ]
  },
  {
   "cell_type": "markdown",
   "metadata": {
    "slideshow": {
     "slide_type": "fragment"
    }
   },
   "source": [
    "2. check the status by typing:  \n",
    "    `git status`"
   ]
  },
  {
   "cell_type": "markdown",
   "metadata": {
    "slideshow": {
     "slide_type": "fragment"
    }
   },
   "source": [
    "3. **Stage** the changes you want to push:  \n",
    "    `git add README.md`"
   ]
  },
  {
   "cell_type": "markdown",
   "metadata": {
    "slideshow": {
     "slide_type": "fragment"
    }
   },
   "source": [
    "4. **Commit** the changes and add a message describing the commit  \n",
    "    `git commit -m \"adding name to readme\"`"
   ]
  },
  {
   "cell_type": "markdown",
   "metadata": {
    "slideshow": {
     "slide_type": "fragment"
    }
   },
   "source": [
    "5. **Push** the changes  \n",
    "    `git push`"
   ]
  },
  {
   "cell_type": "markdown",
   "metadata": {
    "slideshow": {
     "slide_type": "slide"
    }
   },
   "source": [
    "## Merge the changes from your forked copy to SmilodonCub/DS4VS\n",
    "\n",
    "Homestretch! You moved your commit from your local machine to your DS4VS repo.  \n",
    "The only thing left for you to do is submit a Pull Request.  \n",
    "\n",
    "From your DS4VS repo:  \n",
    "\n",
    "1. Look at the top of you repo. Do you see:  \n",
    "    **This branch is 1 commit ahead of SmilodonCub:master**"
   ]
  },
  {
   "cell_type": "markdown",
   "metadata": {
    "slideshow": {
     "slide_type": "fragment"
    }
   },
   "source": [
    "2. Make a 'New Pull Request'"
   ]
  },
  {
   "cell_type": "markdown",
   "metadata": {
    "slideshow": {
     "slide_type": "fragment"
    }
   },
   "source": [
    "3. You will be prompted to 'Create Pull Request':  \n",
    "    - Do you see a summary of the changes?\n",
    "    - select 'Create Pull Request'"
   ]
  },
  {
   "cell_type": "markdown",
   "metadata": {
    "slideshow": {
     "slide_type": "slide"
    }
   },
   "source": [
    "## Fantastic!: your job is done  ♫♪.ılılıll|̲̅̅●̲̅̅|̲̅̅=̲̅̅|̲̅̅●̲̅̅|llılılı.♫♪\n",
    "\n",
    "....now SmilodonCub has to review and accept the Pull Requests"
   ]
  },
  {
   "cell_type": "markdown",
   "metadata": {
    "slideshow": {
     "slide_type": "slide"
    }
   },
   "source": [
    "## Moving Forward\n",
    "\n",
    "* The DS4VS repo will be for static course material only.\n",
    "    - if you find typos and would like to merge changes, feel free!\n",
    "    - not the place to your own assignments or other work/code/data\n",
    "* You should create your own repo and clone it to your machine for version control over your projects.\n",
    "* We use Command Line | Terminal. However, there are other alternatives with decent GUIs if you prefer.\n",
    "    \n",
    "\n",
    "<img src=\"https://thumbs.dreamstime.com/b/concept-career-ladder-leadership-people-moving-forward-achieving-goals-competing-colleagues-different-levels-specialists-200755473.jpg\" width=\"30%\" style=\"margin-left:auto; margin-right:auto\">"
   ]
  },
  {
   "cell_type": "markdown",
   "metadata": {
    "slideshow": {
     "slide_type": "slide"
    }
   },
   "source": [
    "## That was fun ...Let's take a little break before we return to Python.\n",
    "\n",
    "<img src=\"https://content.techgig.com/photo/80071467/pros-and-cons-of-python-programming-language-that-every-learner-must-know.jpg?132269\" width=\"100%\" style=\"margin-left:auto; margin-right:auto\">"
   ]
  }
 ],
 "metadata": {
  "celltoolbar": "Slideshow",
  "kernelspec": {
   "display_name": "Python 3",
   "language": "python",
   "name": "python3"
  },
  "language_info": {
   "codemirror_mode": {
    "name": "ipython",
    "version": 3
   },
   "file_extension": ".py",
   "mimetype": "text/x-python",
   "name": "python",
   "nbconvert_exporter": "python",
   "pygments_lexer": "ipython3",
   "version": "3.7.6"
  }
 },
 "nbformat": 4,
 "nbformat_minor": 4
}
