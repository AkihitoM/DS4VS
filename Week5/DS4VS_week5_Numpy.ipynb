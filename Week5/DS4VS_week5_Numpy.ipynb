{
 "cells": [
  {
   "cell_type": "markdown",
   "metadata": {},
   "source": [
    "[![Open In Colab](https://colab.research.google.com/assets/colab-badge.svg)](https://colab.research.google.com/github/SmilodonCub/DS4VS/blob/master/Week5/DS4VS_week5_Numpy.ipynb)"
   ]
  },
  {
   "cell_type": "markdown",
   "metadata": {
    "slideshow": {
     "slide_type": "slide"
    }
   },
   "source": [
    "<br> \n",
    "\n",
    "# Week 5: `Numpy`\n",
    "\n"
   ]
  },
  {
   "cell_type": "markdown",
   "metadata": {
    "slideshow": {
     "slide_type": "slide"
    }
   },
   "source": [
    "<br>\n",
    "\n",
    "## a Brief Recap:\n",
    "\n",
    "* Hello, how are you?\n",
    "* How are you doing with accessing your data in Python?\n",
    "* Today: `numpy` and `pandas`\n",
    "* Next week: Exploratory Data Analysis - data cleaning, inspection and missingness"
   ]
  },
  {
   "cell_type": "markdown",
   "metadata": {
    "slideshow": {
     "slide_type": "slide"
    }
   },
   "source": [
    "## Where are the matrices hiding?\n",
    "\n",
    "Matlab is short for Matrix Laboratory. Therefore, it is no suprize that in Matlab, matrices are a very prominent structure.  \n",
    "\n",
    "Those of you coming from a Matlab background have been undoubtedly wondering:  \n",
    "\"Where are my Matrices!\"\n",
    "\n",
    "\n",
    "<img src=\"https://miro.medium.com/max/698/1*2kqJE0-z_Cjz2gbL5HLBjg.jpeg\" width=\"60%\" style=\"margin-left:auto; margin-right:auto\">\n"
   ]
  },
  {
   "cell_type": "markdown",
   "metadata": {
    "slideshow": {
     "slide_type": "slide"
    }
   },
   "source": [
    "## Python's not a Datacentric Language\n",
    "\n",
    "Python is intended to be a general purpose language.  \n",
    "To those in science and engineering, it is not obvious how to utilize Python for data analysis  \n",
    "\n",
    "\n",
    "Python was developed as a general use programming language and so data analysis was not a primary focus in the standard library. There is no native structure that approaches the performance of the Matlab Matrix.\n",
    "\n",
    "<img src=\"https://img.ifunny.co/images/750f66c2493cd9f571ca255a6ce6d508a45a419071b12d1e0d1006d710476ca0_1.jpg\" width=\"40%\" style=\"margin-left:auto; margin-right:auto\">"
   ]
  },
  {
   "cell_type": "markdown",
   "metadata": {
    "slideshow": {
     "slide_type": "slide"
    }
   },
   "source": [
    "## If Python wasn't meant for data, why have Data Scientists embraced the language?\n",
    "\n",
    "\n",
    "<img src=\"https://i.redd.it/m37hm1opxma41.jpg\" width=\"35%\" style=\"margin-left:auto; margin-right:auto\">"
   ]
  },
  {
   "cell_type": "markdown",
   "metadata": {
    "slideshow": {
     "slide_type": "slide"
    }
   },
   "source": [
    "## `Numpy`: numerical Python \n",
    "\n",
    "3rd party libraries have come to the rescue.  \n",
    "\n",
    "In Python, MATLAB-like matrix behavior is found in the 'array' objects implemented by the `NumPy` package.  \n",
    "[The Numpy Manual](https://numpy.org/doc/stable/) \n",
    "\n",
    "\n"
   ]
  },
  {
   "cell_type": "markdown",
   "metadata": {
    "slideshow": {
     "slide_type": "subslide"
    }
   },
   "source": [
    "## `Numpy`: numerical Python \n",
    "\n",
    "**`NumPy` Features**:  \n",
    "\n",
    "* Fast vectorized array operations including:\n",
    "    - mathematical\n",
    "    - logical\n",
    "    - sorting/selecting\n",
    "    - discrete Fourier transforms\n",
    "    - basic linear algebra\n",
    "    - basic statistical operations\n",
    "    - random simulation\n",
    "* Effective emethods for aggregating/summarizing data and yielding descriptive statistics\n",
    "* Conditional logic (boolean indexing) can be used instead of loops\n",
    "* Group-wise data manipulations (functions & transformations)"
   ]
  },
  {
   "cell_type": "markdown",
   "metadata": {
    "slideshow": {
     "slide_type": "slide"
    }
   },
   "source": [
    "## The NumPy Array\n",
    "\n",
    "The `NumPy` library provides a Multidimensional Array Object, or `ndarray`  \n",
    "The `ndarray` is a fast and flexible container for large homogeneous datasets in Python  \n",
    "\n",
    "**`ndarray` features**:  \n",
    "\n",
    "* can take on many dimensions\n",
    "* can only hold homogeneous (same type) data\n"
   ]
  },
  {
   "cell_type": "code",
   "execution_count": null,
   "metadata": {
    "slideshow": {
     "slide_type": "fragment"
    }
   },
   "outputs": [],
   "source": [
    "import numpy as np \n",
    "\n",
    "arr = np.array( [[1,2,3], [4,5,6], [7,8,9]] )\n",
    "print( arr )\n",
    "print( type( arr ) )"
   ]
  },
  {
   "cell_type": "markdown",
   "metadata": {
    "slideshow": {
     "slide_type": "subslide"
    }
   },
   "source": [
    "### Compare and Contrast Python lists and `NumPy` ndarrays\n",
    "\n",
    "|          **NumPy Arrays**          |             **Lists**            |\n",
    "|:----------------------------------:|:--------------------------------:|\n",
    "| All elements must be the same type | Any combination of types allowed |\n",
    "|    + does element-wise addition    |       + concatenates a list      |\n",
    "|          Multidimensional          |           1 dimensional          |\n",
    "|  supports range & boolean indexing |          range indexing          |\n"
   ]
  },
  {
   "cell_type": "markdown",
   "metadata": {
    "slideshow": {
     "slide_type": "fragment"
    }
   },
   "source": [
    "When to use a Python lists or a NumPy ndarray? \n",
    "\n",
    "* do i need to do math?\n",
    "* do i need multiple dimensions\n",
    "* am I storing complex data structures (different types)"
   ]
  },
  {
   "cell_type": "markdown",
   "metadata": {
    "slideshow": {
     "slide_type": "slide"
    }
   },
   "source": [
    "## Creating NumPy arrays\n",
    "\n",
    "* using the array function.\n",
    "\n",
    "\n"
   ]
  },
  {
   "cell_type": "code",
   "execution_count": null,
   "metadata": {
    "slideshow": {
     "slide_type": "fragment"
    }
   },
   "outputs": [],
   "source": [
    "# .array() can take any sequence object as an argument\n",
    "rad = [1,2,3]\n",
    "radius = np.array( rad )\n",
    "print( radius )\n",
    "print( type( radius ) )"
   ]
  },
  {
   "cell_type": "code",
   "execution_count": null,
   "metadata": {
    "slideshow": {
     "slide_type": "fragment"
    }
   },
   "outputs": [],
   "source": [
    "# can also pass a list of list\n",
    "data = [[ 1,3,5,7,9 ], [0,2,4,6,8]]\n",
    "data = np.array( data )\n",
    "print( data )\n",
    "print( type( data ) )"
   ]
  },
  {
   "cell_type": "markdown",
   "metadata": {
    "slideshow": {
     "slide_type": "slide"
    }
   },
   "source": [
    "## Creating NumPy arrays\n",
    "\n",
    "* other functions: \n",
    "    - arange\n",
    "    - ones\n",
    "    - zeros\n",
    "    - empty\n",
    "    - eye\n",
    "    \n",
    "(these are described further in the documentation...)"
   ]
  },
  {
   "cell_type": "code",
   "execution_count": null,
   "metadata": {
    "slideshow": {
     "slide_type": "fragment"
    }
   },
   "outputs": [],
   "source": [
    "np.arange( 0, 200, 20 )"
   ]
  },
  {
   "cell_type": "code",
   "execution_count": null,
   "metadata": {
    "slideshow": {
     "slide_type": "fragment"
    }
   },
   "outputs": [],
   "source": [
    "# let's try a few others...\n"
   ]
  },
  {
   "cell_type": "markdown",
   "metadata": {
    "slideshow": {
     "slide_type": "slide"
    }
   },
   "source": [
    "## `Numpy`  indexing syntax\n",
    "\n",
    "Selecting and subsetting ndarrays is very similar to slicing Python lists.  \n",
    "Numpy also allows for Boolean indexing.  "
   ]
  },
  {
   "cell_type": "code",
   "execution_count": null,
   "metadata": {
    "slideshow": {
     "slide_type": "fragment"
    }
   },
   "outputs": [],
   "source": [
    "arr = np.arange( 36 ).reshape( 6,6 )\n",
    "#print( arr )"
   ]
  },
  {
   "cell_type": "code",
   "execution_count": null,
   "metadata": {
    "slideshow": {
     "slide_type": "fragment"
    }
   },
   "outputs": [],
   "source": [
    "print( arr[0] )\n",
    "print( arr[0][5] )\n",
    "print( arr[5,5] )"
   ]
  },
  {
   "cell_type": "markdown",
   "metadata": {
    "slideshow": {
     "slide_type": "slide"
    }
   },
   "source": [
    "## Explore NumPy indexing further..."
   ]
  },
  {
   "cell_type": "code",
   "execution_count": null,
   "metadata": {},
   "outputs": [],
   "source": [
    "from skimage import data, io\n",
    "image = data.coffee()\n",
    "io.imshow(image)\n",
    "io.show()"
   ]
  },
  {
   "cell_type": "code",
   "execution_count": null,
   "metadata": {},
   "outputs": [],
   "source": [
    "type( image )"
   ]
  },
  {
   "cell_type": "markdown",
   "metadata": {
    "slideshow": {
     "slide_type": "slide"
    }
   },
   "source": [
    "## Indexing Multidimensional arrays"
   ]
  },
  {
   "cell_type": "code",
   "execution_count": null,
   "metadata": {},
   "outputs": [],
   "source": [
    "print( image.shape )\n",
    "# use indexing syntax to subset the image\n",
    "subimage = image[ 100:200, 200:400, :]\n",
    "io.imshow( subimage )\n",
    "io.show( )"
   ]
  },
  {
   "cell_type": "markdown",
   "metadata": {
    "slideshow": {
     "slide_type": "fragment"
    }
   },
   "source": [
    "**Take a moment to change the image subset**  "
   ]
  },
  {
   "cell_type": "markdown",
   "metadata": {
    "slideshow": {
     "slide_type": "slide"
    }
   },
   "source": [
    "## Indexing with a Boolean Array\n"
   ]
  },
  {
   "cell_type": "code",
   "execution_count": null,
   "metadata": {},
   "outputs": [],
   "source": [
    "bool_array = image < 20\n",
    "bool_array[ -3:, -3:, :]"
   ]
  },
  {
   "cell_type": "code",
   "execution_count": null,
   "metadata": {
    "slideshow": {
     "slide_type": "fragment"
    }
   },
   "outputs": [],
   "source": [
    "image[ bool_array ] = 250\n",
    "io.imshow( image )\n",
    "io.show( )"
   ]
  },
  {
   "cell_type": "markdown",
   "metadata": {
    "slideshow": {
     "slide_type": "fragment"
    }
   },
   "source": [
    "**Take a moment to change the Boolean index**"
   ]
  },
  {
   "cell_type": "markdown",
   "metadata": {
    "slideshow": {
     "slide_type": "subslide"
    }
   },
   "source": [
    "### Boolean Indexing: another look"
   ]
  },
  {
   "cell_type": "code",
   "execution_count": null,
   "metadata": {},
   "outputs": [],
   "source": [
    "#generate some toy data \n",
    "celltypes = np.array( [ 'Parvo', 'Magno', 'Konio' ] )\n",
    "celltypes = celltypes.repeat( [109,148,15] )\n",
    "np.random.shuffle( celltypes )\n",
    "celltypes[:10]"
   ]
  },
  {
   "cell_type": "code",
   "execution_count": null,
   "metadata": {
    "slideshow": {
     "slide_type": "subslide"
    }
   },
   "outputs": [],
   "source": [
    "#use boolean indexing to select the 'Magno' elements\n",
    "bool_array = celltypes == 'Magno'\n",
    "celltypes[ bool_array ]"
   ]
  },
  {
   "cell_type": "markdown",
   "metadata": {
    "slideshow": {
     "slide_type": "slide"
    }
   },
   "source": [
    "## Maths Manipulations of `Numpy` Arrays\n",
    "\n",
    "applying calculations across an entire array\n",
    "\n",
    "|  **Operation** | **Operator** |\n",
    "|:--------------:|:------------:|\n",
    "|    Addition    |       +      |\n",
    "|   Subtraction  |       -      |\n",
    "| Multiplication |       *      |\n",
    "|    Division    |       /      |\n",
    "| Exponentiation |      **      |"
   ]
  },
  {
   "cell_type": "code",
   "execution_count": null,
   "metadata": {
    "slideshow": {
     "slide_type": "subslide"
    }
   },
   "outputs": [],
   "source": [
    "print( radius )\n",
    "\n",
    "area = np.pi * (radius ** 2 )\n",
    "print( area )\n",
    "print( type( area ) )\n",
    "print( '' )\n",
    "#np.info( area )"
   ]
  },
  {
   "cell_type": "code",
   "execution_count": null,
   "metadata": {
    "slideshow": {
     "slide_type": "fragment"
    }
   },
   "outputs": [],
   "source": [
    "# elementwise operations between numpy arrays\n",
    "mfr_stim_in_rf = np.array( [ 100, 114, 96, 120 ] )\n",
    "print( type(mfr_stim_in_rf), mfr_stim_in_rf )\n",
    "mfr_stim_out_rf = np.array( [ 22, 32, 86, 24 ] )\n",
    "print( type(mfr_stim_out_rf), mfr_stim_out_rf )\n",
    "difference = mfr_stim_in_rf - mfr_stim_out_rf  \n",
    "print( type(difference), difference )"
   ]
  },
  {
   "cell_type": "markdown",
   "metadata": {
    "slideshow": {
     "slide_type": "slide"
    }
   },
   "source": [
    "## Using functions to summarize `Numpy` data"
   ]
  },
  {
   "cell_type": "code",
   "execution_count": null,
   "metadata": {},
   "outputs": [],
   "source": [
    "np.mean( difference )"
   ]
  },
  {
   "cell_type": "code",
   "execution_count": null,
   "metadata": {
    "slideshow": {
     "slide_type": "fragment"
    }
   },
   "outputs": [],
   "source": [
    "print( np.min( difference ) )\n",
    "print( np.argmin( difference ) )\n",
    "\n",
    "#max\n",
    "#argmax\n",
    "#sum"
   ]
  },
  {
   "cell_type": "markdown",
   "metadata": {
    "slideshow": {
     "slide_type": "slide"
    }
   },
   "source": [
    "## Comparison Operators and np.arrays\n"
   ]
  },
  {
   "cell_type": "code",
   "execution_count": null,
   "metadata": {},
   "outputs": [],
   "source": [
    "threshold = 60\n",
    "meets_criteria = difference>threshold\n",
    "meets_criteria"
   ]
  },
  {
   "cell_type": "markdown",
   "metadata": {
    "slideshow": {
     "slide_type": "slide"
    }
   },
   "source": [
    "## Broadcasting\n",
    "\n",
    "**Broadcasting** - operations between arrays of different shapes   \n",
    "**Broadcasting Rule** - Two arrays are compatible for broadcasting if for each training dimension the axis lengths match or if either of the lengths is 1. Broadcasting is then performed over the missing or length 1 dimensions\n",
    "\n",
    "1. Broadcasting a scaler: simplest case."
   ]
  },
  {
   "cell_type": "code",
   "execution_count": null,
   "metadata": {},
   "outputs": [],
   "source": [
    "arr = np.arange( 5 )\n",
    "print( arr )\n",
    "# broadcast the scaler 4 to all other elements as a multiplication operation\n",
    "arr *4"
   ]
  },
  {
   "cell_type": "markdown",
   "metadata": {
    "slideshow": {
     "slide_type": "subslide"
    }
   },
   "source": [
    "2. row operations\n",
    "\n",
    "<img src=\"broadcasting_ax0.png\" width=\"35%\" style=\"margin-left:auto; margin-right:auto\">"
   ]
  },
  {
   "cell_type": "code",
   "execution_count": null,
   "metadata": {},
   "outputs": [],
   "source": [
    "arr = np.random.randn( 30 ).reshape( 5,6 )\n",
    "print( arr )"
   ]
  },
  {
   "cell_type": "code",
   "execution_count": null,
   "metadata": {
    "slideshow": {
     "slide_type": "fragment"
    }
   },
   "outputs": [],
   "source": [
    "#use broadcasting to demean (center) the data\n",
    "row_means = arr.mean(0)\n",
    "print( row_means )\n",
    "print( row_means.shape )\n",
    "demeaned = arr - row_means\n",
    "demeaned.mean(0)"
   ]
  },
  {
   "cell_type": "markdown",
   "metadata": {
    "slideshow": {
     "slide_type": "subslide"
    }
   },
   "source": [
    "3. column operations\n",
    "\n",
    "<img src=\"broadcasting_ax1.png\" width=\"35%\" style=\"margin-left:auto; margin-right:auto\">"
   ]
  },
  {
   "cell_type": "code",
   "execution_count": null,
   "metadata": {},
   "outputs": [],
   "source": [
    "print( arr.shape )"
   ]
  },
  {
   "cell_type": "code",
   "execution_count": null,
   "metadata": {},
   "outputs": [],
   "source": [
    "#use broadcasting to demean (center) the data\n",
    "col_means = arr.mean(1)\n",
    "print( col_means )\n",
    "print( col_means.shape )\n",
    "print( col_means.reshape((_____,1)).shape )\n",
    "\n",
    "demeaned = arr - col_means.reshape((_____,1))\n",
    "demeaned.mean(1)"
   ]
  },
  {
   "cell_type": "markdown",
   "metadata": {
    "slideshow": {
     "slide_type": "slide"
    }
   },
   "source": [
    "## reshaping arrays\n",
    "\n",
    "* arr.reshape((m,n),order = C(row)|F(column, Fortran))\n",
    "* arr.ravel()\n",
    "* arr.flatten()\n",
    "* np.concatenate()\n",
    "* np.vstack()\n",
    "* np.hstack()\n",
    "* np.split()\n",
    "* np.hsplut()/vsplit()"
   ]
  },
  {
   "cell_type": "markdown",
   "metadata": {
    "slideshow": {
     "slide_type": "subslide"
    }
   },
   "source": [
    "## linear algebra\n",
    "\n",
    "* np.dot\n",
    "* np.det\n",
    "* np.inv\n",
    "* np.eig\n",
    "* np.svd\n",
    "* np.solve"
   ]
  },
  {
   "cell_type": "markdown",
   "metadata": {
    "slideshow": {
     "slide_type": "subslide"
    }
   },
   "source": [
    "## randomness\n",
    "\n",
    "* np.seed\n",
    "* np.permutation\n",
    "* draw from a distribution:\n",
    "    - np.rand (uniform)\n",
    "    - np.randint\n",
    "    - np.randn (normal)\n",
    "    - np.binomial\n",
    "    _.....several more"
   ]
  },
  {
   "cell_type": "markdown",
   "metadata": {
    "slideshow": {
     "slide_type": "slide"
    }
   },
   "source": [
    "## Speaking of randomness, let's take a random walk\n",
    "\n",
    "**Random Walk/Diffusion Models of Decision making**  \n",
    "\n",
    "The central idea is that a decision is based on the accumulation of evidence relevant to the decision.  \n",
    "For perceptual decision making, information takes the form of incoming sensory signals  \n",
    "Evidence is accumulated and decays over time  \n",
    "If enough evidence is collected to cross a threshold: Make a decision!  \n",
    "If a decision is made: Initiate a response!  \n",
    "\n",
    "<img src=\"https://www.jneurosci.org/content/jneuro/32/7/2335/F1.large.jpg\" width=\"60%\" style=\"margin-left:auto; margin-right:auto\">  \n",
    "\n",
    "[figure cred](https://www.jneurosci.org/content/32/7/2335)"
   ]
  },
  {
   "cell_type": "markdown",
   "metadata": {
    "slideshow": {
     "slide_type": "subslide"
    }
   },
   "source": [
    "## Let's simulate overly simplified random walks with NumPy"
   ]
  },
  {
   "cell_type": "code",
   "execution_count": null,
   "metadata": {},
   "outputs": [],
   "source": [
    "random_walk = [ 0 ]\n",
    "iterations = 100\n",
    "\n",
    "for x in range(iterations) :\n",
    "    # Set step: last element in random_walk\n",
    "    step = random_walk[ -1 ]\n",
    "    # Roll the dice\n",
    "    dice = np.random.randint(1,7)\n",
    "    # Determine next step\n",
    "    if dice <= 2:\n",
    "        step = max( 0, step - 1 )\n",
    "    elif dice <= 5:\n",
    "        step = step + 1\n",
    "    else:\n",
    "        step = step + np.random.randint(1,7)\n",
    "    # append next_step to random_walk\n",
    "    random_walk.append(step)\n",
    "\n",
    "# Print random_walk\n",
    "print( random_walk )\n",
    "# Import matplotlib.pyplot as plt\n",
    "import matplotlib.pyplot as plt\n",
    "plt.plot( random_walk )\n",
    "plt.show()"
   ]
  },
  {
   "cell_type": "code",
   "execution_count": null,
   "metadata": {
    "slideshow": {
     "slide_type": "subslide"
    }
   },
   "outputs": [],
   "source": [
    "# initialize and populate all_walks\n",
    "all_walks = []\n",
    "numwalks = 30\n",
    "for i in range(numwalks) :\n",
    "    random_walk = [0]\n",
    "    for x in range(100) :\n",
    "        step = random_walk[-1]\n",
    "        dice = np.random.randint(1,7)\n",
    "        if dice <= 2:\n",
    "            step = max(0, step - 1)\n",
    "        elif dice <= 5:\n",
    "            step = step + 1\n",
    "        else:\n",
    "            step = step + np.random.randint(1,7)\n",
    "        # Implement clumsiness\n",
    "        if np.random.rand() <= 0.01:\n",
    "            step = step - step/4\n",
    "        random_walk.append(step)\n",
    "    all_walks.append(random_walk)\n",
    "\n",
    "# Convert all_walks to Numpy array: np_aw\n",
    "np_aw = np.array( all_walks )\n",
    "\n",
    "# Transpose np_aw: np_aw_t\n",
    "np_aw_t = np.transpose( np_aw )\n",
    "\n",
    "# Plot np_aw_t and show\n",
    "plt.plot( np_aw_t )\n",
    "plt.show()"
   ]
  },
  {
   "cell_type": "markdown",
   "metadata": {
    "slideshow": {
     "slide_type": "subslide"
    }
   },
   "source": [
    "## Find out decision threshold crossings"
   ]
  },
  {
   "cell_type": "code",
   "execution_count": null,
   "metadata": {
    "slideshow": {
     "slide_type": "-"
    }
   },
   "outputs": [],
   "source": [
    "threshold = 80\n",
    "\n",
    "# did a random walk cross threshold?\n",
    "crossed_thresh_mask = ( np_aw >= threshold ).any(1)\n",
    "print( crossed_thresh_mask )"
   ]
  },
  {
   "cell_type": "code",
   "execution_count": null,
   "metadata": {
    "slideshow": {
     "slide_type": "fragment"
    }
   },
   "outputs": [],
   "source": [
    "# how many random walks crossed threshol?\n",
    "crossed_thresh_mask.sum()"
   ]
  },
  {
   "cell_type": "code",
   "execution_count": null,
   "metadata": {
    "slideshow": {
     "slide_type": "fragment"
    }
   },
   "outputs": [],
   "source": [
    "# average number of steps to cross threshold\n",
    "numsteps_crossthresh = ( np_aw[ crossed_thresh_mask ] >= threshold ).argmax( 1 )\n",
    "numsteps_crossthresh.mean()"
   ]
  },
  {
   "cell_type": "markdown",
   "metadata": {
    "slideshow": {
     "slide_type": "slide"
    }
   },
   "source": [
    "## If you need something to work very fast\n",
    "\n",
    "`Numba` - works with numpy-like data to translate python code into compiled machine code"
   ]
  },
  {
   "cell_type": "code",
   "execution_count": null,
   "metadata": {},
   "outputs": [],
   "source": [
    "def mean_distance( x,y ):\n",
    "    nx = len( x )\n",
    "    result = 0.0\n",
    "    count = 0\n",
    "    for i in range( nx ):\n",
    "        result += x[i] - y[i]\n",
    "        count += 1\n",
    "    return result / count \n",
    "\n",
    "x = np.random.randn(10000000)\n",
    "y = np.random.randn(10000000)"
   ]
  },
  {
   "cell_type": "markdown",
   "metadata": {
    "slideshow": {
     "slide_type": "subslide"
    }
   },
   "source": [
    "### taking `Numba` for a spin...."
   ]
  },
  {
   "cell_type": "code",
   "execution_count": null,
   "metadata": {
    "scrolled": true,
    "slideshow": {
     "slide_type": "fragment"
    }
   },
   "outputs": [],
   "source": [
    "%timeit mean_distance( x,y )"
   ]
  },
  {
   "cell_type": "code",
   "execution_count": null,
   "metadata": {
    "slideshow": {
     "slide_type": "fragment"
    }
   },
   "outputs": [],
   "source": [
    "import numba as nb\n",
    "numba_mean_distance = nb.jit( mean_distance )"
   ]
  },
  {
   "cell_type": "code",
   "execution_count": null,
   "metadata": {
    "slideshow": {
     "slide_type": "fragment"
    }
   },
   "outputs": [],
   "source": [
    "%timeit numba_mean_distance( x,y )"
   ]
  },
  {
   "cell_type": "markdown",
   "metadata": {
    "slideshow": {
     "slide_type": "slide"
    }
   },
   "source": [
    "## We found where the matrices were hiding. Next we'll look for `pandas`.\n",
    "\n",
    "<img src=\"https://content.techgig.com/photo/80071467/pros-and-cons-of-python-programming-language-that-every-learner-must-know.jpg?132269\" width=\"100%\" style=\"margin-left:auto; margin-right:auto\">"
   ]
  }
 ],
 "metadata": {
  "celltoolbar": "Slideshow",
  "kernelspec": {
   "display_name": "Python 3",
   "language": "python",
   "name": "python3"
  },
  "language_info": {
   "codemirror_mode": {
    "name": "ipython",
    "version": 3
   },
   "file_extension": ".py",
   "mimetype": "text/x-python",
   "name": "python",
   "nbconvert_exporter": "python",
   "pygments_lexer": "ipython3",
   "version": "3.7.6"
  }
 },
 "nbformat": 4,
 "nbformat_minor": 4
}
