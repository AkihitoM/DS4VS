{
 "cells": [
  {
   "cell_type": "code",
   "execution_count": null,
   "metadata": {},
   "outputs": [],
   "source": []
  },
  {
   "cell_type": "markdown",
   "metadata": {
    "slideshow": {
     "slide_type": "slide"
    }
   },
   "source": [
    "# Week 5: `Pandas`\n",
    "\n",
    "<img src=\"https://foreignpolicy.com/wp-content/uploads/2014/10/450412342_multiple_pandas_getty_small.jpg?w=800&h=417&quality=90\" width=\"60%\" style=\"margin-left:auto; margin-right:auto\">\n",
    "\n"
   ]
  },
  {
   "cell_type": "markdown",
   "metadata": {
    "slideshow": {
     "slide_type": "slide"
    }
   },
   "source": [
    "## `pandas` ....\n",
    "\n",
    "....**Pan**el **da**ta ...with an s  \n",
    "(but also a play on the phrase Python Data Analysis)\n",
    "\n",
    "* `pandas` is a Python library that brings high-level data structures built 'on top' of `NumPy` \n",
    "\n",
    "* pandas - panel data (economics term for multidimensional structured data), or tabular data\n",
    "    - **Tabular data**: each row is a record/observation. Each column == a feature/variable/attribute\n",
    "    - Similar to MATLAB's table\n"
   ]
  },
  {
   "cell_type": "markdown",
   "metadata": {
    "slideshow": {
     "slide_type": "subslide"
    }
   },
   "source": [
    "## `pandas` structures\n",
    "\n",
    "pandas blends the array-computing spirit of numpy with the kinds of data manipulations found in spreadsheets and relational databases (e.g. Excel, SQL)  \n",
    "\n",
    "the `pandas` workhorse structures:\n",
    "\n",
    "* Series\n",
    "* DataFrame"
   ]
  },
  {
   "cell_type": "code",
   "execution_count": null,
   "metadata": {
    "slideshow": {
     "slide_type": "fragment"
    }
   },
   "outputs": [],
   "source": [
    "import pandas as pd\n",
    "import numpy as np"
   ]
  },
  {
   "cell_type": "markdown",
   "metadata": {
    "slideshow": {
     "slide_type": "subslide"
    }
   },
   "source": [
    "### `pandas` Series\n",
    "\n",
    "The layering of `pandas` on top of `NumPy` is evident in the `Series` class.  \n",
    "\n",
    "Series:  \n",
    "\n",
    "* 1-dimentional\n",
    "* can hold any `NumPy` data type\n",
    "* builds on the `ndarray` by giving each row a corresponding index label"
   ]
  },
  {
   "cell_type": "markdown",
   "metadata": {
    "slideshow": {
     "slide_type": "subslide"
    }
   },
   "source": [
    "### a few examples...."
   ]
  },
  {
   "cell_type": "code",
   "execution_count": null,
   "metadata": {
    "slideshow": {
     "slide_type": "fragment"
    }
   },
   "outputs": [],
   "source": [
    "# a basic series\n",
    "exp1 = pd.Series( np.arange( 10, 20 ) )\n",
    "print( type( exp1 ) )\n",
    "exp1"
   ]
  },
  {
   "cell_type": "code",
   "execution_count": null,
   "metadata": {
    "slideshow": {
     "slide_type": "fragment"
    }
   },
   "outputs": [],
   "source": [
    "idx = pd.date_range(\"2018-01-01\", periods=10, freq=\"H\")\n",
    "ts = pd.Series(range(len(idx)), index=idx)\n",
    "print( type( ts ) )\n",
    "ts"
   ]
  },
  {
   "cell_type": "markdown",
   "metadata": {
    "slideshow": {
     "slide_type": "slide"
    }
   },
   "source": [
    "## `pandas DataFrame`\n",
    "\n",
    "* Tabular | Panel data\n",
    "* ordered collection of columns\n",
    "* each column can be thought of as a `pd.Series`\n",
    "* each column can hold a different data type"
   ]
  },
  {
   "cell_type": "markdown",
   "metadata": {
    "slideshow": {
     "slide_type": "slide"
    }
   },
   "source": [
    "## Initializing a pandas DataFrame object\n",
    "\n",
    "* dictionary"
   ]
  },
  {
   "cell_type": "code",
   "execution_count": null,
   "metadata": {},
   "outputs": [],
   "source": [
    "data = { 'cell_id' : [ 'ho_sc_081321_01', 'ho_sc_081321_02', 'ho_sc_081322_01', 'ho_sc_081322_02'],\n",
    "       'data' : [ '081321', '081321', '081322', '081322'],\n",
    "       'amp' : [ 11, 12, 4, 4 ],\n",
    "       'ang' : [ 130, 130, 160, 155 ] }\n",
    "\n",
    "df = pd.DataFrame( data )\n",
    "df"
   ]
  },
  {
   "cell_type": "code",
   "execution_count": null,
   "metadata": {
    "slideshow": {
     "slide_type": "fragment"
    }
   },
   "outputs": [],
   "source": [
    "df.set_index( 'cell_id' )"
   ]
  },
  {
   "cell_type": "markdown",
   "metadata": {
    "slideshow": {
     "slide_type": "slide"
    }
   },
   "source": [
    "## Initializing a pandas DataFrame object\n",
    "\n",
    "* list of lists"
   ]
  },
  {
   "cell_type": "code",
   "execution_count": null,
   "metadata": {},
   "outputs": [],
   "source": [
    "data = [[ 'ho_sc_081321_01',  '081321', 11, 130],\n",
    "        [ 'ho_sc_081321_02', '081321',  12, 130],\n",
    "        [ 'ho_sc_081322_01', '081322', 4, 160 ],\n",
    "        [ 'ho_sc_081322_02', '081322', 4, 155 ]]\n",
    "\n",
    "column_names = ['cell_id', 'data', 'amp','ang']\n",
    "df = pd.DataFrame( data, columns = column_names )\n",
    "df"
   ]
  },
  {
   "cell_type": "markdown",
   "metadata": {
    "slideshow": {
     "slide_type": "slide"
    }
   },
   "source": [
    "## Initializing a pandas DataFrame object\n",
    "\n",
    "* Importing Data"
   ]
  },
  {
   "cell_type": "code",
   "execution_count": null,
   "metadata": {},
   "outputs": [],
   "source": [
    "url = 'https://raw.githubusercontent.com/plotly/datasets/master/diabetes.csv'\n",
    "diabetes = data = pd.read_csv( url )\n",
    "diabetes.head()"
   ]
  },
  {
   "cell_type": "markdown",
   "metadata": {
    "slideshow": {
     "slide_type": "slide"
    }
   },
   "source": [
    "## Viewing info about the DataFrame\n",
    "\n",
    "* data columns\n",
    "* data.index (row labels) \n",
    "* data.shape\n",
    "* data.head()\n",
    "* data.tail()\n",
    "* data.info()\n",
    "* data.describe()"
   ]
  },
  {
   "cell_type": "code",
   "execution_count": null,
   "metadata": {
    "slideshow": {
     "slide_type": "fragment"
    }
   },
   "outputs": [],
   "source": [
    "# let's try a few out....\n",
    "diabetes"
   ]
  },
  {
   "cell_type": "markdown",
   "metadata": {
    "slideshow": {
     "slide_type": "subslide"
    }
   },
   "source": [
    "## Quick Descriptive Summary Stats\n",
    "\n",
    "* count, sum\n",
    "* min, max\n",
    "* argmin, argmax\n",
    "* mean, median, var, std\n",
    "* skew, kurt"
   ]
  },
  {
   "cell_type": "code",
   "execution_count": null,
   "metadata": {
    "slideshow": {
     "slide_type": "fragment"
    }
   },
   "outputs": [],
   "source": [
    "# let's try a few out....\n",
    "diabetes"
   ]
  },
  {
   "cell_type": "markdown",
   "metadata": {
    "slideshow": {
     "slide_type": "slide"
    }
   },
   "source": [
    "## Accessing columns in pandas DataFrames\n",
    "\n",
    "* columns - use square brackets\n",
    "\n",
    "data['Glucose']  \n",
    "this returns a pandas Series object"
   ]
  },
  {
   "cell_type": "code",
   "execution_count": null,
   "metadata": {
    "slideshow": {
     "slide_type": "fragment"
    }
   },
   "outputs": [],
   "source": [
    "glu = data[ 'Glucose' ]\n",
    "print( type( glu ) )\n",
    "glu.head()"
   ]
  },
  {
   "cell_type": "code",
   "execution_count": null,
   "metadata": {
    "slideshow": {
     "slide_type": "fragment"
    }
   },
   "outputs": [],
   "source": [
    "# access a column and return a descriptive stat. ex: mean, max, count"
   ]
  },
  {
   "cell_type": "code",
   "execution_count": null,
   "metadata": {
    "slideshow": {
     "slide_type": "subslide"
    }
   },
   "outputs": [],
   "source": [
    "# access multiple columns\n",
    "subdata = data[['Glucose', 'Insulin']]\n",
    "print( type( subdata ) )\n",
    "subdata.head()"
   ]
  },
  {
   "cell_type": "code",
   "execution_count": null,
   "metadata": {
    "slideshow": {
     "slide_type": "fragment"
    }
   },
   "outputs": [],
   "source": [
    "# access multiple columns and return a descriptive stat. ex: mean, max, count"
   ]
  },
  {
   "cell_type": "markdown",
   "metadata": {
    "slideshow": {
     "slide_type": "slide"
    }
   },
   "source": [
    "## Accessing rows in pandas DataFrames\n",
    "  \n",
    "* rows - since square brackets are reserved for columns in pandas, use attributes to select rows\n",
    "    - loc - pandas index ( select by pandas index label)\n",
    "    - iloc - python index (select by absolute position)"
   ]
  },
  {
   "cell_type": "code",
   "execution_count": null,
   "metadata": {},
   "outputs": [],
   "source": [
    "df = df.set_index( 'cell_id' )\n",
    "print( df )"
   ]
  },
  {
   "cell_type": "code",
   "execution_count": null,
   "metadata": {},
   "outputs": [],
   "source": [
    "# use the .loc attribute to return rows by pandas index\n",
    "df.loc[ 'ho_sc_081321_02':'ho_sc_081322_01' ]"
   ]
  },
  {
   "cell_type": "code",
   "execution_count": null,
   "metadata": {
    "slideshow": {
     "slide_type": "fragment"
    }
   },
   "outputs": [],
   "source": [
    "# This is interesting....\n",
    "# use iloc to return rows by python's positional index\n",
    "df.iloc[ 1:2 ]"
   ]
  },
  {
   "cell_type": "markdown",
   "metadata": {
    "slideshow": {
     "slide_type": "slide"
    }
   },
   "source": [
    "## `pandas` Selecting from a DataFrame Summary\n",
    "\n",
    "* square brackets\n",
    "    - column access df[['feature1','feature2']]\n",
    "    - row access by slicing df[1:4]\n",
    "\n",
    "* loc == (label-based)\n",
    "    - column access df.loc[[ 'feature1','feature2' ]]\n",
    "    - row access df.loc[['row1','row2']]\n",
    "    - row & column access df.loc[['row1','row2'],[ 'feature1','feature2' ]]\n",
    "    \n",
    "* iloc== (integer position-based)\n",
    "    - column access df.iloc[[ colnum1,colnum2 ]]\n",
    "    - row access df.iloc[[rownum,rownum2]]\n",
    "    - row & column access df.iloc[[rownum,rownum2],[ colnum1,colnum2 ]]"
   ]
  },
  {
   "cell_type": "code",
   "execution_count": null,
   "metadata": {
    "slideshow": {
     "slide_type": "fragment"
    }
   },
   "outputs": [],
   "source": [
    "# we can try a few with df"
   ]
  },
  {
   "cell_type": "markdown",
   "metadata": {
    "slideshow": {
     "slide_type": "slide"
    }
   },
   "source": [
    "## Filtering pandas DataFrames\n",
    "\n",
    "We can use boolean masks as we did in NumPy  \n",
    "General procedure:  \n",
    "\n",
    "1. Get the column\n",
    "2. Perform the comparison\n",
    "3. Subset the DF"
   ]
  },
  {
   "cell_type": "code",
   "execution_count": null,
   "metadata": {},
   "outputs": [],
   "source": [
    "over50 = data['Age'] > 50\n",
    "print( over50[:10] )\n",
    "data[ over50 ]\n",
    "#data[ data['Age']>50 ]"
   ]
  },
  {
   "cell_type": "code",
   "execution_count": null,
   "metadata": {},
   "outputs": [],
   "source": [
    "import numpy as np\n",
    "print( data[ over50 ]['BMI'].mean())\n",
    "print( data[np.invert( over50 ) ]['BMI'].mean() )"
   ]
  },
  {
   "cell_type": "markdown",
   "metadata": {
    "slideshow": {
     "slide_type": "slide"
    }
   },
   "source": [
    "## Aggregating pandas DataFrames with `.groupby`\n",
    "\n",
    "a method of pandas DataFrames that lends behavior similar to database query (SQL) statements"
   ]
  },
  {
   "cell_type": "code",
   "execution_count": null,
   "metadata": {},
   "outputs": [],
   "source": [
    "data.groupby( 'Outcome' ).mean()"
   ]
  },
  {
   "cell_type": "markdown",
   "metadata": {
    "slideshow": {
     "slide_type": "slide"
    }
   },
   "source": [
    "## Accessing your data as a `pandas` DataFrame\n",
    "\n",
    "Let's take a moment here at the end of class to make sure we can all access some of our data in Python as a `pandas` DataFrame..."
   ]
  },
  {
   "cell_type": "markdown",
   "metadata": {
    "slideshow": {
     "slide_type": "slide"
    }
   },
   "source": [
    "## want to know more? \n",
    "\n",
    "read Python for Data Analysis. by Wes McKinney (they guy who created pandas)\n",
    "\n",
    "<img src=\"https://encrypted-tbn0.gstatic.com/images?q=tbn:ANd9GcQyHyF6T1lfC5-Thzbrha6NrVsl_q85SO1xuPltyzaWQ-FXZvvsGhlw0CmYSFv4F5S0aaY&usqp=CAU\" width=\"40%\" style=\"margin-left:auto; margin-right:auto\">\n"
   ]
  },
  {
   "cell_type": "markdown",
   "metadata": {
    "slideshow": {
     "slide_type": "slide"
    }
   },
   "source": [
    "## Python is a lot more powerful with `NumPy` and `pandas` ...Do you agree?\n",
    "\n",
    "<img src=\"https://content.techgig.com/photo/80071467/pros-and-cons-of-python-programming-language-that-every-learner-must-know.jpg?132269\" width=\"100%\" style=\"margin-left:auto; margin-right:auto\">"
   ]
  }
 ],
 "metadata": {
  "celltoolbar": "Slideshow",
  "kernelspec": {
   "display_name": "Python 3",
   "language": "python",
   "name": "python3"
  },
  "language_info": {
   "codemirror_mode": {
    "name": "ipython",
    "version": 3
   },
   "file_extension": ".py",
   "mimetype": "text/x-python",
   "name": "python",
   "nbconvert_exporter": "python",
   "pygments_lexer": "ipython3",
   "version": "3.7.6"
  }
 },
 "nbformat": 4,
 "nbformat_minor": 4
}
