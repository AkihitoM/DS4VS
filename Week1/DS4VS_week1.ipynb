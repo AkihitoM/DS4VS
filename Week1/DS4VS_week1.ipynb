{
 "cells": [
  {
   "cell_type": "markdown",
   "metadata": {
    "slideshow": {
     "slide_type": "-"
    }
   },
   "source": [
    "[![Open In Colab](https://colab.research.google.com/assets/colab-badge.svg)](https://colab.research.google.com/github/SmilodonCub/DS4VS/blob/master/Week1/DS4VS_week1.ipynb)"
   ]
  },
  {
   "cell_type": "markdown",
   "metadata": {
    "slideshow": {
     "slide_type": "slide"
    }
   },
   "source": [
    "# Data Science Tools for Vision Science Applications\n",
    "\n",
    "Fall Semester 2020  \n",
    "with Bonnie Cooper\n",
    "\n",
    " \n",
    "    \n",
    "<img src=\"https://graphicriver.img.customer.envatousercontent.com/files/319429841/preview.jpg?auto=compress%2Cformat&fit=crop&crop=top&w=590&h=590&s=4796a15528863209e5a10cf00e524000\" style=\"margin-left:auto; margin-right:auto\">\n"
   ]
  },
  {
   "cell_type": "markdown",
   "metadata": {
    "slideshow": {
     "slide_type": "slide"
    }
   },
   "source": [
    "## Welcome to DS4VS\n",
    "\n",
    "Today's Agenda: \n",
    "\n",
    "1. An introduction is in order....\n",
    "    * What is this course?\n",
    "    * What is Data Science?\n",
    "    * What tools will we be using?\n",
    "    * What is Python & why are we using it?\n",
    "    \n",
    " \n",
    "\n",
    "2. Once we find ourselves oriented:\n",
    "    * Python Environment\n",
    "    * Python Primatives\n",
    "    * Python Native Types\n",
    "\n",
    "<img src=\"https://lh3.googleusercontent.com/proxy/zYz0skrAzuoqMwwi55qVINOwISnC9nWMA1bNHFxMaHjD7UOA8cEiWJIwu_oIswlsGoIS78Lf7JgUZRnxp2pH9gorOuAM5Tiqnk5zJ28EWjZsIyto0tx3BE9-i9ya-kZNUo1cbmn8RevJKcy8YY0PCKgBCo4vru9EdYwy\" style=\"margin-left:auto; margin-right:auto\">"
   ]
  },
  {
   "cell_type": "markdown",
   "metadata": {
    "slideshow": {
     "slide_type": "slide"
    }
   },
   "source": [
    "## What is this course?\n",
    "\n",
    "\n",
    "Data Science Methods for Vision Science Applications will provide students with an overview of current\n",
    "data science tools and methodology while using datasets from various fields of vision science.  \n",
    "\n",
    "Let's walk through the [course syllabus](https://github.com/SmilodonCub/DS4VS/blob/master/DS4VS_syllabus.pdf) to see what we'll be up to this Fall...\n",
    "\n",
    "<img src=\"https://d2slcw3kip6qmk.cloudfront.net/marketing/blog/2017Q3/Annika-Syllabi/-Syllabus-Header.png\" width=\"50%\" style=\"margin-left:auto; margin-right:auto\">\n",
    "\n"
   ]
  },
  {
   "cell_type": "markdown",
   "metadata": {
    "slideshow": {
     "slide_type": "subslide"
    }
   },
   "source": [
    "### Course Objectives:\n",
    "\n",
    "1. Understand native Python data structures and basic Python programming techniques"
   ]
  },
  {
   "cell_type": "code",
   "execution_count": 1,
   "metadata": {},
   "outputs": [
    {
     "name": "stdout",
     "output_type": "stream",
     "text": [
      "Hello Data Science Students!\n"
     ]
    }
   ],
   "source": [
    "print( 'Hello Data Science Students!' ) "
   ]
  },
  {
   "cell_type": "markdown",
   "metadata": {
    "slideshow": {
     "slide_type": "fragment"
    }
   },
   "source": [
    "2. Gain familiarity with data science-centric Python libraries\n",
    "    - [`pandas`](https://pandas.pydata.org/), [`numpy`](https://numpy.org/) and [`scikit-learn`](https://scikit-learn.org/stable/)"
   ]
  },
  {
   "cell_type": "markdown",
   "metadata": {
    "slideshow": {
     "slide_type": "fragment"
    }
   },
   "source": [
    "3. Introduction to fundamentals of Machine Learning "
   ]
  },
  {
   "cell_type": "markdown",
   "metadata": {
    "slideshow": {
     "slide_type": "fragment"
    }
   },
   "source": [
    "4. Become Proficient at using [Git](https://git-scm.com/) and [Github](https://github.com/) for version control"
   ]
  },
  {
   "cell_type": "markdown",
   "metadata": {
    "slideshow": {
     "slide_type": "fragment"
    }
   },
   "source": [
    "5. Strengthen communications skills:\n",
    "    - **Final Report** - written communication of research findings\n",
    "    - **Oral Report** - spoken \"  .... \"\n",
    "    - **Collaboration** - group communication on weekly topics and more on [Slack](https://slack.com/)\n",
    "    \n",
    "<br>"
   ]
  },
  {
   "cell_type": "markdown",
   "metadata": {
    "slideshow": {
     "slide_type": "subslide"
    }
   },
   "source": [
    "### Course Deliverables\n",
    "\n",
    "|    **Deliverable**   |                                                                                                                        **Description**                                                                                                                        | **Final Grade %** |\n",
    "|:--------------------:|:-------------------------------------------------------------------------------------------------------------------------------------------------------------------------------------------------------------------------------------------------------------:|-------------------|\n",
    "| Project Report       | Analysis of a dataset using python and organize a report to summarize the results.                                                                                          | 30%               |\n",
    "| Project Presentation | Give a brief 12-15min talk to present the Project Report to the class.                                                                                                                                                              | 10%               |\n",
    "| Python Problem Set   | Most course topics (e.g. Python, Regression etc) will have an accompanying problem set in the form of either a Jupyter notebook or Python script.  Students will be responsible for uploading 4 completed assignments for full credit (10pnts per homework).  | 40%               |\n",
    "| Weekly Discussion    | Each week will have a discussion topic posed to the class on Slack. Students are responsible for replying to 10 weekly discussions for full credit (1pt per post)                                                                                             | 10%               |\n",
    "| DataCamp Courses     | Several required courses will be assigned on the DataCamp platform. These courses will need to be completed by the close of the semester                                                                                                                      | 10%               |"
   ]
  },
  {
   "cell_type": "markdown",
   "metadata": {
    "slideshow": {
     "slide_type": "subslide"
    }
   },
   "source": [
    "### Course Evaluation\n",
    "\n",
    "Pass | Fail\n",
    "\n",
    "$$f(score) = \\left\\{ \\begin{array}{rcl}\n",
    "\\mbox{Pass} & \\mbox{for}\n",
    "& score>0.6 \\\\ \\mbox{Fail} & \\mbox{for} & score<=0.6\n",
    "\\end{array}\\right.$$\n",
    "\n",
    "<br>"
   ]
  },
  {
   "cell_type": "markdown",
   "metadata": {
    "slideshow": {
     "slide_type": "subslide"
    }
   },
   "source": [
    "### Course Agenda (Subject to Change!)\n",
    "\n",
    "| **Week** | **Week of** | **Topic**                                 | **Description**                                                                                            |\n",
    "|:--------:|:-----------:|-------------------------------------------|------------------------------------------------------------------------------------------------------|\n",
    "| 1        | August 17th | Python                                    | Course Introduction & Introduction to Python  (basic functionality and core data types)              |\n",
    "| 2        | August 24th | Python                                    | Python - Beyond beginner Flow control and functions                                                  |\n",
    "| 3        | August 31st | Python / Git                              | Python Classes & introductory OOP Git / Github for version control                                   |\n",
    "| 4        | Sept 7th    | Data Access & Manipulation                | Loading and accessing various data formats into  the Python environment                              |\n",
    "| 5        | Sept 14th   | Data Access & Manipulation                | the `numpy` and `pandas` libraries                                                                   |\n",
    "| 6        | Sept 21st   | Exploratory Data Analysis & Visualization | data inspection, missingness, data cleaning                                                          |\n",
    "| 7        | Sept 28th   | Exploratory Data Analysis & Visualization | summary statistics and basic visualizations using `Matplotlib Pyplot` and `Seaborn`                  |\n",
    "| 8        | Oct 5th     | Experimental Design                       | an introduction to `psychopy` for designing and  implementing behavioral experiments                 |\n",
    "| 9        | Oct 12th    | Regression                                | Linear, multiple, logistic regression                                                                |\n",
    "| 10       | Oct 19th    | Machine Learning: Supervised              | basic supervised learning approaches for numeric data:  regression & decision trees                  |\n",
    "| 11       | Oct 26th    | Machine Learning: Supervised              | basic supervised learning approaches for categorical data:  classification/categorization (e.g. kNN) |\n",
    "| 12       | Nov 2nd     | Machine Learning: Unsupervised            | basic unsupervised learning approaches for numeric data:  dimensionality reduction (e.g PCA)         |\n",
    "| 13       | Nov 9th     | Machine Learning: Unsupervised            | basic unsupervised learning approaches for categorical data: clustering (e.g. K-mean)                |\n",
    "| 14       | Nov 16th    | Machine Learning: Neural nets             | Introduction to artificial Neural nets with `Keras`                                                  |\n",
    "| 15       | Nov 30th    | Data Narratives                            | students will prepare a report and give a brief talk to  present their findings to the class         |\n",
    "\n",
    "<br>"
   ]
  },
  {
   "cell_type": "markdown",
   "metadata": {
    "slideshow": {
     "slide_type": "slide"
    }
   },
   "source": [
    "## Any questions about the syllabus?"
   ]
  },
  {
   "cell_type": "markdown",
   "metadata": {
    "slideshow": {
     "slide_type": "slide"
    }
   },
   "source": [
    "## What is Data Science?\n",
    "\n",
    "* a multidisciplinary approach that levies a variety of tools to extract insights from data\n",
    "* has been touted as the [\"Sexiest job of the 21st century\"](https://hbr.org/2012/10/data-scientist-the-sexiest-job-of-the-21st-century)\n",
    "\n",
    "<img src=\"https://res.cloudinary.com/practicaldev/image/fetch/s--maUIxfjX--/c_limit%2Cf_auto%2Cfl_progressive%2Cq_auto%2Cw_880/https://thepracticaldev.s3.amazonaws.com/i/w9iry6gui9ane19djuv5.png\" width=\"50%\" style=\"margin-left:auto; margin-right:auto\">"
   ]
  },
  {
   "cell_type": "markdown",
   "metadata": {
    "slideshow": {
     "slide_type": "subslide"
    }
   },
   "source": [
    "### Data Science as a Multidisciplinary Approach\n",
    "\n",
    "<img src=\"https://crate.io/wp-content/uploads/2018/11/DataScienceVenn.png\" width=\"50%\" style=\"margin-left:auto; margin-right:auto\">"
   ]
  },
  {
   "cell_type": "markdown",
   "metadata": {
    "slideshow": {
     "slide_type": "subslide"
    }
   },
   "source": [
    "### Data Science as an Iterative Process\n",
    "\n",
    "<img src=\"https://miro.medium.com/max/827/1*rGGBv2NBVeSSSW1NYyURvw.png\" width=\"50%\" style=\"margin-left:auto; margin-right:auto\">"
   ]
  },
  {
   "cell_type": "markdown",
   "metadata": {
    "slideshow": {
     "slide_type": "subslide"
    }
   },
   "source": [
    "### Data Science as a field in constant flux\n",
    "\n",
    "Data Science tools are ever evolving"
   ]
  },
  {
   "cell_type": "code",
   "execution_count": 2,
   "metadata": {
    "scrolled": true,
    "slideshow": {
     "slide_type": "fragment"
    }
   },
   "outputs": [
    {
     "data": {
      "image/jpeg": "[encoded data removed]",
      "text/html": [
       "\n",
       "        <iframe\n",
       "            width=\"400\"\n",
       "            height=\"300\"\n",
       "            src=\"https://www.youtube.com/embed/pKPaHH7hnv8\"\n",
       "            frameborder=\"0\"\n",
       "            allowfullscreen\n",
       "        ></iframe>\n",
       "        "
      ],
      "text/plain": [
       "<IPython.lib.display.YouTubeVideo at 0x7fc68460f390>"
      ]
     },
     "execution_count": 2,
     "metadata": {},
     "output_type": "execute_result"
    }
   ],
   "source": [
    "from IPython.lib.display import YouTubeVideo \n",
    "YouTubeVideo('pKPaHH7hnv8')"
   ]
  },
  {
   "cell_type": "markdown",
   "metadata": {
    "slideshow": {
     "slide_type": "slide"
    }
   },
   "source": [
    "## What tools will we be using?\n",
    "\n",
    "* Python - data processing, visualization and analysis\n",
    "* Git/Github - version control\n",
    "* Slack - group communication\n",
    "* DataCamp - augmented learning\n",
    "\n",
    "<br>"
   ]
  },
  {
   "cell_type": "markdown",
   "metadata": {
    "slideshow": {
     "slide_type": "subslide"
    }
   },
   "source": [
    "<img src=\"https://www.python.org/static/community_logos/python-logo-master-v3-TM-flattened.png\" width=\"35%\" style=\"margin-left:auto; margin-right:auto\">\n",
    "\n",
    "### Python Environments\n",
    "\n",
    "* [Anaconda](https://www.anaconda.com/)\n",
    "    - $\\surd$ open source, $\\surd$ >1500 preloaded libraries, $\\surd$ good community support, etc."
   ]
  },
  {
   "cell_type": "markdown",
   "metadata": {
    "slideshow": {
     "slide_type": "fragment"
    }
   },
   "source": [
    "* Python Ides: [Spyder](https://www.spyder-ide.org/), [PyCharm](https://www.jetbrains.com/pycharm/), [Visual Studio Code](https://code.visualstudio.com/)"
   ]
  },
  {
   "cell_type": "markdown",
   "metadata": {
    "slideshow": {
     "slide_type": "fragment"
    }
   },
   "source": [
    "* Online alternatives Ides: [Programiz](https://www.programiz.com/python-programming/online-compiler/) & [Replit](https://replit.com/)"
   ]
  },
  {
   "cell_type": "markdown",
   "metadata": {
    "slideshow": {
     "slide_type": "fragment"
    }
   },
   "source": [
    "* Notebooks: [jupyter](https://jupyter.org/) & [Colaboratory](https://colab.research.google.com/notebooks/intro.ipynb?utm_source=scs-index) (Colab for short)"
   ]
  },
  {
   "cell_type": "markdown",
   "metadata": {
    "slideshow": {
     "slide_type": "subslide"
    }
   },
   "source": [
    "<img src=\"https://logos-world.net/wp-content/uploads/2020/11/GitHub-Emblem.png\" width=\"25%\" style=\"margin-left:auto; margin-right:auto\">\n",
    "\n",
    "\n",
    "### Get Git\n",
    "\n",
    "[Git](https://git-scm.com/) is free open-source distributed version control software.  \n",
    "[Github](https://github.com/) is a collaborative platform built on top of Git  \n",
    "\n",
    "OKay, but what is version control?....  \n",
    "**Version Control** - a database that keeps all the changes to the files under a revision control  \n",
    "\n",
    "Local > Central > Distributed Verson Control\n",
    "\n",
    "<br>"
   ]
  },
  {
   "cell_type": "markdown",
   "metadata": {
    "slideshow": {
     "slide_type": "subslide"
    }
   },
   "source": [
    "<img src=\"https://logos-world.net/wp-content/uploads/2020/10/Slack-Logo-2019-present.jpg\" width=\"25%\" style=\"margin-left:auto; margin-right:auto\">\n",
    "\n",
    "### Slack\n",
    "\n",
    "[Slack](https://slack.com/) is a messaging app. We'll be using it to comment on weekly discussion posts"
   ]
  },
  {
   "cell_type": "markdown",
   "metadata": {
    "slideshow": {
     "slide_type": "subslide"
    }
   },
   "source": [
    "<img src=\"https://recruiting.cdn.greenhouse.io/external_greenhouse_job_boards/logos/000/004/942/original/fb-optimized.jpg?1612253712\" width=\"25%\" style=\"margin-left:auto; margin-right:auto\">\n",
    "\n",
    "### DataCamp\n",
    "\n",
    "* [DataCamp](https://learn.datacamp.com/) is an on-line education platform for Data Science\n",
    "* it is NOT free, but you are special!\n",
    "* Required: select Python DataCamp courses\n",
    "* Go Wild!: you have access to the entire platform for the next 6 months\n",
    "\n",
    "<br>"
   ]
  },
  {
   "cell_type": "markdown",
   "metadata": {
    "slideshow": {
     "slide_type": "subslide"
    }
   },
   "source": [
    "## What is `Python` & why are we using it?\n",
    "\n",
    "<img src=\"https://pbs.twimg.com/media/EIgded-VAAE_tVU.jpg\" width=\"75%\" style=\"margin-left:auto; margin-right:auto\">"
   ]
  },
  {
   "cell_type": "markdown",
   "metadata": {
    "slideshow": {
     "slide_type": "slide"
    }
   },
   "source": [
    "### About Python .... \n",
    "\n",
    "Python was developed by an academic, Guido van Rossum in the early 90s.  \n",
    "Python was an open-source project before the term open-source was invented.  \n",
    "Guido wanted to create a language that was easy, intuitive and as readable as written language.  \n",
    "He was a big fan on [Monty Python's Fying Circus](https://www.imdb.com/title/tt0063929/), so he named his project 'Python'  \n",
    "\n",
    "<img src=\"https://gvanrossum.github.io/images/GuidoByPeterAdams.jpg\" width=\"50%\" style=\"float: right;\">"
   ]
  },
  {
   "cell_type": "markdown",
   "metadata": {
    "slideshow": {
     "slide_type": "subslide"
    }
   },
   "source": [
    "Python is an open-sourced community driven project. We can begin to appreciate the development journey through the visualization of Python's commit history.  \n",
    "\n",
    "This video starts in the early 90s and goes through 2012."
   ]
  },
  {
   "cell_type": "code",
   "execution_count": 3,
   "metadata": {
    "slideshow": {
     "slide_type": "fragment"
    }
   },
   "outputs": [
    {
     "data": {
      "image/jpeg": "[encoded data removed]",
      "text/html": [
       "\n",
       "        <iframe\n",
       "            width=\"400\"\n",
       "            height=\"300\"\n",
       "            src=\"https://www.youtube.com/embed/cNBtDstOTmA\"\n",
       "            frameborder=\"0\"\n",
       "            allowfullscreen\n",
       "        ></iframe>\n",
       "        "
      ],
      "text/plain": [
       "<IPython.lib.display.YouTubeVideo at 0x7fc684622cd0>"
      ]
     },
     "execution_count": 3,
     "metadata": {},
     "output_type": "execute_result"
    }
   ],
   "source": [
    "from IPython.lib.display import YouTubeVideo \n",
    "YouTubeVideo('cNBtDstOTmA')"
   ]
  },
  {
   "cell_type": "markdown",
   "metadata": {
    "slideshow": {
     "slide_type": "subslide"
    }
   },
   "source": [
    "### Why we'll be using Python\n",
    "\n",
    "* Python is free, relatively easy to learn and has a supportive community of contributors\n",
    "* Many very popular data science and machine learning libraries\n",
    "* Python's popularity as a programming language continues to climb\n",
    "    - [TOIBE index](https://www.tiobe.com/tiobe-index/)\n",
    "    - [PYPL ranking](https://pypl.github.io/PYPL.html)\n",
    "* Python is the current dominant language in Data Science and the Tech industry\n",
    "    - [kdnuggets](https://www.kdnuggets.com/2020/03/1001-data-scientist-linkedin-profiles-latest.html)\n",
    "    - [kaggle survey](https://towardsdatascience.com/data-science-trends-based-on-4-years-of-kaggle-surveys-60878d68551f)"
   ]
  },
  {
   "cell_type": "markdown",
   "metadata": {
    "slideshow": {
     "slide_type": "slide"
    }
   },
   "source": [
    "## Enough talking about Python, let's get started!\n",
    "\n",
    "<img src=\"https://content.techgig.com/photo/80071467/pros-and-cons-of-python-programming-language-that-every-learner-must-know.jpg?132269\" width=\"100%\" style=\"margin-left:auto; margin-right:auto\">"
   ]
  }
 ],
 "metadata": {
  "celltoolbar": "Slideshow",
  "kernelspec": {
   "display_name": "Python 3",
   "language": "python",
   "name": "python3"
  },
  "language_info": {
   "codemirror_mode": {
    "name": "ipython",
    "version": 3
   },
   "file_extension": ".py",
   "mimetype": "text/x-python",
   "name": "python",
   "nbconvert_exporter": "python",
   "pygments_lexer": "ipython3",
   "version": "3.7.6"
  }
 },
 "nbformat": 4,
 "nbformat_minor": 4
}
