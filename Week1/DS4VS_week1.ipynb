{
 "cells": [
  {
   "cell_type": "markdown",
   "metadata": {
    "slideshow": {
     "slide_type": "slide"
    }
   },
   "source": [
    "# Data Science Tools for Vision Science Applications\n",
    "\n",
    "Fall Semester 2020  \n",
    "with Bonnie Cooper"
   ]
  },
  {
   "cell_type": "markdown",
   "metadata": {
    "slideshow": {
     "slide_type": "slide"
    }
   },
   "source": [
    "## Course Description\n",
    "\n",
    "Data Science Methods for Vision Science Applications will provide students with an overview of current\n",
    "data science tools and methodology while using datasets from various fields of vision science.\n",
    "\n"
   ]
  },
  {
   "cell_type": "markdown",
   "metadata": {
    "slideshow": {
     "slide_type": "slide"
    }
   },
   "source": [
    "## Why Python?\n",
    "\n",
    "Unlike Matlab, Python is an open-source programming language known for it’s readability and ex-\n",
    "tensive community support. The introduction of numeric and scientific libraries such as the scipy stack\n",
    "(e.g. numpy, pandas, scikit-learn, etc.) have lead to an increased application of python in neuroscience and\n",
    "psychophysics. Additionally, Python is a generalized programming language and can be utilized for diverse\n",
    "research applications (from experimental control to data analysis/visualization); this is an advantage over\n",
    "languages more specific for statistical analysis (e.g. R). Python is used extensively in industry. Therefore,\n",
    "exposure to the language now will be beneficial for students who may be interested in career opportunities\n",
    "outside of academia."
   ]
  },
  {
   "cell_type": "code",
   "execution_count": null,
   "metadata": {},
   "outputs": [],
   "source": []
  },
  {
   "cell_type": "code",
   "execution_count": null,
   "metadata": {},
   "outputs": [],
   "source": []
  },
  {
   "cell_type": "code",
   "execution_count": null,
   "metadata": {},
   "outputs": [],
   "source": []
  },
  {
   "cell_type": "code",
   "execution_count": null,
   "metadata": {},
   "outputs": [],
   "source": []
  },
  {
   "cell_type": "code",
   "execution_count": null,
   "metadata": {},
   "outputs": [],
   "source": []
  }
 ],
 "metadata": {
  "celltoolbar": "Slideshow",
  "kernelspec": {
   "display_name": "Python 3",
   "language": "python",
   "name": "python3"
  },
  "language_info": {
   "codemirror_mode": {
    "name": "ipython",
    "version": 3
   },
   "file_extension": ".py",
   "mimetype": "text/x-python",
   "name": "python",
   "nbconvert_exporter": "python",
   "pygments_lexer": "ipython3",
   "version": "3.7.6"
  }
 },
 "nbformat": 4,
 "nbformat_minor": 4
}
