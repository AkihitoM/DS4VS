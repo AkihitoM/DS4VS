{
 "cells": [
  {
   "cell_type": "code",
   "execution_count": null,
   "metadata": {},
   "outputs": [],
   "source": [
    "[![Open In Colab](https://colab.research.google.com/assets/colab-badge.svg)](https://colab.research.google.com/github/SmilodonCub/DS4VS/blob/master/Week1/DS4VS_week1_pylab.ipynb)"
   ]
  },
  {
   "cell_type": "markdown",
   "metadata": {},
   "source": [
    "# Week 1 PyLab: Python Primitives and Built-in Types\n",
    "\n",
    "<br>"
   ]
  },
  {
   "cell_type": "markdown",
   "metadata": {},
   "source": [
    "## An Introduction to the Jupyter Notebook Environment\n",
    "\n",
    "A Guided Tour:\n",
    "\n",
    "* Drop-down menus above\n",
    "* [Key-board shortcuts](http://maxmelnick.com/2016/04/19/python-beginner-tips-and-tricks.html)\n",
    "* Command vs Edit mode\n",
    "\n",
    "<br>"
   ]
  },
  {
   "cell_type": "code",
   "execution_count": 1,
   "metadata": {
    "scrolled": true
   },
   "outputs": [
    {
     "name": "stdout",
     "output_type": "stream",
     "text": [
      "The Zen of Python, by Tim Peters\n",
      "\n",
      "Beautiful is better than ugly.\n",
      "Explicit is better than implicit.\n",
      "Simple is better than complex.\n",
      "Complex is better than complicated.\n",
      "Flat is better than nested.\n",
      "Sparse is better than dense.\n",
      "Readability counts.\n",
      "Special cases aren't special enough to break the rules.\n",
      "Although practicality beats purity.\n",
      "Errors should never pass silently.\n",
      "Unless explicitly silenced.\n",
      "In the face of ambiguity, refuse the temptation to guess.\n",
      "There should be one-- and preferably only one --obvious way to do it.\n",
      "Although that way may not be obvious at first unless you're Dutch.\n",
      "Now is better than never.\n",
      "Although never is often better than *right* now.\n",
      "If the implementation is hard to explain, it's a bad idea.\n",
      "If the implementation is easy to explain, it may be a good idea.\n",
      "Namespaces are one honking great idea -- let's do more of those!\n"
     ]
    }
   ],
   "source": [
    "import this"
   ]
  },
  {
   "cell_type": "markdown",
   "metadata": {},
   "source": [
    "<br>\n",
    "\n",
    "## Getting started with Python\n",
    "\n",
    "Some Pythonic Properties:  \n",
    "\n",
    "* **whitespace** is important - python uses whitespace the same way that other languages (e.g. C use {})  \n",
    "* **dynamic language** - not forced to declare the types of all variables  \n",
    "* **strongly typed** - the type of an object doesn't change (even if the value does)  \n",
    "* **mutable** - the type of an object determines if the associated data value can change  \n"
   ]
  },
  {
   "cell_type": "markdown",
   "metadata": {},
   "source": [
    "#### Variables \n",
    "\n",
    "names for values/objects in memory that you would like to reference in Python\n",
    "\n",
    "Variable Name Rules:  \n",
    "\n",
    "* names may contain UPPER/lower case letters, digits and the `_` \n",
    "* names cannot begin with a number\n",
    "* names are case sensitive\n",
    "* names cannot be chosen from Pythons reserved words \n",
    "\n",
    "<br>"
   ]
  },
  {
   "cell_type": "code",
   "execution_count": 2,
   "metadata": {},
   "outputs": [
    {
     "name": "stdout",
     "output_type": "stream",
     "text": [
      "['False', 'None', 'True', 'and', 'as', 'assert', 'async', 'await', 'break', 'class', 'continue', 'def', 'del', 'elif', 'else', 'except', 'finally', 'for', 'from', 'global', 'if', 'import', 'in', 'is', 'lambda', 'nonlocal', 'not', 'or', 'pass', 'raise', 'return', 'try', 'while', 'with', 'yield']\n"
     ]
    }
   ],
   "source": [
    "#list Python's keywords\n",
    "import keyword\n",
    "print( keyword.kwlist )"
   ]
  },
  {
   "cell_type": "markdown",
   "metadata": {},
   "source": [
    "<br>\n",
    "\n",
    "Examples of valid variable names:  \n",
    "\n",
    "* `a`\n",
    "* `b1`\n",
    "* `c_2`\n",
    "* `d_e__f3`\n",
    "\n",
    "Invalid variable names:  \n",
    "\n",
    "* `1`\n",
    "* `1b`\n",
    "* `var1!`\n",
    "* `var-2`\n",
    "\n",
    "<br>"
   ]
  },
  {
   "cell_type": "markdown",
   "metadata": {},
   "source": [
    "#### Variable Assignment\n",
    "\n",
    "In Python, use the `=` sign the assign a value to a variable  \n",
    "`=` means assigning the value on the right to the variable to the left  \n",
    "The statement $x = 23$ can be interpreted as assigning 23 to x\n",
    "\n",
    "<br>"
   ]
  },
  {
   "cell_type": "code",
   "execution_count": 3,
   "metadata": {},
   "outputs": [
    {
     "name": "stdout",
     "output_type": "stream",
     "text": [
      "10\n"
     ]
    }
   ],
   "source": [
    "x = 3\n",
    "y = 7\n",
    "z = x + y\n",
    "print( z )"
   ]
  },
  {
   "cell_type": "code",
   "execution_count": 6,
   "metadata": {},
   "outputs": [
    {
     "name": "stdout",
     "output_type": "stream",
     "text": [
      "7\n",
      "0x5594072ae3c0\n",
      "7\n",
      "0x5594072ae3c0\n"
     ]
    }
   ],
   "source": [
    "# variables are just names!\n",
    "a = 7\n",
    "print( a )\n",
    "print( hex( id( a ) ) )\n",
    "\n",
    "b = a\n",
    "print( b )\n",
    "print( hex( id( b ) ) )"
   ]
  },
  {
   "cell_type": "markdown",
   "metadata": {},
   "source": [
    "Think of objects as boxes that hold a value and a type. A variable is just a name that points towards the object\n",
    "\n",
    "#### Primitive Data Types \n",
    "data types which are predefined and supported by the python programming language's base library  \n",
    "\n",
    "Python Primitive Data Types:  \n",
    "\n",
    "1. Integers\n",
    "2. Floats\n",
    "3. Booleans\n",
    "4. Strings\n"
   ]
  },
  {
   "cell_type": "code",
   "execution_count": 8,
   "metadata": {},
   "outputs": [
    {
     "name": "stdout",
     "output_type": "stream",
     "text": [
      "type a: <class 'int'>\n",
      "type b: <class 'int'>\n",
      "type 58: <class 'int'>\n",
      "type 3.3333: <class 'float'>\n",
      "type 'abd': <class 'str'>\n"
     ]
    }
   ],
   "source": [
    "a = 7\n",
    "b = a\n",
    "print( 'type a:', type( a ) )\n",
    "print( 'type b:', type( b ) )\n",
    "print( 'type 58:', type( 58 ) )\n",
    "print( 'type 3.3333:', type( 3.3333 ) )\n",
    "print( \"type 'abd':\", type( 'abc' ) )"
   ]
  },
  {
   "cell_type": "markdown",
   "metadata": {},
   "source": [
    "## Python as a Calculator"
   ]
  },
  {
   "cell_type": "code",
   "execution_count": null,
   "metadata": {},
   "outputs": [],
   "source": []
  },
  {
   "cell_type": "code",
   "execution_count": null,
   "metadata": {},
   "outputs": [],
   "source": []
  },
  {
   "cell_type": "code",
   "execution_count": null,
   "metadata": {},
   "outputs": [],
   "source": []
  },
  {
   "cell_type": "markdown",
   "metadata": {},
   "source": [
    "## Python Non-Primitive Data Types\n",
    "\n",
    "1. Lists\n",
    "2. Arrays\n",
    "3. Tuples\n",
    "4. Sets\n",
    "5. Dictionary\n",
    "6. Files\n",
    "\n",
    "<br>"
   ]
  },
  {
   "cell_type": "code",
   "execution_count": null,
   "metadata": {},
   "outputs": [],
   "source": []
  },
  {
   "cell_type": "code",
   "execution_count": null,
   "metadata": {},
   "outputs": [],
   "source": []
  },
  {
   "cell_type": "code",
   "execution_count": null,
   "metadata": {},
   "outputs": [],
   "source": []
  },
  {
   "cell_type": "code",
   "execution_count": null,
   "metadata": {},
   "outputs": [],
   "source": []
  },
  {
   "cell_type": "code",
   "execution_count": null,
   "metadata": {},
   "outputs": [],
   "source": []
  },
  {
   "cell_type": "code",
   "execution_count": null,
   "metadata": {},
   "outputs": [],
   "source": []
  },
  {
   "cell_type": "code",
   "execution_count": null,
   "metadata": {},
   "outputs": [],
   "source": []
  },
  {
   "cell_type": "code",
   "execution_count": null,
   "metadata": {},
   "outputs": [],
   "source": []
  }
 ],
 "metadata": {
  "kernelspec": {
   "display_name": "Python 3",
   "language": "python",
   "name": "python3"
  },
  "language_info": {
   "codemirror_mode": {
    "name": "ipython",
    "version": 3
   },
   "file_extension": ".py",
   "mimetype": "text/x-python",
   "name": "python",
   "nbconvert_exporter": "python",
   "pygments_lexer": "ipython3",
   "version": "3.7.6"
  }
 },
 "nbformat": 4,
 "nbformat_minor": 4
}
