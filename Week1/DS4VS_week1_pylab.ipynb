{
 "cells": [
  {
   "cell_type": "markdown",
   "metadata": {},
   "source": [
    "[![Open In Colab](https://colab.research.google.com/assets/colab-badge.svg)](https://colab.research.google.com/github/SmilodonCub/DS4VS/blob/master/Week1/DS4VS_week1_pylab.ipynb)"
   ]
  },
  {
   "cell_type": "markdown",
   "metadata": {},
   "source": [
    "# Week 1 PyLab: Python Primitives and Built-in Types\n",
    "\n",
    "<br>"
   ]
  },
  {
   "cell_type": "markdown",
   "metadata": {},
   "source": [
    "## An Introduction to the Jupyter Notebook Environment\n",
    "\n",
    "A Guided Tour:\n",
    "\n",
    "* Drop-down menus above\n",
    "* [Key-board shortcuts](http://maxmelnick.com/2016/04/19/python-beginner-tips-and-tricks.html)\n",
    "* Command vs Edit mode\n",
    "\n",
    "<br>"
   ]
  },
  {
   "cell_type": "code",
   "execution_count": null,
   "metadata": {
    "scrolled": true
   },
   "outputs": [],
   "source": [
    "import this"
   ]
  },
  {
   "cell_type": "markdown",
   "metadata": {},
   "source": [
    "<br>\n",
    "\n",
    "## Getting started with Python\n",
    "\n",
    "Some Pythonic Properties:  \n",
    "\n",
    "* **whitespace** is important - python uses whitespace the same way that other languages (e.g. C use {})  \n",
    "* **dynamic language** - not forced to declare the types of all variables  \n",
    "* **strongly typed** - the type of an object doesn't change (even if the value does)  \n",
    "* **mutable** - the type of an object determines if the associated data value can change  \n"
   ]
  },
  {
   "cell_type": "markdown",
   "metadata": {},
   "source": [
    "#### Variables \n",
    "\n",
    "names for values/objects in memory that you would like to reference in Python\n",
    "\n",
    "Variable Name Rules:  \n",
    "\n",
    "* names may contain UPPER/lower case letters, digits and the `_` \n",
    "* names cannot begin with a number\n",
    "* names are case sensitive\n",
    "* names cannot be chosen from Pythons reserved words \n",
    "\n",
    "<br>"
   ]
  },
  {
   "cell_type": "code",
   "execution_count": null,
   "metadata": {},
   "outputs": [],
   "source": [
    "#list Python's keywords\n",
    "import keyword\n",
    "print( keyword.kwlist )"
   ]
  },
  {
   "cell_type": "markdown",
   "metadata": {},
   "source": [
    "<br>\n",
    "\n",
    "Examples of valid variable names:  \n",
    "\n",
    "* `a`\n",
    "* `b1`\n",
    "* `c_2`\n",
    "* `d_e__f3`\n",
    "\n",
    "Invalid variable names:  \n",
    "\n",
    "* `1`\n",
    "* `1b`\n",
    "* `var1!`\n",
    "* `var-2`\n",
    "\n",
    "<br>"
   ]
  },
  {
   "cell_type": "markdown",
   "metadata": {},
   "source": [
    "#### Variable Assignment\n",
    "\n",
    "In Python, use the `=` sign the assign a value to a variable  \n",
    "`=` means assigning the value on the right to the variable to the left  \n",
    "The statement $x = 23$ can be interpreted as assigning 23 to x\n",
    "\n",
    "<br>"
   ]
  },
  {
   "cell_type": "code",
   "execution_count": null,
   "metadata": {},
   "outputs": [],
   "source": [
    "x = 3\n",
    "y = 7\n",
    "z = x + y\n",
    "print( z )"
   ]
  },
  {
   "cell_type": "code",
   "execution_count": null,
   "metadata": {},
   "outputs": [],
   "source": [
    "# variables are just names!\n",
    "a = 7\n",
    "print( a )\n",
    "print( hex( id( a ) ) )\n",
    "\n",
    "b = a\n",
    "print( b )\n",
    "print( hex( id( b ) ) )"
   ]
  },
  {
   "cell_type": "code",
   "execution_count": 10,
   "metadata": {},
   "outputs": [
    {
     "name": "stdout",
     "output_type": "stream",
     "text": [
      "2 2 2\n",
      "2 3 2\n"
     ]
    }
   ],
   "source": [
    "two = deux = zwei = 2\n",
    "print( two, deux, zwei )\n",
    "deux = 3\n",
    "print( two, deux, zwei )"
   ]
  },
  {
   "cell_type": "markdown",
   "metadata": {},
   "source": [
    "Think of objects as boxes that hold a value and a type. A variable is just a name that points towards the object\n",
    "\n",
    "#### Primitive Data Types \n",
    "data types which are predefined and supported by the python programming language's base library  \n",
    "\n",
    "Python Primitive Data Types:  \n",
    "\n",
    "1. Integers\n",
    "2. Floats\n",
    "3. Booleans\n",
    "4. Strings\n"
   ]
  },
  {
   "cell_type": "code",
   "execution_count": 11,
   "metadata": {},
   "outputs": [
    {
     "name": "stdout",
     "output_type": "stream",
     "text": [
      "type a: <class 'int'>\n",
      "type b: <class 'int'>\n",
      "type 58: <class 'int'>\n",
      "type 3.3333: <class 'float'>\n",
      "type 'abd': <class 'str'>\n"
     ]
    }
   ],
   "source": [
    "a = 7\n",
    "b = a\n",
    "print( 'type a:', type( a ) )\n",
    "print( 'type b:', type( b ) )\n",
    "print( 'type 58:', type( 58 ) )\n",
    "print( 'type 3.3333:', type( 3.3333 ) )\n",
    "print( \"type 'abd':\", type( 'abc' ) )"
   ]
  },
  {
   "cell_type": "markdown",
   "metadata": {},
   "source": [
    "<br>\n",
    "\n",
    "### Booleans \n",
    "\n",
    "**boolean data types** - only take a `True` or `False` value  \n",
    "declare a bool with the `bool()` function"
   ]
  },
  {
   "cell_type": "code",
   "execution_count": 12,
   "metadata": {},
   "outputs": [
    {
     "name": "stdout",
     "output_type": "stream",
     "text": [
      "True\n",
      "True\n",
      "True\n",
      "True\n"
     ]
    }
   ],
   "source": [
    "# True bools\n",
    "print( bool( True ) )\n",
    "print( bool( 1 ) )\n",
    "print( bool( 23 ) )\n",
    "print( bool( -1 ) )"
   ]
  },
  {
   "cell_type": "code",
   "execution_count": 13,
   "metadata": {},
   "outputs": [
    {
     "name": "stdout",
     "output_type": "stream",
     "text": [
      "False\n",
      "False\n",
      "False\n"
     ]
    }
   ],
   "source": [
    "# False bools\n",
    "print( bool( False ) )\n",
    "print( bool( 0 ) )\n",
    "print( bool( 0.0 ) )"
   ]
  },
  {
   "cell_type": "markdown",
   "metadata": {},
   "source": [
    "<br>\n",
    "\n",
    "### Integers\n",
    "\n",
    "**Intergers** - are whole numbers\n",
    "\n",
    "Integer Operations\n",
    "\n",
    "| **Operator** |        **Description**        | **Example** | **Result** |\n",
    "|:------------:|:-----------------------------:|-------------|------------|\n",
    "|       +      |            Addition           |    5 + 8    |     13     |\n",
    "|       -      |          Subtraction          |    90-10    |     80     |\n",
    "|       *      |         Multiplication        |    4 * 7    |     28     |\n",
    "|       /      |    Floating-point division    |    7 / 2    |     3.5    |\n",
    "|      //      | Integer (truncating) division |    7 // 2   |      3     |\n",
    "|       %      |      Modulus (remainder)      |    7 % 2    |      1     |\n",
    "|      **      |         Exponentiation        |    3 ** 4   |     81     |\n",
    "\n",
    "\n",
    "Order of Operations: PEMDAS  \n",
    "\n",
    "1. **P** - Parentheses \n",
    "2. **E** - Exponents\n",
    "3. **M** - Multiplication\n",
    "4. **D** - Division\n",
    "5. **A** - Addition\n",
    "6. **S** - Subtraction"
   ]
  },
  {
   "cell_type": "code",
   "execution_count": 14,
   "metadata": {},
   "outputs": [
    {
     "data": {
      "text/plain": [
       "5.0"
      ]
     },
     "execution_count": 14,
     "metadata": {},
     "output_type": "execute_result"
    }
   ],
   "source": [
    "# Literal Integers\n",
    "( 23 + 2 ) ** (1/2)"
   ]
  },
  {
   "cell_type": "code",
   "execution_count": 15,
   "metadata": {},
   "outputs": [
    {
     "data": {
      "text/plain": [
       "1.8"
      ]
     },
     "execution_count": 15,
     "metadata": {},
     "output_type": "execute_result"
    }
   ],
   "source": [
    "9 / 5"
   ]
  },
  {
   "cell_type": "code",
   "execution_count": 16,
   "metadata": {},
   "outputs": [
    {
     "data": {
      "text/plain": [
       "1"
      ]
     },
     "execution_count": 16,
     "metadata": {},
     "output_type": "execute_result"
    }
   ],
   "source": [
    "9 // 5"
   ]
  },
  {
   "cell_type": "code",
   "execution_count": 17,
   "metadata": {},
   "outputs": [
    {
     "data": {
      "text/plain": [
       "4"
      ]
     },
     "execution_count": 17,
     "metadata": {},
     "output_type": "execute_result"
    }
   ],
   "source": [
    "9 % 5"
   ]
  },
  {
   "cell_type": "code",
   "execution_count": 18,
   "metadata": {},
   "outputs": [
    {
     "data": {
      "text/plain": [
       "28"
      ]
     },
     "execution_count": 18,
     "metadata": {},
     "output_type": "execute_result"
    }
   ],
   "source": [
    "4+5   +9   +   10"
   ]
  },
  {
   "cell_type": "code",
   "execution_count": 19,
   "metadata": {},
   "outputs": [
    {
     "ename": "ZeroDivisionError",
     "evalue": "division by zero",
     "output_type": "error",
     "traceback": [
      "\u001b[0;31m---------------------------------------------------------------------------\u001b[0m",
      "\u001b[0;31mZeroDivisionError\u001b[0m                         Traceback (most recent call last)",
      "\u001b[0;32m<ipython-input-19-cb7aab57c3ef>\u001b[0m in \u001b[0;36m<module>\u001b[0;34m\u001b[0m\n\u001b[0;32m----> 1\u001b[0;31m \u001b[0;36m9\u001b[0m \u001b[0;34m/\u001b[0m \u001b[0;36m0\u001b[0m\u001b[0;34m\u001b[0m\u001b[0;34m\u001b[0m\u001b[0m\n\u001b[0m",
      "\u001b[0;31mZeroDivisionError\u001b[0m: division by zero"
     ]
    }
   ],
   "source": [
    "9 / 0"
   ]
  },
  {
   "cell_type": "code",
   "execution_count": 20,
   "metadata": {},
   "outputs": [
    {
     "ename": "ZeroDivisionError",
     "evalue": "division by zero",
     "output_type": "error",
     "traceback": [
      "\u001b[0;31m---------------------------------------------------------------------------\u001b[0m",
      "\u001b[0;31mZeroDivisionError\u001b[0m                         Traceback (most recent call last)",
      "\u001b[0;32m<ipython-input-20-3d091f453728>\u001b[0m in \u001b[0;36m<module>\u001b[0;34m\u001b[0m\n\u001b[1;32m      1\u001b[0m \u001b[0;31m# Intergers as Variables\u001b[0m\u001b[0;34m\u001b[0m\u001b[0;34m\u001b[0m\u001b[0;34m\u001b[0m\u001b[0m\n\u001b[1;32m      2\u001b[0m \u001b[0mx\u001b[0m \u001b[0;34m=\u001b[0m \u001b[0;36m4\u001b[0m\u001b[0;34m\u001b[0m\u001b[0;34m\u001b[0m\u001b[0m\n\u001b[0;32m----> 3\u001b[0;31m \u001b[0;36m9\u001b[0m \u001b[0;34m/\u001b[0m \u001b[0;34m(\u001b[0m \u001b[0;36m4\u001b[0m\u001b[0;34m-\u001b[0m\u001b[0mx\u001b[0m \u001b[0;34m)\u001b[0m\u001b[0;34m\u001b[0m\u001b[0;34m\u001b[0m\u001b[0m\n\u001b[0m",
      "\u001b[0;31mZeroDivisionError\u001b[0m: division by zero"
     ]
    }
   ],
   "source": [
    "# Intergers as Variables \n",
    "x = 4\n",
    "9 / ( 4-x )"
   ]
  },
  {
   "cell_type": "code",
   "execution_count": 37,
   "metadata": {},
   "outputs": [
    {
     "ename": "IndentationError",
     "evalue": "unexpected indent (<ipython-input-37-48af49de61d0>, line 2)",
     "output_type": "error",
     "traceback": [
      "\u001b[0;36m  File \u001b[0;32m\"<ipython-input-37-48af49de61d0>\"\u001b[0;36m, line \u001b[0;32m2\u001b[0m\n\u001b[0;31m    print( a )\u001b[0m\n\u001b[0m    ^\u001b[0m\n\u001b[0;31mIndentationError\u001b[0m\u001b[0;31m:\u001b[0m unexpected indent\n"
     ]
    }
   ],
   "source": [
    "a = 100\n",
    "print( a )\n",
    "a -= 10\n",
    "print( a )"
   ]
  },
  {
   "cell_type": "code",
   "execution_count": 22,
   "metadata": {},
   "outputs": [
    {
     "name": "stdout",
     "output_type": "stream",
     "text": [
      "100\n"
     ]
    }
   ],
   "source": [
    "a += 10\n",
    "print( a )"
   ]
  },
  {
   "cell_type": "code",
   "execution_count": 23,
   "metadata": {},
   "outputs": [
    {
     "name": "stdout",
     "output_type": "stream",
     "text": [
      "110\n"
     ]
    }
   ],
   "source": [
    "b = 10\n",
    "a = a + b\n",
    "print( a )"
   ]
  },
  {
   "cell_type": "code",
   "execution_count": 24,
   "metadata": {},
   "outputs": [
    {
     "name": "stdout",
     "output_type": "stream",
     "text": [
      "220\n"
     ]
    }
   ],
   "source": [
    "a *= 2\n",
    "print( a )"
   ]
  },
  {
   "cell_type": "code",
   "execution_count": 25,
   "metadata": {},
   "outputs": [
    {
     "name": "stdout",
     "output_type": "stream",
     "text": [
      "73.33333333333333\n"
     ]
    }
   ],
   "source": [
    "a /= 3\n",
    "print( a )"
   ]
  },
  {
   "cell_type": "code",
   "execution_count": 26,
   "metadata": {},
   "outputs": [
    {
     "name": "stdout",
     "output_type": "stream",
     "text": [
      "36.0\n"
     ]
    }
   ],
   "source": [
    "a //= 2\n",
    "print( a )"
   ]
  },
  {
   "cell_type": "code",
   "execution_count": 27,
   "metadata": {},
   "outputs": [
    {
     "data": {
      "text/plain": [
       "(33, 1)"
      ]
     },
     "execution_count": 27,
     "metadata": {},
     "output_type": "execute_result"
    }
   ],
   "source": [
    "# use the function divmod to return both the truncated division and the modulus\n",
    "b = 100\n",
    "divmod( b,3 )"
   ]
  },
  {
   "cell_type": "markdown",
   "metadata": {},
   "source": [
    "<br>\n",
    "\n",
    "### Floats\n",
    "\n",
    "**floats** - numbers with a decimal point"
   ]
  },
  {
   "cell_type": "code",
   "execution_count": 29,
   "metadata": {},
   "outputs": [
    {
     "name": "stdout",
     "output_type": "stream",
     "text": [
      "5.0 5.0 5.0 5.0\n"
     ]
    }
   ],
   "source": [
    "a = 5.\n",
    "b = 5.0\n",
    "c = 05.0\n",
    "d = 5e0\n",
    "\n",
    "print( a,b,c,d )"
   ]
  },
  {
   "cell_type": "markdown",
   "metadata": {},
   "source": [
    "when statements/expression mix floats and ints, Python promotes the result to a float"
   ]
  },
  {
   "cell_type": "code",
   "execution_count": 30,
   "metadata": {},
   "outputs": [
    {
     "name": "stdout",
     "output_type": "stream",
     "text": [
      "3125.0\n"
     ]
    }
   ],
   "source": [
    "a = 5.\n",
    "b = 5\n",
    "c = a ** b \n",
    "print( c )"
   ]
  },
  {
   "cell_type": "markdown",
   "metadata": {},
   "source": [
    "<br>\n",
    "\n",
    "### Stings\n",
    "\n",
    "**strings** - a sequence of characters.  \n",
    "Strings are immutable in Python - you cannot change a string, but you can copy parts and join with other strings to achieve the same result"
   ]
  },
  {
   "cell_type": "code",
   "execution_count": 31,
   "metadata": {},
   "outputs": [
    {
     "name": "stdout",
     "output_type": "stream",
     "text": [
      "Snap Crackle \n",
      "Pop!\n",
      "Pop!\n",
      "Pop!\n",
      "\n"
     ]
    }
   ],
   "source": [
    "a = 'Snap'\n",
    "b = \"Crackle\"\n",
    "c = \"\"\"\n",
    "Pop!\n",
    "Pop!\n",
    "Pop!\n",
    "\"\"\"\n",
    "print( a,b,c )"
   ]
  },
  {
   "cell_type": "code",
   "execution_count": 33,
   "metadata": {},
   "outputs": [
    {
     "name": "stdout",
     "output_type": "stream",
     "text": [
      "I'd like to go home\n",
      "I said, \"I'd like to go home!\"\n"
     ]
    }
   ],
   "source": [
    "a = \"I'd like to go home\"\n",
    "b = 'I said, \"I\\'d like to go home!\"'\n",
    "print( a )\n",
    "print( b )"
   ]
  },
  {
   "cell_type": "code",
   "execution_count": 36,
   "metadata": {},
   "outputs": [
    {
     "name": "stdout",
     "output_type": "stream",
     "text": [
      "a fun time together\n",
      "a fun fun fun time together\n"
     ]
    }
   ],
   "source": [
    "# Math operations with strings ... ?\n",
    "a = 'a '\n",
    "b = 'fun ' \n",
    "\n",
    "# combine using +\n",
    "c = 'time ' + 'together'\n",
    "print( a + b + c )\n",
    "\n",
    "# duplicate with *\n",
    "print( a + b*3 + c )"
   ]
  },
  {
   "cell_type": "code",
   "execution_count": 38,
   "metadata": {},
   "outputs": [
    {
     "data": {
      "text/plain": [
       "'0'"
      ]
     },
     "execution_count": 38,
     "metadata": {},
     "output_type": "execute_result"
    }
   ],
   "source": [
    "# Access an element of a string\n",
    "numstring = '0123456'\n",
    "\n",
    "#access the first character by using the offset\n",
    "numstring[0]"
   ]
  },
  {
   "cell_type": "code",
   "execution_count": 39,
   "metadata": {},
   "outputs": [
    {
     "data": {
      "text/plain": [
       "'5'"
      ]
     },
     "execution_count": 39,
     "metadata": {},
     "output_type": "execute_result"
    }
   ],
   "source": [
    "idx = 5\n",
    "numstring[ idx ]"
   ]
  },
  {
   "cell_type": "code",
   "execution_count": 44,
   "metadata": {},
   "outputs": [
    {
     "name": "stdout",
     "output_type": "stream",
     "text": [
      "26\n",
      "abcdefghijklmnopqrstuvwxyz\n",
      "abcde\n",
      "uvwxyz\n",
      "fghijklmnopqrst\n"
     ]
    }
   ],
   "source": [
    "# Slicing a string\n",
    "letters = 'abcdefghijklmnopqrstuvwxyz'\n",
    "\n",
    "print( len( letters ) )\n",
    "\n",
    "# select everything\n",
    "print( letters[:] )\n",
    "\n",
    "# slice everything before an offset\n",
    "print( letters[:5] )\n",
    "\n",
    "# slice everything after an offset\n",
    "print( letters[20:] )\n",
    "\n",
    "# slice with an inclusive start and an exclusive stop\n",
    "print( letters[5:20] )"
   ]
  },
  {
   "cell_type": "code",
   "execution_count": 48,
   "metadata": {},
   "outputs": [
    {
     "name": "stdout",
     "output_type": "stream",
     "text": [
      "acegikmoqsuwy\n",
      "egikmoqs\n",
      "vwxyz\n",
      "zyxwvutsrqponmlkjihgfedcba\n"
     ]
    }
   ],
   "source": [
    "# you can get fancy with slicing\n",
    "\n",
    "#slice every other letter\n",
    "print( letters[ ::2] )\n",
    "\n",
    "#print every other letter within a slice\n",
    "print( letters[4:20:2] )\n",
    "\n",
    "#slice by referencing a negative offset\n",
    "print( letters[ -5: ]) \n",
    "\n",
    "#slice in reverse order\n",
    "print( letters[ ::-1 ] )"
   ]
  },
  {
   "cell_type": "markdown",
   "metadata": {},
   "source": [
    "<br>\n",
    "\n",
    "#### String Methods\n",
    "\n",
    "strings are sequences of elements. they have more complex behavior than the primitive numeric types and bools. There are many helpful methods, or built in functionality that Python has implemented to help work with strings\n",
    "\n",
    "A user friendly list of string methods can be found at [w3schools.com](https://www.w3schools.com/python/python_ref_string.asp)  \n",
    "Python, of course, provides a detailed [documentation of string methods](https://docs.python.org/3/library/stdtypes.html#text-sequence-type-str)  \n",
    "\n",
    "<br>"
   ]
  },
  {
   "cell_type": "code",
   "execution_count": 49,
   "metadata": {},
   "outputs": [
    {
     "data": {
      "text/plain": [
       "['I would like a sundae with scoops of chocolate',\n",
       " ' vanilla',\n",
       " ' and strawberry topped with sprinkles',\n",
       " ' choclate syrup and a cherry on top']"
      ]
     },
     "execution_count": 49,
     "metadata": {},
     "output_type": "execute_result"
    }
   ],
   "source": [
    "# Splitting with split()\n",
    "\n",
    "sent = 'I would like a sundae with scoops of chocolate, vanilla, and strawberry topped with sprinkles, choclate syrup and a cherry on top'\n",
    "sent.split(',')"
   ]
  },
  {
   "cell_type": "code",
   "execution_count": 51,
   "metadata": {},
   "outputs": [
    {
     "data": {
      "text/plain": [
       "'Python, jupyter, Git, command line, Anaconda, Slack'"
      ]
     },
     "execution_count": 51,
     "metadata": {},
     "output_type": "execute_result"
    }
   ],
   "source": [
    "# Combine strings with join()\n",
    "\n",
    "tools = ['Python', 'jupyter', 'Git', 'command line', 'Anaconda', 'Slack']\n",
    "tools_string = ', '.join( tools )\n",
    "tools_string"
   ]
  },
  {
   "cell_type": "code",
   "execution_count": 56,
   "metadata": {},
   "outputs": [
    {
     "name": "stdout",
     "output_type": "stream",
     "text": [
      "a guy walks into a bar\n",
      "a graduate student walks into a bar\n",
      "a fabulous graduate student walks into a fabulous bar\n"
     ]
    }
   ],
   "source": [
    "# Replace parts of a string with replace()\n",
    "\n",
    "joke = 'a guy walks into a bar'\n",
    "print( joke )\n",
    "joke = joke.replace( 'guy', 'graduate student' )\n",
    "print( joke )\n",
    "joke = joke.replace( 'a ', 'a fabulous ', 100 )\n",
    "print( joke )"
   ]
  },
  {
   "cell_type": "code",
   "execution_count": 62,
   "metadata": {},
   "outputs": [
    {
     "name": "stdout",
     "output_type": "stream",
     "text": [
      "True\n",
      "False\n",
      "382\n",
      "8\n"
     ]
    }
   ],
   "source": [
    "# Searching Strings\n",
    "\n",
    "poem = \"\"\"The outlook wasn't brilliant for the Mudville nine that day:\n",
    "The score stood four to two, with but one inning more to play,\n",
    "And then when Cooney died at first, and Barrows did the same,\n",
    "A pall-like silence fell upon the patrons of the game.\n",
    "\n",
    "A straggling few got up to go in deep despair. The rest\n",
    "Clung to the hope which springs eternal in the human breast;\n",
    "They thought, 'If only Casey could but get a whack at that—\n",
    "We'd put up even money now, with Casey at the bat.''\n",
    "\"\"\"\n",
    "\n",
    "print( poem.startswith( 'The outlook' ) )\n",
    "print( poem.endswith( 'The end' ) )\n",
    "\n",
    "# find the offseet of the first occurance of a substring\n",
    "print( poem.find( 'Casey' ) )\n",
    "\n",
    "# count occurances of a substring\n",
    "print( poem.count( 'the' ) )"
   ]
  },
  {
   "cell_type": "code",
   "execution_count": 63,
   "metadata": {},
   "outputs": [
    {
     "name": "stdout",
     "output_type": "stream",
     "text": [
      "a fabulous graduate student walks into a fabulous bar\n",
      "A fabulous graduate student walks into a fabulous bar\n",
      "A Fabulous Graduate Student Walks Into A Fabulous Bar\n",
      "A FABULOUS GRADUATE STUDENT WALKS INTO A FABULOUS BAR\n",
      "a fabulous graduate student walks into a fabulous bar\n"
     ]
    }
   ],
   "source": [
    "# manipulating case\n",
    "\n",
    "print( joke )\n",
    "\n",
    "# capitalize\n",
    "print( joke.capitalize() )\n",
    "\n",
    "# Title Case\n",
    "print( joke.title() )\n",
    "\n",
    "# UPPER CASE\n",
    "print( joke.upper() )\n",
    "\n",
    "print( joke )"
   ]
  },
  {
   "cell_type": "code",
   "execution_count": 66,
   "metadata": {},
   "outputs": [
    {
     "name": "stdout",
     "output_type": "stream",
     "text": [
      "The dog ate my homework!!!\n",
      "The dogs ate my homework!!!\n",
      "The racoon ate my homework!!!\n",
      "The duck ate my homework!!!\n",
      "The bear ate my homework!!!\n",
      "The shark ate my homework!!!\n",
      "The dog ate my lunch!!!\n",
      "The dogs ate my lunch!!!\n",
      "The racoon ate my lunch!!!\n",
      "The duck ate my lunch!!!\n",
      "The bear ate my lunch!!!\n",
      "The shark ate my lunch!!!\n"
     ]
    }
   ],
   "source": [
    "# Formatting: {} and format()\n",
    "\n",
    "excuses = [ 'dog', 'dogs', 'racoon', 'duck', 'bear', 'shark' ]\n",
    "objects = [ 'homework', 'lunch' ]\n",
    "\n",
    "for anobject in objects:\n",
    "    for excuse in excuses:\n",
    "        print( 'The {} ate my {}!!!'.format( excuse, anobject ) )"
   ]
  },
  {
   "cell_type": "code",
   "execution_count": 68,
   "metadata": {},
   "outputs": [
    {
     "data": {
      "text/plain": [
       "'Bonnie Cooper is teaching a new course, \"Data Science Tools For Vision Science Applications\"'"
      ]
     },
     "execution_count": 68,
     "metadata": {},
     "output_type": "execute_result"
    }
   ],
   "source": [
    "# formatting strings with f-strings\n",
    "\n",
    "teacher = 'bonnie cooper'\n",
    "theclass = 'DATA SCIENCE TOOLS FOR VISION SCIENCE APPLICATIONS'\n",
    "\n",
    "f'{teacher.title()} is teaching a new course, \"{theclass.title()}\"'"
   ]
  },
  {
   "cell_type": "markdown",
   "metadata": {},
   "source": [
    "<br>\n",
    "\n",
    "### Type Casting"
   ]
  },
  {
   "cell_type": "code",
   "execution_count": 72,
   "metadata": {},
   "outputs": [
    {
     "name": "stdout",
     "output_type": "stream",
     "text": [
      "5\n",
      "3.3333\n",
      "23\n",
      "True\n"
     ]
    }
   ],
   "source": [
    "# casting other types as strings\n",
    "print( str( 5 ) )\n",
    "print( str( 3.3333 ) )\n",
    "\n",
    "x = 23\n",
    "print( str( x ) )\n",
    "\n",
    "abool = True\n",
    "print( str( abool ) )"
   ]
  },
  {
   "cell_type": "code",
   "execution_count": 73,
   "metadata": {},
   "outputs": [],
   "source": [
    "# casting strings as other types\n",
    "string1 = '5'\n",
    "string2 = '5.67'\n",
    "string3 = 'True'\n",
    "string4 = 'five'\n",
    "string5 = '6 '\n",
    "\n"
   ]
  }
 ],
 "metadata": {
  "kernelspec": {
   "display_name": "Python 3",
   "language": "python",
   "name": "python3"
  },
  "language_info": {
   "codemirror_mode": {
    "name": "ipython",
    "version": 3
   },
   "file_extension": ".py",
   "mimetype": "text/x-python",
   "name": "python",
   "nbconvert_exporter": "python",
   "pygments_lexer": "ipython3",
   "version": "3.7.6"
  }
 },
 "nbformat": 4,
 "nbformat_minor": 4
}
