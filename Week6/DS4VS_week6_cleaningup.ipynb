{
 "cells": [
  {
   "cell_type": "markdown",
   "metadata": {},
   "source": [
    "[![Open In Colab](https://colab.research.google.com/assets/colab-badge.svg)](https://colab.research.google.com/github/SmilodonCub/DS4VS/blob/master/Week6/DS4VS_week6_cleaningup.ipynb)"
   ]
  },
  {
   "cell_type": "markdown",
   "metadata": {
    "slideshow": {
     "slide_type": "slide"
    }
   },
   "source": [
    "# Week 6: Cleaning Up\n",
    "\n",
    "more data wrangling & evaluating missingness\n",
    "\n",
    "<img src=\"https://encrypted-tbn0.gstatic.com/images?q=tbn:ANd9GcQMkTZ7gZ1I-XuSUQGdDTaBnSYCrr44R-OOHQwfR_7X6ivRmy5Gb5HV5hF74LZyqUAhJ-I&usqp=CAU\" width=\"30%\" style=\"margin-left:auto; margin-right:auto\">\n"
   ]
  },
  {
   "cell_type": "markdown",
   "metadata": {
    "slideshow": {
     "slide_type": "slide"
    }
   },
   "source": [
    "### Exploring Diabetes Data\n",
    "\n",
    "* applying functions to DataFrame columns\n",
    "* transforming data in certain DataFrame rows\n",
    "* visualizing data missingness"
   ]
  },
  {
   "cell_type": "code",
   "execution_count": null,
   "metadata": {},
   "outputs": [],
   "source": [
    "import pandas as pd\n",
    "import numpy as np\n",
    "import matplotlib.pyplot as plt"
   ]
  },
  {
   "cell_type": "markdown",
   "metadata": {
    "slideshow": {
     "slide_type": "slide"
    }
   },
   "source": [
    "## Recoding Values\n",
    "\n",
    "applying functions to change DataFrame columns  \n",
    "\n",
    "Our first dataset:"
   ]
  },
  {
   "cell_type": "code",
   "execution_count": null,
   "metadata": {},
   "outputs": [],
   "source": [
    "path = 'https://raw.githubusercontent.com/SmilodonCub/DS4VS/master/datasets/diabetes_data_upload.csv'\n",
    "diabetes_earlystage = pd.read_csv( path )\n",
    "diabetes_earlystage.head()"
   ]
  },
  {
   "cell_type": "code",
   "execution_count": null,
   "metadata": {
    "slideshow": {
     "slide_type": "subslide"
    }
   },
   "outputs": [],
   "source": [
    "print( diabetes_earlystage.info() )"
   ]
  },
  {
   "cell_type": "code",
   "execution_count": null,
   "metadata": {
    "slideshow": {
     "slide_type": "subslide"
    }
   },
   "outputs": [],
   "source": [
    "print( diabetes_earlystage.describe() )\n",
    "#print( diabetes_earlystage.describe( include='object') )"
   ]
  },
  {
   "cell_type": "markdown",
   "metadata": {
    "slideshow": {
     "slide_type": "subslide"
    }
   },
   "source": [
    "### Apply a function to recode yes/no column data\n",
    "\n",
    "**Method 1**: create our own function"
   ]
  },
  {
   "cell_type": "code",
   "execution_count": null,
   "metadata": {},
   "outputs": [],
   "source": [
    "def recode_YesNo( value ):\n",
    "    if value == 'Yes':\n",
    "        return 1\n",
    "    else:\n",
    "        return 0"
   ]
  },
  {
   "cell_type": "code",
   "execution_count": null,
   "metadata": {
    "slideshow": {
     "slide_type": "fragment"
    }
   },
   "outputs": [],
   "source": [
    "# use the .apply() method to apply recode_YesNo\n",
    "diabetes_earlystage[ 'Polyuria' ] = diabetes_earlystage[ 'Polyuria' ].apply( recode_YesNo )\n",
    "diabetes_earlystage.head()"
   ]
  },
  {
   "cell_type": "markdown",
   "metadata": {
    "slideshow": {
     "slide_type": "slide"
    }
   },
   "source": [
    "**Method 2**: a lambda function (slightly more 'Pythonic' 🕶️ )"
   ]
  },
  {
   "cell_type": "code",
   "execution_count": null,
   "metadata": {},
   "outputs": [],
   "source": [
    "# lambda function\n",
    "diabetes_earlystage[ 'Polydipsia' ] = diabetes_earlystage[ 'Polydipsia' ].apply( lambda x : 1 if x == 'Yes' else 0 )\n",
    "diabetes_earlystage.head()"
   ]
  },
  {
   "cell_type": "markdown",
   "metadata": {
    "slideshow": {
     "slide_type": "slide"
    }
   },
   "source": [
    "**Mehtod 3**: lists with the .replace() method"
   ]
  },
  {
   "cell_type": "code",
   "execution_count": null,
   "metadata": {},
   "outputs": [],
   "source": [
    "columnsleft2decode = ['Gender', 'sudden weight loss',\n",
    "       'weakness', 'Polyphagia', 'Genital thrush', 'visual blurring',\n",
    "       'Itching', 'Irritability', 'delayed healing', 'partial paresis',\n",
    "       'muscle stiffness', 'Alopecia', 'Obesity', 'class']\n",
    "\n",
    "value = [ 1, 0, 1, 0, 1, 0 ]\n",
    "stringval = [ 'Yes', 'No', 'Male', 'Female', 'Positive', 'Negative' ]\n",
    "\n",
    "for column in columnsleft2decode:\n",
    "    diabetes_earlystage[ column ] = diabetes_earlystage[ column ].replace( stringval, value )\n",
    "    \n",
    "diabetes_earlystage.head()"
   ]
  },
  {
   "cell_type": "markdown",
   "metadata": {
    "slideshow": {
     "slide_type": "slide"
    }
   },
   "source": [
    "## Recoding Values\n",
    "\n",
    "changing certtain values in columns"
   ]
  },
  {
   "cell_type": "code",
   "execution_count": null,
   "metadata": {},
   "outputs": [],
   "source": [
    "path = 'https://raw.githubusercontent.com/SmilodonCub/DS4VS/master/datasets/diabetes.csv'\n",
    "diabetes_pima = pd.read_csv( path )\n",
    "diabetes_pima.head()"
   ]
  },
  {
   "cell_type": "code",
   "execution_count": null,
   "metadata": {
    "slideshow": {
     "slide_type": "subslide"
    }
   },
   "outputs": [],
   "source": [
    "diabetes_pima.info()"
   ]
  },
  {
   "cell_type": "code",
   "execution_count": null,
   "metadata": {
    "slideshow": {
     "slide_type": "subslide"
    }
   },
   "outputs": [],
   "source": [
    "diabetes_pima.describe()"
   ]
  },
  {
   "cell_type": "markdown",
   "metadata": {
    "slideshow": {
     "slide_type": "subslide"
    }
   },
   "source": [
    "### Problematic Data Encoding\n",
    "\n",
    "We see that for many columns, the minimum value == 0  \n",
    "For some features (`Pregnancies`) this is an anticipated value.  \n",
    "However, can a patient have a `SkinThickness` == 0?"
   ]
  },
  {
   "cell_type": "markdown",
   "metadata": {
    "slideshow": {
     "slide_type": "subslide"
    }
   },
   "source": [
    "### The Solution\n",
    "\n",
    "Here we will use the .replace() method to selectively replace 0 values with `NA`"
   ]
  },
  {
   "cell_type": "code",
   "execution_count": null,
   "metadata": {},
   "outputs": [],
   "source": [
    "# display the mean values of features before transforming the data\n",
    "print( diabetes_pima.describe(include='all').loc['mean'] )"
   ]
  },
  {
   "cell_type": "code",
   "execution_count": null,
   "metadata": {
    "slideshow": {
     "slide_type": "fragment"
    }
   },
   "outputs": [],
   "source": [
    "pimacolumns_2change = ['Glucose', 'BloodPressure', 'SkinThickness', 'Insulin', 'BMI', 'Outcome']\n",
    "diabetes_pima[ pimacolumns_2change ] = diabetes_pima[ pimacolumns_2change ].replace(0, np.nan )\n",
    "\n",
    "# display the mean values of features after transforming the data\n",
    "print( diabetes_pima.describe(include='all').loc['mean'] )"
   ]
  },
  {
   "cell_type": "markdown",
   "metadata": {
    "slideshow": {
     "slide_type": "subslide"
    }
   },
   "source": [
    "### Filling Missing Values \n",
    "\n",
    "**Oh No!** - we accidentally replaced all the 0 values in our `Outcome` column.  \n",
    "This is terrible, because this column contains the categorical labels.  \n",
    "**One-hot encoding** - This style of encoding a two level category with 1s and 0s is very common and we will see it throughout our machine learning course material  "
   ]
  },
  {
   "cell_type": "code",
   "execution_count": null,
   "metadata": {},
   "outputs": [],
   "source": [
    "diabetes_pima.head()"
   ]
  },
  {
   "cell_type": "markdown",
   "metadata": {
    "slideshow": {
     "slide_type": "subslide"
    }
   },
   "source": [
    "### Let's fix this mistake using the .fillna() method:"
   ]
  },
  {
   "cell_type": "code",
   "execution_count": null,
   "metadata": {},
   "outputs": [],
   "source": [
    "diabetes_pima[ 'Outcome' ] = diabetes_pima[ 'Outcome' ].fillna(0)#.astype('Int64')\n",
    "diabetes_pima.head()"
   ]
  },
  {
   "cell_type": "markdown",
   "metadata": {
    "slideshow": {
     "slide_type": "subslide"
    }
   },
   "source": [
    "### What the `NaN`, `None`?!?\n",
    "\n",
    "**NaN** Not a Number, although, in Python, `NaN` is a member of numeric data type and so are used in numerical arrays.  \n",
    "\n",
    "**None** is a Python keyword used to define a null value | absense of value | empty value and are used in object arrays. \n",
    "\n",
    "[Confused?](https://towardsdatascience.com/navigating-the-hell-of-nans-in-python-71b12558895b) ....you havent seen the half of it"
   ]
  },
  {
   "cell_type": "code",
   "execution_count": null,
   "metadata": {},
   "outputs": [],
   "source": [
    "type( np.nan )"
   ]
  },
  {
   "cell_type": "markdown",
   "metadata": {
    "slideshow": {
     "slide_type": "slide"
    }
   },
   "source": [
    "## Viewing Missingness"
   ]
  },
  {
   "cell_type": "code",
   "execution_count": null,
   "metadata": {},
   "outputs": [],
   "source": [
    "diabetes_pima.isna().sum()"
   ]
  },
  {
   "cell_type": "markdown",
   "metadata": {
    "slideshow": {
     "slide_type": "subslide"
    }
   },
   "source": [
    "### No, not viewing, let's Visualize Missingness\n",
    "\n",
    "We will explore visual summaries of missing data to learn more about the data's structure"
   ]
  },
  {
   "cell_type": "code",
   "execution_count": null,
   "metadata": {},
   "outputs": [],
   "source": [
    "#pip install missingno\n",
    "import missingno as msno"
   ]
  },
  {
   "cell_type": "markdown",
   "metadata": {
    "slideshow": {
     "slide_type": "subslide"
    }
   },
   "source": [
    "### `missingno` Matrix Style plot\n",
    "\n",
    "Every row is an observation.  \n",
    "`NaN` appears as a missing line by column"
   ]
  },
  {
   "cell_type": "code",
   "execution_count": null,
   "metadata": {},
   "outputs": [],
   "source": [
    "%matplotlib inline\n",
    "msno.matrix(diabetes_pima)"
   ]
  },
  {
   "cell_type": "markdown",
   "metadata": {
    "slideshow": {
     "slide_type": "subslide"
    }
   },
   "source": [
    "### Hunch: what if the missingness is related to the categorical `Outcome` variable?"
   ]
  },
  {
   "cell_type": "code",
   "execution_count": null,
   "metadata": {},
   "outputs": [],
   "source": [
    "#reorder the dataframe by outcome\n",
    "sorted_pima = diabetes_pima.sort_values( by=['Outcome'] )\n",
    "# visualize a missingno matrix plot\n",
    "msno.matrix(sorted_pima)\n",
    "plt.show()"
   ]
  },
  {
   "cell_type": "markdown",
   "metadata": {
    "slideshow": {
     "slide_type": "slide"
    }
   },
   "source": [
    "### `missingno` Bar Plot\n",
    "\n",
    "gives an overview of the proportions of missingness in each feature"
   ]
  },
  {
   "cell_type": "code",
   "execution_count": null,
   "metadata": {},
   "outputs": [],
   "source": [
    "msno.bar(diabetes_pima)\n",
    "plt.show()"
   ]
  },
  {
   "cell_type": "markdown",
   "metadata": {
    "slideshow": {
     "slide_type": "subslide"
    }
   },
   "source": [
    "### `missingno` Heatmap\n",
    "\n",
    "This will identify correlated missingness (where a missing value in one column is predictive of a missing value in the other)"
   ]
  },
  {
   "cell_type": "code",
   "execution_count": null,
   "metadata": {},
   "outputs": [],
   "source": [
    "msno.heatmap(diabetes_pima)\n",
    "plt.show()"
   ]
  },
  {
   "cell_type": "markdown",
   "metadata": {
    "slideshow": {
     "slide_type": "subslide"
    }
   },
   "source": [
    "### Interesting! Let's try our ordered matrix plot again...."
   ]
  },
  {
   "cell_type": "code",
   "execution_count": null,
   "metadata": {},
   "outputs": [],
   "source": [
    "#reorder the dataframe by outcome\n",
    "sorted_pima = diabetes_pima.sort_values( by=['Insulin'] )\n",
    "# visualize a missingno matrix plot\n",
    "msno.matrix(sorted_pima)\n",
    "plt.show()"
   ]
  },
  {
   "cell_type": "markdown",
   "metadata": {
    "slideshow": {
     "slide_type": "subslide"
    }
   },
   "source": [
    "### `missingno` Dendrogram\n",
    "\n",
    "hierarchical clustering of shared missingness"
   ]
  },
  {
   "cell_type": "code",
   "execution_count": null,
   "metadata": {},
   "outputs": [],
   "source": [
    "msno.dendrogram(diabetes_pima)\n",
    "plt.show()"
   ]
  },
  {
   "cell_type": "markdown",
   "metadata": {
    "slideshow": {
     "slide_type": "subslide"
    }
   },
   "source": [
    "## We looked at some visualizations of our data's missingness. Next week we will focus on visualizing our data!\n",
    "<img src=\"https://content.techgig.com/photo/80071467/pros-and-cons-of-python-programming-language-that-every-learner-must-know.jpg?132269\" width=\"100%\" style=\"margin-left:auto; margin-right:auto\">"
   ]
  }
 ],
 "metadata": {
  "celltoolbar": "Slideshow",
  "kernelspec": {
   "display_name": "Python 3",
   "language": "python",
   "name": "python3"
  },
  "language_info": {
   "codemirror_mode": {
    "name": "ipython",
    "version": 3
   },
   "file_extension": ".py",
   "mimetype": "text/x-python",
   "name": "python",
   "nbconvert_exporter": "python",
   "pygments_lexer": "ipython3",
   "version": "3.7.6"
  }
 },
 "nbformat": 4,
 "nbformat_minor": 4
}
