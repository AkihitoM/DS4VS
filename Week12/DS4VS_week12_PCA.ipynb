{
 "cells": [
  {
   "cell_type": "markdown",
   "id": "bfc3176b",
   "metadata": {
    "slideshow": {
     "slide_type": "slide"
    }
   },
   "source": [
    "# Week 12: Unsupervised Learning \n",
    "\n",
    "## Dimensionality Reduction"
   ]
  },
  {
   "cell_type": "markdown",
   "id": "1fa89ea6",
   "metadata": {
    "slideshow": {
     "slide_type": "slide"
    }
   },
   "source": [
    "## a Brief Recap:\n",
    "\n",
    "* Hello, how are you?\n",
    "* Today: Dimensionality Reductions, Unsupervised Learning Methods for Numeric Targets\n",
    "* Next week: Culstering, Unsupervised Learning for Categorical Targets"
   ]
  },
  {
   "cell_type": "markdown",
   "id": "863cfd1b",
   "metadata": {
    "slideshow": {
     "slide_type": "slide"
    }
   },
   "source": [
    "## Unsupervised Learning\n",
    "\n",
    "What if we have some data in the form of a feature space, but no information on the target variable?  \n",
    "\n",
    "Unsupervised Learning Methods do not get feedback on a target, rather, unsupervised learning seeks to discover patterns in the features provided.  "
   ]
  },
  {
   "cell_type": "markdown",
   "id": "b6b512a9",
   "metadata": {
    "slideshow": {
     "slide_type": "fragment"
    }
   },
   "source": [
    "#### Families of Unsupervised Methods:  \n",
    "\n",
    "* Dimensionality Reduction \n",
    "    - PCA - principle component analysis\n",
    "    - LDA - linear discirminant analysis\n",
    "    - SVD - singular value decomposition\n",
    "* Clustering\n",
    "    - k-Means\n",
    "    - Hierarchical lustering\n",
    "    - Gaussian Mixture Densities\n",
    "* Non-parametric\n",
    "    - kernel estimators"
   ]
  },
  {
   "cell_type": "markdown",
   "id": "6cc3df61",
   "metadata": {
    "slideshow": {
     "slide_type": "slide"
    }
   },
   "source": [
    "## Dimensionality Reduction\n",
    "\n",
    "Reducing the dimensionality (degrees of freedom) of a dataset."
   ]
  },
  {
   "cell_type": "markdown",
   "id": "90a3ccef",
   "metadata": {
    "slideshow": {
     "slide_type": "slide"
    }
   },
   "source": [
    "### The Curse of Dimensionality: The same amount of feature space holds fewer observations\n",
    "\n",
    "<img src=\"https://eranraviv.com/wp-content/uploads/2016/01/COD.png\" width=\"55%\" style=\"margin-left:auto; margin-right:auto\">"
   ]
  },
  {
   "cell_type": "markdown",
   "id": "f14bed01",
   "metadata": {
    "slideshow": {
     "slide_type": "subslide"
    }
   },
   "source": [
    "### The Curse of Dimensionality: Sampling more feature space is required to describe the same amount of observations\n",
    "\n",
    "<img src=\"https://www.visiondummy.com/wp-content/uploads/2014/04/curseofdimensionality.png\" width=\"70%\" style=\"margin-left:auto; margin-right:auto\">\n",
    "\n",
    "[computer vision for dummies link](https://www.visiondummy.com/2014/04/curse-dimensionality-affect-classification/)"
   ]
  },
  {
   "cell_type": "markdown",
   "id": "4979d891",
   "metadata": {
    "slideshow": {
     "slide_type": "slide"
    }
   },
   "source": [
    "### Why reduce the dimension space; isn't more information better?  \n",
    "\n",
    "* high dimensional datasets are very sparse!\n",
    "* remove uninformative features to increase the power of inferences made during testing\n",
    "* simple models are more robust, because the performance varies less\n",
    "* simple models are easier to interpret"
   ]
  },
  {
   "cell_type": "markdown",
   "id": "142dde87",
   "metadata": {
    "slideshow": {
     "slide_type": "fragment"
    }
   },
   "source": [
    "### How to reduce the dimension space\n",
    "\n",
    "* **feature selection** - if all features are independent, use a criteria to subset features relevant to the model\n",
    "    - ex: forward or backward features selection\n",
    "* **feature extraction** - finding a new set of dimensions that are derived from the dataset features\n",
    "    - **Projection** - find a subspace of the features that explains as much of the variance as possible\n",
    "    - **Manifold Learning** - a [**manifold**](https://scikit-learn.org/stable/auto_examples/manifold/plot_swissroll.html) is a higher dimensional distribution that locally resembles a lower dimensional hyperplane. manifold learning assumes that high dimensional data can be described by a lower dimensional manifold"
   ]
  },
  {
   "cell_type": "markdown",
   "id": "0f48ed0e",
   "metadata": {
    "slideshow": {
     "slide_type": "slide"
    }
   },
   "source": [
    "## PCA\n",
    "\n",
    "**PCA** - Principle Component Analysis. We are interested in finding a mapping from the original dataset feature space with $d$ degress of freedom to a new space with $k$ degrees of freedom where $k\\lt d$; we would like to minimize the loss of information in the process\n",
    "\n",
    "* map to a smaller feature space\n",
    "* try to preserve information\n",
    "* obtain the uncorrelated components of the features"
   ]
  },
  {
   "cell_type": "markdown",
   "id": "bf0a01ec",
   "metadata": {
    "slideshow": {
     "slide_type": "subslide"
    }
   },
   "source": [
    "### Preserving Variance\n",
    "\n",
    "PCA works by finding a hyperplane that lies closest to the data.\n",
    "\n",
    "<img src=\"https://www.analyticsvidhya.com/wp-content/uploads/2016/03/2-1-e1458494877196.png\" width=\"70%\" style=\"margin-left:auto; margin-right:auto\">\n"
   ]
  },
  {
   "cell_type": "markdown",
   "id": "d4192455",
   "metadata": {
    "slideshow": {
     "slide_type": "subslide"
    }
   },
   "source": [
    "### Choosing the Right Hyperplane\n",
    "\n",
    "We would like to:  \n",
    "\n",
    "* idenitify the axis that accounts for most variance\n",
    "* this will also minimize the minimize the mean squared distance of the original data onto the new axis"
   ]
  },
  {
   "cell_type": "markdown",
   "id": "65ac552b",
   "metadata": {
    "slideshow": {
     "slide_type": "fragment"
    }
   },
   "source": [
    "Before we dive too deep into PCA, let's meet the dataset we will be working with...."
   ]
  },
  {
   "cell_type": "markdown",
   "id": "dc373c0f",
   "metadata": {},
   "source": [
    "## Spike Waveforms\n",
    "\n",
    "Import and visualize spike waveform data"
   ]
  },
  {
   "cell_type": "code",
   "execution_count": 54,
   "id": "b8271bda",
   "metadata": {},
   "outputs": [],
   "source": [
    "import pandas as pd\n",
    "import numpy as np\n",
    "import matplotlib.pyplot as plt\n",
    "import seaborn as sn"
   ]
  },
  {
   "cell_type": "code",
   "execution_count": 5,
   "id": "f15ef4c0",
   "metadata": {},
   "outputs": [
    {
     "name": "stdout",
     "output_type": "stream",
     "text": [
      "<class 'pandas.core.frame.DataFrame'>\n",
      "Index: 651 entries, VT007_066B to AP026R_054G\n",
      "Columns: 151 entries, 0 to organoid\n",
      "dtypes: float64(150), object(1)\n",
      "memory usage: 773.1+ KB\n"
     ]
    }
   ],
   "source": [
    "url = 'https://raw.githubusercontent.com/SmilodonCub/DS4VS/master/datasets/waveforms.csv'\n",
    "waveforms = pd.read_csv( url, index_col = 'uid' )\n",
    "waveforms.info()"
   ]
  },
  {
   "cell_type": "code",
   "execution_count": 7,
   "id": "faf8e0c7",
   "metadata": {},
   "outputs": [
    {
     "data": {
      "text/plain": [
       "AP_drug           163\n",
       "TSCp5_32s         120\n",
       "TSCp5_30s         103\n",
       "AP_ctrl           102\n",
       "DLX_Cheriff        65\n",
       "TSCp5_32s_CHIR     46\n",
       "DLX_bluered        32\n",
       "TSCp5_30s_CHIR     13\n",
       "DLX_H9              7\n",
       "Name: organoid, dtype: int64"
      ]
     },
     "execution_count": 7,
     "metadata": {},
     "output_type": "execute_result"
    }
   ],
   "source": [
    "waveforms.organoid.value_counts()"
   ]
  },
  {
   "cell_type": "code",
   "execution_count": 45,
   "id": "1c5d3212",
   "metadata": {},
   "outputs": [
    {
     "name": "stdout",
     "output_type": "stream",
     "text": [
      "['DLX_Cheriff' 'DLX_bluered' 'DLX_H9' 'TSCp5_32s_CHIR' 'TSCp5_32s'\n",
      " 'TSCp5_30s' 'TSCp5_30s_CHIR' 'AP_drug' 'AP_ctrl']\n"
     ]
    }
   ],
   "source": [
    "wf_features = waveforms.drop(['organoid'], axis = 1, inplace = False )\n",
    "organoids = waveforms.organoid.unique()\n",
    "print( organoids )"
   ]
  },
  {
   "cell_type": "code",
   "execution_count": 43,
   "id": "27d6cac1",
   "metadata": {},
   "outputs": [],
   "source": [
    "def plot_waveforms( df, index_list, mat_dim=5):\n",
    "\n",
    "    fig, ax = plt.subplots(mat_dim, mat_dim, figsize=(8,8))\n",
    "\n",
    "    for idx, im_idx in enumerate( index_list ):\n",
    "        some_waveform = np.array( df.iloc[im_idx] )\n",
    "        plt.subplot( mat_dim,mat_dim,idx + 1 )\n",
    "        plt.plot(some_waveform, color = 'black')\n",
    "        plt.axis( 'off' )\n",
    "    #plt.show()"
   ]
  },
  {
   "cell_type": "code",
   "execution_count": 46,
   "id": "0437110b",
   "metadata": {},
   "outputs": [
    {
     "data": {
      "image/png": "[encoded data removed]",
      "text/plain": [
       "<Figure size 576x576 with 25 Axes>"
      ]
     },
     "metadata": {
      "needs_background": "light"
     },
     "output_type": "display_data"
    }
   ],
   "source": [
    "num_plots = 5\n",
    "rand_waveforms = np.random.choice(range(wf_features.shape[0]), size = num_plots**2, replace = False)\n",
    "plot_waveforms( wf_features, rand_waveforms)"
   ]
  },
  {
   "cell_type": "code",
   "execution_count": 47,
   "id": "c59fd32c",
   "metadata": {},
   "outputs": [
    {
     "data": {
      "image/png": "[encoded data removed]",
      "text/plain": [
       "<Figure size 576x576 with 25 Axes>"
      ]
     },
     "metadata": {
      "needs_background": "light"
     },
     "output_type": "display_data"
    }
   ],
   "source": [
    "# plot similar waveforms\n",
    "idx = 4\n",
    "choice_organoid = organoids[idx]\n",
    "organoid_df = waveforms[ waveforms['organoid']==choice_organoid ]\n",
    "organoid_plot = waveforms.drop(['organoid'], axis = 1, inplace = False )\n",
    "\n",
    "rand_waveforms = np.random.choice(range(organoid_plot.shape[0]), size = num_plots**2, replace = False)\n",
    "plot_waveforms( organoid_plot, rand_waveforms)\n",
    "plt.suptitle(organoids[idx], fontsize = 20)\n",
    "plt.show()"
   ]
  },
  {
   "cell_type": "markdown",
   "id": "274f7189",
   "metadata": {
    "slideshow": {
     "slide_type": "slide"
    }
   },
   "source": [
    "## Dimensionality Reduction of Spike Waveforms\n",
    "\n",
    "We have a collection of waveforms each with 150 features (samples). We want to use PCA to reduce this to the smallest number of features that can still account for the most variance in the data so that we can distinguish between cell types. "
   ]
  },
  {
   "cell_type": "markdown",
   "id": "766d004b",
   "metadata": {
    "slideshow": {
     "slide_type": "fragment"
    }
   },
   "source": [
    "Let's talk about PCA in more depth to learn how best to go about this with our spike data..."
   ]
  },
  {
   "cell_type": "markdown",
   "id": "606378c9",
   "metadata": {
    "slideshow": {
     "slide_type": "slide"
    }
   },
   "source": [
    "### PCA Algorithm\n",
    "\n",
    "PCA is a matrix decomposition that we apply to the features of a dataset\n",
    "\n",
    "1. Center & Normalize the Data\n",
    "2. Calculate the Covariance Matrix\n",
    "3. Perform an Eigendecomposition\n",
    "4. Obtain the projections of the data (Components)"
   ]
  },
  {
   "cell_type": "markdown",
   "id": "00b974ab",
   "metadata": {
    "slideshow": {
     "slide_type": "slide"
    }
   },
   "source": [
    "## 1) Center & Normalize the Data\n",
    "\n",
    "1. Center -> demean the data so that the mean of each feature == zero\n",
    "2. Normalize -> scale the data to have unit variance"
   ]
  },
  {
   "cell_type": "code",
   "execution_count": 52,
   "id": "eec2db87",
   "metadata": {},
   "outputs": [],
   "source": [
    "from sklearn.preprocessing import StandardScaler\n",
    "wf_scaled = StandardScaler().fit_transform( wf_features )"
   ]
  },
  {
   "cell_type": "markdown",
   "id": "484cc276",
   "metadata": {},
   "source": [
    "## 2) Calculate the Covariance Matrix\n",
    "\n"
   ]
  },
  {
   "cell_type": "code",
   "execution_count": 55,
   "id": "facd2828",
   "metadata": {},
   "outputs": [],
   "source": [
    "wf_features = wf_scaled.T\n",
    "cov_matrix = np.cov(wf_features)"
   ]
  },
  {
   "cell_type": "markdown",
   "id": "a867f8aa",
   "metadata": {
    "slideshow": {
     "slide_type": "subslide"
    }
   },
   "source": [
    "The result is a square symmetric matrix  \n",
    "The variance of each feature is given along the diagonal  \n",
    "The covariances between all features are given off the diagonal  "
   ]
  },
  {
   "cell_type": "code",
   "execution_count": 57,
   "id": "71a43617",
   "metadata": {},
   "outputs": [
    {
     "data": {
      "image/png": "[encoded data removed]",
      "text/plain": [
       "<Figure size 432x288 with 2 Axes>"
      ]
     },
     "metadata": {
      "needs_background": "light"
     },
     "output_type": "display_data"
    }
   ],
   "source": [
    "sn.heatmap(cov_matrix, annot=False, fmt='g')\n",
    "plt.show()"
   ]
  },
  {
   "cell_type": "markdown",
   "id": "5f970b93",
   "metadata": {
    "slideshow": {
     "slide_type": "subslide"
    }
   },
   "source": [
    "## 3) Perform an Eigendecomposition\n",
    "\n",
    "decompose the covariance matrix into simple unit vectors (eigenvector) and associated coefficients/magnitudes (eigenvalues)"
   ]
  },
  {
   "cell_type": "code",
   "execution_count": 58,
   "id": "96df13c5",
   "metadata": {},
   "outputs": [],
   "source": [
    "# perform the eigendecomposition\n",
    "values, vectors = np.linalg.eig(cov_matrix)"
   ]
  },
  {
   "cell_type": "code",
   "execution_count": 61,
   "id": "86467b4d",
   "metadata": {},
   "outputs": [],
   "source": [
    "# calculate the percentage of variance explained by each component\n",
    "explained_variance = [ values[i] / np.sum(values) for i in range( len( values ) ) ]"
   ]
  },
  {
   "cell_type": "code",
   "execution_count": 78,
   "id": "91c37f3a",
   "metadata": {},
   "outputs": [
    {
     "data": {
      "image/png": "[encoded data removed]",
      "text/plain": [
       "<Figure size 720x432 with 1 Axes>"
      ]
     },
     "metadata": {
      "needs_background": "light"
     },
     "output_type": "display_data"
    }
   ],
   "source": [
    "# plot the amount of\n",
    "csum_values = values.cumsum()/values.shape[0]\n",
    "\n",
    "N_components = 20\n",
    "x = np.arange(1, N_components+1, step=1)\n",
    "y = csum_values[0:N_components]\n",
    "\n",
    "def plot_cvar( x, y, num_C ):\n",
    "    fig, ax = plt.subplots(figsize=(10, 6))\n",
    "    plt.plot(x, y, '-', color='gray', alpha = 0.4)\n",
    "    plt.plot(x, y, 'o', color='k')\n",
    "    plt.ylim(0.0,1.2)\n",
    "    plt.xlabel('Principal components')\n",
    "    plt.xticks(np.arange(0, N_components + 1, step=1))\n",
    "    plt.ylabel('Cumulative variance')\n",
    "    plt.axhline(y = 0.95, color = 'brown', linestyle = '--')\n",
    "    plt.hlines(y = y[1], xmin = 0, xmax = 2, color = 'C0', linestyle = '--')\n",
    "    plt.text(0.5, 1, '95% $\\sigma$', color = 'brown', fontsize=12)\n",
    "    plt.text(0.5, y[1]+0.05, s=f'{y[1]*100:1.2f}%', color = 'C0', fontsize= 12)\n",
    "\n",
    "plot_cvar( x,y,N_components)"
   ]
  },
  {
   "cell_type": "markdown",
   "id": "0a94d698",
   "metadata": {
    "slideshow": {
     "slide_type": "subslide"
    }
   },
   "source": [
    "### Obtain the Components"
   ]
  },
  {
   "cell_type": "code",
   "execution_count": 136,
   "id": "d00771b0",
   "metadata": {},
   "outputs": [
    {
     "data": {
      "text/html": [
       "<div>\n",
       "<style scoped>\n",
       "    .dataframe tbody tr th:only-of-type {\n",
       "        vertical-align: middle;\n",
       "    }\n",
       "\n",
       "    .dataframe tbody tr th {\n",
       "        vertical-align: top;\n",
       "    }\n",
       "\n",
       "    .dataframe thead th {\n",
       "        text-align: right;\n",
       "    }\n",
       "</style>\n",
       "<table border=\"1\" class=\"dataframe\">\n",
       "  <thead>\n",
       "    <tr style=\"text-align: right;\">\n",
       "      <th></th>\n",
       "      <th>PC1</th>\n",
       "      <th>PC2</th>\n",
       "      <th>PC3</th>\n",
       "    </tr>\n",
       "  </thead>\n",
       "  <tbody>\n",
       "    <tr>\n",
       "      <th>0</th>\n",
       "      <td>-2.088232</td>\n",
       "      <td>4.919215</td>\n",
       "      <td>1.493662</td>\n",
       "    </tr>\n",
       "    <tr>\n",
       "      <th>1</th>\n",
       "      <td>-4.842392</td>\n",
       "      <td>-0.797512</td>\n",
       "      <td>-2.059672</td>\n",
       "    </tr>\n",
       "    <tr>\n",
       "      <th>2</th>\n",
       "      <td>-2.666606</td>\n",
       "      <td>1.622787</td>\n",
       "      <td>-0.236874</td>\n",
       "    </tr>\n",
       "    <tr>\n",
       "      <th>3</th>\n",
       "      <td>1.728001</td>\n",
       "      <td>1.910773</td>\n",
       "      <td>5.812638</td>\n",
       "    </tr>\n",
       "    <tr>\n",
       "      <th>4</th>\n",
       "      <td>-8.084174</td>\n",
       "      <td>-1.225774</td>\n",
       "      <td>-8.690275</td>\n",
       "    </tr>\n",
       "  </tbody>\n",
       "</table>\n",
       "</div>"
      ],
      "text/plain": [
       "        PC1       PC2       PC3\n",
       "0 -2.088232  4.919215  1.493662\n",
       "1 -4.842392 -0.797512 -2.059672\n",
       "2 -2.666606  1.622787 -0.236874\n",
       "3  1.728001  1.910773  5.812638\n",
       "4 -8.084174 -1.225774 -8.690275"
      ]
     },
     "execution_count": 136,
     "metadata": {},
     "output_type": "execute_result"
    }
   ],
   "source": [
    "projection_1 = wf_scaled.dot(vectors.T[0])\n",
    "projection_2 = wf_scaled.dot(vectors.T[1])\n",
    "projection_3 = wf_scaled.dot(vectors.T[2])\n",
    "res = pd.DataFrame(projection_1, columns=['PC1'])\n",
    "res['PC2'] = projection_2\n",
    "res['PC3'] = projection_3\n",
    "res.head()"
   ]
  },
  {
   "cell_type": "markdown",
   "id": "af4dd6c4",
   "metadata": {},
   "source": [
    "## PCA by way of `sklearn`"
   ]
  },
  {
   "cell_type": "code",
   "execution_count": 79,
   "id": "601ea111",
   "metadata": {},
   "outputs": [
    {
     "data": {
      "image/png": "[encoded data removed]",
      "text/plain": [
       "<Figure size 720x432 with 1 Axes>"
      ]
     },
     "metadata": {
      "needs_background": "light"
     },
     "output_type": "display_data"
    }
   ],
   "source": [
    "from sklearn.decomposition import PCA\n",
    "sklpca = PCA( n_components=N_components )\n",
    "wf_sklpca = sklpca.fit( wf_features )\n",
    "y = np.cumsum( sklpca.explained_variance_ratio_ )\n",
    "plot_cvar( x,y,N_components)"
   ]
  },
  {
   "cell_type": "markdown",
   "id": "fc567f6d",
   "metadata": {},
   "source": [
    "## improving....\n",
    "\n",
    "If we look at the waveforms that we plotted previously, we can see that there is some baseline leading the waveforms. Let's drop ~25 ms (first 25 features) and see how this affects the PCA"
   ]
  },
  {
   "cell_type": "code",
   "execution_count": 88,
   "id": "310a5892",
   "metadata": {},
   "outputs": [
    {
     "data": {
      "image/png": "[encoded data removed]",
      "text/plain": [
       "<Figure size 720x432 with 1 Axes>"
      ]
     },
     "metadata": {
      "needs_background": "light"
     },
     "output_type": "display_data"
    }
   ],
   "source": [
    "wf_dropbaseline = wf_features[25:]\n",
    "sklpca = PCA( n_components=N_components )\n",
    "wf_sklpca = sklpca.fit( wf_dropbaseline )\n",
    "y = np.cumsum( sklpca.explained_variance_ratio_ )\n",
    "plot_cvar( x,y,N_components)"
   ]
  },
  {
   "cell_type": "markdown",
   "id": "4191249e",
   "metadata": {
    "slideshow": {
     "slide_type": "slide"
    }
   },
   "source": [
    "## Visualizing the first 3 Principle Components"
   ]
  },
  {
   "cell_type": "code",
   "execution_count": 124,
   "id": "a4384258",
   "metadata": {},
   "outputs": [
    {
     "data": {
      "text/html": [
       "<div>\n",
       "<style scoped>\n",
       "    .dataframe tbody tr th:only-of-type {\n",
       "        vertical-align: middle;\n",
       "    }\n",
       "\n",
       "    .dataframe tbody tr th {\n",
       "        vertical-align: top;\n",
       "    }\n",
       "\n",
       "    .dataframe thead th {\n",
       "        text-align: right;\n",
       "    }\n",
       "</style>\n",
       "<table border=\"1\" class=\"dataframe\">\n",
       "  <thead>\n",
       "    <tr style=\"text-align: right;\">\n",
       "      <th></th>\n",
       "      <th>PC1</th>\n",
       "      <th>PC2</th>\n",
       "      <th>PC3</th>\n",
       "      <th>organoid</th>\n",
       "    </tr>\n",
       "  </thead>\n",
       "  <tbody>\n",
       "    <tr>\n",
       "      <th>0</th>\n",
       "      <td>0.018421</td>\n",
       "      <td>-0.016039</td>\n",
       "      <td>-0.013108</td>\n",
       "      <td>DLX_Cheriff</td>\n",
       "    </tr>\n",
       "    <tr>\n",
       "      <th>1</th>\n",
       "      <td>-0.024765</td>\n",
       "      <td>-0.024360</td>\n",
       "      <td>-0.006856</td>\n",
       "      <td>DLX_Cheriff</td>\n",
       "    </tr>\n",
       "    <tr>\n",
       "      <th>2</th>\n",
       "      <td>-0.002902</td>\n",
       "      <td>-0.018602</td>\n",
       "      <td>0.003742</td>\n",
       "      <td>DLX_Cheriff</td>\n",
       "    </tr>\n",
       "    <tr>\n",
       "      <th>3</th>\n",
       "      <td>0.016581</td>\n",
       "      <td>0.016169</td>\n",
       "      <td>0.024949</td>\n",
       "      <td>DLX_Cheriff</td>\n",
       "    </tr>\n",
       "    <tr>\n",
       "      <th>4</th>\n",
       "      <td>-0.039355</td>\n",
       "      <td>-0.048805</td>\n",
       "      <td>-0.070717</td>\n",
       "      <td>DLX_Cheriff</td>\n",
       "    </tr>\n",
       "  </tbody>\n",
       "</table>\n",
       "</div>"
      ],
      "text/plain": [
       "        PC1       PC2       PC3     organoid\n",
       "0  0.018421 -0.016039 -0.013108  DLX_Cheriff\n",
       "1 -0.024765 -0.024360 -0.006856  DLX_Cheriff\n",
       "2 -0.002902 -0.018602  0.003742  DLX_Cheriff\n",
       "3  0.016581  0.016169  0.024949  DLX_Cheriff\n",
       "4 -0.039355 -0.048805 -0.070717  DLX_Cheriff"
      ]
     },
     "execution_count": 124,
     "metadata": {},
     "output_type": "execute_result"
    }
   ],
   "source": [
    "#wf_pcs = sklpca.fit_transform(wf_dropbaseline)\n",
    "wf_PCAs = pd.DataFrame()\n",
    "wf_PCAs['PC1'] = wf_sklpca.components_[0]\n",
    "wf_PCAs['PC2'] = wf_sklpca.components_[1]\n",
    "wf_PCAs['PC3'] = wf_sklpca.components_[2]\n",
    "wf_PCAs['organoid'] = waveforms['organoid'].values\n",
    "wf_PCAs.head()"
   ]
  },
  {
   "cell_type": "code",
   "execution_count": 118,
   "id": "b434b686",
   "metadata": {},
   "outputs": [
    {
     "data": {
      "application/vnd.plotly.v1+json": {
       "config": {
        "plotlyServerURL": "https://plot.ly"
       },
       "data": [
        {
         "hovertemplate": "PC1=%{x}<br>PC2=%{y}<br>PC3=%{z}<extra></extra>",
         "legendgroup": "",
         "marker": {
          "color": "#636efa",
          "opacity": 0.7,
          "symbol": "circle"
         },
         "mode": "markers",
         "name": "",
         "scene": "scene",
         "showlegend": false,
         "type": "scatter3d",
         "x": [
          0.01842123975441884,
          -0.02476536868382719,
          -0.0029015827175998318,
          0.016580567177490783,
          -0.039354656174488266,
          0.04380527210924162,
          0.0008978485170717676,
          0.043970582369388854,
          0.0051610198585571865,
          -0.026155253283800292,
          0.020600777411007843,
          0.015019592128104524,
          -0.03233960283059093,
          -0.008950068948020615,
          0.012770947044451034,
          -0.005113110996775622,
          0.0461947025424101,
          -0.00022624183137974,
          -0.06870628140904868,
          0.01389140025434393,
          0.020984286205597193,
          0.02959525043592445,
          0.03751206922620683,
          0.029403231601571773,
          0.05300527686962536,
          0.022933044975411477,
          0.03926391474106824,
          -0.00811314511038148,
          0.009335599543176986,
          0.014994574850760424,
          -0.012737312610690634,
          -0.025449179735836387,
          -0.03432440788449655,
          -0.017181493243412945,
          -0.024323934971567776,
          -0.037200793999111754,
          0.10769685862903508,
          0.06146130870816487,
          0.07856687101575388,
          0.017751033235961767,
          0.017634743180438974,
          -0.027097604068561265,
          -0.0838868455169128,
          0.04214222865791063,
          -0.0515843113692852,
          0.00727778432663635,
          -0.009645463781803008,
          -0.05246868960183809,
          0.024138944800150837,
          0.06462401181645153,
          0.02571380525514627,
          0.0010026143742655521,
          0.029987651362419692,
          0.021393510077276044,
          -0.011261855866794561,
          -0.06651842725978846,
          0.04338474946561861,
          0.049319584977777844,
          -0.02708031162881736,
          -0.01524981114818334,
          -0.022255425189044473,
          0.04620390712468566,
          -0.009660861590118582,
          -0.00395330988503856,
          0.009585092088211658,
          -0.025908174249333303,
          0.021341200681613444,
          -0.0002808953656037592,
          0.00976340602342642,
          -0.021714552488493077,
          -0.058201398669066255,
          0.005348871291359139,
          0.01848144012396585,
          -0.03415391959059046,
          -0.03427618428945681,
          -0.024112866834527624,
          -0.03314412572756096,
          -0.026991485143355413,
          -0.03642697960754512,
          -0.042280552956261264,
          -0.036819417856229,
          0.04146531156760624,
          -0.026490207898412124,
          -0.032156439645079624,
          -0.03163463596127524,
          0.0347539271822499,
          -0.025933707682964956,
          -0.0464868954895569,
          -0.06564570056688877,
          -0.05514827468852282,
          -0.020152320450088173,
          -0.014392418412079491,
          -0.015505089068980706,
          -0.031659433583244155,
          -0.035441264765610284,
          -0.025120593958457157,
          -0.020765850676437703,
          -0.038547587557949146,
          -0.0439841986724977,
          -0.04304312249367354,
          -0.039923094105317775,
          -0.03920519794821373,
          -0.04014657238733444,
          -0.04702196638371681,
          -0.02583630770489866,
          -0.0077685614481301825,
          -0.03551311271247778,
          -0.010498499561943708,
          0.008434733779269694,
          0.020922935992906237,
          -0.02306847030849016,
          -0.03650507865327252,
          -0.04607097707166736,
          0.03991323752216421,
          -0.002645182789780845,
          0.03656668098388383,
          0.014366555986974885,
          -0.028351838582654894,
          0.004550799433969412,
          0.04538670675202145,
          0.0069047943055378265,
          -0.005960421662447432,
          -0.0006066128578832281,
          -0.01447193941918753,
          -0.03471236577607342,
          -0.03328748002141786,
          0.0031586946770578734,
          0.01075025554230334,
          0.014199650791744458,
          -0.02931713501452231,
          0.019489724217863696,
          -0.005270952863521402,
          0.00011651370055649629,
          0.032233984756344015,
          0.06161573426092349,
          -0.009485018349973165,
          0.03928548704723844,
          0.039106123584550595,
          0.01906819026819612,
          -0.035682510396737394,
          -0.01162769243443273,
          -0.021125712267259754,
          0.011718319672643971,
          0.0042433994597184475,
          0.018547094135496593,
          0.05301244016663934,
          0.07541060351748453,
          0.0090992059191804,
          0.011543536041467496,
          0.016236649511311978,
          0.024077676190713573,
          -0.01186806878440946,
          0.04579652550965434,
          0.024821878149177457,
          0.03698780947083753,
          0.012955902223290496,
          0.047962024989102715,
          0.0045939438777788544,
          0.007894212772277498,
          0.026462478415296472,
          0.03134241331110185,
          0.09707801154090342,
          -0.005954337344509798,
          -0.024076103029101643,
          -0.004519812378791008,
          -0.14911749726552156,
          0.010378854059841281,
          -0.021005689761554532,
          0.008127456660710833,
          0.04565790033656108,
          -0.03320004965036064,
          -0.031898812544057305,
          0.04414154298775651,
          -0.050927532861551224,
          -0.03362559775674153,
          -0.09117967767334687,
          -0.04419452427446471,
          0.04168021163741693,
          -0.006105876283865427,
          0.012016152506425338,
          -0.007621501969512561,
          -0.009012832581283218,
          0.0014512149746194606,
          0.03427161937499484,
          0.003314774398443788,
          -0.003388426126734929,
          -0.013493274540473528,
          0.005828953575914522,
          -0.03649164467858509,
          -0.006850337664830775,
          -0.0020534048888019877,
          -0.0035661244084370367,
          -0.009476339528518497,
          -0.0542034855961734,
          -0.025520234886800535,
          0.06746138791902662,
          0.02454596485211944,
          -0.02283057492616406,
          -0.009282755220214411,
          -0.0002647393391207659,
          -0.028423284397123317,
          -0.0034551086850048407,
          0.014187174507229712,
          0.027332108920037654,
          0.011241336138458168,
          0.010995524954849697,
          0.015463865302713879,
          -0.003722340408074242,
          -0.03006212588085434,
          -0.03410110515527591,
          -0.03085232323430387,
          0.03872586254659069,
          -0.04105523441917034,
          -0.010124296182663566,
          -0.021997308529966106,
          -0.021775830168192224,
          0.00333110420565548,
          -0.03762642115928532,
          -0.05845822705459792,
          -0.04764885792079434,
          -0.06927261007777093,
          -0.03861526459971239,
          -0.005075879200531761,
          0.01347463612391935,
          0.010991012885186887,
          0.01570740984478305,
          0.001399455128601162,
          -0.025759720644334044,
          -0.010133893739906027,
          -0.03770500416361682,
          -0.002510268444668371,
          0.011547228868407625,
          0.010839840472541828,
          -0.02672751806243625,
          0.007441601604687158,
          -0.011164555992564043,
          0.07245836940427322,
          0.04037440953580884,
          0.002484899237051127,
          0.024659424834596884,
          0.01618434696493027,
          0.04984620667338621,
          -0.008277286277913224,
          0.02464667563745079,
          0.01238959337532185,
          -0.03351826796802751,
          -0.036541978056964776,
          -0.029490799144036732,
          -0.050823632412769264,
          0.0016625093003840245,
          0.003418744922961863,
          -0.004822165551453985,
          -0.007102402053875907,
          -0.07644720795888478,
          -0.00903355786706806,
          -0.032784928556634764,
          -0.0026599363337263065,
          0.04077013076080356,
          0.023933929877405852,
          0.03730133540594335,
          0.01448242395994499,
          0.03183839606089851,
          0.018105390001278674,
          0.025984317583719864,
          0.014703862819692668,
          -0.01814416822095829,
          0.009509001996179068,
          -0.03401664949192212,
          0.005672083417489825,
          -0.03765970373295631,
          -0.039326474069621906,
          -0.018049056291270637,
          -0.005541782503161588,
          0.005406125526434038,
          0.0005693500008702913,
          0.024660323142579363,
          -0.014764863972113832,
          -0.01062038359442331,
          -0.004006931087862607,
          0.052342869062470286,
          -0.032579327049536415,
          -0.01578371884455355,
          0.014282391852509064,
          -0.035371368899624486,
          -0.020991674527526715,
          0.001882895598979884,
          -0.005399392057611464,
          0.05085384058009849,
          0.06277868182080247,
          -0.08107464510483868,
          0.019643187851564332,
          -0.023783968215089695,
          -0.04359722203504603,
          -0.03769896211733411,
          -0.04124972751683902,
          -0.03673535006876415,
          -0.03301720370292939,
          -0.007364284719197304,
          0.01303856509197362,
          -0.001583099221216521,
          0.011494203612968648,
          -0.026084019952420524,
          -0.04059961062230567,
          -0.04071696058231139,
          -0.018043359166447594,
          0.0001401972839983692,
          -0.06279697975707196,
          0.012747118137915125,
          0.010543706919962554,
          0.0036919176234012246,
          0.008253274079415032,
          0.038484978325058004,
          0.04516615543909258,
          0.028972591811950932,
          0.01798985013911614,
          0.027601474393135702,
          0.001485843154363673,
          0.05009051082152196,
          0.03926988426821845,
          -0.03590885548068069,
          -0.03273704570689931,
          -0.03398332138276088,
          -0.012873559731205882,
          -0.013636516451208915,
          -0.03610144723800106,
          -0.01941192981476018,
          -0.05666376956443737,
          -0.03423876682179222,
          -0.03955315542379209,
          -0.03019773853762627,
          -0.07389843133139898,
          -0.06957351629716757,
          -0.06602567005970593,
          -0.030477294370891587,
          -0.08536959437954351,
          -0.035153735297229434,
          0.00403878266345617,
          -0.01466976044856105,
          -0.035112630308548436,
          -0.05149498112404914,
          0.013689089027399737,
          0.06071557627343299,
          -0.001423815213657834,
          -0.037228287030162954,
          0.03979998538691319,
          -0.1615018548920596,
          0.025883637023543637,
          -0.014096740342646956,
          -0.033109400480390266,
          -0.03465213284959726,
          0.03216569107094334,
          -0.028005311104274098,
          -0.037392252567709956,
          -0.037943217110604895,
          -0.02356769135920324,
          0.03758168611101864,
          -0.01971817194169568,
          -0.043943206441923933,
          -0.01930891325425147,
          -0.00930526900279809,
          -0.037932883854060406,
          -0.005192392771785951,
          -0.014375151379268179,
          -0.03446685667359347,
          -0.03279321133343373,
          -0.0588797269583188,
          -0.027955758395911405,
          -0.05038751690523945,
          -0.009064131234231446,
          -0.047536883260683255,
          -0.028966668519615456,
          -0.01594984211915185,
          -0.07045076138430556,
          -0.054811658552682066,
          -0.06962333159224358,
          -0.05839990009686613,
          -0.024641195018268107,
          -0.05562678702885258,
          -0.030386154797338603,
          -0.06186295420999387,
          -0.008429287362967075,
          -0.053829465294528686,
          -0.06581391505639281,
          -0.03176430583350262,
          0.0023689560186985256,
          0.03441814957081383,
          -0.04120134032204601,
          -0.03702583127069831,
          -0.041061000788160176,
          -0.03654589995864208,
          -0.002713754851247562,
          0.006546326766231718,
          0.07508443291739769,
          0.008493485282011246,
          0.05805323956466879,
          -0.0035792183634648944,
          -0.025843851489042686,
          0.03376390742537685,
          0.003107461871677326,
          -0.022285873136906782,
          -0.031150840161945505,
          -0.028845423327293628,
          -0.10667832402027183,
          0.040453921722996576,
          -0.020786694798965617,
          0.019895755207048928,
          -0.003415342301880765,
          0.004355163064380333,
          0.03473251832063931,
          0.013674690850777462,
          0.017048286614489257,
          -0.0017331441105995543,
          -0.004097232792354731,
          -0.014993354077510124,
          0.013564066744853756,
          0.0617045218077844,
          0.008173884733141842,
          -0.05119766521636755,
          -0.05464326013760986,
          -0.0758736884243837,
          -0.058619065832663075,
          0.02657684331684596,
          0.011330121229141699,
          0.017849484764348337,
          0.036284878971651155,
          0.04837121073517464,
          0.012252162252439542,
          0.041255638799233,
          0.0023879139270756087,
          0.00569227967910846,
          0.00529656549050377,
          -0.0025198843819638425,
          0.014064461792864608,
          0.011218860401034994,
          0.022083001539491595,
          0.03560886416742624,
          0.008444336830278917,
          -0.039182734005851746,
          -0.03872759336835716,
          0.015360818178683818,
          0.030017005367875327,
          0.0442954818874665,
          0.00047788554162866455,
          0.07795796248479364,
          0.08631030921137706,
          0.062364972893996125,
          -0.03582896021998836,
          -0.027511018439109948,
          0.06970491182240167,
          0.04729997717042625,
          0.028024965742900285,
          0.04795587086735963,
          -0.006317422855836125,
          0.0033181403110557586,
          0.01631525977123966,
          -0.01619849975518647,
          0.03940566513332996,
          -0.033429019702667456,
          -0.029664205662163014,
          0.028331482966098956,
          0.021585687792967538,
          0.050799888625736055,
          0.04730577134879267,
          0.06837078768334884,
          0.037778706506049,
          0.026195537972799127,
          -0.006967365176637946,
          0.05110649706936793,
          0.055001726086457856,
          -0.01659178224491131,
          -0.015268314380594724,
          0.01164710003817566,
          0.025604234257351796,
          0.0037814584667060966,
          0.013359469495493229,
          -0.03387420116144885,
          0.016740714321575506,
          0.0056843257206099455,
          0.02309256024295055,
          0.01640848491316695,
          0.012603466045767902,
          0.017503886682397114,
          0.028835587891883466,
          0.028314474856732445,
          0.024498883046558183,
          0.05810162602123553,
          0.003794447079875278,
          0.0268061500975497,
          0.02063205496875939,
          0.021198232828323938,
          0.033514564656349596,
          0.004083001290990817,
          0.01837357221217913,
          0.027108834304621094,
          -0.006126461649620506,
          0.02266951254407089,
          0.03091090717197348,
          0.06463181071073934,
          0.01812582224942896,
          0.013496512057593868,
          0.033046734414476135,
          0.050524660240315496,
          0.033025485503819466,
          0.016085551791965,
          0.008258364146236836,
          0.020306214124539236,
          0.1597312433771691,
          0.18679645339066286,
          0.018668822053859318,
          0.042665051077388286,
          0.04183159158918217,
          -0.03461344372065719,
          -0.0076737188719877706,
          -0.008417540225111802,
          -0.0032014043597383157,
          0.03761740246066681,
          0.036639066906282595,
          0.01965212756013726,
          0.04326643315016064,
          0.05434968880173305,
          0.09437553554931857,
          0.04676406882098476,
          0.023167681257494018,
          0.02463331850513566,
          0.015307403049362452,
          0.008146458905778439,
          0.007804504192853742,
          0.04807851427964634,
          -0.04132806139700137,
          -0.03000126898569542,
          -0.01376405244379481,
          0.00514241534906969,
          0.014756607509988605,
          -0.008280945096443448,
          0.012424577615263013,
          0.07252732308611419,
          -0.0032903846028793644,
          -0.03617965474264245,
          -0.034269252454619335,
          0.01940178066841853,
          -0.006455958656178733,
          0.00861371229943194,
          -0.03671667157471663,
          0.03649712780371485,
          0.039515813284214996,
          0.07157272636110862,
          0.025835899601641333,
          0.0009406906747496289,
          -0.03184726452483239,
          -0.028320869290770545,
          -0.017663349237014653,
          0.024469920254510013,
          0.15429592311012608,
          0.02129392672294923,
          0.09196404010823146,
          0.12713096662704945,
          0.11123946171549641,
          0.12589533336682673,
          -0.007305835449216403,
          -0.035131296596013085,
          0.030408757683568707,
          0.016710490224030216,
          -0.01770667613574352,
          0.011337421533053737,
          0.012536778325812705,
          0.023551655501314772,
          -0.012729580500684429,
          0.04551937478768601,
          0.015744128448019434,
          0.09435570209158771,
          0.029745073826798123,
          -0.0069090573755807025,
          0.023344536737163378,
          0.11549723800531553,
          0.10477173714528314,
          -0.03871271570118744,
          -0.01511129942408851,
          0.11982568759955291,
          -0.008928120884623978,
          0.0364873510029832,
          0.017671151385967802,
          0.04262540558203871,
          0.05258939638729157,
          0.029694280424039998,
          -0.012550029329015104,
          -0.02122410924767249,
          0.05055702925479921,
          0.013333797089952634,
          0.03879859612144663,
          0.03115985853591722,
          0.10739802478278175,
          0.030295550667978528,
          -0.0006846683575745952,
          0.0016281777875787776,
          0.039364560821886115,
          0.010275129543823461,
          -0.0022791284387048026,
          0.003748542485327038,
          0.008176064889101008,
          -0.004212455961177103,
          0.016268995622942154,
          -0.009267334116676337,
          -0.016851888924144215,
          -0.01495267087181717,
          -0.010941970755424179,
          -0.03091047154016767,
          -0.07167813429964852,
          -0.05619492375421346,
          -0.021409013127682078,
          -0.04028580709812658,
          -0.03576740734201029,
          -0.0375370931497261,
          -0.02021121875507357,
          -0.07705600004791405,
          -0.03123324552026845,
          -0.008863583468841396,
          -0.010161845506086477,
          -0.04114431358393147,
          -0.03231499031946769,
          -0.03709502820159692,
          -0.09245980703780543,
          -0.035187326304903996,
          -0.04205592733973244,
          -0.04870848292329647,
          0.010531283551379257,
          -0.10250042756143707,
          -0.027925615623979685,
          -0.03089197245410404,
          -0.053806632808459647,
          -0.02614997031521252,
          -0.03654552795361696,
          -0.04248697224759808,
          0.03235552088917414,
          -0.003674689753177822,
          0.055229221782951234,
          0.008043420839867206,
          0.028144247635565795,
          -0.03705127659836153,
          -0.07336140226887479,
          -0.026170676745711843,
          -0.03552185063931617,
          -0.037849532445414835,
          0.09677987087166316,
          0.00021309835630842506,
          -0.00020658089145971975,
          0.07313750522786618,
          -0.002864721900476914,
          0.012690516373234534,
          -0.004103659358211803,
          0.015698335502866104,
          -0.005994520014877401
         ],
         "y": [
          -0.016039341622064964,
          -0.024360336855620474,
          -0.018602417390492662,
          0.01616885637695187,
          -0.048804929021831,
          0.017189852997096973,
          -0.004875127177718863,
          0.0037747713853225943,
          -0.0085478623217267,
          -0.06724136396584238,
          0.00641651271174854,
          0.009007471170256793,
          0.006190207211000654,
          -0.012476157312169224,
          -0.012417787816453805,
          0.003079375783828031,
          -0.021811784012150375,
          -0.006458606551324375,
          -0.008030221802897019,
          -0.02303554718171909,
          -0.00685668027376153,
          0.01537479674130349,
          0.0336314187185297,
          0.0029093886317972375,
          0.02825613134192046,
          -0.0049387678608864794,
          0.01820197729149016,
          -0.016384013454602716,
          -0.0013206082469350818,
          0.024495735268081898,
          -0.0389712492699225,
          -0.04620519090403694,
          -0.07319502251868007,
          -0.0315614003094169,
          -0.022392884692456694,
          -0.035182750089917066,
          0.04302005898018857,
          0.030929857167646,
          -0.0066952819622108075,
          -0.007943862356521092,
          0.002578940297893057,
          -0.029631227292941924,
          -0.08530714844943904,
          -0.02142257477156571,
          -0.03650617199106515,
          0.013874578292746331,
          -0.023197085421858967,
          -0.020522996498654262,
          0.0011426343003879634,
          -0.017545375745427538,
          0.02335244451927221,
          -0.029404374760229682,
          0.00865690998238441,
          0.01079377305150498,
          -0.046341454971015515,
          -0.058990413595930435,
          -0.02942402871799513,
          0.0028219080882856554,
          -0.020811708455828415,
          -0.017281156353878467,
          -0.02539830777073666,
          0.011434516912358967,
          -0.008040015158132212,
          -0.01665688879781042,
          -0.02984163893474281,
          0.04684682665043867,
          0.026257182994744357,
          0.06900701005340204,
          0.045684133617099776,
          0.13267038155516095,
          0.05021064327011884,
          0.05475709976471707,
          0.0484690612972079,
          0.024305895488920565,
          0.02290191484814777,
          0.0009766756161035575,
          0.019409849471269634,
          0.06790374643730308,
          0.05427943417088232,
          0.040279139802651125,
          0.020688079702886525,
          0.11853643015334683,
          0.11694577103579898,
          0.0180926588606088,
          0.042246879444633616,
          -0.021709348294661486,
          0.060628821092871564,
          0.05316472555141696,
          0.12191029849358657,
          0.003349781593447201,
          0.06786465381880698,
          0.08557978764833363,
          0.027819673415771233,
          0.03108857253594393,
          0.029715625874521295,
          -0.0005426449637172072,
          0.032284972890679824,
          -0.040814191826290244,
          -0.04044359528147645,
          -0.047159353229347015,
          -0.03317617715332452,
          -0.04298966625618277,
          -0.03778186829073577,
          -0.044394258269966146,
          0.07124619837265685,
          0.0607501942874139,
          0.0650952193605973,
          0.061305179832337756,
          0.09669789917259813,
          0.0937189131614797,
          0.05962709219097731,
          0.05953822865117173,
          0.07946169438519939,
          -0.003251699242500025,
          0.002973733160341568,
          0.003718499312239155,
          0.021018142768074916,
          -0.0281070386370114,
          -0.027437634902064842,
          0.01109167609302186,
          -0.041276476612984406,
          -0.01573062655250078,
          -0.018890693526476772,
          -0.007564770247787573,
          -0.019513338781139054,
          -0.024481410675536625,
          -0.026185538372399984,
          -0.02437536791069836,
          -0.017727910013201727,
          -0.022054884879780814,
          -0.03723148910288885,
          -0.01235157920401344,
          -0.02659232859339464,
          -0.009730491022796885,
          0.020892191148432222,
          -0.0068407986043518216,
          0.012692543032399549,
          0.014305429982433508,
          -0.0034796453527536973,
          -0.04385184044636097,
          -0.024328542824584718,
          -0.02476868209458411,
          -0.06586044048066955,
          -0.025096003826950295,
          -0.029609678771617097,
          -0.023287085417703655,
          0.004330777279098313,
          -0.005733651236169821,
          -0.017245458470317755,
          0.001825426408059253,
          -0.016808696434989424,
          -0.012875958704936599,
          -0.012475514181424409,
          -0.03279771969973531,
          -0.04881170058767719,
          -0.006494042955593578,
          0.021832058791674578,
          0.0023525075214057647,
          -0.028166589806806887,
          -0.0013806495914810788,
          -0.034280344845674694,
          0.002438862385599313,
          -0.017259816177016586,
          -0.010576634106003072,
          -0.0175722301087995,
          -0.05593924203025154,
          -0.0459598084516353,
          -0.039064676479256585,
          0.0014639768946954166,
          0.026051691254154987,
          -0.013049281874130575,
          -0.025448857707033878,
          0.005797294965367405,
          -0.01958671860681426,
          -0.026150978173348802,
          -0.018917095135617717,
          -0.025616119207148322,
          -0.029509072544718063,
          -0.006111067693124554,
          0.004641225802859504,
          -0.01970643506544421,
          -0.015442402934314772,
          -0.012946237410843237,
          -0.023110947350578646,
          -0.003658742183916912,
          -0.00870873850560741,
          -0.016596662192125702,
          -0.01237926794754971,
          -0.033972409618795045,
          -0.006805683093801566,
          -0.004449040236299743,
          -0.0018614923848604035,
          -0.019636233115591182,
          -0.05218587361178655,
          -0.027054262253078016,
          -0.017711394542216957,
          0.0016711226407391932,
          -0.035727636494691545,
          0.001938872955660745,
          0.025890273996109714,
          -0.03518122652459557,
          -0.029984408914100234,
          -0.011736468682752013,
          -0.011364514393187093,
          -0.011432452029230003,
          -0.011563721313798937,
          -0.005426640199230257,
          0.00380471852843617,
          -0.02578068106468496,
          -0.027921596834550425,
          -0.022380121843262494,
          -0.012003604896636592,
          -0.01212960062971383,
          0.09786225680152631,
          0.09081863511423675,
          0.05293055824725091,
          0.0662672955685249,
          0.024294449909799842,
          0.06215324563281903,
          0.06749789437927177,
          0.05306109123356102,
          0.06407091933406471,
          0.05297634505800028,
          -0.02952962514821891,
          -0.03373121752106182,
          -0.03792492052093936,
          -0.022637729472433282,
          -0.031043836174140464,
          -0.013061473492665912,
          -0.03120617120881426,
          -0.04309577423027277,
          -0.0007630029609721704,
          -0.04539221364847371,
          -0.007792758808926713,
          0.021680343642699197,
          -0.042929649337671884,
          -0.021233573898406757,
          -0.038256897230116264,
          -0.02778305848865738,
          -0.007603678672335937,
          -0.01936531640194429,
          -0.046667979635189635,
          -0.01700853954772467,
          -0.025082986682172372,
          -0.02307993465797008,
          -0.015028268519298341,
          -0.03325586182520105,
          -0.019322750468863965,
          0.0747191422232344,
          0.04084262011649362,
          0.09416478879107193,
          0.09655980828346272,
          0.0696837359170133,
          0.034988147685433846,
          0.12790881609391122,
          0.026022852823337595,
          -0.03000176524408586,
          -0.002735384990021148,
          -0.004261786438123092,
          0.013912541040657127,
          -0.009331523385348832,
          -0.019022711587152772,
          -0.056229238059048295,
          -0.04170862674855577,
          -0.05566426535000849,
          -0.007832705350716179,
          0.011177532024675169,
          -0.03213854447938718,
          -0.02474538973827163,
          -0.028938211308682824,
          -0.031710535096299904,
          0.054695355128270264,
          0.059662444979388,
          0.06815267648724706,
          0.14167653640679395,
          0.09774104623415411,
          0.11928033060014051,
          0.09079277407813963,
          0.10581524172298548,
          0.10443538044510457,
          -0.02026562473463102,
          -0.02676366895321354,
          -0.02360842071042526,
          -0.027466231291356596,
          -0.044009340763042026,
          -0.001551983401979757,
          -0.02211570933695659,
          0.01790968655664718,
          0.022826260089541917,
          -0.014932267641652482,
          -0.024060813899484834,
          -0.022848870810098905,
          -0.01713409647300316,
          -0.023561464636267206,
          -0.030146424905841247,
          -0.023902563761811317,
          -0.01378597131514535,
          -0.031198887733300346,
          -0.014681126384563826,
          -0.015850372851891312,
          -0.02362677904747601,
          0.07426278351550057,
          0.05633648545610966,
          0.022597606110043692,
          0.0021438811775613548,
          -0.08468265937331121,
          -0.03694209636605996,
          -0.009332937250113842,
          -0.029403100372151603,
          -0.03000305903300132,
          -0.011459639217175346,
          -0.010292114650316745,
          -0.006633338069795561,
          -0.010209157662356073,
          0.015155940472204782,
          0.01642837329704831,
          -0.00587563558915783,
          0.08371855190875058,
          0.016731812936997815,
          -0.034182106219512474,
          0.00021901219371137738,
          0.024003389215110676,
          0.06750572489741812,
          0.03591689428743948,
          0.037084997971319845,
          0.09277317607843479,
          0.04522014175252144,
          0.09742467546888649,
          0.030871694781033222,
          0.07540898103102858,
          -0.037573798585422535,
          -0.03310238955010023,
          -0.03574880950256772,
          -0.027244827938019533,
          0.1786903577044901,
          0.029737812328464612,
          0.07703436297174741,
          0.02025993063363024,
          -0.02695648781752238,
          -0.018975873489071787,
          -0.0262886442843189,
          -0.013436697328312116,
          -0.03258303413491446,
          -0.02509414844299243,
          -0.029109821674347745,
          -0.029858042874352824,
          -0.02282478375359936,
          -0.0539304863659182,
          -0.01782669584971157,
          -0.025658199472736037,
          -0.03296330650033816,
          -0.030243324278528445,
          -0.030459733907483074,
          -0.04674374667179437,
          -0.019234236833081488,
          0.05879433620519793,
          0.07190684572697997,
          0.05854840155935319,
          0.038750267623616684,
          0.038190441844146286,
          0.03464990413297424,
          0.05839519569494404,
          0.059276372100058435,
          -0.005999586594031959,
          -0.0002413444616131988,
          0.055354254474228634,
          -0.00022923643224853635,
          0.03772736750533108,
          0.061333290843523826,
          -0.019641814602372985,
          -0.019558545015380065,
          -0.02334055881801687,
          -0.0243269176710073,
          -0.05495347320549145,
          0.010190444615823305,
          -0.038425705289342436,
          -0.030771369287327103,
          -0.03321848213962979,
          -0.0062924069068839,
          -0.023152193284285732,
          -0.02428260218199933,
          -0.015314699380769447,
          -0.023407907327724947,
          0.10672595163581321,
          0.04241286484550488,
          -0.012319934669019768,
          -0.0342495065453436,
          -0.03507929683840135,
          -0.03211838354474956,
          -0.027385020371397326,
          -0.008020056865664442,
          0.003174476887421991,
          0.014612877367481817,
          -0.0029277888080416095,
          0.016964279649956896,
          -0.00048260818460485054,
          -0.03166632484009355,
          -0.005905562154543742,
          0.039408564931101855,
          -0.03467573797929967,
          -0.016741843855140184,
          -0.028851043273331354,
          -0.10918140525556501,
          -0.0027328269904809215,
          -0.03626494153694162,
          -0.006640806731482563,
          -0.007893114050261298,
          -0.039457979318572076,
          -0.011443062066168803,
          -0.020217922235275146,
          -0.03693561209125556,
          -0.01896630960905218,
          -0.02212271564868076,
          -0.014284424742578591,
          -0.04015505682199257,
          0.019335319815741027,
          -0.027956076223064404,
          -0.01908588076675777,
          -0.020046846953763634,
          0.0049283271854801015,
          -0.012488810112136019,
          -0.021387688512256992,
          -0.024597382815934845,
          -0.0035850903387064387,
          -0.013189265812948298,
          0.0030283222218190978,
          -0.007899940880786428,
          -0.006224661748939885,
          -0.03617180030235395,
          -0.02253461007297974,
          -0.031362090108765124,
          -0.03701652810639489,
          -0.018047784748134562,
          -0.021600163151871517,
          -0.026228840645726094,
          -0.023487921098443613,
          -0.024990706171956426,
          -0.03210465169999377,
          -0.031393804353869126,
          -0.009356337679872904,
          -0.02553142519374681,
          0.01476478104241222,
          -0.020310451539896923,
          0.0046424196632444395,
          0.021113027691408087,
          0.016324857116075002,
          -0.020947141209696298,
          -0.019296590192466066,
          -0.013965704350123748,
          -0.015699634627957558,
          -0.03179877742594036,
          0.03348323864625274,
          -0.03886867483243456,
          0.007121938800601893,
          0.005650770840424407,
          -0.018053806027144827,
          0.012304134235082234,
          -0.04817202169006504,
          -0.0493790922036274,
          0.020354484858937823,
          -0.01552019089873391,
          0.008717479794615292,
          -0.034742711912075105,
          -0.045312500596029766,
          -0.01986820622372124,
          0.007200051892648638,
          -0.02645006767631976,
          -0.008835417819909694,
          0.013375719064970223,
          -0.00948766332943395,
          -0.019175849647556725,
          -0.018708707126693692,
          0.027149693957783574,
          -0.01990060571462087,
          -0.005425768583785522,
          -0.01814760594783771,
          0.004204251046483307,
          0.014635328625872888,
          0.02788342956032371,
          0.005147495845458227,
          -0.01151880006118158,
          0.006252770574750246,
          -0.0008834755867942295,
          0.008043714184261757,
          -0.005677002778238115,
          0.03296149397255901,
          -0.020839818754310922,
          -0.00750875809664242,
          -0.0019406295690065096,
          0.022735441400612358,
          -0.006114951100451209,
          -0.020714446079626133,
          -0.06115716056625565,
          -0.017061286647728217,
          -0.02795311851959983,
          -0.021901505686933557,
          -0.022251191202492283,
          -0.007900083322671655,
          -0.016993385845701134,
          -0.051080575081601035,
          -0.034947787334835716,
          -0.01669064223327961,
          -0.0213327006834672,
          -0.04111313390332317,
          -0.05213477461581557,
          -0.03092728004349051,
          -0.046654578079873534,
          0.04376569375950789,
          -0.019311914404144915,
          -0.01788309613458762,
          -0.04044937450737396,
          -0.040949769478947726,
          -0.04264277599480047,
          -0.036838117461976246,
          -0.03978297325697797,
          -0.08502717255211802,
          -0.03518936142969846,
          -0.012104035300843061,
          -0.03689701604686816,
          -0.0218637536449733,
          0.022781890167788765,
          -0.0142494817909622,
          -0.020504814179099627,
          -0.026055524420170555,
          0.0025814084001512614,
          0.007784174906233726,
          -0.02309406925289264,
          0.01844020627516605,
          -0.018867635022645966,
          -0.029153220419266726,
          -0.03172959152330777,
          -0.012631821550138674,
          0.006430982596260131,
          -0.016043265987440564,
          -0.0030324950599123555,
          0.008651941600561566,
          -0.03933373363458922,
          -0.02467190787098304,
          -0.03163654579825709,
          0.01020580520649377,
          0.0023148606162939674,
          -0.008031938221125065,
          -0.05287054318992375,
          -0.000980781233213042,
          0.010240061646313877,
          0.03286984119433035,
          0.015138771874265756,
          0.0093830858071231,
          -0.03163828049876997,
          -0.03428726406475003,
          -0.02905699311923413,
          -0.0009567501809344798,
          0.08026396868742862,
          -0.028976866245806938,
          -0.014100977042352601,
          -0.023750193776232706,
          0.008471393038950526,
          -0.006729644346539415,
          -0.005910974869070397,
          0.031383612657773036,
          0.014098862726481493,
          0.008536464034001698,
          -0.02760375195353262,
          0.0017837484568043647,
          -0.016471617220095092,
          -0.003177437167210957,
          -0.011661271478091045,
          -0.0203179110327534,
          -0.00622781221978955,
          0.0700817399581909,
          -0.00421730594459752,
          -0.029581169665776254,
          0.0019132874724380878,
          0.04382627500770182,
          0.021932775520355975,
          -0.02701139512889145,
          -0.03567387649016412,
          0.07185258939234225,
          -0.05219539447902391,
          -0.010906815487300795,
          0.011996653050393921,
          0.0012750139590039615,
          -0.0036023637665074048,
          -0.00012506011316824352,
          -0.02451186468635786,
          -0.01710980867807594,
          0.0035350248101362813,
          -0.01328971933261635,
          -0.024088298285494265,
          0.001478174008316146,
          0.01702877123821361,
          0.016580043315488256,
          -0.015836039399823563,
          0.001174408715128015,
          0.01394622366260927,
          0.00015146637619593256,
          -0.015886621027312132,
          -0.005254198943993774,
          0.002924696034716139,
          -0.017915275323627054,
          0.0028789464240121057,
          -0.013421338916259837,
          -0.014764184235684145,
          -0.026016898850370687,
          -0.022193486840758364,
          -0.0378656008981083,
          0.09663198511562512,
          0.08525661118712029,
          0.06100431628372585,
          0.09017028749361461,
          0.1130035564546893,
          0.07824412601954901,
          0.08102227020622679,
          0.0922064972525309,
          0.013822076778903288,
          0.05826390537186297,
          0.0746397560211879,
          0.06716074427675216,
          0.07885571595260209,
          0.04490249410396685,
          0.10699013584731432,
          0.053087274058537096,
          0.053290476352354586,
          0.05930982029308483,
          0.11094759104620866,
          0.043862704887677344,
          0.09673297894856828,
          0.057037403836756415,
          0.08097963798048885,
          0.09105825022092262,
          0.05929479663044695,
          0.05339645132995542,
          -0.009294425115632438,
          -0.012948135456876663,
          -0.02063474402818132,
          -0.0073639999475372175,
          -0.006102162265416644,
          -0.04896756745793143,
          -0.07360909784088027,
          -0.019755806814215942,
          -0.022359287293179063,
          -0.0235570726517965,
          0.014482187436815843,
          -0.00851744781560918,
          9.087787852657694e-05,
          0.00902562329706317,
          0.0178693425125446,
          0.014728218460014195,
          -0.0025902630454082295,
          -0.021074347796436882,
          -0.004337432824364277
         ],
         "z": [
          -0.013108254450269816,
          -0.006856199123725527,
          0.0037419198239228174,
          0.024948988352412875,
          -0.07071725666637226,
          0.03931457956636574,
          0.03703671957143545,
          0.02971176196720531,
          0.017997528110001933,
          -0.00013856933143952766,
          0.012314232057276,
          -0.04457870893403506,
          -0.027800655483882095,
          -0.01713774415335273,
          0.002622551679222947,
          0.015320033829320791,
          -0.038217687179400904,
          0.016664278591941976,
          -0.010924337776632683,
          -0.02876628453741797,
          0.009474763536793732,
          -0.03323580851554396,
          -0.00820171003343452,
          0.003223716579243696,
          -0.030981139311666753,
          -0.0024209708406880076,
          0.05581275054739129,
          -0.011456189589813169,
          0.022718776636616946,
          0.00016875916628126834,
          -0.03251333500073363,
          -0.12159179089919965,
          -0.11230574741121535,
          -0.04163206688425054,
          0.018021753093405573,
          -0.10360022488181561,
          0.02580805794159294,
          -7.194395647872031e-05,
          -0.003938926162649046,
          -0.016324674657195205,
          0.026165858894518605,
          0.012138859175220142,
          -0.08764262432027041,
          0.023651770345741317,
          -0.0826435792226686,
          0.009318058587035943,
          -0.00625770345331555,
          0.05894975779634386,
          0.01812147643302514,
          -0.014355925544271472,
          0.029604259728779232,
          -0.01588062783573385,
          0.03543698061364815,
          0.008038478380523099,
          0.013414795398525678,
          -0.03704947338087839,
          -0.023215245492524073,
          0.0336841325716035,
          0.022391396574281033,
          0.03961627501560037,
          0.008667415997446994,
          -0.0059231906151761445,
          -0.005311265043346039,
          -0.015241428549513112,
          -0.006267769884305745,
          -0.020605072637614116,
          -0.035979222760264065,
          -0.018015120292712506,
          -0.06956956808401817,
          -0.040300887050445246,
          -0.08452834622014262,
          -0.02405008941806299,
          -0.07838739110586325,
          0.04254901114910704,
          0.04328125121896712,
          0.05773070372307509,
          0.03853341822917782,
          0.007173159568733378,
          0.03406300683351608,
          0.04801879436688513,
          0.042197035749881526,
          0.0018095549829292756,
          0.045172630876467966,
          0.049539221440826973,
          0.04821467611125371,
          0.0687558901508523,
          0.026879093079904232,
          -0.0050321172970110755,
          0.01906751774044504,
          -0.025854960994840394,
          -0.05490644552925973,
          0.03611664009977632,
          0.051348127421560856,
          0.04522451460904451,
          0.05177861752855467,
          0.05396203145094724,
          0.05923118683378797,
          0.11307541931772194,
          0.11975185007713919,
          0.10185047525137592,
          0.09419403412904899,
          0.11673500711367964,
          0.09677615958043154,
          0.11530374552272171,
          -0.0221871973102317,
          0.0035935432251015145,
          -0.04808834561540818,
          -0.06836948602008712,
          -0.016743911867465214,
          0.02789577169586725,
          -0.024599051770392497,
          -0.02523626411269328,
          0.02163771053812149,
          0.046283649742408145,
          -0.027460876056683823,
          -0.002635165353875161,
          0.015258341236479503,
          -0.06607473068776283,
          -0.009669671554901067,
          0.011621034395258776,
          -0.010801064748637032,
          0.049131204798332176,
          -0.006145109395755449,
          0.11300996066594668,
          0.0596639357714979,
          0.05174020655989661,
          -0.014886295872757013,
          -0.003447852895465236,
          -0.0002477463786467789,
          0.05368049203558647,
          0.02221966657930691,
          -0.015233197075968262,
          -0.03797641763525941,
          0.01575561480782084,
          -0.0012721927806932203,
          0.026611274924274488,
          0.0009099353164539601,
          0.011533365823908686,
          -0.0262759479994912,
          0.01825880459586058,
          0.02974679012873308,
          0.03656238914363785,
          -0.00803717847994012,
          -0.07423239180930596,
          -0.012535445723516541,
          -0.014228169189215458,
          -0.09977408080238731,
          -0.005435982671090118,
          0.00046203515439591474,
          0.0026545365477882183,
          -0.009525149067172473,
          -0.024043132310022485,
          -0.0014039668702286723,
          -0.016162588255953788,
          -0.044924803737293635,
          0.004131371709484389,
          0.01833252885543822,
          0.00433179083151226,
          -0.04461238546044369,
          -0.012936798328798233,
          -0.04618048545274322,
          -0.0068244999277406225,
          0.003683481088932869,
          -0.03418639428155202,
          0.03291911821604118,
          0.0065625127849562185,
          -0.03804697024849661,
          -0.016984737377123568,
          0.008942748337980618,
          0.014548983340268818,
          0.03940888287093637,
          0.050352885653559845,
          0.0029989126921850023,
          0.033822103026836116,
          0.052765165834096926,
          0.011508079024719623,
          0.05302339279984452,
          -0.010979812143589798,
          0.03178385897299861,
          0.032951787317005155,
          0.04487531655588362,
          0.03550315761874783,
          0.0386714601366368,
          0.02081520655854148,
          0.020638646703944226,
          0.03837499243283971,
          0.034726782291942634,
          0.009227513973684173,
          0.0015996480452059572,
          -0.029667662950852904,
          0.030360923722542316,
          -0.009372414393083919,
          -0.006336759807604119,
          -0.10137268111883017,
          -0.01892901189433829,
          0.004336303707458133,
          0.0244056609540019,
          0.04317844386258344,
          -0.014141826968211865,
          0.016527791195060017,
          0.016924198076162487,
          -0.04222520341334325,
          0.009026590933562945,
          -0.006474737918778927,
          -0.0070445001578286846,
          -0.03978082374158043,
          -0.011314041752983646,
          -0.004196664663645065,
          0.014554590591506917,
          0.05262886749767859,
          0.05380226117428635,
          -0.02676380298921468,
          -0.013996927554553909,
          -0.05115482977223856,
          -0.02929910115703274,
          0.00673963223846191,
          -0.041533812199477174,
          0.0019109566877753988,
          -0.041826753798868695,
          -0.037289396147591504,
          0.009836212577229789,
          -0.0032391589762240493,
          -0.013058204671222172,
          -0.0009381517374180528,
          -0.045065812794417015,
          -0.021770966233923737,
          -0.01813511397378229,
          -0.06347378813839698,
          0.012685569185746403,
          0.020681933580160457,
          -0.01920909082454273,
          0.020074221822728604,
          -0.03883413815123524,
          -0.02991661792729231,
          -0.020142020459448066,
          -0.011221800398212944,
          0.0011830157064427285,
          -0.0020839295576454667,
          0.0002271271107179996,
          -0.0015514237619445306,
          0.010135757678299136,
          -0.04894909076165282,
          -0.0036562715650636855,
          0.013831738558091188,
          0.006991409811721617,
          0.09354647432877594,
          0.07408162874762647,
          0.07055442280170957,
          0.01124093264296982,
          -0.01754990437043128,
          -0.05720918817681726,
          -0.027005314438169156,
          -0.05415880650128762,
          0.018259958686135072,
          -0.04846857374186054,
          -0.003958142840818601,
          -0.014886936717584828,
          0.012079093681800311,
          -0.015204775762056328,
          -0.004642570069371463,
          -0.0005689202363988104,
          -0.027100321502257357,
          -0.03026067994722893,
          -0.011262722772351165,
          -0.009455445833041202,
          -0.0054992060444128904,
          -0.03779197472669884,
          0.044063861872346885,
          -0.01877083687949178,
          0.07154919181476792,
          0.06798986802589778,
          -0.01051341320791396,
          -0.03348110700658367,
          -0.060600606924971205,
          -0.09161465250975798,
          -0.03869263898808386,
          -0.0032863918773976476,
          -0.05880218967350327,
          -0.02283426821685909,
          -0.04314620153386983,
          0.04273482473050177,
          -0.021292262201119593,
          -0.02794416382080675,
          0.0542439737302849,
          0.008791843365004064,
          0.0109931730063939,
          0.001875359259644449,
          -0.017713298780881924,
          0.056642234057482005,
          0.04844532630199183,
          0.0010029733415704211,
          0.037632201231085384,
          0.015731699139714936,
          0.09032809323692338,
          0.0510309050566672,
          0.07736184497337957,
          0.031119934122634953,
          -0.03790144556286127,
          0.0032708623057632227,
          -0.0008150655507952291,
          -0.019474831548522482,
          0.0008726998821460178,
          -0.056278600590888475,
          0.0019704960574642777,
          0.01867384288610288,
          -0.10841377008666142,
          -0.040531772974662206,
          -0.0017713712012473232,
          -0.015554912161137049,
          -0.009014912319608959,
          -0.006466877709609394,
          0.006188772405858651,
          0.021487541950301503,
          0.01245231211097643,
          0.02252760617227895,
          -0.00938672617782624,
          -0.01642760595716871,
          -0.010439036682384474,
          0.031731100414243096,
          0.05981142353783693,
          0.03897955507652872,
          0.0027689765032373856,
          0.014051322545995585,
          -0.0013666953406941424,
          -0.010141152380937987,
          0.011931865205799643,
          0.004378936737833065,
          -0.06538196148461271,
          0.027478296190127215,
          -0.02020331253886924,
          -0.04984162132996152,
          -0.023445467105055566,
          -0.009467999404889151,
          0.024390356660825455,
          -0.0681574602315003,
          -0.05036375176149477,
          -0.034289987041499534,
          -0.021469717419306193,
          0.061189032382048744,
          0.06652981840072728,
          0.01009733119535123,
          0.007846303143571036,
          0.020304681690603163,
          0.032754043804915395,
          -0.04058811618121887,
          0.04999401045204324,
          -0.013836218311461847,
          -0.02596607895128953,
          0.059538572086523016,
          0.05521974516306949,
          -0.012491807777568106,
          0.06073064557771561,
          -0.019115693976946933,
          -0.03989953692476612,
          -0.04487406750181481,
          0.004491645867004805,
          -0.024570078960160877,
          -0.033157601475001505,
          -0.03522449835987686,
          -0.0338120683798313,
          0.005138294129337125,
          -0.020721972943213162,
          -0.012045776242857064,
          0.05374396573007725,
          0.019763041703850636,
          -0.02110503419485674,
          -0.004252826187303893,
          0.0030078184999842803,
          -0.011172021303482828,
          0.02538491516857224,
          -0.029101735883946624,
          -0.03793222777187308,
          -0.06537320421200035,
          0.016061445882853,
          0.005918954170881253,
          0.003387895621174349,
          0.019980992733512067,
          -0.01428701915023043,
          -0.007572590672371837,
          -0.10580331448239581,
          -0.07454582200329962,
          -0.038517324967800734,
          -0.11341596607245447,
          -0.05058368303837306,
          -0.009323891760133375,
          -0.03858960719217127,
          0.10054070885736391,
          0.09359112529500524,
          0.08866750687180118,
          0.07267681658191072,
          0.0006858794715192423,
          0.03027453768953002,
          0.01508961091818226,
          0.020957019593720868,
          -0.004336009131363033,
          -0.015669527667515632,
          -0.08387039285633135,
          -0.025831620681330204,
          0.031014717395328406,
          0.02557354561023866,
          0.037173695122906934,
          0.00908893891991699,
          -0.264298167829334,
          0.02494970068828626,
          -0.053075437399242455,
          0.009221016844266568,
          -0.03001741934393441,
          -0.011651585067320704,
          0.010406251054052882,
          -0.01277916462769172,
          -0.03701130128231319,
          0.002319690194528222,
          0.020652479921036096,
          0.016862264529159766,
          -0.015134128824909793,
          0.0013864830913053344,
          0.02148901787742495,
          0.08440506242339559,
          0.09313498389353024,
          0.06633816308988626,
          0.08146457241313915,
          0.027115083862519814,
          -0.03914353322152788,
          0.014021358697912165,
          0.028829753369876192,
          0.025106289706931594,
          0.01329393471908287,
          0.0401421897637891,
          -0.04183704851866126,
          -0.037248842679473586,
          -0.0439383617526643,
          -0.023538463547553214,
          -0.011705119039804457,
          -0.020348186298147282,
          -0.008295965111786163,
          -8.701009740754083e-06,
          -0.01385137918298332,
          -0.00605901343899061,
          0.004401974334273532,
          0.019117164975657224,
          0.0007463843468442645,
          0.044878898718273275,
          -0.06215234370247304,
          -0.010460139555120072,
          -0.06281569922938157,
          -0.017145708747939352,
          -0.00630169058052822,
          0.03939710089863426,
          -0.04286637987420424,
          0.020099130189983595,
          -0.035887032306865255,
          0.02785345813536407,
          -0.06449517717159617,
          -0.005887919340068893,
          -0.003520916819883489,
          -0.015321322670034448,
          0.015973483593126333,
          -0.08055642514013708,
          -0.008440229156473411,
          0.03703348981603363,
          -0.012542930165065384,
          -0.004331362906997015,
          0.006271745084443038,
          -0.030779945272363277,
          -0.0065116413278238855,
          0.022208623145521106,
          -0.001997585239912327,
          -0.007655056204397229,
          -0.004990987683879713,
          0.024012720513693308,
          0.04672470322089472,
          -0.004630447066892292,
          -0.005113565974683845,
          -0.007894089276101345,
          0.009262618795273212,
          0.030418291519983594,
          0.010633191729235098,
          2.30171363489933e-05,
          0.018095822408613977,
          0.001588558683858581,
          -0.013776633714811741,
          -0.009404470292759617,
          -0.003830192090218116,
          0.01491582607768103,
          0.022943691595568784,
          0.01231990342704209,
          0.013292228585161374,
          -0.0319542351209219,
          -0.00500282066727819,
          -0.005351022421569219,
          0.011945097215697394,
          0.007466678686452052,
          -0.006510323907106624,
          -0.002568635940357029,
          0.00976564123348414,
          0.0023885307694459655,
          -0.00992053023599539,
          0.06608389053546526,
          -0.03864878030598823,
          -0.021636456885721415,
          -0.03575120201821232,
          -0.02705036907093594,
          -0.00794330946930868,
          -0.049248712892461875,
          -0.03177567501734417,
          -0.019972985174156375,
          0.022996046572109182,
          0.13773385725926865,
          -0.0006204831023025389,
          0.005694746669571892,
          0.0044785576552092855,
          -0.01809959256678521,
          -0.0014823743462910317,
          0.017506314709318085,
          -0.03282857154130527,
          -0.12587149716643883,
          -0.034793050480500874,
          0.01803581035647819,
          -0.032505980987802705,
          0.014219744620390499,
          0.058854312346821605,
          0.03712502917345026,
          -0.020342930279205498,
          -0.005662629487746564,
          -0.0049376187132128355,
          -0.004370313212857846,
          -0.032134843921723104,
          0.004362642473734881,
          0.03904778634728105,
          -0.022859660281325526,
          -0.030147494909330073,
          0.0024481942731932197,
          0.0001567720246807081,
          -0.03168991705536733,
          -0.029284509052616346,
          0.02105989488097735,
          0.0019608260350984716,
          0.012646638582285744,
          0.016599132927544714,
          0.012092066863869403,
          0.01529640772194625,
          0.025425227455002745,
          0.026345204393206218,
          0.007276687147233108,
          0.007386076787404344,
          -0.0032139890473308888,
          0.01082517619087319,
          -0.016231397005459308,
          -0.009083357133620346,
          0.007184809008859633,
          0.01449769185518809,
          -0.004184098535738795,
          0.01482744371198173,
          -0.0005725268955577135,
          -0.028836413693488966,
          -0.009240420665889803,
          0.01869031164479156,
          -0.006407923434296543,
          -0.029383818753110354,
          -0.011755600923151147,
          -0.0708263800256699,
          -0.046226098732994964,
          0.011801082307765007,
          0.017853278405034458,
          0.007681911154069817,
          0.005879339667070817,
          -0.012698086545753525,
          -0.0569492428051089,
          -0.024047936951247125,
          0.12075048522135574,
          -0.027122910659548242,
          -0.09341667508760186,
          0.014905981945621857,
          0.06570017408726615,
          -0.03141378511038191,
          0.03640144283998359,
          -0.02521559037935167,
          0.053579002010982105,
          -0.016611110461857856,
          1.0644588291450478e-06,
          0.013333505191449218,
          -0.04176079566500634,
          -0.008483969020463408,
          0.012154516113324975,
          -0.029858978275299142,
          -0.0422196383143362,
          0.05386268919953662,
          -0.03633228993122665,
          0.00046564900239664484,
          0.06560281098867601,
          0.011815204484144462,
          0.04798033345633816,
          0.022942293648357964,
          -0.02592455826650676,
          -0.010354189008393837,
          0.044470017360562095,
          0.006355542130427238,
          0.024137073903297467,
          -0.01616309665926884,
          0.017896972081352998,
          0.03749219960948189,
          0.008934368163311808,
          0.016557039587026708,
          -0.02380551761724232,
          0.0069281090777866886,
          -0.041162135814984874,
          0.011848106839758515,
          -0.006415888891040066,
          0.009693250934839612,
          0.003057366398917653,
          0.03961354207262925,
          0.01728458902240896,
          -0.042385317837726616,
          0.001829068398626231,
          -0.008497258402849149,
          -0.03679775081582732,
          -0.0026931732944723377,
          0.0025784860468138753,
          0.021534045723320436,
          0.0008859212242734853,
          -0.0009750939030337823,
          0.0018153753091991833,
          0.008773649267486267,
          0.011084135323916309,
          0.005284803235115465,
          0.032514580690434815,
          -0.07561091677663692,
          0.008724041864299167,
          -0.006283300561834428,
          -0.010225070357069469,
          0.014455974257716563,
          0.021196843803210144,
          0.004969301105922828,
          0.020151863152658416,
          0.02060452794072479,
          -0.024520960745538847,
          0.023210268799957145,
          -0.017215466897682125,
          -0.13995077832086952,
          0.03420017756446414,
          0.0426664007357332,
          0.04614679102830937,
          0.004482524604217957,
          -0.012506560381118411,
          -0.0023140064892557986,
          -0.034751965571386906,
          -0.005624282045001642,
          0.015896985277095967,
          0.008841783044686422,
          -0.023567848416222493,
          -0.0586147380051616
         ]
        }
       ],
       "layout": {
        "legend": {
         "tracegroupgap": 0
        },
        "margin": {
         "t": 60
        },
        "scene": {
         "domain": {
          "x": [
           0,
           1
          ],
          "y": [
           0,
           1
          ]
         },
         "xaxis": {
          "title": {
           "text": "PC1"
          }
         },
         "yaxis": {
          "title": {
           "text": "PC2"
          }
         },
         "zaxis": {
          "title": {
           "text": "PC3"
          }
         }
        },
        "template": {
         "data": {
          "bar": [
           {
            "error_x": {
             "color": "#2a3f5f"
            },
            "error_y": {
             "color": "#2a3f5f"
            },
            "marker": {
             "line": {
              "color": "#E5ECF6",
              "width": 0.5
             },
             "pattern": {
              "fillmode": "overlay",
              "size": 10,
              "solidity": 0.2
             }
            },
            "type": "bar"
           }
          ],
          "barpolar": [
           {
            "marker": {
             "line": {
              "color": "#E5ECF6",
              "width": 0.5
             },
             "pattern": {
              "fillmode": "overlay",
              "size": 10,
              "solidity": 0.2
             }
            },
            "type": "barpolar"
           }
          ],
          "carpet": [
           {
            "aaxis": {
             "endlinecolor": "#2a3f5f",
             "gridcolor": "white",
             "linecolor": "white",
             "minorgridcolor": "white",
             "startlinecolor": "#2a3f5f"
            },
            "baxis": {
             "endlinecolor": "#2a3f5f",
             "gridcolor": "white",
             "linecolor": "white",
             "minorgridcolor": "white",
             "startlinecolor": "#2a3f5f"
            },
            "type": "carpet"
           }
          ],
          "choropleth": [
           {
            "colorbar": {
             "outlinewidth": 0,
             "ticks": ""
            },
            "type": "choropleth"
           }
          ],
          "contour": [
           {
            "colorbar": {
             "outlinewidth": 0,
             "ticks": ""
            },
            "colorscale": [
             [
              0,
              "#0d0887"
             ],
             [
              0.1111111111111111,
              "#46039f"
             ],
             [
              0.2222222222222222,
              "#7201a8"
             ],
             [
              0.3333333333333333,
              "#9c179e"
             ],
             [
              0.4444444444444444,
              "#bd3786"
             ],
             [
              0.5555555555555556,
              "#d8576b"
             ],
             [
              0.6666666666666666,
              "#ed7953"
             ],
             [
              0.7777777777777778,
              "#fb9f3a"
             ],
             [
              0.8888888888888888,
              "#fdca26"
             ],
             [
              1,
              "#f0f921"
             ]
            ],
            "type": "contour"
           }
          ],
          "contourcarpet": [
           {
            "colorbar": {
             "outlinewidth": 0,
             "ticks": ""
            },
            "type": "contourcarpet"
           }
          ],
          "heatmap": [
           {
            "colorbar": {
             "outlinewidth": 0,
             "ticks": ""
            },
            "colorscale": [
             [
              0,
              "#0d0887"
             ],
             [
              0.1111111111111111,
              "#46039f"
             ],
             [
              0.2222222222222222,
              "#7201a8"
             ],
             [
              0.3333333333333333,
              "#9c179e"
             ],
             [
              0.4444444444444444,
              "#bd3786"
             ],
             [
              0.5555555555555556,
              "#d8576b"
             ],
             [
              0.6666666666666666,
              "#ed7953"
             ],
             [
              0.7777777777777778,
              "#fb9f3a"
             ],
             [
              0.8888888888888888,
              "#fdca26"
             ],
             [
              1,
              "#f0f921"
             ]
            ],
            "type": "heatmap"
           }
          ],
          "heatmapgl": [
           {
            "colorbar": {
             "outlinewidth": 0,
             "ticks": ""
            },
            "colorscale": [
             [
              0,
              "#0d0887"
             ],
             [
              0.1111111111111111,
              "#46039f"
             ],
             [
              0.2222222222222222,
              "#7201a8"
             ],
             [
              0.3333333333333333,
              "#9c179e"
             ],
             [
              0.4444444444444444,
              "#bd3786"
             ],
             [
              0.5555555555555556,
              "#d8576b"
             ],
             [
              0.6666666666666666,
              "#ed7953"
             ],
             [
              0.7777777777777778,
              "#fb9f3a"
             ],
             [
              0.8888888888888888,
              "#fdca26"
             ],
             [
              1,
              "#f0f921"
             ]
            ],
            "type": "heatmapgl"
           }
          ],
          "histogram": [
           {
            "marker": {
             "pattern": {
              "fillmode": "overlay",
              "size": 10,
              "solidity": 0.2
             }
            },
            "type": "histogram"
           }
          ],
          "histogram2d": [
           {
            "colorbar": {
             "outlinewidth": 0,
             "ticks": ""
            },
            "colorscale": [
             [
              0,
              "#0d0887"
             ],
             [
              0.1111111111111111,
              "#46039f"
             ],
             [
              0.2222222222222222,
              "#7201a8"
             ],
             [
              0.3333333333333333,
              "#9c179e"
             ],
             [
              0.4444444444444444,
              "#bd3786"
             ],
             [
              0.5555555555555556,
              "#d8576b"
             ],
             [
              0.6666666666666666,
              "#ed7953"
             ],
             [
              0.7777777777777778,
              "#fb9f3a"
             ],
             [
              0.8888888888888888,
              "#fdca26"
             ],
             [
              1,
              "#f0f921"
             ]
            ],
            "type": "histogram2d"
           }
          ],
          "histogram2dcontour": [
           {
            "colorbar": {
             "outlinewidth": 0,
             "ticks": ""
            },
            "colorscale": [
             [
              0,
              "#0d0887"
             ],
             [
              0.1111111111111111,
              "#46039f"
             ],
             [
              0.2222222222222222,
              "#7201a8"
             ],
             [
              0.3333333333333333,
              "#9c179e"
             ],
             [
              0.4444444444444444,
              "#bd3786"
             ],
             [
              0.5555555555555556,
              "#d8576b"
             ],
             [
              0.6666666666666666,
              "#ed7953"
             ],
             [
              0.7777777777777778,
              "#fb9f3a"
             ],
             [
              0.8888888888888888,
              "#fdca26"
             ],
             [
              1,
              "#f0f921"
             ]
            ],
            "type": "histogram2dcontour"
           }
          ],
          "mesh3d": [
           {
            "colorbar": {
             "outlinewidth": 0,
             "ticks": ""
            },
            "type": "mesh3d"
           }
          ],
          "parcoords": [
           {
            "line": {
             "colorbar": {
              "outlinewidth": 0,
              "ticks": ""
             }
            },
            "type": "parcoords"
           }
          ],
          "pie": [
           {
            "automargin": true,
            "type": "pie"
           }
          ],
          "scatter": [
           {
            "marker": {
             "colorbar": {
              "outlinewidth": 0,
              "ticks": ""
             }
            },
            "type": "scatter"
           }
          ],
          "scatter3d": [
           {
            "line": {
             "colorbar": {
              "outlinewidth": 0,
              "ticks": ""
             }
            },
            "marker": {
             "colorbar": {
              "outlinewidth": 0,
              "ticks": ""
             }
            },
            "type": "scatter3d"
           }
          ],
          "scattercarpet": [
           {
            "marker": {
             "colorbar": {
              "outlinewidth": 0,
              "ticks": ""
             }
            },
            "type": "scattercarpet"
           }
          ],
          "scattergeo": [
           {
            "marker": {
             "colorbar": {
              "outlinewidth": 0,
              "ticks": ""
             }
            },
            "type": "scattergeo"
           }
          ],
          "scattergl": [
           {
            "marker": {
             "colorbar": {
              "outlinewidth": 0,
              "ticks": ""
             }
            },
            "type": "scattergl"
           }
          ],
          "scattermapbox": [
           {
            "marker": {
             "colorbar": {
              "outlinewidth": 0,
              "ticks": ""
             }
            },
            "type": "scattermapbox"
           }
          ],
          "scatterpolar": [
           {
            "marker": {
             "colorbar": {
              "outlinewidth": 0,
              "ticks": ""
             }
            },
            "type": "scatterpolar"
           }
          ],
          "scatterpolargl": [
           {
            "marker": {
             "colorbar": {
              "outlinewidth": 0,
              "ticks": ""
             }
            },
            "type": "scatterpolargl"
           }
          ],
          "scatterternary": [
           {
            "marker": {
             "colorbar": {
              "outlinewidth": 0,
              "ticks": ""
             }
            },
            "type": "scatterternary"
           }
          ],
          "surface": [
           {
            "colorbar": {
             "outlinewidth": 0,
             "ticks": ""
            },
            "colorscale": [
             [
              0,
              "#0d0887"
             ],
             [
              0.1111111111111111,
              "#46039f"
             ],
             [
              0.2222222222222222,
              "#7201a8"
             ],
             [
              0.3333333333333333,
              "#9c179e"
             ],
             [
              0.4444444444444444,
              "#bd3786"
             ],
             [
              0.5555555555555556,
              "#d8576b"
             ],
             [
              0.6666666666666666,
              "#ed7953"
             ],
             [
              0.7777777777777778,
              "#fb9f3a"
             ],
             [
              0.8888888888888888,
              "#fdca26"
             ],
             [
              1,
              "#f0f921"
             ]
            ],
            "type": "surface"
           }
          ],
          "table": [
           {
            "cells": {
             "fill": {
              "color": "#EBF0F8"
             },
             "line": {
              "color": "white"
             }
            },
            "header": {
             "fill": {
              "color": "#C8D4E3"
             },
             "line": {
              "color": "white"
             }
            },
            "type": "table"
           }
          ]
         },
         "layout": {
          "annotationdefaults": {
           "arrowcolor": "#2a3f5f",
           "arrowhead": 0,
           "arrowwidth": 1
          },
          "autotypenumbers": "strict",
          "coloraxis": {
           "colorbar": {
            "outlinewidth": 0,
            "ticks": ""
           }
          },
          "colorscale": {
           "diverging": [
            [
             0,
             "#8e0152"
            ],
            [
             0.1,
             "#c51b7d"
            ],
            [
             0.2,
             "#de77ae"
            ],
            [
             0.3,
             "#f1b6da"
            ],
            [
             0.4,
             "#fde0ef"
            ],
            [
             0.5,
             "#f7f7f7"
            ],
            [
             0.6,
             "#e6f5d0"
            ],
            [
             0.7,
             "#b8e186"
            ],
            [
             0.8,
             "#7fbc41"
            ],
            [
             0.9,
             "#4d9221"
            ],
            [
             1,
             "#276419"
            ]
           ],
           "sequential": [
            [
             0,
             "#0d0887"
            ],
            [
             0.1111111111111111,
             "#46039f"
            ],
            [
             0.2222222222222222,
             "#7201a8"
            ],
            [
             0.3333333333333333,
             "#9c179e"
            ],
            [
             0.4444444444444444,
             "#bd3786"
            ],
            [
             0.5555555555555556,
             "#d8576b"
            ],
            [
             0.6666666666666666,
             "#ed7953"
            ],
            [
             0.7777777777777778,
             "#fb9f3a"
            ],
            [
             0.8888888888888888,
             "#fdca26"
            ],
            [
             1,
             "#f0f921"
            ]
           ],
           "sequentialminus": [
            [
             0,
             "#0d0887"
            ],
            [
             0.1111111111111111,
             "#46039f"
            ],
            [
             0.2222222222222222,
             "#7201a8"
            ],
            [
             0.3333333333333333,
             "#9c179e"
            ],
            [
             0.4444444444444444,
             "#bd3786"
            ],
            [
             0.5555555555555556,
             "#d8576b"
            ],
            [
             0.6666666666666666,
             "#ed7953"
            ],
            [
             0.7777777777777778,
             "#fb9f3a"
            ],
            [
             0.8888888888888888,
             "#fdca26"
            ],
            [
             1,
             "#f0f921"
            ]
           ]
          },
          "colorway": [
           "#636efa",
           "#EF553B",
           "#00cc96",
           "#ab63fa",
           "#FFA15A",
           "#19d3f3",
           "#FF6692",
           "#B6E880",
           "#FF97FF",
           "#FECB52"
          ],
          "font": {
           "color": "#2a3f5f"
          },
          "geo": {
           "bgcolor": "white",
           "lakecolor": "white",
           "landcolor": "#E5ECF6",
           "showlakes": true,
           "showland": true,
           "subunitcolor": "white"
          },
          "hoverlabel": {
           "align": "left"
          },
          "hovermode": "closest",
          "mapbox": {
           "style": "light"
          },
          "paper_bgcolor": "white",
          "plot_bgcolor": "#E5ECF6",
          "polar": {
           "angularaxis": {
            "gridcolor": "white",
            "linecolor": "white",
            "ticks": ""
           },
           "bgcolor": "#E5ECF6",
           "radialaxis": {
            "gridcolor": "white",
            "linecolor": "white",
            "ticks": ""
           }
          },
          "scene": {
           "xaxis": {
            "backgroundcolor": "#E5ECF6",
            "gridcolor": "white",
            "gridwidth": 2,
            "linecolor": "white",
            "showbackground": true,
            "ticks": "",
            "zerolinecolor": "white"
           },
           "yaxis": {
            "backgroundcolor": "#E5ECF6",
            "gridcolor": "white",
            "gridwidth": 2,
            "linecolor": "white",
            "showbackground": true,
            "ticks": "",
            "zerolinecolor": "white"
           },
           "zaxis": {
            "backgroundcolor": "#E5ECF6",
            "gridcolor": "white",
            "gridwidth": 2,
            "linecolor": "white",
            "showbackground": true,
            "ticks": "",
            "zerolinecolor": "white"
           }
          },
          "shapedefaults": {
           "line": {
            "color": "#2a3f5f"
           }
          },
          "ternary": {
           "aaxis": {
            "gridcolor": "white",
            "linecolor": "white",
            "ticks": ""
           },
           "baxis": {
            "gridcolor": "white",
            "linecolor": "white",
            "ticks": ""
           },
           "bgcolor": "#E5ECF6",
           "caxis": {
            "gridcolor": "white",
            "linecolor": "white",
            "ticks": ""
           }
          },
          "title": {
           "x": 0.05
          },
          "xaxis": {
           "automargin": true,
           "gridcolor": "white",
           "linecolor": "white",
           "ticks": "",
           "title": {
            "standoff": 15
           },
           "zerolinecolor": "white",
           "zerolinewidth": 2
          },
          "yaxis": {
           "automargin": true,
           "gridcolor": "white",
           "linecolor": "white",
           "ticks": "",
           "title": {
            "standoff": 15
           },
           "zerolinecolor": "white",
           "zerolinewidth": 2
          }
         }
        }
       }
      },
      "text/html": [
       "<div>                            <div id=\"c1a5ec56-6fa7-461d-9928-eca5d15f041b\" class=\"plotly-graph-div\" style=\"height:525px; width:100%;\"></div>            <script type=\"text/javascript\">                require([\"plotly\"], function(Plotly) {                    window.PLOTLYENV=window.PLOTLYENV || {};                                    if (document.getElementById(\"c1a5ec56-6fa7-461d-9928-eca5d15f041b\")) {                    Plotly.newPlot(                        \"c1a5ec56-6fa7-461d-9928-eca5d15f041b\",                        [{\"hovertemplate\":\"PC1=%{x}<br>PC2=%{y}<br>PC3=%{z}<extra></extra>\",\"legendgroup\":\"\",\"marker\":{\"color\":\"#636efa\",\"opacity\":0.7,\"symbol\":\"circle\"},\"mode\":\"markers\",\"name\":\"\",\"scene\":\"scene\",\"showlegend\":false,\"type\":\"scatter3d\",\"x\":[0.01842123975441884,-0.02476536868382719,-0.0029015827175998318,0.016580567177490783,-0.039354656174488266,0.04380527210924162,0.0008978485170717676,0.043970582369388854,0.0051610198585571865,-0.026155253283800292,0.020600777411007843,0.015019592128104524,-0.03233960283059093,-0.008950068948020615,0.012770947044451034,-0.005113110996775622,0.0461947025424101,-0.00022624183137974,-0.06870628140904868,0.01389140025434393,0.020984286205597193,0.02959525043592445,0.03751206922620683,0.029403231601571773,0.05300527686962536,0.022933044975411477,0.03926391474106824,-0.00811314511038148,0.009335599543176986,0.014994574850760424,-0.012737312610690634,-0.025449179735836387,-0.03432440788449655,-0.017181493243412945,-0.024323934971567776,-0.037200793999111754,0.10769685862903508,0.06146130870816487,0.07856687101575388,0.017751033235961767,0.017634743180438974,-0.027097604068561265,-0.0838868455169128,0.04214222865791063,-0.0515843113692852,0.00727778432663635,-0.009645463781803008,-0.05246868960183809,0.024138944800150837,0.06462401181645153,0.02571380525514627,0.0010026143742655521,0.029987651362419692,0.021393510077276044,-0.011261855866794561,-0.06651842725978846,0.04338474946561861,0.049319584977777844,-0.02708031162881736,-0.01524981114818334,-0.022255425189044473,0.04620390712468566,-0.009660861590118582,-0.00395330988503856,0.009585092088211658,-0.025908174249333303,0.021341200681613444,-0.0002808953656037592,0.00976340602342642,-0.021714552488493077,-0.058201398669066255,0.005348871291359139,0.01848144012396585,-0.03415391959059046,-0.03427618428945681,-0.024112866834527624,-0.03314412572756096,-0.026991485143355413,-0.03642697960754512,-0.042280552956261264,-0.036819417856229,0.04146531156760624,-0.026490207898412124,-0.032156439645079624,-0.03163463596127524,0.0347539271822499,-0.025933707682964956,-0.0464868954895569,-0.06564570056688877,-0.05514827468852282,-0.020152320450088173,-0.014392418412079491,-0.015505089068980706,-0.031659433583244155,-0.035441264765610284,-0.025120593958457157,-0.020765850676437703,-0.038547587557949146,-0.0439841986724977,-0.04304312249367354,-0.039923094105317775,-0.03920519794821373,-0.04014657238733444,-0.04702196638371681,-0.02583630770489866,-0.0077685614481301825,-0.03551311271247778,-0.010498499561943708,0.008434733779269694,0.020922935992906237,-0.02306847030849016,-0.03650507865327252,-0.04607097707166736,0.03991323752216421,-0.002645182789780845,0.03656668098388383,0.014366555986974885,-0.028351838582654894,0.004550799433969412,0.04538670675202145,0.0069047943055378265,-0.005960421662447432,-0.0006066128578832281,-0.01447193941918753,-0.03471236577607342,-0.03328748002141786,0.0031586946770578734,0.01075025554230334,0.014199650791744458,-0.02931713501452231,0.019489724217863696,-0.005270952863521402,0.00011651370055649629,0.032233984756344015,0.06161573426092349,-0.009485018349973165,0.03928548704723844,0.039106123584550595,0.01906819026819612,-0.035682510396737394,-0.01162769243443273,-0.021125712267259754,0.011718319672643971,0.0042433994597184475,0.018547094135496593,0.05301244016663934,0.07541060351748453,0.0090992059191804,0.011543536041467496,0.016236649511311978,0.024077676190713573,-0.01186806878440946,0.04579652550965434,0.024821878149177457,0.03698780947083753,0.012955902223290496,0.047962024989102715,0.0045939438777788544,0.007894212772277498,0.026462478415296472,0.03134241331110185,0.09707801154090342,-0.005954337344509798,-0.024076103029101643,-0.004519812378791008,-0.14911749726552156,0.010378854059841281,-0.021005689761554532,0.008127456660710833,0.04565790033656108,-0.03320004965036064,-0.031898812544057305,0.04414154298775651,-0.050927532861551224,-0.03362559775674153,-0.09117967767334687,-0.04419452427446471,0.04168021163741693,-0.006105876283865427,0.012016152506425338,-0.007621501969512561,-0.009012832581283218,0.0014512149746194606,0.03427161937499484,0.003314774398443788,-0.003388426126734929,-0.013493274540473528,0.005828953575914522,-0.03649164467858509,-0.006850337664830775,-0.0020534048888019877,-0.0035661244084370367,-0.009476339528518497,-0.0542034855961734,-0.025520234886800535,0.06746138791902662,0.02454596485211944,-0.02283057492616406,-0.009282755220214411,-0.0002647393391207659,-0.028423284397123317,-0.0034551086850048407,0.014187174507229712,0.027332108920037654,0.011241336138458168,0.010995524954849697,0.015463865302713879,-0.003722340408074242,-0.03006212588085434,-0.03410110515527591,-0.03085232323430387,0.03872586254659069,-0.04105523441917034,-0.010124296182663566,-0.021997308529966106,-0.021775830168192224,0.00333110420565548,-0.03762642115928532,-0.05845822705459792,-0.04764885792079434,-0.06927261007777093,-0.03861526459971239,-0.005075879200531761,0.01347463612391935,0.010991012885186887,0.01570740984478305,0.001399455128601162,-0.025759720644334044,-0.010133893739906027,-0.03770500416361682,-0.002510268444668371,0.011547228868407625,0.010839840472541828,-0.02672751806243625,0.007441601604687158,-0.011164555992564043,0.07245836940427322,0.04037440953580884,0.002484899237051127,0.024659424834596884,0.01618434696493027,0.04984620667338621,-0.008277286277913224,0.02464667563745079,0.01238959337532185,-0.03351826796802751,-0.036541978056964776,-0.029490799144036732,-0.050823632412769264,0.0016625093003840245,0.003418744922961863,-0.004822165551453985,-0.007102402053875907,-0.07644720795888478,-0.00903355786706806,-0.032784928556634764,-0.0026599363337263065,0.04077013076080356,0.023933929877405852,0.03730133540594335,0.01448242395994499,0.03183839606089851,0.018105390001278674,0.025984317583719864,0.014703862819692668,-0.01814416822095829,0.009509001996179068,-0.03401664949192212,0.005672083417489825,-0.03765970373295631,-0.039326474069621906,-0.018049056291270637,-0.005541782503161588,0.005406125526434038,0.0005693500008702913,0.024660323142579363,-0.014764863972113832,-0.01062038359442331,-0.004006931087862607,0.052342869062470286,-0.032579327049536415,-0.01578371884455355,0.014282391852509064,-0.035371368899624486,-0.020991674527526715,0.001882895598979884,-0.005399392057611464,0.05085384058009849,0.06277868182080247,-0.08107464510483868,0.019643187851564332,-0.023783968215089695,-0.04359722203504603,-0.03769896211733411,-0.04124972751683902,-0.03673535006876415,-0.03301720370292939,-0.007364284719197304,0.01303856509197362,-0.001583099221216521,0.011494203612968648,-0.026084019952420524,-0.04059961062230567,-0.04071696058231139,-0.018043359166447594,0.0001401972839983692,-0.06279697975707196,0.012747118137915125,0.010543706919962554,0.0036919176234012246,0.008253274079415032,0.038484978325058004,0.04516615543909258,0.028972591811950932,0.01798985013911614,0.027601474393135702,0.001485843154363673,0.05009051082152196,0.03926988426821845,-0.03590885548068069,-0.03273704570689931,-0.03398332138276088,-0.012873559731205882,-0.013636516451208915,-0.03610144723800106,-0.01941192981476018,-0.05666376956443737,-0.03423876682179222,-0.03955315542379209,-0.03019773853762627,-0.07389843133139898,-0.06957351629716757,-0.06602567005970593,-0.030477294370891587,-0.08536959437954351,-0.035153735297229434,0.00403878266345617,-0.01466976044856105,-0.035112630308548436,-0.05149498112404914,0.013689089027399737,0.06071557627343299,-0.001423815213657834,-0.037228287030162954,0.03979998538691319,-0.1615018548920596,0.025883637023543637,-0.014096740342646956,-0.033109400480390266,-0.03465213284959726,0.03216569107094334,-0.028005311104274098,-0.037392252567709956,-0.037943217110604895,-0.02356769135920324,0.03758168611101864,-0.01971817194169568,-0.043943206441923933,-0.01930891325425147,-0.00930526900279809,-0.037932883854060406,-0.005192392771785951,-0.014375151379268179,-0.03446685667359347,-0.03279321133343373,-0.0588797269583188,-0.027955758395911405,-0.05038751690523945,-0.009064131234231446,-0.047536883260683255,-0.028966668519615456,-0.01594984211915185,-0.07045076138430556,-0.054811658552682066,-0.06962333159224358,-0.05839990009686613,-0.024641195018268107,-0.05562678702885258,-0.030386154797338603,-0.06186295420999387,-0.008429287362967075,-0.053829465294528686,-0.06581391505639281,-0.03176430583350262,0.0023689560186985256,0.03441814957081383,-0.04120134032204601,-0.03702583127069831,-0.041061000788160176,-0.03654589995864208,-0.002713754851247562,0.006546326766231718,0.07508443291739769,0.008493485282011246,0.05805323956466879,-0.0035792183634648944,-0.025843851489042686,0.03376390742537685,0.003107461871677326,-0.022285873136906782,-0.031150840161945505,-0.028845423327293628,-0.10667832402027183,0.040453921722996576,-0.020786694798965617,0.019895755207048928,-0.003415342301880765,0.004355163064380333,0.03473251832063931,0.013674690850777462,0.017048286614489257,-0.0017331441105995543,-0.004097232792354731,-0.014993354077510124,0.013564066744853756,0.0617045218077844,0.008173884733141842,-0.05119766521636755,-0.05464326013760986,-0.0758736884243837,-0.058619065832663075,0.02657684331684596,0.011330121229141699,0.017849484764348337,0.036284878971651155,0.04837121073517464,0.012252162252439542,0.041255638799233,0.0023879139270756087,0.00569227967910846,0.00529656549050377,-0.0025198843819638425,0.014064461792864608,0.011218860401034994,0.022083001539491595,0.03560886416742624,0.008444336830278917,-0.039182734005851746,-0.03872759336835716,0.015360818178683818,0.030017005367875327,0.0442954818874665,0.00047788554162866455,0.07795796248479364,0.08631030921137706,0.062364972893996125,-0.03582896021998836,-0.027511018439109948,0.06970491182240167,0.04729997717042625,0.028024965742900285,0.04795587086735963,-0.006317422855836125,0.0033181403110557586,0.01631525977123966,-0.01619849975518647,0.03940566513332996,-0.033429019702667456,-0.029664205662163014,0.028331482966098956,0.021585687792967538,0.050799888625736055,0.04730577134879267,0.06837078768334884,0.037778706506049,0.026195537972799127,-0.006967365176637946,0.05110649706936793,0.055001726086457856,-0.01659178224491131,-0.015268314380594724,0.01164710003817566,0.025604234257351796,0.0037814584667060966,0.013359469495493229,-0.03387420116144885,0.016740714321575506,0.0056843257206099455,0.02309256024295055,0.01640848491316695,0.012603466045767902,0.017503886682397114,0.028835587891883466,0.028314474856732445,0.024498883046558183,0.05810162602123553,0.003794447079875278,0.0268061500975497,0.02063205496875939,0.021198232828323938,0.033514564656349596,0.004083001290990817,0.01837357221217913,0.027108834304621094,-0.006126461649620506,0.02266951254407089,0.03091090717197348,0.06463181071073934,0.01812582224942896,0.013496512057593868,0.033046734414476135,0.050524660240315496,0.033025485503819466,0.016085551791965,0.008258364146236836,0.020306214124539236,0.1597312433771691,0.18679645339066286,0.018668822053859318,0.042665051077388286,0.04183159158918217,-0.03461344372065719,-0.0076737188719877706,-0.008417540225111802,-0.0032014043597383157,0.03761740246066681,0.036639066906282595,0.01965212756013726,0.04326643315016064,0.05434968880173305,0.09437553554931857,0.04676406882098476,0.023167681257494018,0.02463331850513566,0.015307403049362452,0.008146458905778439,0.007804504192853742,0.04807851427964634,-0.04132806139700137,-0.03000126898569542,-0.01376405244379481,0.00514241534906969,0.014756607509988605,-0.008280945096443448,0.012424577615263013,0.07252732308611419,-0.0032903846028793644,-0.03617965474264245,-0.034269252454619335,0.01940178066841853,-0.006455958656178733,0.00861371229943194,-0.03671667157471663,0.03649712780371485,0.039515813284214996,0.07157272636110862,0.025835899601641333,0.0009406906747496289,-0.03184726452483239,-0.028320869290770545,-0.017663349237014653,0.024469920254510013,0.15429592311012608,0.02129392672294923,0.09196404010823146,0.12713096662704945,0.11123946171549641,0.12589533336682673,-0.007305835449216403,-0.035131296596013085,0.030408757683568707,0.016710490224030216,-0.01770667613574352,0.011337421533053737,0.012536778325812705,0.023551655501314772,-0.012729580500684429,0.04551937478768601,0.015744128448019434,0.09435570209158771,0.029745073826798123,-0.0069090573755807025,0.023344536737163378,0.11549723800531553,0.10477173714528314,-0.03871271570118744,-0.01511129942408851,0.11982568759955291,-0.008928120884623978,0.0364873510029832,0.017671151385967802,0.04262540558203871,0.05258939638729157,0.029694280424039998,-0.012550029329015104,-0.02122410924767249,0.05055702925479921,0.013333797089952634,0.03879859612144663,0.03115985853591722,0.10739802478278175,0.030295550667978528,-0.0006846683575745952,0.0016281777875787776,0.039364560821886115,0.010275129543823461,-0.0022791284387048026,0.003748542485327038,0.008176064889101008,-0.004212455961177103,0.016268995622942154,-0.009267334116676337,-0.016851888924144215,-0.01495267087181717,-0.010941970755424179,-0.03091047154016767,-0.07167813429964852,-0.05619492375421346,-0.021409013127682078,-0.04028580709812658,-0.03576740734201029,-0.0375370931497261,-0.02021121875507357,-0.07705600004791405,-0.03123324552026845,-0.008863583468841396,-0.010161845506086477,-0.04114431358393147,-0.03231499031946769,-0.03709502820159692,-0.09245980703780543,-0.035187326304903996,-0.04205592733973244,-0.04870848292329647,0.010531283551379257,-0.10250042756143707,-0.027925615623979685,-0.03089197245410404,-0.053806632808459647,-0.02614997031521252,-0.03654552795361696,-0.04248697224759808,0.03235552088917414,-0.003674689753177822,0.055229221782951234,0.008043420839867206,0.028144247635565795,-0.03705127659836153,-0.07336140226887479,-0.026170676745711843,-0.03552185063931617,-0.037849532445414835,0.09677987087166316,0.00021309835630842506,-0.00020658089145971975,0.07313750522786618,-0.002864721900476914,0.012690516373234534,-0.004103659358211803,0.015698335502866104,-0.005994520014877401],\"y\":[-0.016039341622064964,-0.024360336855620474,-0.018602417390492662,0.01616885637695187,-0.048804929021831,0.017189852997096973,-0.004875127177718863,0.0037747713853225943,-0.0085478623217267,-0.06724136396584238,0.00641651271174854,0.009007471170256793,0.006190207211000654,-0.012476157312169224,-0.012417787816453805,0.003079375783828031,-0.021811784012150375,-0.006458606551324375,-0.008030221802897019,-0.02303554718171909,-0.00685668027376153,0.01537479674130349,0.0336314187185297,0.0029093886317972375,0.02825613134192046,-0.0049387678608864794,0.01820197729149016,-0.016384013454602716,-0.0013206082469350818,0.024495735268081898,-0.0389712492699225,-0.04620519090403694,-0.07319502251868007,-0.0315614003094169,-0.022392884692456694,-0.035182750089917066,0.04302005898018857,0.030929857167646,-0.0066952819622108075,-0.007943862356521092,0.002578940297893057,-0.029631227292941924,-0.08530714844943904,-0.02142257477156571,-0.03650617199106515,0.013874578292746331,-0.023197085421858967,-0.020522996498654262,0.0011426343003879634,-0.017545375745427538,0.02335244451927221,-0.029404374760229682,0.00865690998238441,0.01079377305150498,-0.046341454971015515,-0.058990413595930435,-0.02942402871799513,0.0028219080882856554,-0.020811708455828415,-0.017281156353878467,-0.02539830777073666,0.011434516912358967,-0.008040015158132212,-0.01665688879781042,-0.02984163893474281,0.04684682665043867,0.026257182994744357,0.06900701005340204,0.045684133617099776,0.13267038155516095,0.05021064327011884,0.05475709976471707,0.0484690612972079,0.024305895488920565,0.02290191484814777,0.0009766756161035575,0.019409849471269634,0.06790374643730308,0.05427943417088232,0.040279139802651125,0.020688079702886525,0.11853643015334683,0.11694577103579898,0.0180926588606088,0.042246879444633616,-0.021709348294661486,0.060628821092871564,0.05316472555141696,0.12191029849358657,0.003349781593447201,0.06786465381880698,0.08557978764833363,0.027819673415771233,0.03108857253594393,0.029715625874521295,-0.0005426449637172072,0.032284972890679824,-0.040814191826290244,-0.04044359528147645,-0.047159353229347015,-0.03317617715332452,-0.04298966625618277,-0.03778186829073577,-0.044394258269966146,0.07124619837265685,0.0607501942874139,0.0650952193605973,0.061305179832337756,0.09669789917259813,0.0937189131614797,0.05962709219097731,0.05953822865117173,0.07946169438519939,-0.003251699242500025,0.002973733160341568,0.003718499312239155,0.021018142768074916,-0.0281070386370114,-0.027437634902064842,0.01109167609302186,-0.041276476612984406,-0.01573062655250078,-0.018890693526476772,-0.007564770247787573,-0.019513338781139054,-0.024481410675536625,-0.026185538372399984,-0.02437536791069836,-0.017727910013201727,-0.022054884879780814,-0.03723148910288885,-0.01235157920401344,-0.02659232859339464,-0.009730491022796885,0.020892191148432222,-0.0068407986043518216,0.012692543032399549,0.014305429982433508,-0.0034796453527536973,-0.04385184044636097,-0.024328542824584718,-0.02476868209458411,-0.06586044048066955,-0.025096003826950295,-0.029609678771617097,-0.023287085417703655,0.004330777279098313,-0.005733651236169821,-0.017245458470317755,0.001825426408059253,-0.016808696434989424,-0.012875958704936599,-0.012475514181424409,-0.03279771969973531,-0.04881170058767719,-0.006494042955593578,0.021832058791674578,0.0023525075214057647,-0.028166589806806887,-0.0013806495914810788,-0.034280344845674694,0.002438862385599313,-0.017259816177016586,-0.010576634106003072,-0.0175722301087995,-0.05593924203025154,-0.0459598084516353,-0.039064676479256585,0.0014639768946954166,0.026051691254154987,-0.013049281874130575,-0.025448857707033878,0.005797294965367405,-0.01958671860681426,-0.026150978173348802,-0.018917095135617717,-0.025616119207148322,-0.029509072544718063,-0.006111067693124554,0.004641225802859504,-0.01970643506544421,-0.015442402934314772,-0.012946237410843237,-0.023110947350578646,-0.003658742183916912,-0.00870873850560741,-0.016596662192125702,-0.01237926794754971,-0.033972409618795045,-0.006805683093801566,-0.004449040236299743,-0.0018614923848604035,-0.019636233115591182,-0.05218587361178655,-0.027054262253078016,-0.017711394542216957,0.0016711226407391932,-0.035727636494691545,0.001938872955660745,0.025890273996109714,-0.03518122652459557,-0.029984408914100234,-0.011736468682752013,-0.011364514393187093,-0.011432452029230003,-0.011563721313798937,-0.005426640199230257,0.00380471852843617,-0.02578068106468496,-0.027921596834550425,-0.022380121843262494,-0.012003604896636592,-0.01212960062971383,0.09786225680152631,0.09081863511423675,0.05293055824725091,0.0662672955685249,0.024294449909799842,0.06215324563281903,0.06749789437927177,0.05306109123356102,0.06407091933406471,0.05297634505800028,-0.02952962514821891,-0.03373121752106182,-0.03792492052093936,-0.022637729472433282,-0.031043836174140464,-0.013061473492665912,-0.03120617120881426,-0.04309577423027277,-0.0007630029609721704,-0.04539221364847371,-0.007792758808926713,0.021680343642699197,-0.042929649337671884,-0.021233573898406757,-0.038256897230116264,-0.02778305848865738,-0.007603678672335937,-0.01936531640194429,-0.046667979635189635,-0.01700853954772467,-0.025082986682172372,-0.02307993465797008,-0.015028268519298341,-0.03325586182520105,-0.019322750468863965,0.0747191422232344,0.04084262011649362,0.09416478879107193,0.09655980828346272,0.0696837359170133,0.034988147685433846,0.12790881609391122,0.026022852823337595,-0.03000176524408586,-0.002735384990021148,-0.004261786438123092,0.013912541040657127,-0.009331523385348832,-0.019022711587152772,-0.056229238059048295,-0.04170862674855577,-0.05566426535000849,-0.007832705350716179,0.011177532024675169,-0.03213854447938718,-0.02474538973827163,-0.028938211308682824,-0.031710535096299904,0.054695355128270264,0.059662444979388,0.06815267648724706,0.14167653640679395,0.09774104623415411,0.11928033060014051,0.09079277407813963,0.10581524172298548,0.10443538044510457,-0.02026562473463102,-0.02676366895321354,-0.02360842071042526,-0.027466231291356596,-0.044009340763042026,-0.001551983401979757,-0.02211570933695659,0.01790968655664718,0.022826260089541917,-0.014932267641652482,-0.024060813899484834,-0.022848870810098905,-0.01713409647300316,-0.023561464636267206,-0.030146424905841247,-0.023902563761811317,-0.01378597131514535,-0.031198887733300346,-0.014681126384563826,-0.015850372851891312,-0.02362677904747601,0.07426278351550057,0.05633648545610966,0.022597606110043692,0.0021438811775613548,-0.08468265937331121,-0.03694209636605996,-0.009332937250113842,-0.029403100372151603,-0.03000305903300132,-0.011459639217175346,-0.010292114650316745,-0.006633338069795561,-0.010209157662356073,0.015155940472204782,0.01642837329704831,-0.00587563558915783,0.08371855190875058,0.016731812936997815,-0.034182106219512474,0.00021901219371137738,0.024003389215110676,0.06750572489741812,0.03591689428743948,0.037084997971319845,0.09277317607843479,0.04522014175252144,0.09742467546888649,0.030871694781033222,0.07540898103102858,-0.037573798585422535,-0.03310238955010023,-0.03574880950256772,-0.027244827938019533,0.1786903577044901,0.029737812328464612,0.07703436297174741,0.02025993063363024,-0.02695648781752238,-0.018975873489071787,-0.0262886442843189,-0.013436697328312116,-0.03258303413491446,-0.02509414844299243,-0.029109821674347745,-0.029858042874352824,-0.02282478375359936,-0.0539304863659182,-0.01782669584971157,-0.025658199472736037,-0.03296330650033816,-0.030243324278528445,-0.030459733907483074,-0.04674374667179437,-0.019234236833081488,0.05879433620519793,0.07190684572697997,0.05854840155935319,0.038750267623616684,0.038190441844146286,0.03464990413297424,0.05839519569494404,0.059276372100058435,-0.005999586594031959,-0.0002413444616131988,0.055354254474228634,-0.00022923643224853635,0.03772736750533108,0.061333290843523826,-0.019641814602372985,-0.019558545015380065,-0.02334055881801687,-0.0243269176710073,-0.05495347320549145,0.010190444615823305,-0.038425705289342436,-0.030771369287327103,-0.03321848213962979,-0.0062924069068839,-0.023152193284285732,-0.02428260218199933,-0.015314699380769447,-0.023407907327724947,0.10672595163581321,0.04241286484550488,-0.012319934669019768,-0.0342495065453436,-0.03507929683840135,-0.03211838354474956,-0.027385020371397326,-0.008020056865664442,0.003174476887421991,0.014612877367481817,-0.0029277888080416095,0.016964279649956896,-0.00048260818460485054,-0.03166632484009355,-0.005905562154543742,0.039408564931101855,-0.03467573797929967,-0.016741843855140184,-0.028851043273331354,-0.10918140525556501,-0.0027328269904809215,-0.03626494153694162,-0.006640806731482563,-0.007893114050261298,-0.039457979318572076,-0.011443062066168803,-0.020217922235275146,-0.03693561209125556,-0.01896630960905218,-0.02212271564868076,-0.014284424742578591,-0.04015505682199257,0.019335319815741027,-0.027956076223064404,-0.01908588076675777,-0.020046846953763634,0.0049283271854801015,-0.012488810112136019,-0.021387688512256992,-0.024597382815934845,-0.0035850903387064387,-0.013189265812948298,0.0030283222218190978,-0.007899940880786428,-0.006224661748939885,-0.03617180030235395,-0.02253461007297974,-0.031362090108765124,-0.03701652810639489,-0.018047784748134562,-0.021600163151871517,-0.026228840645726094,-0.023487921098443613,-0.024990706171956426,-0.03210465169999377,-0.031393804353869126,-0.009356337679872904,-0.02553142519374681,0.01476478104241222,-0.020310451539896923,0.0046424196632444395,0.021113027691408087,0.016324857116075002,-0.020947141209696298,-0.019296590192466066,-0.013965704350123748,-0.015699634627957558,-0.03179877742594036,0.03348323864625274,-0.03886867483243456,0.007121938800601893,0.005650770840424407,-0.018053806027144827,0.012304134235082234,-0.04817202169006504,-0.0493790922036274,0.020354484858937823,-0.01552019089873391,0.008717479794615292,-0.034742711912075105,-0.045312500596029766,-0.01986820622372124,0.007200051892648638,-0.02645006767631976,-0.008835417819909694,0.013375719064970223,-0.00948766332943395,-0.019175849647556725,-0.018708707126693692,0.027149693957783574,-0.01990060571462087,-0.005425768583785522,-0.01814760594783771,0.004204251046483307,0.014635328625872888,0.02788342956032371,0.005147495845458227,-0.01151880006118158,0.006252770574750246,-0.0008834755867942295,0.008043714184261757,-0.005677002778238115,0.03296149397255901,-0.020839818754310922,-0.00750875809664242,-0.0019406295690065096,0.022735441400612358,-0.006114951100451209,-0.020714446079626133,-0.06115716056625565,-0.017061286647728217,-0.02795311851959983,-0.021901505686933557,-0.022251191202492283,-0.007900083322671655,-0.016993385845701134,-0.051080575081601035,-0.034947787334835716,-0.01669064223327961,-0.0213327006834672,-0.04111313390332317,-0.05213477461581557,-0.03092728004349051,-0.046654578079873534,0.04376569375950789,-0.019311914404144915,-0.01788309613458762,-0.04044937450737396,-0.040949769478947726,-0.04264277599480047,-0.036838117461976246,-0.03978297325697797,-0.08502717255211802,-0.03518936142969846,-0.012104035300843061,-0.03689701604686816,-0.0218637536449733,0.022781890167788765,-0.0142494817909622,-0.020504814179099627,-0.026055524420170555,0.0025814084001512614,0.007784174906233726,-0.02309406925289264,0.01844020627516605,-0.018867635022645966,-0.029153220419266726,-0.03172959152330777,-0.012631821550138674,0.006430982596260131,-0.016043265987440564,-0.0030324950599123555,0.008651941600561566,-0.03933373363458922,-0.02467190787098304,-0.03163654579825709,0.01020580520649377,0.0023148606162939674,-0.008031938221125065,-0.05287054318992375,-0.000980781233213042,0.010240061646313877,0.03286984119433035,0.015138771874265756,0.0093830858071231,-0.03163828049876997,-0.03428726406475003,-0.02905699311923413,-0.0009567501809344798,0.08026396868742862,-0.028976866245806938,-0.014100977042352601,-0.023750193776232706,0.008471393038950526,-0.006729644346539415,-0.005910974869070397,0.031383612657773036,0.014098862726481493,0.008536464034001698,-0.02760375195353262,0.0017837484568043647,-0.016471617220095092,-0.003177437167210957,-0.011661271478091045,-0.0203179110327534,-0.00622781221978955,0.0700817399581909,-0.00421730594459752,-0.029581169665776254,0.0019132874724380878,0.04382627500770182,0.021932775520355975,-0.02701139512889145,-0.03567387649016412,0.07185258939234225,-0.05219539447902391,-0.010906815487300795,0.011996653050393921,0.0012750139590039615,-0.0036023637665074048,-0.00012506011316824352,-0.02451186468635786,-0.01710980867807594,0.0035350248101362813,-0.01328971933261635,-0.024088298285494265,0.001478174008316146,0.01702877123821361,0.016580043315488256,-0.015836039399823563,0.001174408715128015,0.01394622366260927,0.00015146637619593256,-0.015886621027312132,-0.005254198943993774,0.002924696034716139,-0.017915275323627054,0.0028789464240121057,-0.013421338916259837,-0.014764184235684145,-0.026016898850370687,-0.022193486840758364,-0.0378656008981083,0.09663198511562512,0.08525661118712029,0.06100431628372585,0.09017028749361461,0.1130035564546893,0.07824412601954901,0.08102227020622679,0.0922064972525309,0.013822076778903288,0.05826390537186297,0.0746397560211879,0.06716074427675216,0.07885571595260209,0.04490249410396685,0.10699013584731432,0.053087274058537096,0.053290476352354586,0.05930982029308483,0.11094759104620866,0.043862704887677344,0.09673297894856828,0.057037403836756415,0.08097963798048885,0.09105825022092262,0.05929479663044695,0.05339645132995542,-0.009294425115632438,-0.012948135456876663,-0.02063474402818132,-0.0073639999475372175,-0.006102162265416644,-0.04896756745793143,-0.07360909784088027,-0.019755806814215942,-0.022359287293179063,-0.0235570726517965,0.014482187436815843,-0.00851744781560918,9.087787852657694e-05,0.00902562329706317,0.0178693425125446,0.014728218460014195,-0.0025902630454082295,-0.021074347796436882,-0.004337432824364277],\"z\":[-0.013108254450269816,-0.006856199123725527,0.0037419198239228174,0.024948988352412875,-0.07071725666637226,0.03931457956636574,0.03703671957143545,0.02971176196720531,0.017997528110001933,-0.00013856933143952766,0.012314232057276,-0.04457870893403506,-0.027800655483882095,-0.01713774415335273,0.002622551679222947,0.015320033829320791,-0.038217687179400904,0.016664278591941976,-0.010924337776632683,-0.02876628453741797,0.009474763536793732,-0.03323580851554396,-0.00820171003343452,0.003223716579243696,-0.030981139311666753,-0.0024209708406880076,0.05581275054739129,-0.011456189589813169,0.022718776636616946,0.00016875916628126834,-0.03251333500073363,-0.12159179089919965,-0.11230574741121535,-0.04163206688425054,0.018021753093405573,-0.10360022488181561,0.02580805794159294,-7.194395647872031e-05,-0.003938926162649046,-0.016324674657195205,0.026165858894518605,0.012138859175220142,-0.08764262432027041,0.023651770345741317,-0.0826435792226686,0.009318058587035943,-0.00625770345331555,0.05894975779634386,0.01812147643302514,-0.014355925544271472,0.029604259728779232,-0.01588062783573385,0.03543698061364815,0.008038478380523099,0.013414795398525678,-0.03704947338087839,-0.023215245492524073,0.0336841325716035,0.022391396574281033,0.03961627501560037,0.008667415997446994,-0.0059231906151761445,-0.005311265043346039,-0.015241428549513112,-0.006267769884305745,-0.020605072637614116,-0.035979222760264065,-0.018015120292712506,-0.06956956808401817,-0.040300887050445246,-0.08452834622014262,-0.02405008941806299,-0.07838739110586325,0.04254901114910704,0.04328125121896712,0.05773070372307509,0.03853341822917782,0.007173159568733378,0.03406300683351608,0.04801879436688513,0.042197035749881526,0.0018095549829292756,0.045172630876467966,0.049539221440826973,0.04821467611125371,0.0687558901508523,0.026879093079904232,-0.0050321172970110755,0.01906751774044504,-0.025854960994840394,-0.05490644552925973,0.03611664009977632,0.051348127421560856,0.04522451460904451,0.05177861752855467,0.05396203145094724,0.05923118683378797,0.11307541931772194,0.11975185007713919,0.10185047525137592,0.09419403412904899,0.11673500711367964,0.09677615958043154,0.11530374552272171,-0.0221871973102317,0.0035935432251015145,-0.04808834561540818,-0.06836948602008712,-0.016743911867465214,0.02789577169586725,-0.024599051770392497,-0.02523626411269328,0.02163771053812149,0.046283649742408145,-0.027460876056683823,-0.002635165353875161,0.015258341236479503,-0.06607473068776283,-0.009669671554901067,0.011621034395258776,-0.010801064748637032,0.049131204798332176,-0.006145109395755449,0.11300996066594668,0.0596639357714979,0.05174020655989661,-0.014886295872757013,-0.003447852895465236,-0.0002477463786467789,0.05368049203558647,0.02221966657930691,-0.015233197075968262,-0.03797641763525941,0.01575561480782084,-0.0012721927806932203,0.026611274924274488,0.0009099353164539601,0.011533365823908686,-0.0262759479994912,0.01825880459586058,0.02974679012873308,0.03656238914363785,-0.00803717847994012,-0.07423239180930596,-0.012535445723516541,-0.014228169189215458,-0.09977408080238731,-0.005435982671090118,0.00046203515439591474,0.0026545365477882183,-0.009525149067172473,-0.024043132310022485,-0.0014039668702286723,-0.016162588255953788,-0.044924803737293635,0.004131371709484389,0.01833252885543822,0.00433179083151226,-0.04461238546044369,-0.012936798328798233,-0.04618048545274322,-0.0068244999277406225,0.003683481088932869,-0.03418639428155202,0.03291911821604118,0.0065625127849562185,-0.03804697024849661,-0.016984737377123568,0.008942748337980618,0.014548983340268818,0.03940888287093637,0.050352885653559845,0.0029989126921850023,0.033822103026836116,0.052765165834096926,0.011508079024719623,0.05302339279984452,-0.010979812143589798,0.03178385897299861,0.032951787317005155,0.04487531655588362,0.03550315761874783,0.0386714601366368,0.02081520655854148,0.020638646703944226,0.03837499243283971,0.034726782291942634,0.009227513973684173,0.0015996480452059572,-0.029667662950852904,0.030360923722542316,-0.009372414393083919,-0.006336759807604119,-0.10137268111883017,-0.01892901189433829,0.004336303707458133,0.0244056609540019,0.04317844386258344,-0.014141826968211865,0.016527791195060017,0.016924198076162487,-0.04222520341334325,0.009026590933562945,-0.006474737918778927,-0.0070445001578286846,-0.03978082374158043,-0.011314041752983646,-0.004196664663645065,0.014554590591506917,0.05262886749767859,0.05380226117428635,-0.02676380298921468,-0.013996927554553909,-0.05115482977223856,-0.02929910115703274,0.00673963223846191,-0.041533812199477174,0.0019109566877753988,-0.041826753798868695,-0.037289396147591504,0.009836212577229789,-0.0032391589762240493,-0.013058204671222172,-0.0009381517374180528,-0.045065812794417015,-0.021770966233923737,-0.01813511397378229,-0.06347378813839698,0.012685569185746403,0.020681933580160457,-0.01920909082454273,0.020074221822728604,-0.03883413815123524,-0.02991661792729231,-0.020142020459448066,-0.011221800398212944,0.0011830157064427285,-0.0020839295576454667,0.0002271271107179996,-0.0015514237619445306,0.010135757678299136,-0.04894909076165282,-0.0036562715650636855,0.013831738558091188,0.006991409811721617,0.09354647432877594,0.07408162874762647,0.07055442280170957,0.01124093264296982,-0.01754990437043128,-0.05720918817681726,-0.027005314438169156,-0.05415880650128762,0.018259958686135072,-0.04846857374186054,-0.003958142840818601,-0.014886936717584828,0.012079093681800311,-0.015204775762056328,-0.004642570069371463,-0.0005689202363988104,-0.027100321502257357,-0.03026067994722893,-0.011262722772351165,-0.009455445833041202,-0.0054992060444128904,-0.03779197472669884,0.044063861872346885,-0.01877083687949178,0.07154919181476792,0.06798986802589778,-0.01051341320791396,-0.03348110700658367,-0.060600606924971205,-0.09161465250975798,-0.03869263898808386,-0.0032863918773976476,-0.05880218967350327,-0.02283426821685909,-0.04314620153386983,0.04273482473050177,-0.021292262201119593,-0.02794416382080675,0.0542439737302849,0.008791843365004064,0.0109931730063939,0.001875359259644449,-0.017713298780881924,0.056642234057482005,0.04844532630199183,0.0010029733415704211,0.037632201231085384,0.015731699139714936,0.09032809323692338,0.0510309050566672,0.07736184497337957,0.031119934122634953,-0.03790144556286127,0.0032708623057632227,-0.0008150655507952291,-0.019474831548522482,0.0008726998821460178,-0.056278600590888475,0.0019704960574642777,0.01867384288610288,-0.10841377008666142,-0.040531772974662206,-0.0017713712012473232,-0.015554912161137049,-0.009014912319608959,-0.006466877709609394,0.006188772405858651,0.021487541950301503,0.01245231211097643,0.02252760617227895,-0.00938672617782624,-0.01642760595716871,-0.010439036682384474,0.031731100414243096,0.05981142353783693,0.03897955507652872,0.0027689765032373856,0.014051322545995585,-0.0013666953406941424,-0.010141152380937987,0.011931865205799643,0.004378936737833065,-0.06538196148461271,0.027478296190127215,-0.02020331253886924,-0.04984162132996152,-0.023445467105055566,-0.009467999404889151,0.024390356660825455,-0.0681574602315003,-0.05036375176149477,-0.034289987041499534,-0.021469717419306193,0.061189032382048744,0.06652981840072728,0.01009733119535123,0.007846303143571036,0.020304681690603163,0.032754043804915395,-0.04058811618121887,0.04999401045204324,-0.013836218311461847,-0.02596607895128953,0.059538572086523016,0.05521974516306949,-0.012491807777568106,0.06073064557771561,-0.019115693976946933,-0.03989953692476612,-0.04487406750181481,0.004491645867004805,-0.024570078960160877,-0.033157601475001505,-0.03522449835987686,-0.0338120683798313,0.005138294129337125,-0.020721972943213162,-0.012045776242857064,0.05374396573007725,0.019763041703850636,-0.02110503419485674,-0.004252826187303893,0.0030078184999842803,-0.011172021303482828,0.02538491516857224,-0.029101735883946624,-0.03793222777187308,-0.06537320421200035,0.016061445882853,0.005918954170881253,0.003387895621174349,0.019980992733512067,-0.01428701915023043,-0.007572590672371837,-0.10580331448239581,-0.07454582200329962,-0.038517324967800734,-0.11341596607245447,-0.05058368303837306,-0.009323891760133375,-0.03858960719217127,0.10054070885736391,0.09359112529500524,0.08866750687180118,0.07267681658191072,0.0006858794715192423,0.03027453768953002,0.01508961091818226,0.020957019593720868,-0.004336009131363033,-0.015669527667515632,-0.08387039285633135,-0.025831620681330204,0.031014717395328406,0.02557354561023866,0.037173695122906934,0.00908893891991699,-0.264298167829334,0.02494970068828626,-0.053075437399242455,0.009221016844266568,-0.03001741934393441,-0.011651585067320704,0.010406251054052882,-0.01277916462769172,-0.03701130128231319,0.002319690194528222,0.020652479921036096,0.016862264529159766,-0.015134128824909793,0.0013864830913053344,0.02148901787742495,0.08440506242339559,0.09313498389353024,0.06633816308988626,0.08146457241313915,0.027115083862519814,-0.03914353322152788,0.014021358697912165,0.028829753369876192,0.025106289706931594,0.01329393471908287,0.0401421897637891,-0.04183704851866126,-0.037248842679473586,-0.0439383617526643,-0.023538463547553214,-0.011705119039804457,-0.020348186298147282,-0.008295965111786163,-8.701009740754083e-06,-0.01385137918298332,-0.00605901343899061,0.004401974334273532,0.019117164975657224,0.0007463843468442645,0.044878898718273275,-0.06215234370247304,-0.010460139555120072,-0.06281569922938157,-0.017145708747939352,-0.00630169058052822,0.03939710089863426,-0.04286637987420424,0.020099130189983595,-0.035887032306865255,0.02785345813536407,-0.06449517717159617,-0.005887919340068893,-0.003520916819883489,-0.015321322670034448,0.015973483593126333,-0.08055642514013708,-0.008440229156473411,0.03703348981603363,-0.012542930165065384,-0.004331362906997015,0.006271745084443038,-0.030779945272363277,-0.0065116413278238855,0.022208623145521106,-0.001997585239912327,-0.007655056204397229,-0.004990987683879713,0.024012720513693308,0.04672470322089472,-0.004630447066892292,-0.005113565974683845,-0.007894089276101345,0.009262618795273212,0.030418291519983594,0.010633191729235098,2.30171363489933e-05,0.018095822408613977,0.001588558683858581,-0.013776633714811741,-0.009404470292759617,-0.003830192090218116,0.01491582607768103,0.022943691595568784,0.01231990342704209,0.013292228585161374,-0.0319542351209219,-0.00500282066727819,-0.005351022421569219,0.011945097215697394,0.007466678686452052,-0.006510323907106624,-0.002568635940357029,0.00976564123348414,0.0023885307694459655,-0.00992053023599539,0.06608389053546526,-0.03864878030598823,-0.021636456885721415,-0.03575120201821232,-0.02705036907093594,-0.00794330946930868,-0.049248712892461875,-0.03177567501734417,-0.019972985174156375,0.022996046572109182,0.13773385725926865,-0.0006204831023025389,0.005694746669571892,0.0044785576552092855,-0.01809959256678521,-0.0014823743462910317,0.017506314709318085,-0.03282857154130527,-0.12587149716643883,-0.034793050480500874,0.01803581035647819,-0.032505980987802705,0.014219744620390499,0.058854312346821605,0.03712502917345026,-0.020342930279205498,-0.005662629487746564,-0.0049376187132128355,-0.004370313212857846,-0.032134843921723104,0.004362642473734881,0.03904778634728105,-0.022859660281325526,-0.030147494909330073,0.0024481942731932197,0.0001567720246807081,-0.03168991705536733,-0.029284509052616346,0.02105989488097735,0.0019608260350984716,0.012646638582285744,0.016599132927544714,0.012092066863869403,0.01529640772194625,0.025425227455002745,0.026345204393206218,0.007276687147233108,0.007386076787404344,-0.0032139890473308888,0.01082517619087319,-0.016231397005459308,-0.009083357133620346,0.007184809008859633,0.01449769185518809,-0.004184098535738795,0.01482744371198173,-0.0005725268955577135,-0.028836413693488966,-0.009240420665889803,0.01869031164479156,-0.006407923434296543,-0.029383818753110354,-0.011755600923151147,-0.0708263800256699,-0.046226098732994964,0.011801082307765007,0.017853278405034458,0.007681911154069817,0.005879339667070817,-0.012698086545753525,-0.0569492428051089,-0.024047936951247125,0.12075048522135574,-0.027122910659548242,-0.09341667508760186,0.014905981945621857,0.06570017408726615,-0.03141378511038191,0.03640144283998359,-0.02521559037935167,0.053579002010982105,-0.016611110461857856,1.0644588291450478e-06,0.013333505191449218,-0.04176079566500634,-0.008483969020463408,0.012154516113324975,-0.029858978275299142,-0.0422196383143362,0.05386268919953662,-0.03633228993122665,0.00046564900239664484,0.06560281098867601,0.011815204484144462,0.04798033345633816,0.022942293648357964,-0.02592455826650676,-0.010354189008393837,0.044470017360562095,0.006355542130427238,0.024137073903297467,-0.01616309665926884,0.017896972081352998,0.03749219960948189,0.008934368163311808,0.016557039587026708,-0.02380551761724232,0.0069281090777866886,-0.041162135814984874,0.011848106839758515,-0.006415888891040066,0.009693250934839612,0.003057366398917653,0.03961354207262925,0.01728458902240896,-0.042385317837726616,0.001829068398626231,-0.008497258402849149,-0.03679775081582732,-0.0026931732944723377,0.0025784860468138753,0.021534045723320436,0.0008859212242734853,-0.0009750939030337823,0.0018153753091991833,0.008773649267486267,0.011084135323916309,0.005284803235115465,0.032514580690434815,-0.07561091677663692,0.008724041864299167,-0.006283300561834428,-0.010225070357069469,0.014455974257716563,0.021196843803210144,0.004969301105922828,0.020151863152658416,0.02060452794072479,-0.024520960745538847,0.023210268799957145,-0.017215466897682125,-0.13995077832086952,0.03420017756446414,0.0426664007357332,0.04614679102830937,0.004482524604217957,-0.012506560381118411,-0.0023140064892557986,-0.034751965571386906,-0.005624282045001642,0.015896985277095967,0.008841783044686422,-0.023567848416222493,-0.0586147380051616]}],                        {\"legend\":{\"tracegroupgap\":0},\"margin\":{\"t\":60},\"scene\":{\"domain\":{\"x\":[0.0,1.0],\"y\":[0.0,1.0]},\"xaxis\":{\"title\":{\"text\":\"PC1\"}},\"yaxis\":{\"title\":{\"text\":\"PC2\"}},\"zaxis\":{\"title\":{\"text\":\"PC3\"}}},\"template\":{\"data\":{\"bar\":[{\"error_x\":{\"color\":\"#2a3f5f\"},\"error_y\":{\"color\":\"#2a3f5f\"},\"marker\":{\"line\":{\"color\":\"#E5ECF6\",\"width\":0.5},\"pattern\":{\"fillmode\":\"overlay\",\"size\":10,\"solidity\":0.2}},\"type\":\"bar\"}],\"barpolar\":[{\"marker\":{\"line\":{\"color\":\"#E5ECF6\",\"width\":0.5},\"pattern\":{\"fillmode\":\"overlay\",\"size\":10,\"solidity\":0.2}},\"type\":\"barpolar\"}],\"carpet\":[{\"aaxis\":{\"endlinecolor\":\"#2a3f5f\",\"gridcolor\":\"white\",\"linecolor\":\"white\",\"minorgridcolor\":\"white\",\"startlinecolor\":\"#2a3f5f\"},\"baxis\":{\"endlinecolor\":\"#2a3f5f\",\"gridcolor\":\"white\",\"linecolor\":\"white\",\"minorgridcolor\":\"white\",\"startlinecolor\":\"#2a3f5f\"},\"type\":\"carpet\"}],\"choropleth\":[{\"colorbar\":{\"outlinewidth\":0,\"ticks\":\"\"},\"type\":\"choropleth\"}],\"contour\":[{\"colorbar\":{\"outlinewidth\":0,\"ticks\":\"\"},\"colorscale\":[[0.0,\"#0d0887\"],[0.1111111111111111,\"#46039f\"],[0.2222222222222222,\"#7201a8\"],[0.3333333333333333,\"#9c179e\"],[0.4444444444444444,\"#bd3786\"],[0.5555555555555556,\"#d8576b\"],[0.6666666666666666,\"#ed7953\"],[0.7777777777777778,\"#fb9f3a\"],[0.8888888888888888,\"#fdca26\"],[1.0,\"#f0f921\"]],\"type\":\"contour\"}],\"contourcarpet\":[{\"colorbar\":{\"outlinewidth\":0,\"ticks\":\"\"},\"type\":\"contourcarpet\"}],\"heatmap\":[{\"colorbar\":{\"outlinewidth\":0,\"ticks\":\"\"},\"colorscale\":[[0.0,\"#0d0887\"],[0.1111111111111111,\"#46039f\"],[0.2222222222222222,\"#7201a8\"],[0.3333333333333333,\"#9c179e\"],[0.4444444444444444,\"#bd3786\"],[0.5555555555555556,\"#d8576b\"],[0.6666666666666666,\"#ed7953\"],[0.7777777777777778,\"#fb9f3a\"],[0.8888888888888888,\"#fdca26\"],[1.0,\"#f0f921\"]],\"type\":\"heatmap\"}],\"heatmapgl\":[{\"colorbar\":{\"outlinewidth\":0,\"ticks\":\"\"},\"colorscale\":[[0.0,\"#0d0887\"],[0.1111111111111111,\"#46039f\"],[0.2222222222222222,\"#7201a8\"],[0.3333333333333333,\"#9c179e\"],[0.4444444444444444,\"#bd3786\"],[0.5555555555555556,\"#d8576b\"],[0.6666666666666666,\"#ed7953\"],[0.7777777777777778,\"#fb9f3a\"],[0.8888888888888888,\"#fdca26\"],[1.0,\"#f0f921\"]],\"type\":\"heatmapgl\"}],\"histogram\":[{\"marker\":{\"pattern\":{\"fillmode\":\"overlay\",\"size\":10,\"solidity\":0.2}},\"type\":\"histogram\"}],\"histogram2d\":[{\"colorbar\":{\"outlinewidth\":0,\"ticks\":\"\"},\"colorscale\":[[0.0,\"#0d0887\"],[0.1111111111111111,\"#46039f\"],[0.2222222222222222,\"#7201a8\"],[0.3333333333333333,\"#9c179e\"],[0.4444444444444444,\"#bd3786\"],[0.5555555555555556,\"#d8576b\"],[0.6666666666666666,\"#ed7953\"],[0.7777777777777778,\"#fb9f3a\"],[0.8888888888888888,\"#fdca26\"],[1.0,\"#f0f921\"]],\"type\":\"histogram2d\"}],\"histogram2dcontour\":[{\"colorbar\":{\"outlinewidth\":0,\"ticks\":\"\"},\"colorscale\":[[0.0,\"#0d0887\"],[0.1111111111111111,\"#46039f\"],[0.2222222222222222,\"#7201a8\"],[0.3333333333333333,\"#9c179e\"],[0.4444444444444444,\"#bd3786\"],[0.5555555555555556,\"#d8576b\"],[0.6666666666666666,\"#ed7953\"],[0.7777777777777778,\"#fb9f3a\"],[0.8888888888888888,\"#fdca26\"],[1.0,\"#f0f921\"]],\"type\":\"histogram2dcontour\"}],\"mesh3d\":[{\"colorbar\":{\"outlinewidth\":0,\"ticks\":\"\"},\"type\":\"mesh3d\"}],\"parcoords\":[{\"line\":{\"colorbar\":{\"outlinewidth\":0,\"ticks\":\"\"}},\"type\":\"parcoords\"}],\"pie\":[{\"automargin\":true,\"type\":\"pie\"}],\"scatter\":[{\"marker\":{\"colorbar\":{\"outlinewidth\":0,\"ticks\":\"\"}},\"type\":\"scatter\"}],\"scatter3d\":[{\"line\":{\"colorbar\":{\"outlinewidth\":0,\"ticks\":\"\"}},\"marker\":{\"colorbar\":{\"outlinewidth\":0,\"ticks\":\"\"}},\"type\":\"scatter3d\"}],\"scattercarpet\":[{\"marker\":{\"colorbar\":{\"outlinewidth\":0,\"ticks\":\"\"}},\"type\":\"scattercarpet\"}],\"scattergeo\":[{\"marker\":{\"colorbar\":{\"outlinewidth\":0,\"ticks\":\"\"}},\"type\":\"scattergeo\"}],\"scattergl\":[{\"marker\":{\"colorbar\":{\"outlinewidth\":0,\"ticks\":\"\"}},\"type\":\"scattergl\"}],\"scattermapbox\":[{\"marker\":{\"colorbar\":{\"outlinewidth\":0,\"ticks\":\"\"}},\"type\":\"scattermapbox\"}],\"scatterpolar\":[{\"marker\":{\"colorbar\":{\"outlinewidth\":0,\"ticks\":\"\"}},\"type\":\"scatterpolar\"}],\"scatterpolargl\":[{\"marker\":{\"colorbar\":{\"outlinewidth\":0,\"ticks\":\"\"}},\"type\":\"scatterpolargl\"}],\"scatterternary\":[{\"marker\":{\"colorbar\":{\"outlinewidth\":0,\"ticks\":\"\"}},\"type\":\"scatterternary\"}],\"surface\":[{\"colorbar\":{\"outlinewidth\":0,\"ticks\":\"\"},\"colorscale\":[[0.0,\"#0d0887\"],[0.1111111111111111,\"#46039f\"],[0.2222222222222222,\"#7201a8\"],[0.3333333333333333,\"#9c179e\"],[0.4444444444444444,\"#bd3786\"],[0.5555555555555556,\"#d8576b\"],[0.6666666666666666,\"#ed7953\"],[0.7777777777777778,\"#fb9f3a\"],[0.8888888888888888,\"#fdca26\"],[1.0,\"#f0f921\"]],\"type\":\"surface\"}],\"table\":[{\"cells\":{\"fill\":{\"color\":\"#EBF0F8\"},\"line\":{\"color\":\"white\"}},\"header\":{\"fill\":{\"color\":\"#C8D4E3\"},\"line\":{\"color\":\"white\"}},\"type\":\"table\"}]},\"layout\":{\"annotationdefaults\":{\"arrowcolor\":\"#2a3f5f\",\"arrowhead\":0,\"arrowwidth\":1},\"autotypenumbers\":\"strict\",\"coloraxis\":{\"colorbar\":{\"outlinewidth\":0,\"ticks\":\"\"}},\"colorscale\":{\"diverging\":[[0,\"#8e0152\"],[0.1,\"#c51b7d\"],[0.2,\"#de77ae\"],[0.3,\"#f1b6da\"],[0.4,\"#fde0ef\"],[0.5,\"#f7f7f7\"],[0.6,\"#e6f5d0\"],[0.7,\"#b8e186\"],[0.8,\"#7fbc41\"],[0.9,\"#4d9221\"],[1,\"#276419\"]],\"sequential\":[[0.0,\"#0d0887\"],[0.1111111111111111,\"#46039f\"],[0.2222222222222222,\"#7201a8\"],[0.3333333333333333,\"#9c179e\"],[0.4444444444444444,\"#bd3786\"],[0.5555555555555556,\"#d8576b\"],[0.6666666666666666,\"#ed7953\"],[0.7777777777777778,\"#fb9f3a\"],[0.8888888888888888,\"#fdca26\"],[1.0,\"#f0f921\"]],\"sequentialminus\":[[0.0,\"#0d0887\"],[0.1111111111111111,\"#46039f\"],[0.2222222222222222,\"#7201a8\"],[0.3333333333333333,\"#9c179e\"],[0.4444444444444444,\"#bd3786\"],[0.5555555555555556,\"#d8576b\"],[0.6666666666666666,\"#ed7953\"],[0.7777777777777778,\"#fb9f3a\"],[0.8888888888888888,\"#fdca26\"],[1.0,\"#f0f921\"]]},\"colorway\":[\"#636efa\",\"#EF553B\",\"#00cc96\",\"#ab63fa\",\"#FFA15A\",\"#19d3f3\",\"#FF6692\",\"#B6E880\",\"#FF97FF\",\"#FECB52\"],\"font\":{\"color\":\"#2a3f5f\"},\"geo\":{\"bgcolor\":\"white\",\"lakecolor\":\"white\",\"landcolor\":\"#E5ECF6\",\"showlakes\":true,\"showland\":true,\"subunitcolor\":\"white\"},\"hoverlabel\":{\"align\":\"left\"},\"hovermode\":\"closest\",\"mapbox\":{\"style\":\"light\"},\"paper_bgcolor\":\"white\",\"plot_bgcolor\":\"#E5ECF6\",\"polar\":{\"angularaxis\":{\"gridcolor\":\"white\",\"linecolor\":\"white\",\"ticks\":\"\"},\"bgcolor\":\"#E5ECF6\",\"radialaxis\":{\"gridcolor\":\"white\",\"linecolor\":\"white\",\"ticks\":\"\"}},\"scene\":{\"xaxis\":{\"backgroundcolor\":\"#E5ECF6\",\"gridcolor\":\"white\",\"gridwidth\":2,\"linecolor\":\"white\",\"showbackground\":true,\"ticks\":\"\",\"zerolinecolor\":\"white\"},\"yaxis\":{\"backgroundcolor\":\"#E5ECF6\",\"gridcolor\":\"white\",\"gridwidth\":2,\"linecolor\":\"white\",\"showbackground\":true,\"ticks\":\"\",\"zerolinecolor\":\"white\"},\"zaxis\":{\"backgroundcolor\":\"#E5ECF6\",\"gridcolor\":\"white\",\"gridwidth\":2,\"linecolor\":\"white\",\"showbackground\":true,\"ticks\":\"\",\"zerolinecolor\":\"white\"}},\"shapedefaults\":{\"line\":{\"color\":\"#2a3f5f\"}},\"ternary\":{\"aaxis\":{\"gridcolor\":\"white\",\"linecolor\":\"white\",\"ticks\":\"\"},\"baxis\":{\"gridcolor\":\"white\",\"linecolor\":\"white\",\"ticks\":\"\"},\"bgcolor\":\"#E5ECF6\",\"caxis\":{\"gridcolor\":\"white\",\"linecolor\":\"white\",\"ticks\":\"\"}},\"title\":{\"x\":0.05},\"xaxis\":{\"automargin\":true,\"gridcolor\":\"white\",\"linecolor\":\"white\",\"ticks\":\"\",\"title\":{\"standoff\":15},\"zerolinecolor\":\"white\",\"zerolinewidth\":2},\"yaxis\":{\"automargin\":true,\"gridcolor\":\"white\",\"linecolor\":\"white\",\"ticks\":\"\",\"title\":{\"standoff\":15},\"zerolinecolor\":\"white\",\"zerolinewidth\":2}}}},                        {\"responsive\": true}                    ).then(function(){\n",
       "                            \n",
       "var gd = document.getElementById('c1a5ec56-6fa7-461d-9928-eca5d15f041b');\n",
       "var x = new MutationObserver(function (mutations, observer) {{\n",
       "        var display = window.getComputedStyle(gd).display;\n",
       "        if (!display || display === 'none') {{\n",
       "            console.log([gd, 'removed!']);\n",
       "            Plotly.purge(gd);\n",
       "            observer.disconnect();\n",
       "        }}\n",
       "}});\n",
       "\n",
       "// Listen for the removal of the full notebook cells\n",
       "var notebookContainer = gd.closest('#notebook-container');\n",
       "if (notebookContainer) {{\n",
       "    x.observe(notebookContainer, {childList: true});\n",
       "}}\n",
       "\n",
       "// Listen for the clearing of the current output cell\n",
       "var outputEl = gd.closest('.output');\n",
       "if (outputEl) {{\n",
       "    x.observe(outputEl, {childList: true});\n",
       "}}\n",
       "\n",
       "                        })                };                });            </script>        </div>"
      ]
     },
     "metadata": {},
     "output_type": "display_data"
    }
   ],
   "source": [
    "import plotly.express as px\n",
    "\n",
    "fig = px.scatter_3d(wf_PCAs, x='PC1', y='PC2', z='PC3', size_max = 5, opacity=0.7)\n",
    "fig.show()"
   ]
  },
  {
   "cell_type": "markdown",
   "id": "2a05c05c",
   "metadata": {
    "slideshow": {
     "slide_type": "slide"
    }
   },
   "source": [
    "### Visualize Neurons of Different Tissue Origins\n",
    "\n",
    "Let's see if we can find PCA patterns based on the tissue origin of spike waveforms...."
   ]
  },
  {
   "cell_type": "code",
   "execution_count": 133,
   "id": "664cf94b",
   "metadata": {},
   "outputs": [
    {
     "data": {
      "text/html": [
       "<div>\n",
       "<style scoped>\n",
       "    .dataframe tbody tr th:only-of-type {\n",
       "        vertical-align: middle;\n",
       "    }\n",
       "\n",
       "    .dataframe tbody tr th {\n",
       "        vertical-align: top;\n",
       "    }\n",
       "\n",
       "    .dataframe thead th {\n",
       "        text-align: right;\n",
       "    }\n",
       "</style>\n",
       "<table border=\"1\" class=\"dataframe\">\n",
       "  <thead>\n",
       "    <tr style=\"text-align: right;\">\n",
       "      <th></th>\n",
       "      <th>PC1</th>\n",
       "      <th>PC2</th>\n",
       "      <th>PC3</th>\n",
       "      <th>organoid</th>\n",
       "      <th>has_organoid</th>\n",
       "    </tr>\n",
       "  </thead>\n",
       "  <tbody>\n",
       "    <tr>\n",
       "      <th>0</th>\n",
       "      <td>0.018421</td>\n",
       "      <td>-0.016039</td>\n",
       "      <td>-0.013108</td>\n",
       "      <td>DLX_Cheriff</td>\n",
       "      <td>blue</td>\n",
       "    </tr>\n",
       "    <tr>\n",
       "      <th>1</th>\n",
       "      <td>-0.024765</td>\n",
       "      <td>-0.024360</td>\n",
       "      <td>-0.006856</td>\n",
       "      <td>DLX_Cheriff</td>\n",
       "      <td>blue</td>\n",
       "    </tr>\n",
       "    <tr>\n",
       "      <th>2</th>\n",
       "      <td>-0.002902</td>\n",
       "      <td>-0.018602</td>\n",
       "      <td>0.003742</td>\n",
       "      <td>DLX_Cheriff</td>\n",
       "      <td>blue</td>\n",
       "    </tr>\n",
       "    <tr>\n",
       "      <th>3</th>\n",
       "      <td>0.016581</td>\n",
       "      <td>0.016169</td>\n",
       "      <td>0.024949</td>\n",
       "      <td>DLX_Cheriff</td>\n",
       "      <td>blue</td>\n",
       "    </tr>\n",
       "    <tr>\n",
       "      <th>4</th>\n",
       "      <td>-0.039355</td>\n",
       "      <td>-0.048805</td>\n",
       "      <td>-0.070717</td>\n",
       "      <td>DLX_Cheriff</td>\n",
       "      <td>blue</td>\n",
       "    </tr>\n",
       "  </tbody>\n",
       "</table>\n",
       "</div>"
      ],
      "text/plain": [
       "        PC1       PC2       PC3     organoid has_organoid\n",
       "0  0.018421 -0.016039 -0.013108  DLX_Cheriff         blue\n",
       "1 -0.024765 -0.024360 -0.006856  DLX_Cheriff         blue\n",
       "2 -0.002902 -0.018602  0.003742  DLX_Cheriff         blue\n",
       "3  0.016581  0.016169  0.024949  DLX_Cheriff         blue\n",
       "4 -0.039355 -0.048805 -0.070717  DLX_Cheriff         blue"
      ]
     },
     "execution_count": 133,
     "metadata": {},
     "output_type": "execute_result"
    }
   ],
   "source": [
    "organoid_idx = 3\n",
    "organoids[organoid_idx]\n",
    "wf_PCAs['has_organoid'] = np.where( wf_PCAs['organoid'] == organoids[organoid_idx], 'red', 'blue')\n",
    "wf_PCAs.head()"
   ]
  },
  {
   "cell_type": "code",
   "execution_count": 134,
   "id": "2d893f37",
   "metadata": {},
   "outputs": [
    {
     "data": {
      "application/vnd.plotly.v1+json": {
       "config": {
        "plotlyServerURL": "https://plot.ly"
       },
       "data": [
        {
         "hovertemplate": "has_organoid=blue<br>PC1=%{x}<br>PC2=%{y}<br>PC3=%{z}<extra></extra>",
         "legendgroup": "blue",
         "marker": {
          "color": "#636efa",
          "opacity": 0.4,
          "symbol": "circle"
         },
         "mode": "markers",
         "name": "blue",
         "scene": "scene",
         "showlegend": true,
         "type": "scatter3d",
         "x": [
          0.01842123975441884,
          -0.02476536868382719,
          -0.0029015827175998318,
          0.016580567177490783,
          -0.039354656174488266,
          0.04380527210924162,
          0.0008978485170717676,
          0.043970582369388854,
          0.0051610198585571865,
          -0.026155253283800292,
          0.020600777411007843,
          0.015019592128104524,
          -0.03233960283059093,
          -0.008950068948020615,
          0.012770947044451034,
          -0.005113110996775622,
          0.0461947025424101,
          -0.00022624183137974,
          -0.06870628140904868,
          0.01389140025434393,
          0.020984286205597193,
          0.02959525043592445,
          0.03751206922620683,
          0.029403231601571773,
          0.05300527686962536,
          0.022933044975411477,
          0.03926391474106824,
          -0.00811314511038148,
          0.009335599543176986,
          0.014994574850760424,
          -0.012737312610690634,
          -0.025449179735836387,
          -0.03432440788449655,
          -0.017181493243412945,
          -0.024323934971567776,
          -0.037200793999111754,
          0.10769685862903508,
          0.06146130870816487,
          0.07856687101575388,
          0.017751033235961767,
          0.017634743180438974,
          -0.027097604068561265,
          -0.0838868455169128,
          0.04214222865791063,
          -0.0515843113692852,
          0.00727778432663635,
          -0.009645463781803008,
          -0.05246868960183809,
          0.024138944800150837,
          0.06462401181645153,
          0.02571380525514627,
          0.0010026143742655521,
          0.029987651362419692,
          0.021393510077276044,
          -0.011261855866794561,
          -0.06651842725978846,
          0.04338474946561861,
          0.049319584977777844,
          -0.02708031162881736,
          -0.01524981114818334,
          -0.022255425189044473,
          0.04620390712468566,
          -0.009660861590118582,
          -0.00395330988503856,
          0.009585092088211658,
          -0.025908174249333303,
          0.021341200681613444,
          -0.0002808953656037592,
          0.00976340602342642,
          -0.021714552488493077,
          -0.058201398669066255,
          0.005348871291359139,
          0.01848144012396585,
          -0.03415391959059046,
          -0.03427618428945681,
          -0.024112866834527624,
          -0.03314412572756096,
          -0.026991485143355413,
          -0.03642697960754512,
          -0.042280552956261264,
          -0.036819417856229,
          0.04146531156760624,
          -0.026490207898412124,
          -0.032156439645079624,
          -0.03163463596127524,
          0.0347539271822499,
          -0.025933707682964956,
          -0.0464868954895569,
          -0.06564570056688877,
          -0.05514827468852282,
          -0.020152320450088173,
          -0.014392418412079491,
          -0.015505089068980706,
          -0.031659433583244155,
          -0.035441264765610284,
          -0.025120593958457157,
          -0.020765850676437703,
          -0.038547587557949146,
          -0.0439841986724977,
          -0.04304312249367354,
          -0.039923094105317775,
          -0.03920519794821373,
          -0.04014657238733444,
          -0.04702196638371681,
          0.03991323752216421,
          -0.002645182789780845,
          0.03656668098388383,
          0.014366555986974885,
          -0.028351838582654894,
          0.004550799433969412,
          0.04538670675202145,
          0.0069047943055378265,
          -0.005960421662447432,
          -0.0006066128578832281,
          -0.01447193941918753,
          -0.03471236577607342,
          -0.03328748002141786,
          0.0031586946770578734,
          0.01075025554230334,
          0.014199650791744458,
          -0.02931713501452231,
          0.019489724217863696,
          -0.005270952863521402,
          0.00011651370055649629,
          0.032233984756344015,
          0.06161573426092349,
          -0.009485018349973165,
          0.03928548704723844,
          0.039106123584550595,
          0.01906819026819612,
          -0.035682510396737394,
          -0.01162769243443273,
          -0.021125712267259754,
          0.011718319672643971,
          0.0042433994597184475,
          0.018547094135496593,
          0.05301244016663934,
          0.07541060351748453,
          0.0090992059191804,
          0.011543536041467496,
          0.016236649511311978,
          0.024077676190713573,
          -0.01186806878440946,
          0.04579652550965434,
          0.024821878149177457,
          0.03698780947083753,
          0.012955902223290496,
          0.047962024989102715,
          0.0045939438777788544,
          0.007894212772277498,
          0.026462478415296472,
          0.03134241331110185,
          0.09707801154090342,
          -0.005954337344509798,
          -0.024076103029101643,
          -0.004519812378791008,
          -0.14911749726552156,
          0.010378854059841281,
          -0.021005689761554532,
          0.008127456660710833,
          0.04565790033656108,
          -0.03320004965036064,
          -0.031898812544057305,
          0.04414154298775651,
          -0.050927532861551224,
          -0.03362559775674153,
          -0.09117967767334687,
          -0.04419452427446471,
          0.04168021163741693,
          -0.006105876283865427,
          0.012016152506425338,
          -0.007621501969512561,
          -0.009012832581283218,
          0.0014512149746194606,
          0.03427161937499484,
          0.003314774398443788,
          -0.003388426126734929,
          -0.013493274540473528,
          0.005828953575914522,
          -0.03649164467858509,
          -0.006850337664830775,
          -0.0020534048888019877,
          -0.0035661244084370367,
          -0.009476339528518497,
          -0.0542034855961734,
          -0.025520234886800535,
          0.06746138791902662,
          0.02454596485211944,
          -0.02283057492616406,
          -0.009282755220214411,
          -0.0002647393391207659,
          -0.028423284397123317,
          -0.0034551086850048407,
          0.014187174507229712,
          0.027332108920037654,
          0.011241336138458168,
          0.010995524954849697,
          0.015463865302713879,
          -0.003722340408074242,
          -0.03006212588085434,
          -0.03410110515527591,
          -0.03085232323430387,
          0.03872586254659069,
          -0.04105523441917034,
          -0.03762642115928532,
          -0.05845822705459792,
          -0.04764885792079434,
          -0.06927261007777093,
          -0.03861526459971239,
          -0.005075879200531761,
          0.01347463612391935,
          0.010991012885186887,
          0.01570740984478305,
          0.001399455128601162,
          -0.025759720644334044,
          -0.010133893739906027,
          -0.03770500416361682,
          -0.002510268444668371,
          0.011547228868407625,
          0.010839840472541828,
          -0.02672751806243625,
          0.007441601604687158,
          -0.011164555992564043,
          0.07245836940427322,
          0.04037440953580884,
          0.002484899237051127,
          0.024659424834596884,
          0.01618434696493027,
          0.04984620667338621,
          -0.008277286277913224,
          0.02464667563745079,
          0.01238959337532185,
          -0.03351826796802751,
          -0.036541978056964776,
          -0.029490799144036732,
          -0.0026599363337263065,
          0.04077013076080356,
          0.023933929877405852,
          0.03730133540594335,
          0.01448242395994499,
          0.03183839606089851,
          0.018105390001278674,
          0.025984317583719864,
          0.014703862819692668,
          -0.01814416822095829,
          0.009509001996179068,
          -0.03401664949192212,
          0.005672083417489825,
          -0.03765970373295631,
          -0.039326474069621906,
          0.0005693500008702913,
          0.024660323142579363,
          -0.014764863972113832,
          -0.01062038359442331,
          -0.004006931087862607,
          0.052342869062470286,
          -0.032579327049536415,
          -0.01578371884455355,
          0.014282391852509064,
          -0.035371368899624486,
          -0.020991674527526715,
          0.001882895598979884,
          -0.005399392057611464,
          0.05085384058009849,
          0.06277868182080247,
          -0.08107464510483868,
          0.019643187851564332,
          -0.023783968215089695,
          -0.04359722203504603,
          -0.03769896211733411,
          -0.04124972751683902,
          -0.03673535006876415,
          -0.03301720370292939,
          -0.007364284719197304,
          0.01303856509197362,
          -0.001583099221216521,
          0.011494203612968648,
          -0.026084019952420524,
          -0.04059961062230567,
          -0.04071696058231139,
          -0.018043359166447594,
          0.0001401972839983692,
          -0.06279697975707196,
          0.012747118137915125,
          0.010543706919962554,
          0.0036919176234012246,
          0.008253274079415032,
          0.038484978325058004,
          0.04516615543909258,
          0.028972591811950932,
          0.01798985013911614,
          0.027601474393135702,
          0.001485843154363673,
          0.05009051082152196,
          0.03926988426821845,
          -0.03590885548068069,
          -0.07389843133139898,
          -0.06957351629716757,
          -0.06602567005970593,
          -0.030477294370891587,
          -0.035112630308548436,
          -0.05149498112404914,
          0.013689089027399737,
          0.06071557627343299,
          -0.001423815213657834,
          -0.037228287030162954,
          0.03979998538691319,
          -0.1615018548920596,
          0.025883637023543637,
          -0.014096740342646956,
          -0.033109400480390266,
          -0.03465213284959726,
          0.03216569107094334,
          -0.028005311104274098,
          -0.037392252567709956,
          -0.037943217110604895,
          -0.02356769135920324,
          -0.005192392771785951,
          -0.014375151379268179,
          -0.03446685667359347,
          -0.03279321133343373,
          -0.0588797269583188,
          -0.027955758395911405,
          -0.05038751690523945,
          -0.009064131234231446,
          -0.047536883260683255,
          -0.028966668519615456,
          -0.01594984211915185,
          -0.07045076138430556,
          -0.054811658552682066,
          -0.06962333159224358,
          -0.05839990009686613,
          -0.024641195018268107,
          -0.05562678702885258,
          -0.030386154797338603,
          -0.06186295420999387,
          -0.008429287362967075,
          -0.053829465294528686,
          -0.06581391505639281,
          0.03441814957081383,
          -0.04120134032204601,
          -0.03702583127069831,
          -0.041061000788160176,
          -0.03654589995864208,
          -0.002713754851247562,
          0.006546326766231718,
          0.07508443291739769,
          0.008493485282011246,
          0.05805323956466879,
          -0.0035792183634648944,
          -0.025843851489042686,
          0.03376390742537685,
          0.003107461871677326,
          -0.022285873136906782,
          -0.031150840161945505,
          -0.028845423327293628,
          -0.10667832402027183,
          0.040453921722996576,
          -0.020786694798965617,
          0.019895755207048928,
          -0.003415342301880765,
          0.004355163064380333,
          0.03473251832063931,
          0.013674690850777462,
          0.017048286614489257,
          -0.0017331441105995543,
          -0.004097232792354731,
          -0.014993354077510124,
          0.013564066744853756,
          0.0617045218077844,
          0.008173884733141842,
          -0.05119766521636755,
          -0.05464326013760986,
          -0.0758736884243837,
          -0.058619065832663075,
          0.02657684331684596,
          0.011330121229141699,
          0.017849484764348337,
          0.036284878971651155,
          0.04837121073517464,
          0.012252162252439542,
          0.041255638799233,
          0.0023879139270756087,
          0.00569227967910846,
          0.00529656549050377,
          -0.0025198843819638425,
          0.014064461792864608,
          0.011218860401034994,
          0.022083001539491595,
          0.03560886416742624,
          0.008444336830278917,
          -0.039182734005851746,
          -0.03872759336835716,
          0.015360818178683818,
          0.030017005367875327,
          0.0442954818874665,
          0.00047788554162866455,
          0.07795796248479364,
          0.08631030921137706,
          0.062364972893996125,
          -0.03582896021998836,
          -0.027511018439109948,
          0.06970491182240167,
          0.04729997717042625,
          0.028024965742900285,
          0.04795587086735963,
          -0.006317422855836125,
          0.0033181403110557586,
          0.01631525977123966,
          -0.01619849975518647,
          0.03940566513332996,
          -0.033429019702667456,
          -0.029664205662163014,
          0.028331482966098956,
          0.021585687792967538,
          0.050799888625736055,
          0.04730577134879267,
          0.06837078768334884,
          0.037778706506049,
          0.026195537972799127,
          -0.006967365176637946,
          0.05110649706936793,
          0.055001726086457856,
          -0.01659178224491131,
          -0.015268314380594724,
          0.01164710003817566,
          0.025604234257351796,
          0.0037814584667060966,
          0.013359469495493229,
          -0.03387420116144885,
          0.016740714321575506,
          0.0056843257206099455,
          0.02309256024295055,
          0.01640848491316695,
          0.012603466045767902,
          0.017503886682397114,
          0.028835587891883466,
          0.028314474856732445,
          0.024498883046558183,
          0.05810162602123553,
          0.003794447079875278,
          0.0268061500975497,
          0.02063205496875939,
          0.021198232828323938,
          0.033514564656349596,
          0.004083001290990817,
          0.01837357221217913,
          0.027108834304621094,
          -0.006126461649620506,
          0.02266951254407089,
          0.03091090717197348,
          0.06463181071073934,
          0.01812582224942896,
          0.013496512057593868,
          0.033046734414476135,
          0.050524660240315496,
          0.033025485503819466,
          0.016085551791965,
          0.008258364146236836,
          0.020306214124539236,
          0.1597312433771691,
          0.18679645339066286,
          0.018668822053859318,
          0.042665051077388286,
          0.04183159158918217,
          -0.03461344372065719,
          -0.0076737188719877706,
          -0.008417540225111802,
          -0.0032014043597383157,
          0.03761740246066681,
          0.036639066906282595,
          0.01965212756013726,
          0.04326643315016064,
          0.05434968880173305,
          0.09437553554931857,
          0.04676406882098476,
          0.023167681257494018,
          0.02463331850513566,
          0.015307403049362452,
          0.008146458905778439,
          0.007804504192853742,
          0.04807851427964634,
          -0.04132806139700137,
          -0.03000126898569542,
          -0.01376405244379481,
          0.00514241534906969,
          0.014756607509988605,
          -0.008280945096443448,
          0.012424577615263013,
          0.07252732308611419,
          -0.0032903846028793644,
          -0.03617965474264245,
          -0.034269252454619335,
          0.01940178066841853,
          -0.006455958656178733,
          0.00861371229943194,
          -0.03671667157471663,
          0.03649712780371485,
          0.039515813284214996,
          0.07157272636110862,
          0.025835899601641333,
          0.0009406906747496289,
          -0.03184726452483239,
          -0.028320869290770545,
          -0.017663349237014653,
          0.024469920254510013,
          0.15429592311012608,
          0.02129392672294923,
          0.09196404010823146,
          0.12713096662704945,
          0.11123946171549641,
          0.12589533336682673,
          -0.007305835449216403,
          -0.035131296596013085,
          0.030408757683568707,
          0.016710490224030216,
          -0.01770667613574352,
          0.011337421533053737,
          0.012536778325812705,
          0.023551655501314772,
          -0.012729580500684429,
          0.04551937478768601,
          0.015744128448019434,
          0.09435570209158771,
          0.029745073826798123,
          -0.0069090573755807025,
          0.023344536737163378,
          0.11549723800531553,
          0.10477173714528314,
          -0.03871271570118744,
          -0.01511129942408851,
          0.11982568759955291,
          -0.008928120884623978,
          0.0364873510029832,
          0.017671151385967802,
          0.04262540558203871,
          0.05258939638729157,
          0.029694280424039998,
          -0.012550029329015104,
          -0.02122410924767249,
          0.05055702925479921,
          0.013333797089952634,
          0.03879859612144663,
          0.03115985853591722,
          0.10739802478278175,
          0.030295550667978528,
          -0.0006846683575745952,
          0.0016281777875787776,
          0.039364560821886115,
          0.010275129543823461,
          -0.0022791284387048026,
          0.003748542485327038,
          0.008176064889101008,
          -0.004212455961177103,
          0.016268995622942154,
          -0.009267334116676337,
          -0.016851888924144215,
          -0.01495267087181717,
          -0.010941970755424179,
          -0.03091047154016767,
          -0.07167813429964852,
          -0.05619492375421346,
          -0.021409013127682078,
          -0.04028580709812658,
          -0.03576740734201029,
          -0.0375370931497261,
          -0.02021121875507357,
          -0.07705600004791405,
          -0.03123324552026845,
          -0.008863583468841396,
          -0.010161845506086477,
          -0.04114431358393147,
          -0.03231499031946769,
          -0.03709502820159692,
          -0.09245980703780543,
          -0.035187326304903996,
          -0.04205592733973244,
          -0.04870848292329647,
          0.010531283551379257,
          -0.10250042756143707,
          -0.027925615623979685,
          -0.03089197245410404,
          -0.053806632808459647,
          -0.02614997031521252,
          -0.03654552795361696,
          -0.04248697224759808,
          0.03235552088917414,
          -0.003674689753177822,
          0.055229221782951234,
          0.008043420839867206,
          0.028144247635565795,
          -0.03705127659836153,
          -0.07336140226887479,
          -0.026170676745711843,
          -0.03552185063931617,
          -0.037849532445414835,
          0.09677987087166316,
          0.00021309835630842506,
          -0.00020658089145971975,
          0.07313750522786618,
          -0.002864721900476914,
          0.012690516373234534,
          -0.004103659358211803,
          0.015698335502866104,
          -0.005994520014877401
         ],
         "y": [
          -0.016039341622064964,
          -0.024360336855620474,
          -0.018602417390492662,
          0.01616885637695187,
          -0.048804929021831,
          0.017189852997096973,
          -0.004875127177718863,
          0.0037747713853225943,
          -0.0085478623217267,
          -0.06724136396584238,
          0.00641651271174854,
          0.009007471170256793,
          0.006190207211000654,
          -0.012476157312169224,
          -0.012417787816453805,
          0.003079375783828031,
          -0.021811784012150375,
          -0.006458606551324375,
          -0.008030221802897019,
          -0.02303554718171909,
          -0.00685668027376153,
          0.01537479674130349,
          0.0336314187185297,
          0.0029093886317972375,
          0.02825613134192046,
          -0.0049387678608864794,
          0.01820197729149016,
          -0.016384013454602716,
          -0.0013206082469350818,
          0.024495735268081898,
          -0.0389712492699225,
          -0.04620519090403694,
          -0.07319502251868007,
          -0.0315614003094169,
          -0.022392884692456694,
          -0.035182750089917066,
          0.04302005898018857,
          0.030929857167646,
          -0.0066952819622108075,
          -0.007943862356521092,
          0.002578940297893057,
          -0.029631227292941924,
          -0.08530714844943904,
          -0.02142257477156571,
          -0.03650617199106515,
          0.013874578292746331,
          -0.023197085421858967,
          -0.020522996498654262,
          0.0011426343003879634,
          -0.017545375745427538,
          0.02335244451927221,
          -0.029404374760229682,
          0.00865690998238441,
          0.01079377305150498,
          -0.046341454971015515,
          -0.058990413595930435,
          -0.02942402871799513,
          0.0028219080882856554,
          -0.020811708455828415,
          -0.017281156353878467,
          -0.02539830777073666,
          0.011434516912358967,
          -0.008040015158132212,
          -0.01665688879781042,
          -0.02984163893474281,
          0.04684682665043867,
          0.026257182994744357,
          0.06900701005340204,
          0.045684133617099776,
          0.13267038155516095,
          0.05021064327011884,
          0.05475709976471707,
          0.0484690612972079,
          0.024305895488920565,
          0.02290191484814777,
          0.0009766756161035575,
          0.019409849471269634,
          0.06790374643730308,
          0.05427943417088232,
          0.040279139802651125,
          0.020688079702886525,
          0.11853643015334683,
          0.11694577103579898,
          0.0180926588606088,
          0.042246879444633616,
          -0.021709348294661486,
          0.060628821092871564,
          0.05316472555141696,
          0.12191029849358657,
          0.003349781593447201,
          0.06786465381880698,
          0.08557978764833363,
          0.027819673415771233,
          0.03108857253594393,
          0.029715625874521295,
          -0.0005426449637172072,
          0.032284972890679824,
          -0.040814191826290244,
          -0.04044359528147645,
          -0.047159353229347015,
          -0.03317617715332452,
          -0.04298966625618277,
          -0.03778186829073577,
          -0.044394258269966146,
          -0.003251699242500025,
          0.002973733160341568,
          0.003718499312239155,
          0.021018142768074916,
          -0.0281070386370114,
          -0.027437634902064842,
          0.01109167609302186,
          -0.041276476612984406,
          -0.01573062655250078,
          -0.018890693526476772,
          -0.007564770247787573,
          -0.019513338781139054,
          -0.024481410675536625,
          -0.026185538372399984,
          -0.02437536791069836,
          -0.017727910013201727,
          -0.022054884879780814,
          -0.03723148910288885,
          -0.01235157920401344,
          -0.02659232859339464,
          -0.009730491022796885,
          0.020892191148432222,
          -0.0068407986043518216,
          0.012692543032399549,
          0.014305429982433508,
          -0.0034796453527536973,
          -0.04385184044636097,
          -0.024328542824584718,
          -0.02476868209458411,
          -0.06586044048066955,
          -0.025096003826950295,
          -0.029609678771617097,
          -0.023287085417703655,
          0.004330777279098313,
          -0.005733651236169821,
          -0.017245458470317755,
          0.001825426408059253,
          -0.016808696434989424,
          -0.012875958704936599,
          -0.012475514181424409,
          -0.03279771969973531,
          -0.04881170058767719,
          -0.006494042955593578,
          0.021832058791674578,
          0.0023525075214057647,
          -0.028166589806806887,
          -0.0013806495914810788,
          -0.034280344845674694,
          0.002438862385599313,
          -0.017259816177016586,
          -0.010576634106003072,
          -0.0175722301087995,
          -0.05593924203025154,
          -0.0459598084516353,
          -0.039064676479256585,
          0.0014639768946954166,
          0.026051691254154987,
          -0.013049281874130575,
          -0.025448857707033878,
          0.005797294965367405,
          -0.01958671860681426,
          -0.026150978173348802,
          -0.018917095135617717,
          -0.025616119207148322,
          -0.029509072544718063,
          -0.006111067693124554,
          0.004641225802859504,
          -0.01970643506544421,
          -0.015442402934314772,
          -0.012946237410843237,
          -0.023110947350578646,
          -0.003658742183916912,
          -0.00870873850560741,
          -0.016596662192125702,
          -0.01237926794754971,
          -0.033972409618795045,
          -0.006805683093801566,
          -0.004449040236299743,
          -0.0018614923848604035,
          -0.019636233115591182,
          -0.05218587361178655,
          -0.027054262253078016,
          -0.017711394542216957,
          0.0016711226407391932,
          -0.035727636494691545,
          0.001938872955660745,
          0.025890273996109714,
          -0.03518122652459557,
          -0.029984408914100234,
          -0.011736468682752013,
          -0.011364514393187093,
          -0.011432452029230003,
          -0.011563721313798937,
          -0.005426640199230257,
          0.00380471852843617,
          -0.02578068106468496,
          -0.027921596834550425,
          -0.022380121843262494,
          -0.012003604896636592,
          -0.01212960062971383,
          0.024294449909799842,
          0.06215324563281903,
          0.06749789437927177,
          0.05306109123356102,
          0.06407091933406471,
          0.05297634505800028,
          -0.02952962514821891,
          -0.03373121752106182,
          -0.03792492052093936,
          -0.022637729472433282,
          -0.031043836174140464,
          -0.013061473492665912,
          -0.03120617120881426,
          -0.04309577423027277,
          -0.0007630029609721704,
          -0.04539221364847371,
          -0.007792758808926713,
          0.021680343642699197,
          -0.042929649337671884,
          -0.021233573898406757,
          -0.038256897230116264,
          -0.02778305848865738,
          -0.007603678672335937,
          -0.01936531640194429,
          -0.046667979635189635,
          -0.01700853954772467,
          -0.025082986682172372,
          -0.02307993465797008,
          -0.015028268519298341,
          -0.03325586182520105,
          -0.019322750468863965,
          -0.03000176524408586,
          -0.002735384990021148,
          -0.004261786438123092,
          0.013912541040657127,
          -0.009331523385348832,
          -0.019022711587152772,
          -0.056229238059048295,
          -0.04170862674855577,
          -0.05566426535000849,
          -0.007832705350716179,
          0.011177532024675169,
          -0.03213854447938718,
          -0.02474538973827163,
          -0.028938211308682824,
          -0.031710535096299904,
          0.14167653640679395,
          0.09774104623415411,
          0.11928033060014051,
          0.09079277407813963,
          0.10581524172298548,
          0.10443538044510457,
          -0.02026562473463102,
          -0.02676366895321354,
          -0.02360842071042526,
          -0.027466231291356596,
          -0.044009340763042026,
          -0.001551983401979757,
          -0.02211570933695659,
          0.01790968655664718,
          0.022826260089541917,
          -0.014932267641652482,
          -0.024060813899484834,
          -0.022848870810098905,
          -0.01713409647300316,
          -0.023561464636267206,
          -0.030146424905841247,
          -0.023902563761811317,
          -0.01378597131514535,
          -0.031198887733300346,
          -0.014681126384563826,
          -0.015850372851891312,
          -0.02362677904747601,
          0.07426278351550057,
          0.05633648545610966,
          0.022597606110043692,
          0.0021438811775613548,
          -0.08468265937331121,
          -0.03694209636605996,
          -0.009332937250113842,
          -0.029403100372151603,
          -0.03000305903300132,
          -0.011459639217175346,
          -0.010292114650316745,
          -0.006633338069795561,
          -0.010209157662356073,
          0.015155940472204782,
          0.01642837329704831,
          -0.00587563558915783,
          0.08371855190875058,
          0.016731812936997815,
          -0.034182106219512474,
          -0.037573798585422535,
          -0.03310238955010023,
          -0.03574880950256772,
          -0.027244827938019533,
          -0.02695648781752238,
          -0.018975873489071787,
          -0.0262886442843189,
          -0.013436697328312116,
          -0.03258303413491446,
          -0.02509414844299243,
          -0.029109821674347745,
          -0.029858042874352824,
          -0.02282478375359936,
          -0.0539304863659182,
          -0.01782669584971157,
          -0.025658199472736037,
          -0.03296330650033816,
          -0.030243324278528445,
          -0.030459733907483074,
          -0.04674374667179437,
          -0.019234236833081488,
          0.05839519569494404,
          0.059276372100058435,
          -0.005999586594031959,
          -0.0002413444616131988,
          0.055354254474228634,
          -0.00022923643224853635,
          0.03772736750533108,
          0.061333290843523826,
          -0.019641814602372985,
          -0.019558545015380065,
          -0.02334055881801687,
          -0.0243269176710073,
          -0.05495347320549145,
          0.010190444615823305,
          -0.038425705289342436,
          -0.030771369287327103,
          -0.03321848213962979,
          -0.0062924069068839,
          -0.023152193284285732,
          -0.02428260218199933,
          -0.015314699380769447,
          -0.023407907327724947,
          -0.012319934669019768,
          -0.0342495065453436,
          -0.03507929683840135,
          -0.03211838354474956,
          -0.027385020371397326,
          -0.008020056865664442,
          0.003174476887421991,
          0.014612877367481817,
          -0.0029277888080416095,
          0.016964279649956896,
          -0.00048260818460485054,
          -0.03166632484009355,
          -0.005905562154543742,
          0.039408564931101855,
          -0.03467573797929967,
          -0.016741843855140184,
          -0.028851043273331354,
          -0.10918140525556501,
          -0.0027328269904809215,
          -0.03626494153694162,
          -0.006640806731482563,
          -0.007893114050261298,
          -0.039457979318572076,
          -0.011443062066168803,
          -0.020217922235275146,
          -0.03693561209125556,
          -0.01896630960905218,
          -0.02212271564868076,
          -0.014284424742578591,
          -0.04015505682199257,
          0.019335319815741027,
          -0.027956076223064404,
          -0.01908588076675777,
          -0.020046846953763634,
          0.0049283271854801015,
          -0.012488810112136019,
          -0.021387688512256992,
          -0.024597382815934845,
          -0.0035850903387064387,
          -0.013189265812948298,
          0.0030283222218190978,
          -0.007899940880786428,
          -0.006224661748939885,
          -0.03617180030235395,
          -0.02253461007297974,
          -0.031362090108765124,
          -0.03701652810639489,
          -0.018047784748134562,
          -0.021600163151871517,
          -0.026228840645726094,
          -0.023487921098443613,
          -0.024990706171956426,
          -0.03210465169999377,
          -0.031393804353869126,
          -0.009356337679872904,
          -0.02553142519374681,
          0.01476478104241222,
          -0.020310451539896923,
          0.0046424196632444395,
          0.021113027691408087,
          0.016324857116075002,
          -0.020947141209696298,
          -0.019296590192466066,
          -0.013965704350123748,
          -0.015699634627957558,
          -0.03179877742594036,
          0.03348323864625274,
          -0.03886867483243456,
          0.007121938800601893,
          0.005650770840424407,
          -0.018053806027144827,
          0.012304134235082234,
          -0.04817202169006504,
          -0.0493790922036274,
          0.020354484858937823,
          -0.01552019089873391,
          0.008717479794615292,
          -0.034742711912075105,
          -0.045312500596029766,
          -0.01986820622372124,
          0.007200051892648638,
          -0.02645006767631976,
          -0.008835417819909694,
          0.013375719064970223,
          -0.00948766332943395,
          -0.019175849647556725,
          -0.018708707126693692,
          0.027149693957783574,
          -0.01990060571462087,
          -0.005425768583785522,
          -0.01814760594783771,
          0.004204251046483307,
          0.014635328625872888,
          0.02788342956032371,
          0.005147495845458227,
          -0.01151880006118158,
          0.006252770574750246,
          -0.0008834755867942295,
          0.008043714184261757,
          -0.005677002778238115,
          0.03296149397255901,
          -0.020839818754310922,
          -0.00750875809664242,
          -0.0019406295690065096,
          0.022735441400612358,
          -0.006114951100451209,
          -0.020714446079626133,
          -0.06115716056625565,
          -0.017061286647728217,
          -0.02795311851959983,
          -0.021901505686933557,
          -0.022251191202492283,
          -0.007900083322671655,
          -0.016993385845701134,
          -0.051080575081601035,
          -0.034947787334835716,
          -0.01669064223327961,
          -0.0213327006834672,
          -0.04111313390332317,
          -0.05213477461581557,
          -0.03092728004349051,
          -0.046654578079873534,
          0.04376569375950789,
          -0.019311914404144915,
          -0.01788309613458762,
          -0.04044937450737396,
          -0.040949769478947726,
          -0.04264277599480047,
          -0.036838117461976246,
          -0.03978297325697797,
          -0.08502717255211802,
          -0.03518936142969846,
          -0.012104035300843061,
          -0.03689701604686816,
          -0.0218637536449733,
          0.022781890167788765,
          -0.0142494817909622,
          -0.020504814179099627,
          -0.026055524420170555,
          0.0025814084001512614,
          0.007784174906233726,
          -0.02309406925289264,
          0.01844020627516605,
          -0.018867635022645966,
          -0.029153220419266726,
          -0.03172959152330777,
          -0.012631821550138674,
          0.006430982596260131,
          -0.016043265987440564,
          -0.0030324950599123555,
          0.008651941600561566,
          -0.03933373363458922,
          -0.02467190787098304,
          -0.03163654579825709,
          0.01020580520649377,
          0.0023148606162939674,
          -0.008031938221125065,
          -0.05287054318992375,
          -0.000980781233213042,
          0.010240061646313877,
          0.03286984119433035,
          0.015138771874265756,
          0.0093830858071231,
          -0.03163828049876997,
          -0.03428726406475003,
          -0.02905699311923413,
          -0.0009567501809344798,
          0.08026396868742862,
          -0.028976866245806938,
          -0.014100977042352601,
          -0.023750193776232706,
          0.008471393038950526,
          -0.006729644346539415,
          -0.005910974869070397,
          0.031383612657773036,
          0.014098862726481493,
          0.008536464034001698,
          -0.02760375195353262,
          0.0017837484568043647,
          -0.016471617220095092,
          -0.003177437167210957,
          -0.011661271478091045,
          -0.0203179110327534,
          -0.00622781221978955,
          0.0700817399581909,
          -0.00421730594459752,
          -0.029581169665776254,
          0.0019132874724380878,
          0.04382627500770182,
          0.021932775520355975,
          -0.02701139512889145,
          -0.03567387649016412,
          0.07185258939234225,
          -0.05219539447902391,
          -0.010906815487300795,
          0.011996653050393921,
          0.0012750139590039615,
          -0.0036023637665074048,
          -0.00012506011316824352,
          -0.02451186468635786,
          -0.01710980867807594,
          0.0035350248101362813,
          -0.01328971933261635,
          -0.024088298285494265,
          0.001478174008316146,
          0.01702877123821361,
          0.016580043315488256,
          -0.015836039399823563,
          0.001174408715128015,
          0.01394622366260927,
          0.00015146637619593256,
          -0.015886621027312132,
          -0.005254198943993774,
          0.002924696034716139,
          -0.017915275323627054,
          0.0028789464240121057,
          -0.013421338916259837,
          -0.014764184235684145,
          -0.026016898850370687,
          -0.022193486840758364,
          -0.0378656008981083,
          0.09663198511562512,
          0.08525661118712029,
          0.06100431628372585,
          0.09017028749361461,
          0.1130035564546893,
          0.07824412601954901,
          0.08102227020622679,
          0.0922064972525309,
          0.013822076778903288,
          0.05826390537186297,
          0.0746397560211879,
          0.06716074427675216,
          0.07885571595260209,
          0.04490249410396685,
          0.10699013584731432,
          0.053087274058537096,
          0.053290476352354586,
          0.05930982029308483,
          0.11094759104620866,
          0.043862704887677344,
          0.09673297894856828,
          0.057037403836756415,
          0.08097963798048885,
          0.09105825022092262,
          0.05929479663044695,
          0.05339645132995542,
          -0.009294425115632438,
          -0.012948135456876663,
          -0.02063474402818132,
          -0.0073639999475372175,
          -0.006102162265416644,
          -0.04896756745793143,
          -0.07360909784088027,
          -0.019755806814215942,
          -0.022359287293179063,
          -0.0235570726517965,
          0.014482187436815843,
          -0.00851744781560918,
          9.087787852657694e-05,
          0.00902562329706317,
          0.0178693425125446,
          0.014728218460014195,
          -0.0025902630454082295,
          -0.021074347796436882,
          -0.004337432824364277
         ],
         "z": [
          -0.013108254450269816,
          -0.006856199123725527,
          0.0037419198239228174,
          0.024948988352412875,
          -0.07071725666637226,
          0.03931457956636574,
          0.03703671957143545,
          0.02971176196720531,
          0.017997528110001933,
          -0.00013856933143952766,
          0.012314232057276,
          -0.04457870893403506,
          -0.027800655483882095,
          -0.01713774415335273,
          0.002622551679222947,
          0.015320033829320791,
          -0.038217687179400904,
          0.016664278591941976,
          -0.010924337776632683,
          -0.02876628453741797,
          0.009474763536793732,
          -0.03323580851554396,
          -0.00820171003343452,
          0.003223716579243696,
          -0.030981139311666753,
          -0.0024209708406880076,
          0.05581275054739129,
          -0.011456189589813169,
          0.022718776636616946,
          0.00016875916628126834,
          -0.03251333500073363,
          -0.12159179089919965,
          -0.11230574741121535,
          -0.04163206688425054,
          0.018021753093405573,
          -0.10360022488181561,
          0.02580805794159294,
          -7.194395647872031e-05,
          -0.003938926162649046,
          -0.016324674657195205,
          0.026165858894518605,
          0.012138859175220142,
          -0.08764262432027041,
          0.023651770345741317,
          -0.0826435792226686,
          0.009318058587035943,
          -0.00625770345331555,
          0.05894975779634386,
          0.01812147643302514,
          -0.014355925544271472,
          0.029604259728779232,
          -0.01588062783573385,
          0.03543698061364815,
          0.008038478380523099,
          0.013414795398525678,
          -0.03704947338087839,
          -0.023215245492524073,
          0.0336841325716035,
          0.022391396574281033,
          0.03961627501560037,
          0.008667415997446994,
          -0.0059231906151761445,
          -0.005311265043346039,
          -0.015241428549513112,
          -0.006267769884305745,
          -0.020605072637614116,
          -0.035979222760264065,
          -0.018015120292712506,
          -0.06956956808401817,
          -0.040300887050445246,
          -0.08452834622014262,
          -0.02405008941806299,
          -0.07838739110586325,
          0.04254901114910704,
          0.04328125121896712,
          0.05773070372307509,
          0.03853341822917782,
          0.007173159568733378,
          0.03406300683351608,
          0.04801879436688513,
          0.042197035749881526,
          0.0018095549829292756,
          0.045172630876467966,
          0.049539221440826973,
          0.04821467611125371,
          0.0687558901508523,
          0.026879093079904232,
          -0.0050321172970110755,
          0.01906751774044504,
          -0.025854960994840394,
          -0.05490644552925973,
          0.03611664009977632,
          0.051348127421560856,
          0.04522451460904451,
          0.05177861752855467,
          0.05396203145094724,
          0.05923118683378797,
          0.11307541931772194,
          0.11975185007713919,
          0.10185047525137592,
          0.09419403412904899,
          0.11673500711367964,
          0.09677615958043154,
          0.11530374552272171,
          0.046283649742408145,
          -0.027460876056683823,
          -0.002635165353875161,
          0.015258341236479503,
          -0.06607473068776283,
          -0.009669671554901067,
          0.011621034395258776,
          -0.010801064748637032,
          0.049131204798332176,
          -0.006145109395755449,
          0.11300996066594668,
          0.0596639357714979,
          0.05174020655989661,
          -0.014886295872757013,
          -0.003447852895465236,
          -0.0002477463786467789,
          0.05368049203558647,
          0.02221966657930691,
          -0.015233197075968262,
          -0.03797641763525941,
          0.01575561480782084,
          -0.0012721927806932203,
          0.026611274924274488,
          0.0009099353164539601,
          0.011533365823908686,
          -0.0262759479994912,
          0.01825880459586058,
          0.02974679012873308,
          0.03656238914363785,
          -0.00803717847994012,
          -0.07423239180930596,
          -0.012535445723516541,
          -0.014228169189215458,
          -0.09977408080238731,
          -0.005435982671090118,
          0.00046203515439591474,
          0.0026545365477882183,
          -0.009525149067172473,
          -0.024043132310022485,
          -0.0014039668702286723,
          -0.016162588255953788,
          -0.044924803737293635,
          0.004131371709484389,
          0.01833252885543822,
          0.00433179083151226,
          -0.04461238546044369,
          -0.012936798328798233,
          -0.04618048545274322,
          -0.0068244999277406225,
          0.003683481088932869,
          -0.03418639428155202,
          0.03291911821604118,
          0.0065625127849562185,
          -0.03804697024849661,
          -0.016984737377123568,
          0.008942748337980618,
          0.014548983340268818,
          0.03940888287093637,
          0.050352885653559845,
          0.0029989126921850023,
          0.033822103026836116,
          0.052765165834096926,
          0.011508079024719623,
          0.05302339279984452,
          -0.010979812143589798,
          0.03178385897299861,
          0.032951787317005155,
          0.04487531655588362,
          0.03550315761874783,
          0.0386714601366368,
          0.02081520655854148,
          0.020638646703944226,
          0.03837499243283971,
          0.034726782291942634,
          0.009227513973684173,
          0.0015996480452059572,
          -0.029667662950852904,
          0.030360923722542316,
          -0.009372414393083919,
          -0.006336759807604119,
          -0.10137268111883017,
          -0.01892901189433829,
          0.004336303707458133,
          0.0244056609540019,
          0.04317844386258344,
          -0.014141826968211865,
          0.016527791195060017,
          0.016924198076162487,
          -0.04222520341334325,
          0.009026590933562945,
          -0.006474737918778927,
          -0.0070445001578286846,
          -0.03978082374158043,
          -0.011314041752983646,
          -0.004196664663645065,
          0.014554590591506917,
          0.05262886749767859,
          0.05380226117428635,
          -0.02676380298921468,
          -0.013996927554553909,
          0.0019109566877753988,
          -0.041826753798868695,
          -0.037289396147591504,
          0.009836212577229789,
          -0.0032391589762240493,
          -0.013058204671222172,
          -0.0009381517374180528,
          -0.045065812794417015,
          -0.021770966233923737,
          -0.01813511397378229,
          -0.06347378813839698,
          0.012685569185746403,
          0.020681933580160457,
          -0.01920909082454273,
          0.020074221822728604,
          -0.03883413815123524,
          -0.02991661792729231,
          -0.020142020459448066,
          -0.011221800398212944,
          0.0011830157064427285,
          -0.0020839295576454667,
          0.0002271271107179996,
          -0.0015514237619445306,
          0.010135757678299136,
          -0.04894909076165282,
          -0.0036562715650636855,
          0.013831738558091188,
          0.006991409811721617,
          0.09354647432877594,
          0.07408162874762647,
          0.07055442280170957,
          -0.014886936717584828,
          0.012079093681800311,
          -0.015204775762056328,
          -0.004642570069371463,
          -0.0005689202363988104,
          -0.027100321502257357,
          -0.03026067994722893,
          -0.011262722772351165,
          -0.009455445833041202,
          -0.0054992060444128904,
          -0.03779197472669884,
          0.044063861872346885,
          -0.01877083687949178,
          0.07154919181476792,
          0.06798986802589778,
          -0.09161465250975798,
          -0.03869263898808386,
          -0.0032863918773976476,
          -0.05880218967350327,
          -0.02283426821685909,
          -0.04314620153386983,
          0.04273482473050177,
          -0.021292262201119593,
          -0.02794416382080675,
          0.0542439737302849,
          0.008791843365004064,
          0.0109931730063939,
          0.001875359259644449,
          -0.017713298780881924,
          0.056642234057482005,
          0.04844532630199183,
          0.0010029733415704211,
          0.037632201231085384,
          0.015731699139714936,
          0.09032809323692338,
          0.0510309050566672,
          0.07736184497337957,
          0.031119934122634953,
          -0.03790144556286127,
          0.0032708623057632227,
          -0.0008150655507952291,
          -0.019474831548522482,
          0.0008726998821460178,
          -0.056278600590888475,
          0.0019704960574642777,
          0.01867384288610288,
          -0.10841377008666142,
          -0.040531772974662206,
          -0.0017713712012473232,
          -0.015554912161137049,
          -0.009014912319608959,
          -0.006466877709609394,
          0.006188772405858651,
          0.021487541950301503,
          0.01245231211097643,
          0.02252760617227895,
          -0.00938672617782624,
          -0.01642760595716871,
          -0.010439036682384474,
          0.031731100414243096,
          0.05981142353783693,
          -0.04984162132996152,
          -0.023445467105055566,
          -0.009467999404889151,
          0.024390356660825455,
          0.061189032382048744,
          0.06652981840072728,
          0.01009733119535123,
          0.007846303143571036,
          0.020304681690603163,
          0.032754043804915395,
          -0.04058811618121887,
          0.04999401045204324,
          -0.013836218311461847,
          -0.02596607895128953,
          0.059538572086523016,
          0.05521974516306949,
          -0.012491807777568106,
          0.06073064557771561,
          -0.019115693976946933,
          -0.03989953692476612,
          -0.04487406750181481,
          -0.020721972943213162,
          -0.012045776242857064,
          0.05374396573007725,
          0.019763041703850636,
          -0.02110503419485674,
          -0.004252826187303893,
          0.0030078184999842803,
          -0.011172021303482828,
          0.02538491516857224,
          -0.029101735883946624,
          -0.03793222777187308,
          -0.06537320421200035,
          0.016061445882853,
          0.005918954170881253,
          0.003387895621174349,
          0.019980992733512067,
          -0.01428701915023043,
          -0.007572590672371837,
          -0.10580331448239581,
          -0.07454582200329962,
          -0.038517324967800734,
          -0.11341596607245447,
          -0.03858960719217127,
          0.10054070885736391,
          0.09359112529500524,
          0.08866750687180118,
          0.07267681658191072,
          0.0006858794715192423,
          0.03027453768953002,
          0.01508961091818226,
          0.020957019593720868,
          -0.004336009131363033,
          -0.015669527667515632,
          -0.08387039285633135,
          -0.025831620681330204,
          0.031014717395328406,
          0.02557354561023866,
          0.037173695122906934,
          0.00908893891991699,
          -0.264298167829334,
          0.02494970068828626,
          -0.053075437399242455,
          0.009221016844266568,
          -0.03001741934393441,
          -0.011651585067320704,
          0.010406251054052882,
          -0.01277916462769172,
          -0.03701130128231319,
          0.002319690194528222,
          0.020652479921036096,
          0.016862264529159766,
          -0.015134128824909793,
          0.0013864830913053344,
          0.02148901787742495,
          0.08440506242339559,
          0.09313498389353024,
          0.06633816308988626,
          0.08146457241313915,
          0.027115083862519814,
          -0.03914353322152788,
          0.014021358697912165,
          0.028829753369876192,
          0.025106289706931594,
          0.01329393471908287,
          0.0401421897637891,
          -0.04183704851866126,
          -0.037248842679473586,
          -0.0439383617526643,
          -0.023538463547553214,
          -0.011705119039804457,
          -0.020348186298147282,
          -0.008295965111786163,
          -8.701009740754083e-06,
          -0.01385137918298332,
          -0.00605901343899061,
          0.004401974334273532,
          0.019117164975657224,
          0.0007463843468442645,
          0.044878898718273275,
          -0.06215234370247304,
          -0.010460139555120072,
          -0.06281569922938157,
          -0.017145708747939352,
          -0.00630169058052822,
          0.03939710089863426,
          -0.04286637987420424,
          0.020099130189983595,
          -0.035887032306865255,
          0.02785345813536407,
          -0.06449517717159617,
          -0.005887919340068893,
          -0.003520916819883489,
          -0.015321322670034448,
          0.015973483593126333,
          -0.08055642514013708,
          -0.008440229156473411,
          0.03703348981603363,
          -0.012542930165065384,
          -0.004331362906997015,
          0.006271745084443038,
          -0.030779945272363277,
          -0.0065116413278238855,
          0.022208623145521106,
          -0.001997585239912327,
          -0.007655056204397229,
          -0.004990987683879713,
          0.024012720513693308,
          0.04672470322089472,
          -0.004630447066892292,
          -0.005113565974683845,
          -0.007894089276101345,
          0.009262618795273212,
          0.030418291519983594,
          0.010633191729235098,
          2.30171363489933e-05,
          0.018095822408613977,
          0.001588558683858581,
          -0.013776633714811741,
          -0.009404470292759617,
          -0.003830192090218116,
          0.01491582607768103,
          0.022943691595568784,
          0.01231990342704209,
          0.013292228585161374,
          -0.0319542351209219,
          -0.00500282066727819,
          -0.005351022421569219,
          0.011945097215697394,
          0.007466678686452052,
          -0.006510323907106624,
          -0.002568635940357029,
          0.00976564123348414,
          0.0023885307694459655,
          -0.00992053023599539,
          0.06608389053546526,
          -0.03864878030598823,
          -0.021636456885721415,
          -0.03575120201821232,
          -0.02705036907093594,
          -0.00794330946930868,
          -0.049248712892461875,
          -0.03177567501734417,
          -0.019972985174156375,
          0.022996046572109182,
          0.13773385725926865,
          -0.0006204831023025389,
          0.005694746669571892,
          0.0044785576552092855,
          -0.01809959256678521,
          -0.0014823743462910317,
          0.017506314709318085,
          -0.03282857154130527,
          -0.12587149716643883,
          -0.034793050480500874,
          0.01803581035647819,
          -0.032505980987802705,
          0.014219744620390499,
          0.058854312346821605,
          0.03712502917345026,
          -0.020342930279205498,
          -0.005662629487746564,
          -0.0049376187132128355,
          -0.004370313212857846,
          -0.032134843921723104,
          0.004362642473734881,
          0.03904778634728105,
          -0.022859660281325526,
          -0.030147494909330073,
          0.0024481942731932197,
          0.0001567720246807081,
          -0.03168991705536733,
          -0.029284509052616346,
          0.02105989488097735,
          0.0019608260350984716,
          0.012646638582285744,
          0.016599132927544714,
          0.012092066863869403,
          0.01529640772194625,
          0.025425227455002745,
          0.026345204393206218,
          0.007276687147233108,
          0.007386076787404344,
          -0.0032139890473308888,
          0.01082517619087319,
          -0.016231397005459308,
          -0.009083357133620346,
          0.007184809008859633,
          0.01449769185518809,
          -0.004184098535738795,
          0.01482744371198173,
          -0.0005725268955577135,
          -0.028836413693488966,
          -0.009240420665889803,
          0.01869031164479156,
          -0.006407923434296543,
          -0.029383818753110354,
          -0.011755600923151147,
          -0.0708263800256699,
          -0.046226098732994964,
          0.011801082307765007,
          0.017853278405034458,
          0.007681911154069817,
          0.005879339667070817,
          -0.012698086545753525,
          -0.0569492428051089,
          -0.024047936951247125,
          0.12075048522135574,
          -0.027122910659548242,
          -0.09341667508760186,
          0.014905981945621857,
          0.06570017408726615,
          -0.03141378511038191,
          0.03640144283998359,
          -0.02521559037935167,
          0.053579002010982105,
          -0.016611110461857856,
          1.0644588291450478e-06,
          0.013333505191449218,
          -0.04176079566500634,
          -0.008483969020463408,
          0.012154516113324975,
          -0.029858978275299142,
          -0.0422196383143362,
          0.05386268919953662,
          -0.03633228993122665,
          0.00046564900239664484,
          0.06560281098867601,
          0.011815204484144462,
          0.04798033345633816,
          0.022942293648357964,
          -0.02592455826650676,
          -0.010354189008393837,
          0.044470017360562095,
          0.006355542130427238,
          0.024137073903297467,
          -0.01616309665926884,
          0.017896972081352998,
          0.03749219960948189,
          0.008934368163311808,
          0.016557039587026708,
          -0.02380551761724232,
          0.0069281090777866886,
          -0.041162135814984874,
          0.011848106839758515,
          -0.006415888891040066,
          0.009693250934839612,
          0.003057366398917653,
          0.03961354207262925,
          0.01728458902240896,
          -0.042385317837726616,
          0.001829068398626231,
          -0.008497258402849149,
          -0.03679775081582732,
          -0.0026931732944723377,
          0.0025784860468138753,
          0.021534045723320436,
          0.0008859212242734853,
          -0.0009750939030337823,
          0.0018153753091991833,
          0.008773649267486267,
          0.011084135323916309,
          0.005284803235115465,
          0.032514580690434815,
          -0.07561091677663692,
          0.008724041864299167,
          -0.006283300561834428,
          -0.010225070357069469,
          0.014455974257716563,
          0.021196843803210144,
          0.004969301105922828,
          0.020151863152658416,
          0.02060452794072479,
          -0.024520960745538847,
          0.023210268799957145,
          -0.017215466897682125,
          -0.13995077832086952,
          0.03420017756446414,
          0.0426664007357332,
          0.04614679102830937,
          0.004482524604217957,
          -0.012506560381118411,
          -0.0023140064892557986,
          -0.034751965571386906,
          -0.005624282045001642,
          0.015896985277095967,
          0.008841783044686422,
          -0.023567848416222493,
          -0.0586147380051616
         ]
        },
        {
         "hovertemplate": "has_organoid=red<br>PC1=%{x}<br>PC2=%{y}<br>PC3=%{z}<extra></extra>",
         "legendgroup": "red",
         "marker": {
          "color": "#EF553B",
          "opacity": 0.4,
          "symbol": "circle"
         },
         "mode": "markers",
         "name": "red",
         "scene": "scene",
         "showlegend": true,
         "type": "scatter3d",
         "x": [
          -0.02583630770489866,
          -0.0077685614481301825,
          -0.03551311271247778,
          -0.010498499561943708,
          0.008434733779269694,
          0.020922935992906237,
          -0.02306847030849016,
          -0.03650507865327252,
          -0.04607097707166736,
          -0.010124296182663566,
          -0.021997308529966106,
          -0.021775830168192224,
          0.00333110420565548,
          -0.050823632412769264,
          0.0016625093003840245,
          0.003418744922961863,
          -0.004822165551453985,
          -0.007102402053875907,
          -0.07644720795888478,
          -0.00903355786706806,
          -0.032784928556634764,
          -0.018049056291270637,
          -0.005541782503161588,
          0.005406125526434038,
          -0.03273704570689931,
          -0.03398332138276088,
          -0.012873559731205882,
          -0.013636516451208915,
          -0.03610144723800106,
          -0.01941192981476018,
          -0.05666376956443737,
          -0.03423876682179222,
          -0.03955315542379209,
          -0.03019773853762627,
          -0.08536959437954351,
          -0.035153735297229434,
          0.00403878266345617,
          -0.01466976044856105,
          0.03758168611101864,
          -0.01971817194169568,
          -0.043943206441923933,
          -0.01930891325425147,
          -0.00930526900279809,
          -0.037932883854060406,
          -0.03176430583350262,
          0.0023689560186985256
         ],
         "y": [
          0.07124619837265685,
          0.0607501942874139,
          0.0650952193605973,
          0.061305179832337756,
          0.09669789917259813,
          0.0937189131614797,
          0.05962709219097731,
          0.05953822865117173,
          0.07946169438519939,
          0.09786225680152631,
          0.09081863511423675,
          0.05293055824725091,
          0.0662672955685249,
          0.0747191422232344,
          0.04084262011649362,
          0.09416478879107193,
          0.09655980828346272,
          0.0696837359170133,
          0.034988147685433846,
          0.12790881609391122,
          0.026022852823337595,
          0.054695355128270264,
          0.059662444979388,
          0.06815267648724706,
          0.00021901219371137738,
          0.024003389215110676,
          0.06750572489741812,
          0.03591689428743948,
          0.037084997971319845,
          0.09277317607843479,
          0.04522014175252144,
          0.09742467546888649,
          0.030871694781033222,
          0.07540898103102858,
          0.1786903577044901,
          0.029737812328464612,
          0.07703436297174741,
          0.02025993063363024,
          0.05879433620519793,
          0.07190684572697997,
          0.05854840155935319,
          0.038750267623616684,
          0.038190441844146286,
          0.03464990413297424,
          0.10672595163581321,
          0.04241286484550488
         ],
         "z": [
          -0.0221871973102317,
          0.0035935432251015145,
          -0.04808834561540818,
          -0.06836948602008712,
          -0.016743911867465214,
          0.02789577169586725,
          -0.024599051770392497,
          -0.02523626411269328,
          0.02163771053812149,
          -0.05115482977223856,
          -0.02929910115703274,
          0.00673963223846191,
          -0.041533812199477174,
          0.01124093264296982,
          -0.01754990437043128,
          -0.05720918817681726,
          -0.027005314438169156,
          -0.05415880650128762,
          0.018259958686135072,
          -0.04846857374186054,
          -0.003958142840818601,
          -0.01051341320791396,
          -0.03348110700658367,
          -0.060600606924971205,
          0.03897955507652872,
          0.0027689765032373856,
          0.014051322545995585,
          -0.0013666953406941424,
          -0.010141152380937987,
          0.011931865205799643,
          0.004378936737833065,
          -0.06538196148461271,
          0.027478296190127215,
          -0.02020331253886924,
          -0.0681574602315003,
          -0.05036375176149477,
          -0.034289987041499534,
          -0.021469717419306193,
          0.004491645867004805,
          -0.024570078960160877,
          -0.033157601475001505,
          -0.03522449835987686,
          -0.0338120683798313,
          0.005138294129337125,
          -0.05058368303837306,
          -0.009323891760133375
         ]
        }
       ],
       "layout": {
        "legend": {
         "title": {
          "text": "has_organoid"
         },
         "tracegroupgap": 0
        },
        "margin": {
         "t": 60
        },
        "scene": {
         "domain": {
          "x": [
           0,
           1
          ],
          "y": [
           0,
           1
          ]
         },
         "xaxis": {
          "title": {
           "text": "PC1"
          }
         },
         "yaxis": {
          "title": {
           "text": "PC2"
          }
         },
         "zaxis": {
          "title": {
           "text": "PC3"
          }
         }
        },
        "template": {
         "data": {
          "bar": [
           {
            "error_x": {
             "color": "#2a3f5f"
            },
            "error_y": {
             "color": "#2a3f5f"
            },
            "marker": {
             "line": {
              "color": "#E5ECF6",
              "width": 0.5
             },
             "pattern": {
              "fillmode": "overlay",
              "size": 10,
              "solidity": 0.2
             }
            },
            "type": "bar"
           }
          ],
          "barpolar": [
           {
            "marker": {
             "line": {
              "color": "#E5ECF6",
              "width": 0.5
             },
             "pattern": {
              "fillmode": "overlay",
              "size": 10,
              "solidity": 0.2
             }
            },
            "type": "barpolar"
           }
          ],
          "carpet": [
           {
            "aaxis": {
             "endlinecolor": "#2a3f5f",
             "gridcolor": "white",
             "linecolor": "white",
             "minorgridcolor": "white",
             "startlinecolor": "#2a3f5f"
            },
            "baxis": {
             "endlinecolor": "#2a3f5f",
             "gridcolor": "white",
             "linecolor": "white",
             "minorgridcolor": "white",
             "startlinecolor": "#2a3f5f"
            },
            "type": "carpet"
           }
          ],
          "choropleth": [
           {
            "colorbar": {
             "outlinewidth": 0,
             "ticks": ""
            },
            "type": "choropleth"
           }
          ],
          "contour": [
           {
            "colorbar": {
             "outlinewidth": 0,
             "ticks": ""
            },
            "colorscale": [
             [
              0,
              "#0d0887"
             ],
             [
              0.1111111111111111,
              "#46039f"
             ],
             [
              0.2222222222222222,
              "#7201a8"
             ],
             [
              0.3333333333333333,
              "#9c179e"
             ],
             [
              0.4444444444444444,
              "#bd3786"
             ],
             [
              0.5555555555555556,
              "#d8576b"
             ],
             [
              0.6666666666666666,
              "#ed7953"
             ],
             [
              0.7777777777777778,
              "#fb9f3a"
             ],
             [
              0.8888888888888888,
              "#fdca26"
             ],
             [
              1,
              "#f0f921"
             ]
            ],
            "type": "contour"
           }
          ],
          "contourcarpet": [
           {
            "colorbar": {
             "outlinewidth": 0,
             "ticks": ""
            },
            "type": "contourcarpet"
           }
          ],
          "heatmap": [
           {
            "colorbar": {
             "outlinewidth": 0,
             "ticks": ""
            },
            "colorscale": [
             [
              0,
              "#0d0887"
             ],
             [
              0.1111111111111111,
              "#46039f"
             ],
             [
              0.2222222222222222,
              "#7201a8"
             ],
             [
              0.3333333333333333,
              "#9c179e"
             ],
             [
              0.4444444444444444,
              "#bd3786"
             ],
             [
              0.5555555555555556,
              "#d8576b"
             ],
             [
              0.6666666666666666,
              "#ed7953"
             ],
             [
              0.7777777777777778,
              "#fb9f3a"
             ],
             [
              0.8888888888888888,
              "#fdca26"
             ],
             [
              1,
              "#f0f921"
             ]
            ],
            "type": "heatmap"
           }
          ],
          "heatmapgl": [
           {
            "colorbar": {
             "outlinewidth": 0,
             "ticks": ""
            },
            "colorscale": [
             [
              0,
              "#0d0887"
             ],
             [
              0.1111111111111111,
              "#46039f"
             ],
             [
              0.2222222222222222,
              "#7201a8"
             ],
             [
              0.3333333333333333,
              "#9c179e"
             ],
             [
              0.4444444444444444,
              "#bd3786"
             ],
             [
              0.5555555555555556,
              "#d8576b"
             ],
             [
              0.6666666666666666,
              "#ed7953"
             ],
             [
              0.7777777777777778,
              "#fb9f3a"
             ],
             [
              0.8888888888888888,
              "#fdca26"
             ],
             [
              1,
              "#f0f921"
             ]
            ],
            "type": "heatmapgl"
           }
          ],
          "histogram": [
           {
            "marker": {
             "pattern": {
              "fillmode": "overlay",
              "size": 10,
              "solidity": 0.2
             }
            },
            "type": "histogram"
           }
          ],
          "histogram2d": [
           {
            "colorbar": {
             "outlinewidth": 0,
             "ticks": ""
            },
            "colorscale": [
             [
              0,
              "#0d0887"
             ],
             [
              0.1111111111111111,
              "#46039f"
             ],
             [
              0.2222222222222222,
              "#7201a8"
             ],
             [
              0.3333333333333333,
              "#9c179e"
             ],
             [
              0.4444444444444444,
              "#bd3786"
             ],
             [
              0.5555555555555556,
              "#d8576b"
             ],
             [
              0.6666666666666666,
              "#ed7953"
             ],
             [
              0.7777777777777778,
              "#fb9f3a"
             ],
             [
              0.8888888888888888,
              "#fdca26"
             ],
             [
              1,
              "#f0f921"
             ]
            ],
            "type": "histogram2d"
           }
          ],
          "histogram2dcontour": [
           {
            "colorbar": {
             "outlinewidth": 0,
             "ticks": ""
            },
            "colorscale": [
             [
              0,
              "#0d0887"
             ],
             [
              0.1111111111111111,
              "#46039f"
             ],
             [
              0.2222222222222222,
              "#7201a8"
             ],
             [
              0.3333333333333333,
              "#9c179e"
             ],
             [
              0.4444444444444444,
              "#bd3786"
             ],
             [
              0.5555555555555556,
              "#d8576b"
             ],
             [
              0.6666666666666666,
              "#ed7953"
             ],
             [
              0.7777777777777778,
              "#fb9f3a"
             ],
             [
              0.8888888888888888,
              "#fdca26"
             ],
             [
              1,
              "#f0f921"
             ]
            ],
            "type": "histogram2dcontour"
           }
          ],
          "mesh3d": [
           {
            "colorbar": {
             "outlinewidth": 0,
             "ticks": ""
            },
            "type": "mesh3d"
           }
          ],
          "parcoords": [
           {
            "line": {
             "colorbar": {
              "outlinewidth": 0,
              "ticks": ""
             }
            },
            "type": "parcoords"
           }
          ],
          "pie": [
           {
            "automargin": true,
            "type": "pie"
           }
          ],
          "scatter": [
           {
            "marker": {
             "colorbar": {
              "outlinewidth": 0,
              "ticks": ""
             }
            },
            "type": "scatter"
           }
          ],
          "scatter3d": [
           {
            "line": {
             "colorbar": {
              "outlinewidth": 0,
              "ticks": ""
             }
            },
            "marker": {
             "colorbar": {
              "outlinewidth": 0,
              "ticks": ""
             }
            },
            "type": "scatter3d"
           }
          ],
          "scattercarpet": [
           {
            "marker": {
             "colorbar": {
              "outlinewidth": 0,
              "ticks": ""
             }
            },
            "type": "scattercarpet"
           }
          ],
          "scattergeo": [
           {
            "marker": {
             "colorbar": {
              "outlinewidth": 0,
              "ticks": ""
             }
            },
            "type": "scattergeo"
           }
          ],
          "scattergl": [
           {
            "marker": {
             "colorbar": {
              "outlinewidth": 0,
              "ticks": ""
             }
            },
            "type": "scattergl"
           }
          ],
          "scattermapbox": [
           {
            "marker": {
             "colorbar": {
              "outlinewidth": 0,
              "ticks": ""
             }
            },
            "type": "scattermapbox"
           }
          ],
          "scatterpolar": [
           {
            "marker": {
             "colorbar": {
              "outlinewidth": 0,
              "ticks": ""
             }
            },
            "type": "scatterpolar"
           }
          ],
          "scatterpolargl": [
           {
            "marker": {
             "colorbar": {
              "outlinewidth": 0,
              "ticks": ""
             }
            },
            "type": "scatterpolargl"
           }
          ],
          "scatterternary": [
           {
            "marker": {
             "colorbar": {
              "outlinewidth": 0,
              "ticks": ""
             }
            },
            "type": "scatterternary"
           }
          ],
          "surface": [
           {
            "colorbar": {
             "outlinewidth": 0,
             "ticks": ""
            },
            "colorscale": [
             [
              0,
              "#0d0887"
             ],
             [
              0.1111111111111111,
              "#46039f"
             ],
             [
              0.2222222222222222,
              "#7201a8"
             ],
             [
              0.3333333333333333,
              "#9c179e"
             ],
             [
              0.4444444444444444,
              "#bd3786"
             ],
             [
              0.5555555555555556,
              "#d8576b"
             ],
             [
              0.6666666666666666,
              "#ed7953"
             ],
             [
              0.7777777777777778,
              "#fb9f3a"
             ],
             [
              0.8888888888888888,
              "#fdca26"
             ],
             [
              1,
              "#f0f921"
             ]
            ],
            "type": "surface"
           }
          ],
          "table": [
           {
            "cells": {
             "fill": {
              "color": "#EBF0F8"
             },
             "line": {
              "color": "white"
             }
            },
            "header": {
             "fill": {
              "color": "#C8D4E3"
             },
             "line": {
              "color": "white"
             }
            },
            "type": "table"
           }
          ]
         },
         "layout": {
          "annotationdefaults": {
           "arrowcolor": "#2a3f5f",
           "arrowhead": 0,
           "arrowwidth": 1
          },
          "autotypenumbers": "strict",
          "coloraxis": {
           "colorbar": {
            "outlinewidth": 0,
            "ticks": ""
           }
          },
          "colorscale": {
           "diverging": [
            [
             0,
             "#8e0152"
            ],
            [
             0.1,
             "#c51b7d"
            ],
            [
             0.2,
             "#de77ae"
            ],
            [
             0.3,
             "#f1b6da"
            ],
            [
             0.4,
             "#fde0ef"
            ],
            [
             0.5,
             "#f7f7f7"
            ],
            [
             0.6,
             "#e6f5d0"
            ],
            [
             0.7,
             "#b8e186"
            ],
            [
             0.8,
             "#7fbc41"
            ],
            [
             0.9,
             "#4d9221"
            ],
            [
             1,
             "#276419"
            ]
           ],
           "sequential": [
            [
             0,
             "#0d0887"
            ],
            [
             0.1111111111111111,
             "#46039f"
            ],
            [
             0.2222222222222222,
             "#7201a8"
            ],
            [
             0.3333333333333333,
             "#9c179e"
            ],
            [
             0.4444444444444444,
             "#bd3786"
            ],
            [
             0.5555555555555556,
             "#d8576b"
            ],
            [
             0.6666666666666666,
             "#ed7953"
            ],
            [
             0.7777777777777778,
             "#fb9f3a"
            ],
            [
             0.8888888888888888,
             "#fdca26"
            ],
            [
             1,
             "#f0f921"
            ]
           ],
           "sequentialminus": [
            [
             0,
             "#0d0887"
            ],
            [
             0.1111111111111111,
             "#46039f"
            ],
            [
             0.2222222222222222,
             "#7201a8"
            ],
            [
             0.3333333333333333,
             "#9c179e"
            ],
            [
             0.4444444444444444,
             "#bd3786"
            ],
            [
             0.5555555555555556,
             "#d8576b"
            ],
            [
             0.6666666666666666,
             "#ed7953"
            ],
            [
             0.7777777777777778,
             "#fb9f3a"
            ],
            [
             0.8888888888888888,
             "#fdca26"
            ],
            [
             1,
             "#f0f921"
            ]
           ]
          },
          "colorway": [
           "#636efa",
           "#EF553B",
           "#00cc96",
           "#ab63fa",
           "#FFA15A",
           "#19d3f3",
           "#FF6692",
           "#B6E880",
           "#FF97FF",
           "#FECB52"
          ],
          "font": {
           "color": "#2a3f5f"
          },
          "geo": {
           "bgcolor": "white",
           "lakecolor": "white",
           "landcolor": "#E5ECF6",
           "showlakes": true,
           "showland": true,
           "subunitcolor": "white"
          },
          "hoverlabel": {
           "align": "left"
          },
          "hovermode": "closest",
          "mapbox": {
           "style": "light"
          },
          "paper_bgcolor": "white",
          "plot_bgcolor": "#E5ECF6",
          "polar": {
           "angularaxis": {
            "gridcolor": "white",
            "linecolor": "white",
            "ticks": ""
           },
           "bgcolor": "#E5ECF6",
           "radialaxis": {
            "gridcolor": "white",
            "linecolor": "white",
            "ticks": ""
           }
          },
          "scene": {
           "xaxis": {
            "backgroundcolor": "#E5ECF6",
            "gridcolor": "white",
            "gridwidth": 2,
            "linecolor": "white",
            "showbackground": true,
            "ticks": "",
            "zerolinecolor": "white"
           },
           "yaxis": {
            "backgroundcolor": "#E5ECF6",
            "gridcolor": "white",
            "gridwidth": 2,
            "linecolor": "white",
            "showbackground": true,
            "ticks": "",
            "zerolinecolor": "white"
           },
           "zaxis": {
            "backgroundcolor": "#E5ECF6",
            "gridcolor": "white",
            "gridwidth": 2,
            "linecolor": "white",
            "showbackground": true,
            "ticks": "",
            "zerolinecolor": "white"
           }
          },
          "shapedefaults": {
           "line": {
            "color": "#2a3f5f"
           }
          },
          "ternary": {
           "aaxis": {
            "gridcolor": "white",
            "linecolor": "white",
            "ticks": ""
           },
           "baxis": {
            "gridcolor": "white",
            "linecolor": "white",
            "ticks": ""
           },
           "bgcolor": "#E5ECF6",
           "caxis": {
            "gridcolor": "white",
            "linecolor": "white",
            "ticks": ""
           }
          },
          "title": {
           "x": 0.05
          },
          "xaxis": {
           "automargin": true,
           "gridcolor": "white",
           "linecolor": "white",
           "ticks": "",
           "title": {
            "standoff": 15
           },
           "zerolinecolor": "white",
           "zerolinewidth": 2
          },
          "yaxis": {
           "automargin": true,
           "gridcolor": "white",
           "linecolor": "white",
           "ticks": "",
           "title": {
            "standoff": 15
           },
           "zerolinecolor": "white",
           "zerolinewidth": 2
          }
         }
        }
       }
      },
      "text/html": [
       "<div>                            <div id=\"8969e473-452d-41df-9f17-d5fd9a9cc5c7\" class=\"plotly-graph-div\" style=\"height:525px; width:100%;\"></div>            <script type=\"text/javascript\">                require([\"plotly\"], function(Plotly) {                    window.PLOTLYENV=window.PLOTLYENV || {};                                    if (document.getElementById(\"8969e473-452d-41df-9f17-d5fd9a9cc5c7\")) {                    Plotly.newPlot(                        \"8969e473-452d-41df-9f17-d5fd9a9cc5c7\",                        [{\"hovertemplate\":\"has_organoid=blue<br>PC1=%{x}<br>PC2=%{y}<br>PC3=%{z}<extra></extra>\",\"legendgroup\":\"blue\",\"marker\":{\"color\":\"#636efa\",\"opacity\":0.4,\"symbol\":\"circle\"},\"mode\":\"markers\",\"name\":\"blue\",\"scene\":\"scene\",\"showlegend\":true,\"type\":\"scatter3d\",\"x\":[0.01842123975441884,-0.02476536868382719,-0.0029015827175998318,0.016580567177490783,-0.039354656174488266,0.04380527210924162,0.0008978485170717676,0.043970582369388854,0.0051610198585571865,-0.026155253283800292,0.020600777411007843,0.015019592128104524,-0.03233960283059093,-0.008950068948020615,0.012770947044451034,-0.005113110996775622,0.0461947025424101,-0.00022624183137974,-0.06870628140904868,0.01389140025434393,0.020984286205597193,0.02959525043592445,0.03751206922620683,0.029403231601571773,0.05300527686962536,0.022933044975411477,0.03926391474106824,-0.00811314511038148,0.009335599543176986,0.014994574850760424,-0.012737312610690634,-0.025449179735836387,-0.03432440788449655,-0.017181493243412945,-0.024323934971567776,-0.037200793999111754,0.10769685862903508,0.06146130870816487,0.07856687101575388,0.017751033235961767,0.017634743180438974,-0.027097604068561265,-0.0838868455169128,0.04214222865791063,-0.0515843113692852,0.00727778432663635,-0.009645463781803008,-0.05246868960183809,0.024138944800150837,0.06462401181645153,0.02571380525514627,0.0010026143742655521,0.029987651362419692,0.021393510077276044,-0.011261855866794561,-0.06651842725978846,0.04338474946561861,0.049319584977777844,-0.02708031162881736,-0.01524981114818334,-0.022255425189044473,0.04620390712468566,-0.009660861590118582,-0.00395330988503856,0.009585092088211658,-0.025908174249333303,0.021341200681613444,-0.0002808953656037592,0.00976340602342642,-0.021714552488493077,-0.058201398669066255,0.005348871291359139,0.01848144012396585,-0.03415391959059046,-0.03427618428945681,-0.024112866834527624,-0.03314412572756096,-0.026991485143355413,-0.03642697960754512,-0.042280552956261264,-0.036819417856229,0.04146531156760624,-0.026490207898412124,-0.032156439645079624,-0.03163463596127524,0.0347539271822499,-0.025933707682964956,-0.0464868954895569,-0.06564570056688877,-0.05514827468852282,-0.020152320450088173,-0.014392418412079491,-0.015505089068980706,-0.031659433583244155,-0.035441264765610284,-0.025120593958457157,-0.020765850676437703,-0.038547587557949146,-0.0439841986724977,-0.04304312249367354,-0.039923094105317775,-0.03920519794821373,-0.04014657238733444,-0.04702196638371681,0.03991323752216421,-0.002645182789780845,0.03656668098388383,0.014366555986974885,-0.028351838582654894,0.004550799433969412,0.04538670675202145,0.0069047943055378265,-0.005960421662447432,-0.0006066128578832281,-0.01447193941918753,-0.03471236577607342,-0.03328748002141786,0.0031586946770578734,0.01075025554230334,0.014199650791744458,-0.02931713501452231,0.019489724217863696,-0.005270952863521402,0.00011651370055649629,0.032233984756344015,0.06161573426092349,-0.009485018349973165,0.03928548704723844,0.039106123584550595,0.01906819026819612,-0.035682510396737394,-0.01162769243443273,-0.021125712267259754,0.011718319672643971,0.0042433994597184475,0.018547094135496593,0.05301244016663934,0.07541060351748453,0.0090992059191804,0.011543536041467496,0.016236649511311978,0.024077676190713573,-0.01186806878440946,0.04579652550965434,0.024821878149177457,0.03698780947083753,0.012955902223290496,0.047962024989102715,0.0045939438777788544,0.007894212772277498,0.026462478415296472,0.03134241331110185,0.09707801154090342,-0.005954337344509798,-0.024076103029101643,-0.004519812378791008,-0.14911749726552156,0.010378854059841281,-0.021005689761554532,0.008127456660710833,0.04565790033656108,-0.03320004965036064,-0.031898812544057305,0.04414154298775651,-0.050927532861551224,-0.03362559775674153,-0.09117967767334687,-0.04419452427446471,0.04168021163741693,-0.006105876283865427,0.012016152506425338,-0.007621501969512561,-0.009012832581283218,0.0014512149746194606,0.03427161937499484,0.003314774398443788,-0.003388426126734929,-0.013493274540473528,0.005828953575914522,-0.03649164467858509,-0.006850337664830775,-0.0020534048888019877,-0.0035661244084370367,-0.009476339528518497,-0.0542034855961734,-0.025520234886800535,0.06746138791902662,0.02454596485211944,-0.02283057492616406,-0.009282755220214411,-0.0002647393391207659,-0.028423284397123317,-0.0034551086850048407,0.014187174507229712,0.027332108920037654,0.011241336138458168,0.010995524954849697,0.015463865302713879,-0.003722340408074242,-0.03006212588085434,-0.03410110515527591,-0.03085232323430387,0.03872586254659069,-0.04105523441917034,-0.03762642115928532,-0.05845822705459792,-0.04764885792079434,-0.06927261007777093,-0.03861526459971239,-0.005075879200531761,0.01347463612391935,0.010991012885186887,0.01570740984478305,0.001399455128601162,-0.025759720644334044,-0.010133893739906027,-0.03770500416361682,-0.002510268444668371,0.011547228868407625,0.010839840472541828,-0.02672751806243625,0.007441601604687158,-0.011164555992564043,0.07245836940427322,0.04037440953580884,0.002484899237051127,0.024659424834596884,0.01618434696493027,0.04984620667338621,-0.008277286277913224,0.02464667563745079,0.01238959337532185,-0.03351826796802751,-0.036541978056964776,-0.029490799144036732,-0.0026599363337263065,0.04077013076080356,0.023933929877405852,0.03730133540594335,0.01448242395994499,0.03183839606089851,0.018105390001278674,0.025984317583719864,0.014703862819692668,-0.01814416822095829,0.009509001996179068,-0.03401664949192212,0.005672083417489825,-0.03765970373295631,-0.039326474069621906,0.0005693500008702913,0.024660323142579363,-0.014764863972113832,-0.01062038359442331,-0.004006931087862607,0.052342869062470286,-0.032579327049536415,-0.01578371884455355,0.014282391852509064,-0.035371368899624486,-0.020991674527526715,0.001882895598979884,-0.005399392057611464,0.05085384058009849,0.06277868182080247,-0.08107464510483868,0.019643187851564332,-0.023783968215089695,-0.04359722203504603,-0.03769896211733411,-0.04124972751683902,-0.03673535006876415,-0.03301720370292939,-0.007364284719197304,0.01303856509197362,-0.001583099221216521,0.011494203612968648,-0.026084019952420524,-0.04059961062230567,-0.04071696058231139,-0.018043359166447594,0.0001401972839983692,-0.06279697975707196,0.012747118137915125,0.010543706919962554,0.0036919176234012246,0.008253274079415032,0.038484978325058004,0.04516615543909258,0.028972591811950932,0.01798985013911614,0.027601474393135702,0.001485843154363673,0.05009051082152196,0.03926988426821845,-0.03590885548068069,-0.07389843133139898,-0.06957351629716757,-0.06602567005970593,-0.030477294370891587,-0.035112630308548436,-0.05149498112404914,0.013689089027399737,0.06071557627343299,-0.001423815213657834,-0.037228287030162954,0.03979998538691319,-0.1615018548920596,0.025883637023543637,-0.014096740342646956,-0.033109400480390266,-0.03465213284959726,0.03216569107094334,-0.028005311104274098,-0.037392252567709956,-0.037943217110604895,-0.02356769135920324,-0.005192392771785951,-0.014375151379268179,-0.03446685667359347,-0.03279321133343373,-0.0588797269583188,-0.027955758395911405,-0.05038751690523945,-0.009064131234231446,-0.047536883260683255,-0.028966668519615456,-0.01594984211915185,-0.07045076138430556,-0.054811658552682066,-0.06962333159224358,-0.05839990009686613,-0.024641195018268107,-0.05562678702885258,-0.030386154797338603,-0.06186295420999387,-0.008429287362967075,-0.053829465294528686,-0.06581391505639281,0.03441814957081383,-0.04120134032204601,-0.03702583127069831,-0.041061000788160176,-0.03654589995864208,-0.002713754851247562,0.006546326766231718,0.07508443291739769,0.008493485282011246,0.05805323956466879,-0.0035792183634648944,-0.025843851489042686,0.03376390742537685,0.003107461871677326,-0.022285873136906782,-0.031150840161945505,-0.028845423327293628,-0.10667832402027183,0.040453921722996576,-0.020786694798965617,0.019895755207048928,-0.003415342301880765,0.004355163064380333,0.03473251832063931,0.013674690850777462,0.017048286614489257,-0.0017331441105995543,-0.004097232792354731,-0.014993354077510124,0.013564066744853756,0.0617045218077844,0.008173884733141842,-0.05119766521636755,-0.05464326013760986,-0.0758736884243837,-0.058619065832663075,0.02657684331684596,0.011330121229141699,0.017849484764348337,0.036284878971651155,0.04837121073517464,0.012252162252439542,0.041255638799233,0.0023879139270756087,0.00569227967910846,0.00529656549050377,-0.0025198843819638425,0.014064461792864608,0.011218860401034994,0.022083001539491595,0.03560886416742624,0.008444336830278917,-0.039182734005851746,-0.03872759336835716,0.015360818178683818,0.030017005367875327,0.0442954818874665,0.00047788554162866455,0.07795796248479364,0.08631030921137706,0.062364972893996125,-0.03582896021998836,-0.027511018439109948,0.06970491182240167,0.04729997717042625,0.028024965742900285,0.04795587086735963,-0.006317422855836125,0.0033181403110557586,0.01631525977123966,-0.01619849975518647,0.03940566513332996,-0.033429019702667456,-0.029664205662163014,0.028331482966098956,0.021585687792967538,0.050799888625736055,0.04730577134879267,0.06837078768334884,0.037778706506049,0.026195537972799127,-0.006967365176637946,0.05110649706936793,0.055001726086457856,-0.01659178224491131,-0.015268314380594724,0.01164710003817566,0.025604234257351796,0.0037814584667060966,0.013359469495493229,-0.03387420116144885,0.016740714321575506,0.0056843257206099455,0.02309256024295055,0.01640848491316695,0.012603466045767902,0.017503886682397114,0.028835587891883466,0.028314474856732445,0.024498883046558183,0.05810162602123553,0.003794447079875278,0.0268061500975497,0.02063205496875939,0.021198232828323938,0.033514564656349596,0.004083001290990817,0.01837357221217913,0.027108834304621094,-0.006126461649620506,0.02266951254407089,0.03091090717197348,0.06463181071073934,0.01812582224942896,0.013496512057593868,0.033046734414476135,0.050524660240315496,0.033025485503819466,0.016085551791965,0.008258364146236836,0.020306214124539236,0.1597312433771691,0.18679645339066286,0.018668822053859318,0.042665051077388286,0.04183159158918217,-0.03461344372065719,-0.0076737188719877706,-0.008417540225111802,-0.0032014043597383157,0.03761740246066681,0.036639066906282595,0.01965212756013726,0.04326643315016064,0.05434968880173305,0.09437553554931857,0.04676406882098476,0.023167681257494018,0.02463331850513566,0.015307403049362452,0.008146458905778439,0.007804504192853742,0.04807851427964634,-0.04132806139700137,-0.03000126898569542,-0.01376405244379481,0.00514241534906969,0.014756607509988605,-0.008280945096443448,0.012424577615263013,0.07252732308611419,-0.0032903846028793644,-0.03617965474264245,-0.034269252454619335,0.01940178066841853,-0.006455958656178733,0.00861371229943194,-0.03671667157471663,0.03649712780371485,0.039515813284214996,0.07157272636110862,0.025835899601641333,0.0009406906747496289,-0.03184726452483239,-0.028320869290770545,-0.017663349237014653,0.024469920254510013,0.15429592311012608,0.02129392672294923,0.09196404010823146,0.12713096662704945,0.11123946171549641,0.12589533336682673,-0.007305835449216403,-0.035131296596013085,0.030408757683568707,0.016710490224030216,-0.01770667613574352,0.011337421533053737,0.012536778325812705,0.023551655501314772,-0.012729580500684429,0.04551937478768601,0.015744128448019434,0.09435570209158771,0.029745073826798123,-0.0069090573755807025,0.023344536737163378,0.11549723800531553,0.10477173714528314,-0.03871271570118744,-0.01511129942408851,0.11982568759955291,-0.008928120884623978,0.0364873510029832,0.017671151385967802,0.04262540558203871,0.05258939638729157,0.029694280424039998,-0.012550029329015104,-0.02122410924767249,0.05055702925479921,0.013333797089952634,0.03879859612144663,0.03115985853591722,0.10739802478278175,0.030295550667978528,-0.0006846683575745952,0.0016281777875787776,0.039364560821886115,0.010275129543823461,-0.0022791284387048026,0.003748542485327038,0.008176064889101008,-0.004212455961177103,0.016268995622942154,-0.009267334116676337,-0.016851888924144215,-0.01495267087181717,-0.010941970755424179,-0.03091047154016767,-0.07167813429964852,-0.05619492375421346,-0.021409013127682078,-0.04028580709812658,-0.03576740734201029,-0.0375370931497261,-0.02021121875507357,-0.07705600004791405,-0.03123324552026845,-0.008863583468841396,-0.010161845506086477,-0.04114431358393147,-0.03231499031946769,-0.03709502820159692,-0.09245980703780543,-0.035187326304903996,-0.04205592733973244,-0.04870848292329647,0.010531283551379257,-0.10250042756143707,-0.027925615623979685,-0.03089197245410404,-0.053806632808459647,-0.02614997031521252,-0.03654552795361696,-0.04248697224759808,0.03235552088917414,-0.003674689753177822,0.055229221782951234,0.008043420839867206,0.028144247635565795,-0.03705127659836153,-0.07336140226887479,-0.026170676745711843,-0.03552185063931617,-0.037849532445414835,0.09677987087166316,0.00021309835630842506,-0.00020658089145971975,0.07313750522786618,-0.002864721900476914,0.012690516373234534,-0.004103659358211803,0.015698335502866104,-0.005994520014877401],\"y\":[-0.016039341622064964,-0.024360336855620474,-0.018602417390492662,0.01616885637695187,-0.048804929021831,0.017189852997096973,-0.004875127177718863,0.0037747713853225943,-0.0085478623217267,-0.06724136396584238,0.00641651271174854,0.009007471170256793,0.006190207211000654,-0.012476157312169224,-0.012417787816453805,0.003079375783828031,-0.021811784012150375,-0.006458606551324375,-0.008030221802897019,-0.02303554718171909,-0.00685668027376153,0.01537479674130349,0.0336314187185297,0.0029093886317972375,0.02825613134192046,-0.0049387678608864794,0.01820197729149016,-0.016384013454602716,-0.0013206082469350818,0.024495735268081898,-0.0389712492699225,-0.04620519090403694,-0.07319502251868007,-0.0315614003094169,-0.022392884692456694,-0.035182750089917066,0.04302005898018857,0.030929857167646,-0.0066952819622108075,-0.007943862356521092,0.002578940297893057,-0.029631227292941924,-0.08530714844943904,-0.02142257477156571,-0.03650617199106515,0.013874578292746331,-0.023197085421858967,-0.020522996498654262,0.0011426343003879634,-0.017545375745427538,0.02335244451927221,-0.029404374760229682,0.00865690998238441,0.01079377305150498,-0.046341454971015515,-0.058990413595930435,-0.02942402871799513,0.0028219080882856554,-0.020811708455828415,-0.017281156353878467,-0.02539830777073666,0.011434516912358967,-0.008040015158132212,-0.01665688879781042,-0.02984163893474281,0.04684682665043867,0.026257182994744357,0.06900701005340204,0.045684133617099776,0.13267038155516095,0.05021064327011884,0.05475709976471707,0.0484690612972079,0.024305895488920565,0.02290191484814777,0.0009766756161035575,0.019409849471269634,0.06790374643730308,0.05427943417088232,0.040279139802651125,0.020688079702886525,0.11853643015334683,0.11694577103579898,0.0180926588606088,0.042246879444633616,-0.021709348294661486,0.060628821092871564,0.05316472555141696,0.12191029849358657,0.003349781593447201,0.06786465381880698,0.08557978764833363,0.027819673415771233,0.03108857253594393,0.029715625874521295,-0.0005426449637172072,0.032284972890679824,-0.040814191826290244,-0.04044359528147645,-0.047159353229347015,-0.03317617715332452,-0.04298966625618277,-0.03778186829073577,-0.044394258269966146,-0.003251699242500025,0.002973733160341568,0.003718499312239155,0.021018142768074916,-0.0281070386370114,-0.027437634902064842,0.01109167609302186,-0.041276476612984406,-0.01573062655250078,-0.018890693526476772,-0.007564770247787573,-0.019513338781139054,-0.024481410675536625,-0.026185538372399984,-0.02437536791069836,-0.017727910013201727,-0.022054884879780814,-0.03723148910288885,-0.01235157920401344,-0.02659232859339464,-0.009730491022796885,0.020892191148432222,-0.0068407986043518216,0.012692543032399549,0.014305429982433508,-0.0034796453527536973,-0.04385184044636097,-0.024328542824584718,-0.02476868209458411,-0.06586044048066955,-0.025096003826950295,-0.029609678771617097,-0.023287085417703655,0.004330777279098313,-0.005733651236169821,-0.017245458470317755,0.001825426408059253,-0.016808696434989424,-0.012875958704936599,-0.012475514181424409,-0.03279771969973531,-0.04881170058767719,-0.006494042955593578,0.021832058791674578,0.0023525075214057647,-0.028166589806806887,-0.0013806495914810788,-0.034280344845674694,0.002438862385599313,-0.017259816177016586,-0.010576634106003072,-0.0175722301087995,-0.05593924203025154,-0.0459598084516353,-0.039064676479256585,0.0014639768946954166,0.026051691254154987,-0.013049281874130575,-0.025448857707033878,0.005797294965367405,-0.01958671860681426,-0.026150978173348802,-0.018917095135617717,-0.025616119207148322,-0.029509072544718063,-0.006111067693124554,0.004641225802859504,-0.01970643506544421,-0.015442402934314772,-0.012946237410843237,-0.023110947350578646,-0.003658742183916912,-0.00870873850560741,-0.016596662192125702,-0.01237926794754971,-0.033972409618795045,-0.006805683093801566,-0.004449040236299743,-0.0018614923848604035,-0.019636233115591182,-0.05218587361178655,-0.027054262253078016,-0.017711394542216957,0.0016711226407391932,-0.035727636494691545,0.001938872955660745,0.025890273996109714,-0.03518122652459557,-0.029984408914100234,-0.011736468682752013,-0.011364514393187093,-0.011432452029230003,-0.011563721313798937,-0.005426640199230257,0.00380471852843617,-0.02578068106468496,-0.027921596834550425,-0.022380121843262494,-0.012003604896636592,-0.01212960062971383,0.024294449909799842,0.06215324563281903,0.06749789437927177,0.05306109123356102,0.06407091933406471,0.05297634505800028,-0.02952962514821891,-0.03373121752106182,-0.03792492052093936,-0.022637729472433282,-0.031043836174140464,-0.013061473492665912,-0.03120617120881426,-0.04309577423027277,-0.0007630029609721704,-0.04539221364847371,-0.007792758808926713,0.021680343642699197,-0.042929649337671884,-0.021233573898406757,-0.038256897230116264,-0.02778305848865738,-0.007603678672335937,-0.01936531640194429,-0.046667979635189635,-0.01700853954772467,-0.025082986682172372,-0.02307993465797008,-0.015028268519298341,-0.03325586182520105,-0.019322750468863965,-0.03000176524408586,-0.002735384990021148,-0.004261786438123092,0.013912541040657127,-0.009331523385348832,-0.019022711587152772,-0.056229238059048295,-0.04170862674855577,-0.05566426535000849,-0.007832705350716179,0.011177532024675169,-0.03213854447938718,-0.02474538973827163,-0.028938211308682824,-0.031710535096299904,0.14167653640679395,0.09774104623415411,0.11928033060014051,0.09079277407813963,0.10581524172298548,0.10443538044510457,-0.02026562473463102,-0.02676366895321354,-0.02360842071042526,-0.027466231291356596,-0.044009340763042026,-0.001551983401979757,-0.02211570933695659,0.01790968655664718,0.022826260089541917,-0.014932267641652482,-0.024060813899484834,-0.022848870810098905,-0.01713409647300316,-0.023561464636267206,-0.030146424905841247,-0.023902563761811317,-0.01378597131514535,-0.031198887733300346,-0.014681126384563826,-0.015850372851891312,-0.02362677904747601,0.07426278351550057,0.05633648545610966,0.022597606110043692,0.0021438811775613548,-0.08468265937331121,-0.03694209636605996,-0.009332937250113842,-0.029403100372151603,-0.03000305903300132,-0.011459639217175346,-0.010292114650316745,-0.006633338069795561,-0.010209157662356073,0.015155940472204782,0.01642837329704831,-0.00587563558915783,0.08371855190875058,0.016731812936997815,-0.034182106219512474,-0.037573798585422535,-0.03310238955010023,-0.03574880950256772,-0.027244827938019533,-0.02695648781752238,-0.018975873489071787,-0.0262886442843189,-0.013436697328312116,-0.03258303413491446,-0.02509414844299243,-0.029109821674347745,-0.029858042874352824,-0.02282478375359936,-0.0539304863659182,-0.01782669584971157,-0.025658199472736037,-0.03296330650033816,-0.030243324278528445,-0.030459733907483074,-0.04674374667179437,-0.019234236833081488,0.05839519569494404,0.059276372100058435,-0.005999586594031959,-0.0002413444616131988,0.055354254474228634,-0.00022923643224853635,0.03772736750533108,0.061333290843523826,-0.019641814602372985,-0.019558545015380065,-0.02334055881801687,-0.0243269176710073,-0.05495347320549145,0.010190444615823305,-0.038425705289342436,-0.030771369287327103,-0.03321848213962979,-0.0062924069068839,-0.023152193284285732,-0.02428260218199933,-0.015314699380769447,-0.023407907327724947,-0.012319934669019768,-0.0342495065453436,-0.03507929683840135,-0.03211838354474956,-0.027385020371397326,-0.008020056865664442,0.003174476887421991,0.014612877367481817,-0.0029277888080416095,0.016964279649956896,-0.00048260818460485054,-0.03166632484009355,-0.005905562154543742,0.039408564931101855,-0.03467573797929967,-0.016741843855140184,-0.028851043273331354,-0.10918140525556501,-0.0027328269904809215,-0.03626494153694162,-0.006640806731482563,-0.007893114050261298,-0.039457979318572076,-0.011443062066168803,-0.020217922235275146,-0.03693561209125556,-0.01896630960905218,-0.02212271564868076,-0.014284424742578591,-0.04015505682199257,0.019335319815741027,-0.027956076223064404,-0.01908588076675777,-0.020046846953763634,0.0049283271854801015,-0.012488810112136019,-0.021387688512256992,-0.024597382815934845,-0.0035850903387064387,-0.013189265812948298,0.0030283222218190978,-0.007899940880786428,-0.006224661748939885,-0.03617180030235395,-0.02253461007297974,-0.031362090108765124,-0.03701652810639489,-0.018047784748134562,-0.021600163151871517,-0.026228840645726094,-0.023487921098443613,-0.024990706171956426,-0.03210465169999377,-0.031393804353869126,-0.009356337679872904,-0.02553142519374681,0.01476478104241222,-0.020310451539896923,0.0046424196632444395,0.021113027691408087,0.016324857116075002,-0.020947141209696298,-0.019296590192466066,-0.013965704350123748,-0.015699634627957558,-0.03179877742594036,0.03348323864625274,-0.03886867483243456,0.007121938800601893,0.005650770840424407,-0.018053806027144827,0.012304134235082234,-0.04817202169006504,-0.0493790922036274,0.020354484858937823,-0.01552019089873391,0.008717479794615292,-0.034742711912075105,-0.045312500596029766,-0.01986820622372124,0.007200051892648638,-0.02645006767631976,-0.008835417819909694,0.013375719064970223,-0.00948766332943395,-0.019175849647556725,-0.018708707126693692,0.027149693957783574,-0.01990060571462087,-0.005425768583785522,-0.01814760594783771,0.004204251046483307,0.014635328625872888,0.02788342956032371,0.005147495845458227,-0.01151880006118158,0.006252770574750246,-0.0008834755867942295,0.008043714184261757,-0.005677002778238115,0.03296149397255901,-0.020839818754310922,-0.00750875809664242,-0.0019406295690065096,0.022735441400612358,-0.006114951100451209,-0.020714446079626133,-0.06115716056625565,-0.017061286647728217,-0.02795311851959983,-0.021901505686933557,-0.022251191202492283,-0.007900083322671655,-0.016993385845701134,-0.051080575081601035,-0.034947787334835716,-0.01669064223327961,-0.0213327006834672,-0.04111313390332317,-0.05213477461581557,-0.03092728004349051,-0.046654578079873534,0.04376569375950789,-0.019311914404144915,-0.01788309613458762,-0.04044937450737396,-0.040949769478947726,-0.04264277599480047,-0.036838117461976246,-0.03978297325697797,-0.08502717255211802,-0.03518936142969846,-0.012104035300843061,-0.03689701604686816,-0.0218637536449733,0.022781890167788765,-0.0142494817909622,-0.020504814179099627,-0.026055524420170555,0.0025814084001512614,0.007784174906233726,-0.02309406925289264,0.01844020627516605,-0.018867635022645966,-0.029153220419266726,-0.03172959152330777,-0.012631821550138674,0.006430982596260131,-0.016043265987440564,-0.0030324950599123555,0.008651941600561566,-0.03933373363458922,-0.02467190787098304,-0.03163654579825709,0.01020580520649377,0.0023148606162939674,-0.008031938221125065,-0.05287054318992375,-0.000980781233213042,0.010240061646313877,0.03286984119433035,0.015138771874265756,0.0093830858071231,-0.03163828049876997,-0.03428726406475003,-0.02905699311923413,-0.0009567501809344798,0.08026396868742862,-0.028976866245806938,-0.014100977042352601,-0.023750193776232706,0.008471393038950526,-0.006729644346539415,-0.005910974869070397,0.031383612657773036,0.014098862726481493,0.008536464034001698,-0.02760375195353262,0.0017837484568043647,-0.016471617220095092,-0.003177437167210957,-0.011661271478091045,-0.0203179110327534,-0.00622781221978955,0.0700817399581909,-0.00421730594459752,-0.029581169665776254,0.0019132874724380878,0.04382627500770182,0.021932775520355975,-0.02701139512889145,-0.03567387649016412,0.07185258939234225,-0.05219539447902391,-0.010906815487300795,0.011996653050393921,0.0012750139590039615,-0.0036023637665074048,-0.00012506011316824352,-0.02451186468635786,-0.01710980867807594,0.0035350248101362813,-0.01328971933261635,-0.024088298285494265,0.001478174008316146,0.01702877123821361,0.016580043315488256,-0.015836039399823563,0.001174408715128015,0.01394622366260927,0.00015146637619593256,-0.015886621027312132,-0.005254198943993774,0.002924696034716139,-0.017915275323627054,0.0028789464240121057,-0.013421338916259837,-0.014764184235684145,-0.026016898850370687,-0.022193486840758364,-0.0378656008981083,0.09663198511562512,0.08525661118712029,0.06100431628372585,0.09017028749361461,0.1130035564546893,0.07824412601954901,0.08102227020622679,0.0922064972525309,0.013822076778903288,0.05826390537186297,0.0746397560211879,0.06716074427675216,0.07885571595260209,0.04490249410396685,0.10699013584731432,0.053087274058537096,0.053290476352354586,0.05930982029308483,0.11094759104620866,0.043862704887677344,0.09673297894856828,0.057037403836756415,0.08097963798048885,0.09105825022092262,0.05929479663044695,0.05339645132995542,-0.009294425115632438,-0.012948135456876663,-0.02063474402818132,-0.0073639999475372175,-0.006102162265416644,-0.04896756745793143,-0.07360909784088027,-0.019755806814215942,-0.022359287293179063,-0.0235570726517965,0.014482187436815843,-0.00851744781560918,9.087787852657694e-05,0.00902562329706317,0.0178693425125446,0.014728218460014195,-0.0025902630454082295,-0.021074347796436882,-0.004337432824364277],\"z\":[-0.013108254450269816,-0.006856199123725527,0.0037419198239228174,0.024948988352412875,-0.07071725666637226,0.03931457956636574,0.03703671957143545,0.02971176196720531,0.017997528110001933,-0.00013856933143952766,0.012314232057276,-0.04457870893403506,-0.027800655483882095,-0.01713774415335273,0.002622551679222947,0.015320033829320791,-0.038217687179400904,0.016664278591941976,-0.010924337776632683,-0.02876628453741797,0.009474763536793732,-0.03323580851554396,-0.00820171003343452,0.003223716579243696,-0.030981139311666753,-0.0024209708406880076,0.05581275054739129,-0.011456189589813169,0.022718776636616946,0.00016875916628126834,-0.03251333500073363,-0.12159179089919965,-0.11230574741121535,-0.04163206688425054,0.018021753093405573,-0.10360022488181561,0.02580805794159294,-7.194395647872031e-05,-0.003938926162649046,-0.016324674657195205,0.026165858894518605,0.012138859175220142,-0.08764262432027041,0.023651770345741317,-0.0826435792226686,0.009318058587035943,-0.00625770345331555,0.05894975779634386,0.01812147643302514,-0.014355925544271472,0.029604259728779232,-0.01588062783573385,0.03543698061364815,0.008038478380523099,0.013414795398525678,-0.03704947338087839,-0.023215245492524073,0.0336841325716035,0.022391396574281033,0.03961627501560037,0.008667415997446994,-0.0059231906151761445,-0.005311265043346039,-0.015241428549513112,-0.006267769884305745,-0.020605072637614116,-0.035979222760264065,-0.018015120292712506,-0.06956956808401817,-0.040300887050445246,-0.08452834622014262,-0.02405008941806299,-0.07838739110586325,0.04254901114910704,0.04328125121896712,0.05773070372307509,0.03853341822917782,0.007173159568733378,0.03406300683351608,0.04801879436688513,0.042197035749881526,0.0018095549829292756,0.045172630876467966,0.049539221440826973,0.04821467611125371,0.0687558901508523,0.026879093079904232,-0.0050321172970110755,0.01906751774044504,-0.025854960994840394,-0.05490644552925973,0.03611664009977632,0.051348127421560856,0.04522451460904451,0.05177861752855467,0.05396203145094724,0.05923118683378797,0.11307541931772194,0.11975185007713919,0.10185047525137592,0.09419403412904899,0.11673500711367964,0.09677615958043154,0.11530374552272171,0.046283649742408145,-0.027460876056683823,-0.002635165353875161,0.015258341236479503,-0.06607473068776283,-0.009669671554901067,0.011621034395258776,-0.010801064748637032,0.049131204798332176,-0.006145109395755449,0.11300996066594668,0.0596639357714979,0.05174020655989661,-0.014886295872757013,-0.003447852895465236,-0.0002477463786467789,0.05368049203558647,0.02221966657930691,-0.015233197075968262,-0.03797641763525941,0.01575561480782084,-0.0012721927806932203,0.026611274924274488,0.0009099353164539601,0.011533365823908686,-0.0262759479994912,0.01825880459586058,0.02974679012873308,0.03656238914363785,-0.00803717847994012,-0.07423239180930596,-0.012535445723516541,-0.014228169189215458,-0.09977408080238731,-0.005435982671090118,0.00046203515439591474,0.0026545365477882183,-0.009525149067172473,-0.024043132310022485,-0.0014039668702286723,-0.016162588255953788,-0.044924803737293635,0.004131371709484389,0.01833252885543822,0.00433179083151226,-0.04461238546044369,-0.012936798328798233,-0.04618048545274322,-0.0068244999277406225,0.003683481088932869,-0.03418639428155202,0.03291911821604118,0.0065625127849562185,-0.03804697024849661,-0.016984737377123568,0.008942748337980618,0.014548983340268818,0.03940888287093637,0.050352885653559845,0.0029989126921850023,0.033822103026836116,0.052765165834096926,0.011508079024719623,0.05302339279984452,-0.010979812143589798,0.03178385897299861,0.032951787317005155,0.04487531655588362,0.03550315761874783,0.0386714601366368,0.02081520655854148,0.020638646703944226,0.03837499243283971,0.034726782291942634,0.009227513973684173,0.0015996480452059572,-0.029667662950852904,0.030360923722542316,-0.009372414393083919,-0.006336759807604119,-0.10137268111883017,-0.01892901189433829,0.004336303707458133,0.0244056609540019,0.04317844386258344,-0.014141826968211865,0.016527791195060017,0.016924198076162487,-0.04222520341334325,0.009026590933562945,-0.006474737918778927,-0.0070445001578286846,-0.03978082374158043,-0.011314041752983646,-0.004196664663645065,0.014554590591506917,0.05262886749767859,0.05380226117428635,-0.02676380298921468,-0.013996927554553909,0.0019109566877753988,-0.041826753798868695,-0.037289396147591504,0.009836212577229789,-0.0032391589762240493,-0.013058204671222172,-0.0009381517374180528,-0.045065812794417015,-0.021770966233923737,-0.01813511397378229,-0.06347378813839698,0.012685569185746403,0.020681933580160457,-0.01920909082454273,0.020074221822728604,-0.03883413815123524,-0.02991661792729231,-0.020142020459448066,-0.011221800398212944,0.0011830157064427285,-0.0020839295576454667,0.0002271271107179996,-0.0015514237619445306,0.010135757678299136,-0.04894909076165282,-0.0036562715650636855,0.013831738558091188,0.006991409811721617,0.09354647432877594,0.07408162874762647,0.07055442280170957,-0.014886936717584828,0.012079093681800311,-0.015204775762056328,-0.004642570069371463,-0.0005689202363988104,-0.027100321502257357,-0.03026067994722893,-0.011262722772351165,-0.009455445833041202,-0.0054992060444128904,-0.03779197472669884,0.044063861872346885,-0.01877083687949178,0.07154919181476792,0.06798986802589778,-0.09161465250975798,-0.03869263898808386,-0.0032863918773976476,-0.05880218967350327,-0.02283426821685909,-0.04314620153386983,0.04273482473050177,-0.021292262201119593,-0.02794416382080675,0.0542439737302849,0.008791843365004064,0.0109931730063939,0.001875359259644449,-0.017713298780881924,0.056642234057482005,0.04844532630199183,0.0010029733415704211,0.037632201231085384,0.015731699139714936,0.09032809323692338,0.0510309050566672,0.07736184497337957,0.031119934122634953,-0.03790144556286127,0.0032708623057632227,-0.0008150655507952291,-0.019474831548522482,0.0008726998821460178,-0.056278600590888475,0.0019704960574642777,0.01867384288610288,-0.10841377008666142,-0.040531772974662206,-0.0017713712012473232,-0.015554912161137049,-0.009014912319608959,-0.006466877709609394,0.006188772405858651,0.021487541950301503,0.01245231211097643,0.02252760617227895,-0.00938672617782624,-0.01642760595716871,-0.010439036682384474,0.031731100414243096,0.05981142353783693,-0.04984162132996152,-0.023445467105055566,-0.009467999404889151,0.024390356660825455,0.061189032382048744,0.06652981840072728,0.01009733119535123,0.007846303143571036,0.020304681690603163,0.032754043804915395,-0.04058811618121887,0.04999401045204324,-0.013836218311461847,-0.02596607895128953,0.059538572086523016,0.05521974516306949,-0.012491807777568106,0.06073064557771561,-0.019115693976946933,-0.03989953692476612,-0.04487406750181481,-0.020721972943213162,-0.012045776242857064,0.05374396573007725,0.019763041703850636,-0.02110503419485674,-0.004252826187303893,0.0030078184999842803,-0.011172021303482828,0.02538491516857224,-0.029101735883946624,-0.03793222777187308,-0.06537320421200035,0.016061445882853,0.005918954170881253,0.003387895621174349,0.019980992733512067,-0.01428701915023043,-0.007572590672371837,-0.10580331448239581,-0.07454582200329962,-0.038517324967800734,-0.11341596607245447,-0.03858960719217127,0.10054070885736391,0.09359112529500524,0.08866750687180118,0.07267681658191072,0.0006858794715192423,0.03027453768953002,0.01508961091818226,0.020957019593720868,-0.004336009131363033,-0.015669527667515632,-0.08387039285633135,-0.025831620681330204,0.031014717395328406,0.02557354561023866,0.037173695122906934,0.00908893891991699,-0.264298167829334,0.02494970068828626,-0.053075437399242455,0.009221016844266568,-0.03001741934393441,-0.011651585067320704,0.010406251054052882,-0.01277916462769172,-0.03701130128231319,0.002319690194528222,0.020652479921036096,0.016862264529159766,-0.015134128824909793,0.0013864830913053344,0.02148901787742495,0.08440506242339559,0.09313498389353024,0.06633816308988626,0.08146457241313915,0.027115083862519814,-0.03914353322152788,0.014021358697912165,0.028829753369876192,0.025106289706931594,0.01329393471908287,0.0401421897637891,-0.04183704851866126,-0.037248842679473586,-0.0439383617526643,-0.023538463547553214,-0.011705119039804457,-0.020348186298147282,-0.008295965111786163,-8.701009740754083e-06,-0.01385137918298332,-0.00605901343899061,0.004401974334273532,0.019117164975657224,0.0007463843468442645,0.044878898718273275,-0.06215234370247304,-0.010460139555120072,-0.06281569922938157,-0.017145708747939352,-0.00630169058052822,0.03939710089863426,-0.04286637987420424,0.020099130189983595,-0.035887032306865255,0.02785345813536407,-0.06449517717159617,-0.005887919340068893,-0.003520916819883489,-0.015321322670034448,0.015973483593126333,-0.08055642514013708,-0.008440229156473411,0.03703348981603363,-0.012542930165065384,-0.004331362906997015,0.006271745084443038,-0.030779945272363277,-0.0065116413278238855,0.022208623145521106,-0.001997585239912327,-0.007655056204397229,-0.004990987683879713,0.024012720513693308,0.04672470322089472,-0.004630447066892292,-0.005113565974683845,-0.007894089276101345,0.009262618795273212,0.030418291519983594,0.010633191729235098,2.30171363489933e-05,0.018095822408613977,0.001588558683858581,-0.013776633714811741,-0.009404470292759617,-0.003830192090218116,0.01491582607768103,0.022943691595568784,0.01231990342704209,0.013292228585161374,-0.0319542351209219,-0.00500282066727819,-0.005351022421569219,0.011945097215697394,0.007466678686452052,-0.006510323907106624,-0.002568635940357029,0.00976564123348414,0.0023885307694459655,-0.00992053023599539,0.06608389053546526,-0.03864878030598823,-0.021636456885721415,-0.03575120201821232,-0.02705036907093594,-0.00794330946930868,-0.049248712892461875,-0.03177567501734417,-0.019972985174156375,0.022996046572109182,0.13773385725926865,-0.0006204831023025389,0.005694746669571892,0.0044785576552092855,-0.01809959256678521,-0.0014823743462910317,0.017506314709318085,-0.03282857154130527,-0.12587149716643883,-0.034793050480500874,0.01803581035647819,-0.032505980987802705,0.014219744620390499,0.058854312346821605,0.03712502917345026,-0.020342930279205498,-0.005662629487746564,-0.0049376187132128355,-0.004370313212857846,-0.032134843921723104,0.004362642473734881,0.03904778634728105,-0.022859660281325526,-0.030147494909330073,0.0024481942731932197,0.0001567720246807081,-0.03168991705536733,-0.029284509052616346,0.02105989488097735,0.0019608260350984716,0.012646638582285744,0.016599132927544714,0.012092066863869403,0.01529640772194625,0.025425227455002745,0.026345204393206218,0.007276687147233108,0.007386076787404344,-0.0032139890473308888,0.01082517619087319,-0.016231397005459308,-0.009083357133620346,0.007184809008859633,0.01449769185518809,-0.004184098535738795,0.01482744371198173,-0.0005725268955577135,-0.028836413693488966,-0.009240420665889803,0.01869031164479156,-0.006407923434296543,-0.029383818753110354,-0.011755600923151147,-0.0708263800256699,-0.046226098732994964,0.011801082307765007,0.017853278405034458,0.007681911154069817,0.005879339667070817,-0.012698086545753525,-0.0569492428051089,-0.024047936951247125,0.12075048522135574,-0.027122910659548242,-0.09341667508760186,0.014905981945621857,0.06570017408726615,-0.03141378511038191,0.03640144283998359,-0.02521559037935167,0.053579002010982105,-0.016611110461857856,1.0644588291450478e-06,0.013333505191449218,-0.04176079566500634,-0.008483969020463408,0.012154516113324975,-0.029858978275299142,-0.0422196383143362,0.05386268919953662,-0.03633228993122665,0.00046564900239664484,0.06560281098867601,0.011815204484144462,0.04798033345633816,0.022942293648357964,-0.02592455826650676,-0.010354189008393837,0.044470017360562095,0.006355542130427238,0.024137073903297467,-0.01616309665926884,0.017896972081352998,0.03749219960948189,0.008934368163311808,0.016557039587026708,-0.02380551761724232,0.0069281090777866886,-0.041162135814984874,0.011848106839758515,-0.006415888891040066,0.009693250934839612,0.003057366398917653,0.03961354207262925,0.01728458902240896,-0.042385317837726616,0.001829068398626231,-0.008497258402849149,-0.03679775081582732,-0.0026931732944723377,0.0025784860468138753,0.021534045723320436,0.0008859212242734853,-0.0009750939030337823,0.0018153753091991833,0.008773649267486267,0.011084135323916309,0.005284803235115465,0.032514580690434815,-0.07561091677663692,0.008724041864299167,-0.006283300561834428,-0.010225070357069469,0.014455974257716563,0.021196843803210144,0.004969301105922828,0.020151863152658416,0.02060452794072479,-0.024520960745538847,0.023210268799957145,-0.017215466897682125,-0.13995077832086952,0.03420017756446414,0.0426664007357332,0.04614679102830937,0.004482524604217957,-0.012506560381118411,-0.0023140064892557986,-0.034751965571386906,-0.005624282045001642,0.015896985277095967,0.008841783044686422,-0.023567848416222493,-0.0586147380051616]},{\"hovertemplate\":\"has_organoid=red<br>PC1=%{x}<br>PC2=%{y}<br>PC3=%{z}<extra></extra>\",\"legendgroup\":\"red\",\"marker\":{\"color\":\"#EF553B\",\"opacity\":0.4,\"symbol\":\"circle\"},\"mode\":\"markers\",\"name\":\"red\",\"scene\":\"scene\",\"showlegend\":true,\"type\":\"scatter3d\",\"x\":[-0.02583630770489866,-0.0077685614481301825,-0.03551311271247778,-0.010498499561943708,0.008434733779269694,0.020922935992906237,-0.02306847030849016,-0.03650507865327252,-0.04607097707166736,-0.010124296182663566,-0.021997308529966106,-0.021775830168192224,0.00333110420565548,-0.050823632412769264,0.0016625093003840245,0.003418744922961863,-0.004822165551453985,-0.007102402053875907,-0.07644720795888478,-0.00903355786706806,-0.032784928556634764,-0.018049056291270637,-0.005541782503161588,0.005406125526434038,-0.03273704570689931,-0.03398332138276088,-0.012873559731205882,-0.013636516451208915,-0.03610144723800106,-0.01941192981476018,-0.05666376956443737,-0.03423876682179222,-0.03955315542379209,-0.03019773853762627,-0.08536959437954351,-0.035153735297229434,0.00403878266345617,-0.01466976044856105,0.03758168611101864,-0.01971817194169568,-0.043943206441923933,-0.01930891325425147,-0.00930526900279809,-0.037932883854060406,-0.03176430583350262,0.0023689560186985256],\"y\":[0.07124619837265685,0.0607501942874139,0.0650952193605973,0.061305179832337756,0.09669789917259813,0.0937189131614797,0.05962709219097731,0.05953822865117173,0.07946169438519939,0.09786225680152631,0.09081863511423675,0.05293055824725091,0.0662672955685249,0.0747191422232344,0.04084262011649362,0.09416478879107193,0.09655980828346272,0.0696837359170133,0.034988147685433846,0.12790881609391122,0.026022852823337595,0.054695355128270264,0.059662444979388,0.06815267648724706,0.00021901219371137738,0.024003389215110676,0.06750572489741812,0.03591689428743948,0.037084997971319845,0.09277317607843479,0.04522014175252144,0.09742467546888649,0.030871694781033222,0.07540898103102858,0.1786903577044901,0.029737812328464612,0.07703436297174741,0.02025993063363024,0.05879433620519793,0.07190684572697997,0.05854840155935319,0.038750267623616684,0.038190441844146286,0.03464990413297424,0.10672595163581321,0.04241286484550488],\"z\":[-0.0221871973102317,0.0035935432251015145,-0.04808834561540818,-0.06836948602008712,-0.016743911867465214,0.02789577169586725,-0.024599051770392497,-0.02523626411269328,0.02163771053812149,-0.05115482977223856,-0.02929910115703274,0.00673963223846191,-0.041533812199477174,0.01124093264296982,-0.01754990437043128,-0.05720918817681726,-0.027005314438169156,-0.05415880650128762,0.018259958686135072,-0.04846857374186054,-0.003958142840818601,-0.01051341320791396,-0.03348110700658367,-0.060600606924971205,0.03897955507652872,0.0027689765032373856,0.014051322545995585,-0.0013666953406941424,-0.010141152380937987,0.011931865205799643,0.004378936737833065,-0.06538196148461271,0.027478296190127215,-0.02020331253886924,-0.0681574602315003,-0.05036375176149477,-0.034289987041499534,-0.021469717419306193,0.004491645867004805,-0.024570078960160877,-0.033157601475001505,-0.03522449835987686,-0.0338120683798313,0.005138294129337125,-0.05058368303837306,-0.009323891760133375]}],                        {\"legend\":{\"title\":{\"text\":\"has_organoid\"},\"tracegroupgap\":0},\"margin\":{\"t\":60},\"scene\":{\"domain\":{\"x\":[0.0,1.0],\"y\":[0.0,1.0]},\"xaxis\":{\"title\":{\"text\":\"PC1\"}},\"yaxis\":{\"title\":{\"text\":\"PC2\"}},\"zaxis\":{\"title\":{\"text\":\"PC3\"}}},\"template\":{\"data\":{\"bar\":[{\"error_x\":{\"color\":\"#2a3f5f\"},\"error_y\":{\"color\":\"#2a3f5f\"},\"marker\":{\"line\":{\"color\":\"#E5ECF6\",\"width\":0.5},\"pattern\":{\"fillmode\":\"overlay\",\"size\":10,\"solidity\":0.2}},\"type\":\"bar\"}],\"barpolar\":[{\"marker\":{\"line\":{\"color\":\"#E5ECF6\",\"width\":0.5},\"pattern\":{\"fillmode\":\"overlay\",\"size\":10,\"solidity\":0.2}},\"type\":\"barpolar\"}],\"carpet\":[{\"aaxis\":{\"endlinecolor\":\"#2a3f5f\",\"gridcolor\":\"white\",\"linecolor\":\"white\",\"minorgridcolor\":\"white\",\"startlinecolor\":\"#2a3f5f\"},\"baxis\":{\"endlinecolor\":\"#2a3f5f\",\"gridcolor\":\"white\",\"linecolor\":\"white\",\"minorgridcolor\":\"white\",\"startlinecolor\":\"#2a3f5f\"},\"type\":\"carpet\"}],\"choropleth\":[{\"colorbar\":{\"outlinewidth\":0,\"ticks\":\"\"},\"type\":\"choropleth\"}],\"contour\":[{\"colorbar\":{\"outlinewidth\":0,\"ticks\":\"\"},\"colorscale\":[[0.0,\"#0d0887\"],[0.1111111111111111,\"#46039f\"],[0.2222222222222222,\"#7201a8\"],[0.3333333333333333,\"#9c179e\"],[0.4444444444444444,\"#bd3786\"],[0.5555555555555556,\"#d8576b\"],[0.6666666666666666,\"#ed7953\"],[0.7777777777777778,\"#fb9f3a\"],[0.8888888888888888,\"#fdca26\"],[1.0,\"#f0f921\"]],\"type\":\"contour\"}],\"contourcarpet\":[{\"colorbar\":{\"outlinewidth\":0,\"ticks\":\"\"},\"type\":\"contourcarpet\"}],\"heatmap\":[{\"colorbar\":{\"outlinewidth\":0,\"ticks\":\"\"},\"colorscale\":[[0.0,\"#0d0887\"],[0.1111111111111111,\"#46039f\"],[0.2222222222222222,\"#7201a8\"],[0.3333333333333333,\"#9c179e\"],[0.4444444444444444,\"#bd3786\"],[0.5555555555555556,\"#d8576b\"],[0.6666666666666666,\"#ed7953\"],[0.7777777777777778,\"#fb9f3a\"],[0.8888888888888888,\"#fdca26\"],[1.0,\"#f0f921\"]],\"type\":\"heatmap\"}],\"heatmapgl\":[{\"colorbar\":{\"outlinewidth\":0,\"ticks\":\"\"},\"colorscale\":[[0.0,\"#0d0887\"],[0.1111111111111111,\"#46039f\"],[0.2222222222222222,\"#7201a8\"],[0.3333333333333333,\"#9c179e\"],[0.4444444444444444,\"#bd3786\"],[0.5555555555555556,\"#d8576b\"],[0.6666666666666666,\"#ed7953\"],[0.7777777777777778,\"#fb9f3a\"],[0.8888888888888888,\"#fdca26\"],[1.0,\"#f0f921\"]],\"type\":\"heatmapgl\"}],\"histogram\":[{\"marker\":{\"pattern\":{\"fillmode\":\"overlay\",\"size\":10,\"solidity\":0.2}},\"type\":\"histogram\"}],\"histogram2d\":[{\"colorbar\":{\"outlinewidth\":0,\"ticks\":\"\"},\"colorscale\":[[0.0,\"#0d0887\"],[0.1111111111111111,\"#46039f\"],[0.2222222222222222,\"#7201a8\"],[0.3333333333333333,\"#9c179e\"],[0.4444444444444444,\"#bd3786\"],[0.5555555555555556,\"#d8576b\"],[0.6666666666666666,\"#ed7953\"],[0.7777777777777778,\"#fb9f3a\"],[0.8888888888888888,\"#fdca26\"],[1.0,\"#f0f921\"]],\"type\":\"histogram2d\"}],\"histogram2dcontour\":[{\"colorbar\":{\"outlinewidth\":0,\"ticks\":\"\"},\"colorscale\":[[0.0,\"#0d0887\"],[0.1111111111111111,\"#46039f\"],[0.2222222222222222,\"#7201a8\"],[0.3333333333333333,\"#9c179e\"],[0.4444444444444444,\"#bd3786\"],[0.5555555555555556,\"#d8576b\"],[0.6666666666666666,\"#ed7953\"],[0.7777777777777778,\"#fb9f3a\"],[0.8888888888888888,\"#fdca26\"],[1.0,\"#f0f921\"]],\"type\":\"histogram2dcontour\"}],\"mesh3d\":[{\"colorbar\":{\"outlinewidth\":0,\"ticks\":\"\"},\"type\":\"mesh3d\"}],\"parcoords\":[{\"line\":{\"colorbar\":{\"outlinewidth\":0,\"ticks\":\"\"}},\"type\":\"parcoords\"}],\"pie\":[{\"automargin\":true,\"type\":\"pie\"}],\"scatter\":[{\"marker\":{\"colorbar\":{\"outlinewidth\":0,\"ticks\":\"\"}},\"type\":\"scatter\"}],\"scatter3d\":[{\"line\":{\"colorbar\":{\"outlinewidth\":0,\"ticks\":\"\"}},\"marker\":{\"colorbar\":{\"outlinewidth\":0,\"ticks\":\"\"}},\"type\":\"scatter3d\"}],\"scattercarpet\":[{\"marker\":{\"colorbar\":{\"outlinewidth\":0,\"ticks\":\"\"}},\"type\":\"scattercarpet\"}],\"scattergeo\":[{\"marker\":{\"colorbar\":{\"outlinewidth\":0,\"ticks\":\"\"}},\"type\":\"scattergeo\"}],\"scattergl\":[{\"marker\":{\"colorbar\":{\"outlinewidth\":0,\"ticks\":\"\"}},\"type\":\"scattergl\"}],\"scattermapbox\":[{\"marker\":{\"colorbar\":{\"outlinewidth\":0,\"ticks\":\"\"}},\"type\":\"scattermapbox\"}],\"scatterpolar\":[{\"marker\":{\"colorbar\":{\"outlinewidth\":0,\"ticks\":\"\"}},\"type\":\"scatterpolar\"}],\"scatterpolargl\":[{\"marker\":{\"colorbar\":{\"outlinewidth\":0,\"ticks\":\"\"}},\"type\":\"scatterpolargl\"}],\"scatterternary\":[{\"marker\":{\"colorbar\":{\"outlinewidth\":0,\"ticks\":\"\"}},\"type\":\"scatterternary\"}],\"surface\":[{\"colorbar\":{\"outlinewidth\":0,\"ticks\":\"\"},\"colorscale\":[[0.0,\"#0d0887\"],[0.1111111111111111,\"#46039f\"],[0.2222222222222222,\"#7201a8\"],[0.3333333333333333,\"#9c179e\"],[0.4444444444444444,\"#bd3786\"],[0.5555555555555556,\"#d8576b\"],[0.6666666666666666,\"#ed7953\"],[0.7777777777777778,\"#fb9f3a\"],[0.8888888888888888,\"#fdca26\"],[1.0,\"#f0f921\"]],\"type\":\"surface\"}],\"table\":[{\"cells\":{\"fill\":{\"color\":\"#EBF0F8\"},\"line\":{\"color\":\"white\"}},\"header\":{\"fill\":{\"color\":\"#C8D4E3\"},\"line\":{\"color\":\"white\"}},\"type\":\"table\"}]},\"layout\":{\"annotationdefaults\":{\"arrowcolor\":\"#2a3f5f\",\"arrowhead\":0,\"arrowwidth\":1},\"autotypenumbers\":\"strict\",\"coloraxis\":{\"colorbar\":{\"outlinewidth\":0,\"ticks\":\"\"}},\"colorscale\":{\"diverging\":[[0,\"#8e0152\"],[0.1,\"#c51b7d\"],[0.2,\"#de77ae\"],[0.3,\"#f1b6da\"],[0.4,\"#fde0ef\"],[0.5,\"#f7f7f7\"],[0.6,\"#e6f5d0\"],[0.7,\"#b8e186\"],[0.8,\"#7fbc41\"],[0.9,\"#4d9221\"],[1,\"#276419\"]],\"sequential\":[[0.0,\"#0d0887\"],[0.1111111111111111,\"#46039f\"],[0.2222222222222222,\"#7201a8\"],[0.3333333333333333,\"#9c179e\"],[0.4444444444444444,\"#bd3786\"],[0.5555555555555556,\"#d8576b\"],[0.6666666666666666,\"#ed7953\"],[0.7777777777777778,\"#fb9f3a\"],[0.8888888888888888,\"#fdca26\"],[1.0,\"#f0f921\"]],\"sequentialminus\":[[0.0,\"#0d0887\"],[0.1111111111111111,\"#46039f\"],[0.2222222222222222,\"#7201a8\"],[0.3333333333333333,\"#9c179e\"],[0.4444444444444444,\"#bd3786\"],[0.5555555555555556,\"#d8576b\"],[0.6666666666666666,\"#ed7953\"],[0.7777777777777778,\"#fb9f3a\"],[0.8888888888888888,\"#fdca26\"],[1.0,\"#f0f921\"]]},\"colorway\":[\"#636efa\",\"#EF553B\",\"#00cc96\",\"#ab63fa\",\"#FFA15A\",\"#19d3f3\",\"#FF6692\",\"#B6E880\",\"#FF97FF\",\"#FECB52\"],\"font\":{\"color\":\"#2a3f5f\"},\"geo\":{\"bgcolor\":\"white\",\"lakecolor\":\"white\",\"landcolor\":\"#E5ECF6\",\"showlakes\":true,\"showland\":true,\"subunitcolor\":\"white\"},\"hoverlabel\":{\"align\":\"left\"},\"hovermode\":\"closest\",\"mapbox\":{\"style\":\"light\"},\"paper_bgcolor\":\"white\",\"plot_bgcolor\":\"#E5ECF6\",\"polar\":{\"angularaxis\":{\"gridcolor\":\"white\",\"linecolor\":\"white\",\"ticks\":\"\"},\"bgcolor\":\"#E5ECF6\",\"radialaxis\":{\"gridcolor\":\"white\",\"linecolor\":\"white\",\"ticks\":\"\"}},\"scene\":{\"xaxis\":{\"backgroundcolor\":\"#E5ECF6\",\"gridcolor\":\"white\",\"gridwidth\":2,\"linecolor\":\"white\",\"showbackground\":true,\"ticks\":\"\",\"zerolinecolor\":\"white\"},\"yaxis\":{\"backgroundcolor\":\"#E5ECF6\",\"gridcolor\":\"white\",\"gridwidth\":2,\"linecolor\":\"white\",\"showbackground\":true,\"ticks\":\"\",\"zerolinecolor\":\"white\"},\"zaxis\":{\"backgroundcolor\":\"#E5ECF6\",\"gridcolor\":\"white\",\"gridwidth\":2,\"linecolor\":\"white\",\"showbackground\":true,\"ticks\":\"\",\"zerolinecolor\":\"white\"}},\"shapedefaults\":{\"line\":{\"color\":\"#2a3f5f\"}},\"ternary\":{\"aaxis\":{\"gridcolor\":\"white\",\"linecolor\":\"white\",\"ticks\":\"\"},\"baxis\":{\"gridcolor\":\"white\",\"linecolor\":\"white\",\"ticks\":\"\"},\"bgcolor\":\"#E5ECF6\",\"caxis\":{\"gridcolor\":\"white\",\"linecolor\":\"white\",\"ticks\":\"\"}},\"title\":{\"x\":0.05},\"xaxis\":{\"automargin\":true,\"gridcolor\":\"white\",\"linecolor\":\"white\",\"ticks\":\"\",\"title\":{\"standoff\":15},\"zerolinecolor\":\"white\",\"zerolinewidth\":2},\"yaxis\":{\"automargin\":true,\"gridcolor\":\"white\",\"linecolor\":\"white\",\"ticks\":\"\",\"title\":{\"standoff\":15},\"zerolinecolor\":\"white\",\"zerolinewidth\":2}}}},                        {\"responsive\": true}                    ).then(function(){\n",
       "                            \n",
       "var gd = document.getElementById('8969e473-452d-41df-9f17-d5fd9a9cc5c7');\n",
       "var x = new MutationObserver(function (mutations, observer) {{\n",
       "        var display = window.getComputedStyle(gd).display;\n",
       "        if (!display || display === 'none') {{\n",
       "            console.log([gd, 'removed!']);\n",
       "            Plotly.purge(gd);\n",
       "            observer.disconnect();\n",
       "        }}\n",
       "}});\n",
       "\n",
       "// Listen for the removal of the full notebook cells\n",
       "var notebookContainer = gd.closest('#notebook-container');\n",
       "if (notebookContainer) {{\n",
       "    x.observe(notebookContainer, {childList: true});\n",
       "}}\n",
       "\n",
       "// Listen for the clearing of the current output cell\n",
       "var outputEl = gd.closest('.output');\n",
       "if (outputEl) {{\n",
       "    x.observe(outputEl, {childList: true});\n",
       "}}\n",
       "\n",
       "                        })                };                });            </script>        </div>"
      ]
     },
     "metadata": {},
     "output_type": "display_data"
    }
   ],
   "source": [
    "fig = px.scatter_3d(wf_PCAs, x='PC1', y='PC2', z='PC3', color = 'has_organoid', size_max = 5, opacity=0.4)\n",
    "fig.show()"
   ]
  },
  {
   "cell_type": "code",
   "execution_count": null,
   "id": "c1003523",
   "metadata": {},
   "outputs": [],
   "source": []
  },
  {
   "cell_type": "code",
   "execution_count": null,
   "id": "16b83811",
   "metadata": {},
   "outputs": [],
   "source": []
  },
  {
   "cell_type": "markdown",
   "id": "2b927be7",
   "metadata": {},
   "source": [
    "## Next week we'll look at Clustering: Unsupervised Learning for Categorical Targets\n",
    "<img src=\"https://content.techgig.com/photo/80071467/pros-and-cons-of-python-programming-language-that-every-learner-must-know.jpg?132269\" width=\"100%\" style=\"margin-left:auto; margin-right:auto\">"
   ]
  }
 ],
 "metadata": {
  "celltoolbar": "Slideshow",
  "kernelspec": {
   "display_name": "Python 3",
   "language": "python",
   "name": "python3"
  },
  "language_info": {
   "codemirror_mode": {
    "name": "ipython",
    "version": 3
   },
   "file_extension": ".py",
   "mimetype": "text/x-python",
   "name": "python",
   "nbconvert_exporter": "python",
   "pygments_lexer": "ipython3",
   "version": "3.7.6"
  }
 },
 "nbformat": 4,
 "nbformat_minor": 5
}
