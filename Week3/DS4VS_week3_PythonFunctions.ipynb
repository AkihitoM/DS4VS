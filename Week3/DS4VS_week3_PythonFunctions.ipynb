{
 "cells": [
  {
   "cell_type": "markdown",
   "metadata": {},
   "source": [
    "[![Open In Colab](https://colab.research.google.com/assets/colab-badge.svg)](https://colab.research.google.com/github/SmilodonCub/DS4VS/blob/master/Week3/DS4VS_week3_PythonFunctions.ipynb)"
   ]
  },
  {
   "cell_type": "markdown",
   "metadata": {
    "slideshow": {
     "slide_type": "slide"
    }
   },
   "source": [
    "<br>\n",
    "\n",
    "# Week 3: Python Functions"
   ]
  },
  {
   "cell_type": "markdown",
   "metadata": {
    "slideshow": {
     "slide_type": "slide"
    }
   },
   "source": [
    "<br>\n",
    "\n",
    "## a Brief Recap:\n",
    "\n",
    "* Hello, how are you?\n",
    "* We will cover Git/Github next week along with loading data into the Python environment\n",
    "* Week 2 Discussion comments\n"
   ]
  },
  {
   "cell_type": "markdown",
   "metadata": {
    "slideshow": {
     "slide_type": "slide"
    }
   },
   "source": [
    "<br>\n",
    "\n",
    "## Why Functions?\n",
    "\n",
    "Flow control is a great way to efficiently recycle code in a script:"
   ]
  },
  {
   "cell_type": "code",
   "execution_count": 2,
   "metadata": {},
   "outputs": [
    {
     "name": "stdout",
     "output_type": "stream",
     "text": [
      "99  bottles of beer on the wall,  99  bottles of beer!\n",
      "take one down, pass it around ... 98  bottles of beer on the wall!\n",
      "98  bottles of beer on the wall,  98  bottles of beer!\n",
      "take one down, pass it around ... 97  bottles of beer on the wall!\n",
      "97  bottles of beer on the wall,  97  bottles of beer!\n",
      "take one down, pass it around ... 96  bottles of beer on the wall!\n",
      "96  bottles of beer on the wall,  96  bottles of beer!\n",
      "take one down, pass it around ... 95  bottles of beer on the wall!\n",
      "95  bottles of beer on the wall,  95  bottles of beer!\n",
      "take one down, pass it around ... 94  bottles of beer on the wall!\n",
      "94  bottles of beer on the wall,  94  bottles of beer!\n",
      "take one down, pass it around ... 93  bottles of beer on the wall!\n",
      "93  bottles of beer on the wall,  93  bottles of beer!\n",
      "take one down, pass it around ... 92  bottles of beer on the wall!\n",
      "92  bottles of beer on the wall,  92  bottles of beer!\n",
      "take one down, pass it around ... 91  bottles of beer on the wall!\n",
      "91  bottles of beer on the wall,  91  bottles of beer!\n",
      "take one down, pass it around ... 90  bottles of beer on the wall!\n",
      "90  bottles of beer on the wall,  90  bottles of beer!\n",
      "take one down, pass it around ... 89  bottles of beer on the wall!\n",
      "89  bottles of beer on the wall,  89  bottles of beer!\n",
      "take one down, pass it around ... 88  bottles of beer on the wall!\n",
      "88  bottles of beer on the wall,  88  bottles of beer!\n",
      "take one down, pass it around ... 87  bottles of beer on the wall!\n",
      "87  bottles of beer on the wall,  87  bottles of beer!\n",
      "take one down, pass it around ... 86  bottles of beer on the wall!\n",
      "86  bottles of beer on the wall,  86  bottles of beer!\n",
      "take one down, pass it around ... 85  bottles of beer on the wall!\n",
      "85  bottles of beer on the wall,  85  bottles of beer!\n",
      "take one down, pass it around ... 84  bottles of beer on the wall!\n",
      "84  bottles of beer on the wall,  84  bottles of beer!\n",
      "take one down, pass it around ... 83  bottles of beer on the wall!\n",
      "83  bottles of beer on the wall,  83  bottles of beer!\n",
      "take one down, pass it around ... 82  bottles of beer on the wall!\n",
      "82  bottles of beer on the wall,  82  bottles of beer!\n",
      "take one down, pass it around ... 81  bottles of beer on the wall!\n",
      "81  bottles of beer on the wall,  81  bottles of beer!\n",
      "take one down, pass it around ... 80  bottles of beer on the wall!\n",
      "80  bottles of beer on the wall,  80  bottles of beer!\n",
      "take one down, pass it around ... 79  bottles of beer on the wall!\n",
      "79  bottles of beer on the wall,  79  bottles of beer!\n",
      "take one down, pass it around ... 78  bottles of beer on the wall!\n",
      "78  bottles of beer on the wall,  78  bottles of beer!\n",
      "take one down, pass it around ... 77  bottles of beer on the wall!\n",
      "77  bottles of beer on the wall,  77  bottles of beer!\n",
      "take one down, pass it around ... 76  bottles of beer on the wall!\n",
      "76  bottles of beer on the wall,  76  bottles of beer!\n",
      "take one down, pass it around ... 75  bottles of beer on the wall!\n",
      "75  bottles of beer on the wall,  75  bottles of beer!\n",
      "take one down, pass it around ... 74  bottles of beer on the wall!\n",
      "74  bottles of beer on the wall,  74  bottles of beer!\n",
      "take one down, pass it around ... 73  bottles of beer on the wall!\n",
      "73  bottles of beer on the wall,  73  bottles of beer!\n",
      "take one down, pass it around ... 72  bottles of beer on the wall!\n",
      "72  bottles of beer on the wall,  72  bottles of beer!\n",
      "take one down, pass it around ... 71  bottles of beer on the wall!\n",
      "71  bottles of beer on the wall,  71  bottles of beer!\n",
      "take one down, pass it around ... 70  bottles of beer on the wall!\n",
      "70  bottles of beer on the wall,  70  bottles of beer!\n",
      "take one down, pass it around ... 69  bottles of beer on the wall!\n",
      "69  bottles of beer on the wall,  69  bottles of beer!\n",
      "take one down, pass it around ... 68  bottles of beer on the wall!\n",
      "68  bottles of beer on the wall,  68  bottles of beer!\n",
      "take one down, pass it around ... 67  bottles of beer on the wall!\n",
      "67  bottles of beer on the wall,  67  bottles of beer!\n",
      "take one down, pass it around ... 66  bottles of beer on the wall!\n",
      "66  bottles of beer on the wall,  66  bottles of beer!\n",
      "take one down, pass it around ... 65  bottles of beer on the wall!\n",
      "65  bottles of beer on the wall,  65  bottles of beer!\n",
      "take one down, pass it around ... 64  bottles of beer on the wall!\n",
      "64  bottles of beer on the wall,  64  bottles of beer!\n",
      "take one down, pass it around ... 63  bottles of beer on the wall!\n",
      "63  bottles of beer on the wall,  63  bottles of beer!\n",
      "take one down, pass it around ... 62  bottles of beer on the wall!\n",
      "62  bottles of beer on the wall,  62  bottles of beer!\n",
      "take one down, pass it around ... 61  bottles of beer on the wall!\n",
      "61  bottles of beer on the wall,  61  bottles of beer!\n",
      "take one down, pass it around ... 60  bottles of beer on the wall!\n",
      "60  bottles of beer on the wall,  60  bottles of beer!\n",
      "take one down, pass it around ... 59  bottles of beer on the wall!\n",
      "59  bottles of beer on the wall,  59  bottles of beer!\n",
      "take one down, pass it around ... 58  bottles of beer on the wall!\n",
      "58  bottles of beer on the wall,  58  bottles of beer!\n",
      "take one down, pass it around ... 57  bottles of beer on the wall!\n",
      "57  bottles of beer on the wall,  57  bottles of beer!\n",
      "take one down, pass it around ... 56  bottles of beer on the wall!\n",
      "56  bottles of beer on the wall,  56  bottles of beer!\n",
      "take one down, pass it around ... 55  bottles of beer on the wall!\n",
      "55  bottles of beer on the wall,  55  bottles of beer!\n",
      "take one down, pass it around ... 54  bottles of beer on the wall!\n",
      "54  bottles of beer on the wall,  54  bottles of beer!\n",
      "take one down, pass it around ... 53  bottles of beer on the wall!\n",
      "53  bottles of beer on the wall,  53  bottles of beer!\n",
      "take one down, pass it around ... 52  bottles of beer on the wall!\n",
      "52  bottles of beer on the wall,  52  bottles of beer!\n",
      "take one down, pass it around ... 51  bottles of beer on the wall!\n",
      "51  bottles of beer on the wall,  51  bottles of beer!\n",
      "take one down, pass it around ... 50  bottles of beer on the wall!\n",
      "50  bottles of beer on the wall,  50  bottles of beer!\n",
      "take one down, pass it around ... 49  bottles of beer on the wall!\n",
      "49  bottles of beer on the wall,  49  bottles of beer!\n",
      "take one down, pass it around ... 48  bottles of beer on the wall!\n",
      "48  bottles of beer on the wall,  48  bottles of beer!\n",
      "take one down, pass it around ... 47  bottles of beer on the wall!\n",
      "47  bottles of beer on the wall,  47  bottles of beer!\n",
      "take one down, pass it around ... 46  bottles of beer on the wall!\n",
      "46  bottles of beer on the wall,  46  bottles of beer!\n",
      "take one down, pass it around ... 45  bottles of beer on the wall!\n",
      "45  bottles of beer on the wall,  45  bottles of beer!\n",
      "take one down, pass it around ... 44  bottles of beer on the wall!\n",
      "44  bottles of beer on the wall,  44  bottles of beer!\n",
      "take one down, pass it around ... 43  bottles of beer on the wall!\n",
      "43  bottles of beer on the wall,  43  bottles of beer!\n",
      "take one down, pass it around ... 42  bottles of beer on the wall!\n",
      "42  bottles of beer on the wall,  42  bottles of beer!\n",
      "take one down, pass it around ... 41  bottles of beer on the wall!\n",
      "41  bottles of beer on the wall,  41  bottles of beer!\n",
      "take one down, pass it around ... 40  bottles of beer on the wall!\n",
      "40  bottles of beer on the wall,  40  bottles of beer!\n",
      "take one down, pass it around ... 39  bottles of beer on the wall!\n",
      "39  bottles of beer on the wall,  39  bottles of beer!\n",
      "take one down, pass it around ... 38  bottles of beer on the wall!\n",
      "38  bottles of beer on the wall,  38  bottles of beer!\n",
      "take one down, pass it around ... 37  bottles of beer on the wall!\n",
      "37  bottles of beer on the wall,  37  bottles of beer!\n",
      "take one down, pass it around ... 36  bottles of beer on the wall!\n",
      "36  bottles of beer on the wall,  36  bottles of beer!\n",
      "take one down, pass it around ... 35  bottles of beer on the wall!\n",
      "35  bottles of beer on the wall,  35  bottles of beer!\n",
      "take one down, pass it around ... 34  bottles of beer on the wall!\n",
      "34  bottles of beer on the wall,  34  bottles of beer!\n",
      "take one down, pass it around ... 33  bottles of beer on the wall!\n",
      "33  bottles of beer on the wall,  33  bottles of beer!\n",
      "take one down, pass it around ... 32  bottles of beer on the wall!\n",
      "32  bottles of beer on the wall,  32  bottles of beer!\n",
      "take one down, pass it around ... 31  bottles of beer on the wall!\n",
      "31  bottles of beer on the wall,  31  bottles of beer!\n",
      "take one down, pass it around ... 30  bottles of beer on the wall!\n",
      "30  bottles of beer on the wall,  30  bottles of beer!\n",
      "take one down, pass it around ... 29  bottles of beer on the wall!\n",
      "29  bottles of beer on the wall,  29  bottles of beer!\n",
      "take one down, pass it around ... 28  bottles of beer on the wall!\n",
      "28  bottles of beer on the wall,  28  bottles of beer!\n",
      "take one down, pass it around ... 27  bottles of beer on the wall!\n",
      "27  bottles of beer on the wall,  27  bottles of beer!\n",
      "take one down, pass it around ... 26  bottles of beer on the wall!\n",
      "26  bottles of beer on the wall,  26  bottles of beer!\n",
      "take one down, pass it around ... 25  bottles of beer on the wall!\n",
      "25  bottles of beer on the wall,  25  bottles of beer!\n",
      "take one down, pass it around ... 24  bottles of beer on the wall!\n",
      "24  bottles of beer on the wall,  24  bottles of beer!\n",
      "take one down, pass it around ... 23  bottles of beer on the wall!\n",
      "23  bottles of beer on the wall,  23  bottles of beer!\n",
      "take one down, pass it around ... 22  bottles of beer on the wall!\n",
      "22  bottles of beer on the wall,  22  bottles of beer!\n",
      "take one down, pass it around ... 21  bottles of beer on the wall!\n",
      "21  bottles of beer on the wall,  21  bottles of beer!\n",
      "take one down, pass it around ... 20  bottles of beer on the wall!\n",
      "20  bottles of beer on the wall,  20  bottles of beer!\n",
      "take one down, pass it around ... 19  bottles of beer on the wall!\n",
      "19  bottles of beer on the wall,  19  bottles of beer!\n",
      "take one down, pass it around ... 18  bottles of beer on the wall!\n",
      "18  bottles of beer on the wall,  18  bottles of beer!\n",
      "take one down, pass it around ... 17  bottles of beer on the wall!\n",
      "17  bottles of beer on the wall,  17  bottles of beer!\n",
      "take one down, pass it around ... 16  bottles of beer on the wall!\n",
      "16  bottles of beer on the wall,  16  bottles of beer!\n",
      "take one down, pass it around ... 15  bottles of beer on the wall!\n",
      "15  bottles of beer on the wall,  15  bottles of beer!\n",
      "take one down, pass it around ... 14  bottles of beer on the wall!\n",
      "14  bottles of beer on the wall,  14  bottles of beer!\n",
      "take one down, pass it around ... 13  bottles of beer on the wall!\n",
      "13  bottles of beer on the wall,  13  bottles of beer!\n",
      "take one down, pass it around ... 12  bottles of beer on the wall!\n",
      "12  bottles of beer on the wall,  12  bottles of beer!\n",
      "take one down, pass it around ... 11  bottles of beer on the wall!\n",
      "11  bottles of beer on the wall,  11  bottles of beer!\n",
      "take one down, pass it around ... 10  bottles of beer on the wall!\n",
      "10  bottles of beer on the wall,  10  bottles of beer!\n",
      "take one down, pass it around ... 9  bottles of beer on the wall!\n",
      "9  bottles of beer on the wall,  9  bottles of beer!\n",
      "take one down, pass it around ... 8  bottles of beer on the wall!\n",
      "8  bottles of beer on the wall,  8  bottles of beer!\n",
      "take one down, pass it around ... 7  bottles of beer on the wall!\n",
      "7  bottles of beer on the wall,  7  bottles of beer!\n",
      "take one down, pass it around ... 6  bottles of beer on the wall!\n",
      "6  bottles of beer on the wall,  6  bottles of beer!\n",
      "take one down, pass it around ... 5  bottles of beer on the wall!\n",
      "5  bottles of beer on the wall,  5  bottles of beer!\n",
      "take one down, pass it around ... 4  bottles of beer on the wall!\n",
      "4  bottles of beer on the wall,  4  bottles of beer!\n",
      "take one down, pass it around ... 3  bottles of beer on the wall!\n",
      "3  bottles of beer on the wall,  3  bottles of beer!\n",
      "take one down, pass it around ... 2  bottles of beer on the wall!\n",
      "2  bottles of beer on the wall,  2  bottles of beer!\n",
      "take one down, pass it around ... 1  bottles of beer on the wall!\n",
      "1  bottles of beer on the wall,  1  bottles of beer!\n",
      "take one down, pass it around ... 0  bottles of beer on the wall!\n"
     ]
    }
   ],
   "source": [
    "beers_on_wall = 99\n",
    "for beer in range( 0, beers_on_wall ):\n",
    "    print( beers_on_wall, ' bottles of beer on the wall, ', beers_on_wall, ' bottles of beer!' )\n",
    "    beers_on_wall -= 1\n",
    "    print( 'take one down, pass it around ...', beers_on_wall, ' bottles of beer on the wall!' )"
   ]
  },
  {
   "cell_type": "markdown",
   "metadata": {
    "slideshow": {
     "slide_type": "subslide"
    }
   },
   "source": [
    "<br>\n",
    "\n",
    "## Why Functions?\n",
    "\n",
    "However, what if you want to reuse code in different parts of your script, or in other scripts/files/etc.?  \n",
    "\n",
    "You could copy/paste the code and achieve the desired result....  \n",
    "\n",
    "but is this efficient?...  \n",
    "\n",
    "is it 'Pythonic'?..."
   ]
  },
  {
   "cell_type": "code",
   "execution_count": 3,
   "metadata": {
    "slideshow": {
     "slide_type": "fragment"
    }
   },
   "outputs": [
    {
     "name": "stdout",
     "output_type": "stream",
     "text": [
      "The Zen of Python, by Tim Peters\n",
      "\n",
      "Beautiful is better than ugly.\n",
      "Explicit is better than implicit.\n",
      "Simple is better than complex.\n",
      "Complex is better than complicated.\n",
      "Flat is better than nested.\n",
      "Sparse is better than dense.\n",
      "Readability counts.\n",
      "Special cases aren't special enough to break the rules.\n",
      "Although practicality beats purity.\n",
      "Errors should never pass silently.\n",
      "Unless explicitly silenced.\n",
      "In the face of ambiguity, refuse the temptation to guess.\n",
      "There should be one-- and preferably only one --obvious way to do it.\n",
      "Although that way may not be obvious at first unless you're Dutch.\n",
      "Now is better than never.\n",
      "Although never is often better than *right* now.\n",
      "If the implementation is hard to explain, it's a bad idea.\n",
      "If the implementation is easy to explain, it may be a good idea.\n",
      "Namespaces are one honking great idea -- let's do more of those!\n"
     ]
    }
   ],
   "source": [
    "# not the first, & definitely not the last, but I would like to invoke The Zen of Python:\n",
    "import this"
   ]
  },
  {
   "cell_type": "markdown",
   "metadata": {
    "slideshow": {
     "slide_type": "subslide"
    }
   },
   "source": [
    "### Functions:\n",
    "\n",
    "1. Make your code easier to read\n",
    "2. Make programs smaller and more tractable\n",
    "3. Divide the program into chunks to facilitate debugging\n",
    "4. Functions can be recycled in other programs"
   ]
  },
  {
   "cell_type": "markdown",
   "metadata": {
    "slideshow": {
     "slide_type": "slide"
    }
   },
   "source": [
    "<br>\n",
    "\n",
    "## the Function\n",
    "\n",
    "**function** - a sequence of statements that performs a computation. it can take any number or type of input and return any number or type of output.  \n",
    "\n",
    "* **input** - zero or more parameters\n",
    "* **output** - zero or more results as return value(s)"
   ]
  },
  {
   "cell_type": "markdown",
   "metadata": {
    "slideshow": {
     "slide_type": "subslide"
    }
   },
   "source": [
    "<br>\n",
    "\n",
    "### Types of Function\n",
    "\n",
    "* Built-in Functions\n",
    "* User Defined Functions\n",
    "* Recursion Functions\n",
    "* Lambda Functions\n"
   ]
  },
  {
   "cell_type": "markdown",
   "metadata": {
    "slideshow": {
     "slide_type": "slide"
    }
   },
   "source": [
    "<br>\n",
    "\n",
    "## Python Built-in Functions\n",
    "\n",
    "Python Built-In functions are available as part of the Python Standard Library."
   ]
  },
  {
   "cell_type": "markdown",
   "metadata": {
    "slideshow": {
     "slide_type": "fragment"
    }
   },
   "source": [
    "<img src=\"https://raw.githubusercontent.com/SmilodonCub/DS4VS/master/Week3/python_builtins.png\" width=\"60%\" style=\"margin-left:auto; margin-right:auto\">\n"
   ]
  },
  {
   "cell_type": "markdown",
   "metadata": {
    "slideshow": {
     "slide_type": "subslide"
    }
   },
   "source": [
    "<br>\n",
    "\n",
    "### Becoming Familiar with Built-Ins\n",
    "\n",
    "* [Python Documentation](https://docs.python.org/3/library/functions.html) is a good place to start"
   ]
  },
  {
   "cell_type": "markdown",
   "metadata": {
    "slideshow": {
     "slide_type": "fragment"
    }
   },
   "source": [
    "* We can kinda pull up all the `Python` built-ins:\n"
   ]
  },
  {
   "cell_type": "code",
   "execution_count": 5,
   "metadata": {
    "slideshow": {
     "slide_type": "fragment"
    }
   },
   "outputs": [],
   "source": [
    "#dir(__builtin__)"
   ]
  },
  {
   "cell_type": "code",
   "execution_count": 6,
   "metadata": {
    "slideshow": {
     "slide_type": "fragment"
    }
   },
   "outputs": [],
   "source": [
    "?pow"
   ]
  },
  {
   "cell_type": "code",
   "execution_count": 7,
   "metadata": {
    "slideshow": {
     "slide_type": "fragment"
    }
   },
   "outputs": [
    {
     "name": "stdout",
     "output_type": "stream",
     "text": [
      "Help on built-in function eval in module builtins:\n",
      "\n",
      "eval(source, globals=None, locals=None, /)\n",
      "    Evaluate the given source in the context of globals and locals.\n",
      "    \n",
      "    The source may be a string representing a Python expression\n",
      "    or a code object as returned by compile().\n",
      "    The globals must be a dictionary and locals can be any mapping,\n",
      "    defaulting to the current globals and locals.\n",
      "    If only globals is given, locals defaults to it.\n",
      "\n"
     ]
    }
   ],
   "source": [
    "# this is kinda meta....\n",
    "help( eval )"
   ]
  },
  {
   "cell_type": "markdown",
   "metadata": {
    "slideshow": {
     "slide_type": "slide"
    }
   },
   "source": [
    "## <span style=\"color:red\">Now you try...</span> "
   ]
  },
  {
   "cell_type": "code",
   "execution_count": 9,
   "metadata": {
    "slideshow": {
     "slide_type": "-"
    }
   },
   "outputs": [
    {
     "name": "stdout",
     "output_type": "stream",
     "text": [
      "3.141592265\n"
     ]
    }
   ],
   "source": [
    "string_pi = '3.141592265'\n",
    "# Use the float() builtin to recast string_pi as a float. \n",
    "# store the result as the variable float_pi\n",
    "float_pi = float( string_pi )\n",
    "# print the result\n",
    "print( float_pi )"
   ]
  },
  {
   "cell_type": "code",
   "execution_count": 12,
   "metadata": {},
   "outputs": [
    {
     "name": "stdout",
     "output_type": "stream",
     "text": [
      "3.3333\n"
     ]
    }
   ],
   "source": [
    "# Take turns un/commenting each variable. Do you get the behavior you expect?\n",
    "#var = '3'\n",
    "#var = '3.3333'\n",
    "#var = 3.3333\n",
    "#var = 3.9999\n",
    "print( float( var ) )"
   ]
  },
  {
   "cell_type": "code",
   "execution_count": 15,
   "metadata": {},
   "outputs": [
    {
     "name": "stdout",
     "output_type": "stream",
     "text": [
      "4\n"
     ]
    }
   ],
   "source": [
    "# Take turns un/commenting each variable. Do you get the behavior you expect?\n",
    "#var = '3'\n",
    "#var = 3.3333\n",
    "var = 3.9999\n",
    "print( round( var ) )"
   ]
  },
  {
   "cell_type": "code",
   "execution_count": 17,
   "metadata": {
    "slideshow": {
     "slide_type": "fragment"
    }
   },
   "outputs": [],
   "source": [
    "?round"
   ]
  },
  {
   "cell_type": "markdown",
   "metadata": {
    "slideshow": {
     "slide_type": "slide"
    }
   },
   "source": [
    "<br>\n",
    "\n",
    "## User Defined Functions\n",
    "\n",
    "Come in two flavors:  \n",
    "\n",
    "* User Defined, by other users: Modules to import\n",
    "* User Defined, by you....Youser Defined (bad joke?)"
   ]
  },
  {
   "cell_type": "markdown",
   "metadata": {
    "slideshow": {
     "slide_type": "subslide"
    }
   },
   "source": [
    "<br>\n",
    "\n",
    "### Using Functions by Importing Modules\n",
    "\n",
    "use a call to `import` followed by the modules name"
   ]
  },
  {
   "cell_type": "code",
   "execution_count": 20,
   "metadata": {},
   "outputs": [],
   "source": [
    "import math\n",
    "#help( math )"
   ]
  },
  {
   "cell_type": "markdown",
   "metadata": {
    "slideshow": {
     "slide_type": "fragment"
    }
   },
   "source": [
    "To use a function from a modules:  `module.function_name()`"
   ]
  },
  {
   "cell_type": "code",
   "execution_count": 21,
   "metadata": {
    "scrolled": true
   },
   "outputs": [
    {
     "name": "stdout",
     "output_type": "stream",
     "text": [
      "0.7071067811865475\n"
     ]
    }
   ],
   "source": [
    "# for example\n",
    "degrees = 45\n",
    "radians = degrees / 180.0 * math.pi\n",
    "print( math.sin( radians) )"
   ]
  },
  {
   "cell_type": "markdown",
   "metadata": {
    "slideshow": {
     "slide_type": "fragment"
    }
   },
   "source": [
    "Alternatively, you can import all functions from a module:  `from module import *`"
   ]
  },
  {
   "cell_type": "code",
   "execution_count": 23,
   "metadata": {},
   "outputs": [
    {
     "name": "stdout",
     "output_type": "stream",
     "text": [
      "0.7071067811865475\n"
     ]
    }
   ],
   "source": [
    "from math import pi, sin, cos\n",
    "x = sin( 45 /360.0 * 2 * pi )\n",
    "print( x )"
   ]
  },
  {
   "cell_type": "markdown",
   "metadata": {
    "slideshow": {
     "slide_type": "subslide"
    }
   },
   "source": [
    "You can import a modules by a name of you chosing:"
   ]
  },
  {
   "cell_type": "code",
   "execution_count": 24,
   "metadata": {},
   "outputs": [],
   "source": [
    "import numpy as np"
   ]
  },
  {
   "cell_type": "code",
   "execution_count": 26,
   "metadata": {
    "slideshow": {
     "slide_type": "fragment"
    }
   },
   "outputs": [
    {
     "name": "stdout",
     "output_type": "stream",
     "text": [
      "0.644217687237691\n"
     ]
    }
   ],
   "source": [
    "import math as Bonnie_Michelle_Cooper\n",
    "\n",
    "radians = 0.7\n",
    "height = Bonnie_Michelle_Cooper.sin( radians )\n",
    "print( height )"
   ]
  },
  {
   "cell_type": "markdown",
   "metadata": {
    "slideshow": {
     "slide_type": "fragment"
    }
   },
   "source": [
    "However, it's not recommended to get too creative as this can make you code hard to read for others.  \n",
    "\n",
    "In fact, some Python modules have community agreed upon names.  \n",
    "It is best practice to use such names.  \n",
    "Here are a few examples that you will see throughout the semester:\n",
    "\n",
    "    import numpy as np\n",
    "    import pandas as pd\n",
    "    import matplotlib.pyplot as plt"
   ]
  },
  {
   "cell_type": "markdown",
   "metadata": {
    "slideshow": {
     "slide_type": "subslide"
    }
   },
   "source": [
    "You can easily install new Python libraries:"
   ]
  },
  {
   "cell_type": "code",
   "execution_count": 29,
   "metadata": {
    "slideshow": {
     "slide_type": "-"
    }
   },
   "outputs": [],
   "source": [
    "#import binary_fractions "
   ]
  },
  {
   "cell_type": "code",
   "execution_count": 28,
   "metadata": {},
   "outputs": [
    {
     "name": "stdout",
     "output_type": "stream",
     "text": [
      "Collecting binary-fractions\n",
      "  Downloading binary_fractions-1.1.0.tar.gz (47 kB)\n",
      "\u001b[K     |████████████████████████████████| 47 kB 1.1 MB/s eta 0:00:01\n",
      "\u001b[?25hBuilding wheels for collected packages: binary-fractions\n",
      "  Building wheel for binary-fractions (setup.py) ... \u001b[?25ldone\n",
      "\u001b[?25h  Created wheel for binary-fractions: filename=binary_fractions-1.1.0-py3-none-any.whl size=47937 sha256=d7352c79f48f39d2347e2c50d8435d2d2b637a70bc75247b230f20b81f0e53f4\n",
      "  Stored in directory: /home/bonzilla/.cache/pip/wheels/ab/6d/99/a0eca61197bff2a511e8beae1d71037f257062accc307930de\n",
      "Successfully built binary-fractions\n",
      "Installing collected packages: binary-fractions\n",
      "Successfully installed binary-fractions-1.1.0\n",
      "\u001b[33mWARNING: You are using pip version 21.2.1; however, version 21.2.4 is available.\n",
      "You should consider upgrading via the '/home/bonzilla/anaconda3/bin/python -m pip install --upgrade pip' command.\u001b[0m\n",
      "Note: you may need to restart the kernel to use updated packages.\n"
     ]
    }
   ],
   "source": [
    "pip install binary-fractions"
   ]
  },
  {
   "cell_type": "code",
   "execution_count": 30,
   "metadata": {
    "slideshow": {
     "slide_type": "fragment"
    }
   },
   "outputs": [
    {
     "name": "stdout",
     "output_type": "stream",
     "text": [
      "0b1111.1\n"
     ]
    }
   ],
   "source": [
    "#pip install binary-fractions\n",
    "from binary_fractions import Binary\n",
    "b = Binary(15.5)\n",
    "print(b)\n",
    "#help( binary_fractions )"
   ]
  },
  {
   "cell_type": "markdown",
   "metadata": {
    "slideshow": {
     "slide_type": "fragment"
    }
   },
   "source": [
    "For the curious: [`pip` is the standard package manager for `Python`](https://realpython.com/what-is-pip/)  \n",
    "`pip` can help you access any package hosted by [pypi.org](pypi.org) or openly accessible on [Github](https://tech-cookbook.com/2019/11/05/how-to-pip-install-from-github-repo/)"
   ]
  },
  {
   "cell_type": "markdown",
   "metadata": {
    "slideshow": {
     "slide_type": "slide"
    }
   },
   "source": [
    "<br>\n",
    "\n",
    "### Creating Your Own User Defined Functions\n",
    "\n",
    "Generalized Syntax:\n",
    "\n",
    "Void Functions (do not return any values):\n",
    "\n",
    "    def function_name( optional_arguments ):\n",
    "        executable statements \n",
    "        \n",
    "Fruitful Functions (returns value(s)): \n",
    "\n",
    "    def function_name( optional_arguments ):\n",
    "        executable statements\n",
    "        return values"
   ]
  },
  {
   "cell_type": "markdown",
   "metadata": {
    "slideshow": {
     "slide_type": "subslide"
    }
   },
   "source": [
    "<br>\n",
    "\n",
    "### Let's look at a few examples:  "
   ]
  },
  {
   "cell_type": "code",
   "execution_count": 33,
   "metadata": {
    "slideshow": {
     "slide_type": "-"
    }
   },
   "outputs": [
    {
     "data": {
      "text/plain": [
       "function"
      ]
     },
     "execution_count": 33,
     "metadata": {},
     "output_type": "execute_result"
    }
   ],
   "source": [
    "#perhaps the most basic function of all time:\n",
    "def useless():\n",
    "    pass\n",
    "type( useless )"
   ]
  },
  {
   "cell_type": "markdown",
   "metadata": {
    "slideshow": {
     "slide_type": "subslide"
    }
   },
   "source": [
    "<br>\n",
    "\n",
    "### Passing Arguments via Parameters\n",
    "\n",
    "The values that are passed to a function are **arguments**.  \n",
    "The values of the arguments are passed to the function's **parameters**."
   ]
  },
  {
   "cell_type": "markdown",
   "metadata": {
    "slideshow": {
     "slide_type": "-"
    }
   },
   "source": [
    "**Some 'Void' Functions**"
   ]
  },
  {
   "cell_type": "code",
   "execution_count": 43,
   "metadata": {},
   "outputs": [],
   "source": [
    "# specifying default values and positional arguments are very flexible in python\n",
    "def count_2_three( one, two, three='three' ):\n",
    "    print( one )\n",
    "    print( two )\n",
    "    print( three )\n",
    "    \n",
    "#count_2_three( 'uno' )\n",
    "#count_2_three( 'uno', two='dos' )\n",
    "#count_2_three( 'uno', 'tres','dos' )\n",
    "# you can even pass expressions\n",
    "#count_2_three( 'uno'*1, three='tres'*3, two='dos'*2 )"
   ]
  },
  {
   "cell_type": "code",
   "execution_count": 42,
   "metadata": {
    "slideshow": {
     "slide_type": "fragment"
    }
   },
   "outputs": [
    {
     "name": "stdout",
     "output_type": "stream",
     "text": [
      "uno\n",
      "dosdos\n",
      "trestrestres\n",
      "None\n"
     ]
    }
   ],
   "source": [
    "result = count_2_three( 'uno'*1, three='tres'*3, two='dos'*2 )\n",
    "print( result )"
   ]
  },
  {
   "cell_type": "markdown",
   "metadata": {
    "slideshow": {
     "slide_type": "subslide"
    }
   },
   "source": [
    "**Variables used in a function are local** - they only exist inside the function unless declared global"
   ]
  },
  {
   "cell_type": "code",
   "execution_count": 51,
   "metadata": {},
   "outputs": [
    {
     "name": "stdout",
     "output_type": "stream",
     "text": [
      "Data Science Tools 4 Vision Science Applications\n",
      "Data Science Tools 4 Vision Science Applications\n",
      "None\n",
      "None\n"
     ]
    }
   ],
   "source": [
    "def cat_twice( part1, part2 ):\n",
    "    global cat\n",
    "    cat = part1 + '4 ' + part2\n",
    "    \n",
    "    print( cat )\n",
    "    \n",
    "\n",
    "line1 = 'Data Science Tools '\n",
    "line2 = 'Vision Science Applications'\n",
    "res = cat_twice( line1, line2 )\n",
    "print( cat )\n",
    "print( res )\n",
    "\n",
    "def all_caps( string ):\n",
    "    string.upper()\n",
    "    \n",
    "print( all_caps( 'cat' )    )"
   ]
  },
  {
   "cell_type": "code",
   "execution_count": null,
   "metadata": {},
   "outputs": [],
   "source": []
  },
  {
   "cell_type": "markdown",
   "metadata": {
    "slideshow": {
     "slide_type": "subslide"
    }
   },
   "source": [
    "**Fruitful Functions** - there is no limit the the number or type of return values/objects"
   ]
  },
  {
   "cell_type": "code",
   "execution_count": 54,
   "metadata": {},
   "outputs": [],
   "source": [
    "# a function to right justify some print statements\n",
    "def right_justify( s, sp=70 ):\n",
    "    length = len( s )\n",
    "    front_pad = ' ' * (sp)\n",
    "    right_s = front_pad + s\n",
    "    return right_s"
   ]
  },
  {
   "cell_type": "code",
   "execution_count": 56,
   "metadata": {
    "slideshow": {
     "slide_type": "fragment"
    }
   },
   "outputs": [
    {
     "name": "stdout",
     "output_type": "stream",
     "text": [
      "                                                                      monty python\n",
      "                                                                      and the search\n",
      "                                                                      for the holy grail\n"
     ]
    },
    {
     "data": {
      "text/plain": [
       "str"
      ]
     },
     "execution_count": 56,
     "metadata": {},
     "output_type": "execute_result"
    }
   ],
   "source": [
    "p1 = right_justify('monty python')\n",
    "p2 = right_justify('and the search')\n",
    "p3 = right_justify('for the holy grail')\n",
    "print( p1 ) \n",
    "print( p2 ) \n",
    "print( p3 )\n",
    "type( p3 )"
   ]
  },
  {
   "cell_type": "code",
   "execution_count": 57,
   "metadata": {
    "slideshow": {
     "slide_type": "subslide"
    }
   },
   "outputs": [],
   "source": [
    "# return numeric type\n",
    "def area( radius ):\n",
    "    return math.pi * radius ** 2"
   ]
  },
  {
   "cell_type": "code",
   "execution_count": 58,
   "metadata": {},
   "outputs": [
    {
     "name": "stdout",
     "output_type": "stream",
     "text": [
      "50.26548245743669 <class 'float'>\n"
     ]
    }
   ],
   "source": [
    "res = area( 4 )\n",
    "print( res, type( res ) )"
   ]
  },
  {
   "cell_type": "code",
   "execution_count": 59,
   "metadata": {
    "slideshow": {
     "slide_type": "fragment"
    }
   },
   "outputs": [],
   "source": [
    "#return a bool\n",
    "def is_divisible( x,y ):\n",
    "    return x % y == 0"
   ]
  },
  {
   "cell_type": "code",
   "execution_count": 61,
   "metadata": {},
   "outputs": [
    {
     "name": "stdout",
     "output_type": "stream",
     "text": [
      "x is divisible by y\n",
      "True <class 'bool'>\n"
     ]
    }
   ],
   "source": [
    "x = 21\n",
    "y = 7\n",
    "if is_divisible( x,y ):\n",
    "    print( 'x is divisible by y' )\n",
    "res = is_divisible( x,y )\n",
    "print( res, type( res ) )"
   ]
  },
  {
   "cell_type": "markdown",
   "metadata": {
    "slideshow": {
     "slide_type": "subslide"
    }
   },
   "source": [
    "<br>\n",
    "\n",
    "### Tips for Developing your own Functions\n",
    "\n",
    "**Incremental Development** - avoid frustrations of debugging\n",
    "\n",
    "1. Implement small incrmental changes to your function. If there is an error, you'll have a good idea where to look\n",
    "2. Use **test cases** - values for parameters with known outcomes\n",
    "3. Use **scaffolding code** to evalute the fuctions behavior\n",
    "    - temporary variables that hold intermediate values \n",
    "    - print functions\n",
    "    - other executable code\n",
    "4. When you are happy with your code, go back an incrementally streamline it (removee scaffolding code)\n",
    "5. ADD DOCUMENTATION!\n",
    "\n",
    "<br>"
   ]
  },
  {
   "cell_type": "markdown",
   "metadata": {
    "slideshow": {
     "slide_type": "slide"
    }
   },
   "source": [
    ".....and now for something completely different\n",
    "![](https://www.homestratosphere.com/wp-content/uploads/2021/01/european-larch-tree-jan252021-01-min.jpg)"
   ]
  },
  {
   "cell_type": "markdown",
   "metadata": {
    "slideshow": {
     "slide_type": "slide"
    }
   },
   "source": [
    "## <span style=\"color:red\">Now you try...</span> \n",
    "\n",
    "Let's do a mini-Python lab and write a few functions.  \n",
    "\n",
    "During last weeks lecture we talked about the methods associated with the built-in Python types. Someone asked if there is a simple way to print out all the methods and attributes associated with a built-in types. There is a shortcut to view them, but let's assume we need to print them out &/or store them to a list variable for later use.  "
   ]
  },
  {
   "cell_type": "markdown",
   "metadata": {
    "slideshow": {
     "slide_type": "fragment"
    }
   },
   "source": [
    "We can use the `dir()` function to return a list of all an object's methods:"
   ]
  },
  {
   "cell_type": "code",
   "execution_count": 65,
   "metadata": {},
   "outputs": [],
   "source": [
    "#dir( res )"
   ]
  },
  {
   "cell_type": "markdown",
   "metadata": {
    "slideshow": {
     "slide_type": "subslide"
    }
   },
   "source": [
    "1. Instantiate a string object as aString.  \n",
    "2. print the type of the aString\n",
    "3. call dir() on aString to view all the associated methods"
   ]
  },
  {
   "cell_type": "code",
   "execution_count": 67,
   "metadata": {},
   "outputs": [
    {
     "name": "stdout",
     "output_type": "stream",
     "text": [
      "<class 'str'>\n"
     ]
    }
   ],
   "source": [
    "aString = \"Let's use this string as an example\" #you can replace this with anything\n",
    "print( type( aString ) )\n",
    "#dir( aString )"
   ]
  },
  {
   "cell_type": "markdown",
   "metadata": {
    "slideshow": {
     "slide_type": "subslide"
    }
   },
   "source": [
    "### Dunders\n",
    "\n",
    "From the `dir()` output, we can see that roughly half of the methods start and end with two underscores (e.g. `__add__` ).  \n",
    "\n",
    "Double underscores before and after are a special naming convention in Python called **dunders**. Programmatically, there really isn't anything different about dunders compared to other methods. However, the naming convention carries special meaning to pythonistas (Python programmers) and dunders are often referred to a 'Special Methods' or 'Magic Methods'.  \n",
    "\n",
    "A dunder signifies that the method has a special role 'under the hood' of the class and is not typically meant to be directly called in use...."
   ]
  },
  {
   "cell_type": "code",
   "execution_count": 68,
   "metadata": {
    "slideshow": {
     "slide_type": "fragment"
    }
   },
   "outputs": [
    {
     "data": {
      "text/plain": [
       "-3703567313181189458"
      ]
     },
     "execution_count": 68,
     "metadata": {},
     "output_type": "execute_result"
    }
   ],
   "source": [
    "#.... although, there's nothing really stopping us:\n",
    "aString.__hash__()"
   ]
  },
  {
   "cell_type": "markdown",
   "metadata": {
    "slideshow": {
     "slide_type": "subslide"
    }
   },
   "source": [
    "Lets write a `for` loop to return a list that excludes all the dunders:"
   ]
  },
  {
   "cell_type": "code",
   "execution_count": 71,
   "metadata": {},
   "outputs": [],
   "source": [
    "#initialize an empty list to hold the result of the for loop\n",
    "res = []\n",
    "\n",
    "#for each attribute returned by dir( aString )\n",
    "for Aki in dir( aString ):\n",
    "    #filter out the dunders\n",
    "    #slice the iterable\n",
    "    if Aki[0:2]!='__' and Aki[-2:]!='___':\n",
    "        res.append( Aki )\n",
    "        \n",
    "#res"
   ]
  },
  {
   "cell_type": "markdown",
   "metadata": {
    "slideshow": {
     "slide_type": "slide"
    }
   },
   "source": [
    "Great! Now can you rewrite the for loop as a list comprehension:"
   ]
  },
  {
   "cell_type": "code",
   "execution_count": 72,
   "metadata": {},
   "outputs": [],
   "source": [
    "res2 = [ Aki for Aki in dir( aString ) if Aki[0:2]!='__' and Aki[-2:]!='__' ]"
   ]
  },
  {
   "cell_type": "code",
   "execution_count": 73,
   "metadata": {
    "slideshow": {
     "slide_type": "fragment"
    }
   },
   "outputs": [
    {
     "data": {
      "text/plain": [
       "True"
      ]
     },
     "execution_count": 73,
     "metadata": {},
     "output_type": "execute_result"
    }
   ],
   "source": [
    "# test for equality\n",
    "res.sort() == res2.sort()"
   ]
  },
  {
   "cell_type": "code",
   "execution_count": null,
   "metadata": {
    "slideshow": {
     "slide_type": "fragment"
    }
   },
   "outputs": [],
   "source": [
    "# print one of the results\n",
    "print( res )"
   ]
  },
  {
   "cell_type": "markdown",
   "metadata": {
    "slideshow": {
     "slide_type": "subslide"
    }
   },
   "source": [
    "That's great!  \n",
    "That list comp is pretty handy.  \n",
    "Why don't we generalize it, so that we can use it to return an iterable list of methods for any object  \n",
    "\n",
    "Let's write a function:"
   ]
  },
  {
   "cell_type": "code",
   "execution_count": 75,
   "metadata": {},
   "outputs": [],
   "source": [
    "def getMethods( an_object ):\n",
    "    \"\"\"\n",
    "    return a list of methods belonging to object and filter out dunders\n",
    "    \"\"\"\n",
    "    methods = [ Aki for Aki in dir( an_object ) if Aki[0:2]!='__' and Aki[-2:]!='__' ]\n",
    "    return methods  \n",
    "\n",
    "?getMethods"
   ]
  },
  {
   "cell_type": "code",
   "execution_count": 76,
   "metadata": {
    "slideshow": {
     "slide_type": "fragment"
    }
   },
   "outputs": [
    {
     "name": "stdout",
     "output_type": "stream",
     "text": [
      "['capitalize', 'casefold', 'center', 'count', 'encode', 'endswith', 'expandtabs', 'find', 'format', 'format_map', 'index', 'isalnum', 'isalpha', 'isascii', 'isdecimal', 'isdigit', 'isidentifier', 'islower', 'isnumeric', 'isprintable', 'isspace', 'istitle', 'isupper', 'join', 'ljust', 'lower', 'lstrip', 'maketrans', 'partition', 'replace', 'rfind', 'rindex', 'rjust', 'rpartition', 'rsplit', 'rstrip', 'split', 'splitlines', 'startswith', 'strip', 'swapcase', 'title', 'translate', 'upper', 'zfill']\n"
     ]
    }
   ],
   "source": [
    "# try the new function out\n",
    "new_string = 'This is a new string example. Even better than before' #or some other string of your chosing\n",
    "res = getMethods( new_string )\n",
    "print( res )"
   ]
  },
  {
   "cell_type": "code",
   "execution_count": 77,
   "metadata": {
    "slideshow": {
     "slide_type": "fragment"
    }
   },
   "outputs": [
    {
     "name": "stdout",
     "output_type": "stream",
     "text": [
      "['bit_length', 'conjugate', 'denominator', 'from_bytes', 'imag', 'numerator', 'real', 'to_bytes']\n"
     ]
    }
   ],
   "source": [
    "# Let's try on a different type of Python object\n",
    "num = 12345\n",
    "res = getMethods( num )\n",
    "print( res )"
   ]
  },
  {
   "cell_type": "markdown",
   "metadata": {
    "slideshow": {
     "slide_type": "subslide"
    }
   },
   "source": [
    "Great. the function seems to work as intended.  \n",
    "But wouldn't it we great if we had a function that could also return information about the attribute?   \n",
    "\n",
    "Let's write another function to help us with this:"
   ]
  },
  {
   "cell_type": "code",
   "execution_count": 78,
   "metadata": {},
   "outputs": [],
   "source": [
    "def getMethodHelp( an_object, attribute ):\n",
    "    \"\"\"\n",
    "    checks is attribute belongs to an_object\n",
    "    if True: returns a documentation string\n",
    "    if False: raises a custom error\n",
    "    \"\"\"\n",
    "    # use the __name__ dunder on the type object returned by calling type() on the object passed to getMethodHelp\n",
    "    type_string = type( an_object ).__name__\n",
    "    # use the function getMethods to return an iterable list of methods-excluding dunders\n",
    "    # test if the attribute is in that list\n",
    "    if attribute in getMethods( an_object ):\n",
    "        print( 'getMethodHelp for object type: {} attribute: {}\\n'.format( type_string, attribute ) )\n",
    "        # concatenate a string 'type_string.attribute'\n",
    "        # call eval() on the string\n",
    "        # call help() on the result of eval() \n",
    "        help_string = help( eval( type_string + '.' + attribute) )\n",
    "        return help_string\n",
    "    else:\n",
    "        # if attribute is not in the list, raise an informative error\n",
    "        print( 'getMethodHelp for object type: {} attribute: {}\\n'.format( type_string, attribute ) )\n",
    "        raise ValueError('attribute does not belong to object')"
   ]
  },
  {
   "cell_type": "markdown",
   "metadata": {
    "slideshow": {
     "slide_type": "subslide"
    }
   },
   "source": [
    "And now to test drive our new function....."
   ]
  },
  {
   "cell_type": "code",
   "execution_count": 79,
   "metadata": {},
   "outputs": [
    {
     "name": "stdout",
     "output_type": "stream",
     "text": [
      "getMethodHelp for object type: str attribute: isalpha\n",
      "\n",
      "Help on method_descriptor:\n",
      "\n",
      "isalpha(self, /)\n",
      "    Return True if the string is an alphabetic string, False otherwise.\n",
      "    \n",
      "    A string is alphabetic if all characters in the string are alphabetic and there\n",
      "    is at least one character in the string.\n",
      "\n"
     ]
    }
   ],
   "source": [
    "getMethodHelp( new_string, 'isalpha' )"
   ]
  },
  {
   "cell_type": "code",
   "execution_count": 80,
   "metadata": {},
   "outputs": [
    {
     "name": "stdout",
     "output_type": "stream",
     "text": [
      "getMethodHelp for object type: int attribute: denominator\n",
      "\n",
      "Help on getset descriptor builtins.int.denominator:\n",
      "\n",
      "denominator\n",
      "    the denominator of a rational number in lowest terms\n",
      "\n"
     ]
    }
   ],
   "source": [
    "getMethodHelp( num, 'denominator' )"
   ]
  },
  {
   "cell_type": "code",
   "execution_count": 81,
   "metadata": {},
   "outputs": [
    {
     "name": "stdout",
     "output_type": "stream",
     "text": [
      "getMethodHelp for object type: int attribute: isalpha\n",
      "\n"
     ]
    },
    {
     "ename": "ValueError",
     "evalue": "attribute does not belong to object",
     "output_type": "error",
     "traceback": [
      "\u001b[0;31m---------------------------------------------------------------------------\u001b[0m",
      "\u001b[0;31mValueError\u001b[0m                                Traceback (most recent call last)",
      "\u001b[0;32m<ipython-input-81-d42c61610884>\u001b[0m in \u001b[0;36m<module>\u001b[0;34m\u001b[0m\n\u001b[0;32m----> 1\u001b[0;31m \u001b[0mgetMethodHelp\u001b[0m\u001b[0;34m(\u001b[0m \u001b[0mnum\u001b[0m\u001b[0;34m,\u001b[0m \u001b[0;34m'isalpha'\u001b[0m \u001b[0;34m)\u001b[0m\u001b[0;34m\u001b[0m\u001b[0;34m\u001b[0m\u001b[0m\n\u001b[0m",
      "\u001b[0;32m<ipython-input-78-e9c4ca66f520>\u001b[0m in \u001b[0;36mgetMethodHelp\u001b[0;34m(an_object, attribute)\u001b[0m\n\u001b[1;32m     19\u001b[0m         \u001b[0;31m# if attribute is not in the list, raise an informative error\u001b[0m\u001b[0;34m\u001b[0m\u001b[0;34m\u001b[0m\u001b[0;34m\u001b[0m\u001b[0m\n\u001b[1;32m     20\u001b[0m         \u001b[0mprint\u001b[0m\u001b[0;34m(\u001b[0m \u001b[0;34m'getMethodHelp for object type: {} attribute: {}\\n'\u001b[0m\u001b[0;34m.\u001b[0m\u001b[0mformat\u001b[0m\u001b[0;34m(\u001b[0m \u001b[0mtype_string\u001b[0m\u001b[0;34m,\u001b[0m \u001b[0mattribute\u001b[0m \u001b[0;34m)\u001b[0m \u001b[0;34m)\u001b[0m\u001b[0;34m\u001b[0m\u001b[0;34m\u001b[0m\u001b[0m\n\u001b[0;32m---> 21\u001b[0;31m         \u001b[0;32mraise\u001b[0m \u001b[0mValueError\u001b[0m\u001b[0;34m(\u001b[0m\u001b[0;34m'attribute does not belong to object'\u001b[0m\u001b[0;34m)\u001b[0m\u001b[0;34m\u001b[0m\u001b[0;34m\u001b[0m\u001b[0m\n\u001b[0m",
      "\u001b[0;31mValueError\u001b[0m: attribute does not belong to object"
     ]
    }
   ],
   "source": [
    "getMethodHelp( num, 'isalpha' )"
   ]
  },
  {
   "cell_type": "markdown",
   "metadata": {
    "slideshow": {
     "slide_type": "slide"
    }
   },
   "source": [
    "<br>\n",
    "\n",
    "### Two more interesting cases of Function behavior in Python"
   ]
  },
  {
   "cell_type": "markdown",
   "metadata": {
    "slideshow": {
     "slide_type": "fragment"
    }
   },
   "source": [
    "**Recusion Functions** - in Python it is legal for a function to call itself\n",
    "\n",
    "![](https://files.realpython.com/media/fixing_problems.ffd6d34e887e.png)"
   ]
  },
  {
   "cell_type": "code",
   "execution_count": 82,
   "metadata": {
    "slideshow": {
     "slide_type": "subslide"
    }
   },
   "outputs": [
    {
     "name": "stdout",
     "output_type": "stream",
     "text": [
      "1\n",
      "2\n",
      "6\n",
      "24\n",
      "120\n",
      "720\n",
      "5040\n",
      "40320\n",
      "362880\n",
      "3628800\n"
     ]
    }
   ],
   "source": [
    "def factorial( n ):\n",
    "    if n == 0:\n",
    "        print( n )\n",
    "        return 1\n",
    "    else:\n",
    "        recurse = factorial( n-1 )\n",
    "        \n",
    "        result = n * recurse\n",
    "        print( result )\n",
    "        return result\n",
    "    \n",
    "result = factorial( 10 )"
   ]
  },
  {
   "cell_type": "markdown",
   "metadata": {
    "slideshow": {
     "slide_type": "fragment"
    }
   },
   "source": [
    "if you'd like more info on [recursive functions](https://www.programiz.com/python-programming/recursion)"
   ]
  },
  {
   "cell_type": "markdown",
   "metadata": {
    "slideshow": {
     "slide_type": "subslide"
    }
   },
   "source": [
    "**Lambda Functions** - small (one line) ananymous functions. "
   ]
  },
  {
   "cell_type": "code",
   "execution_count": 83,
   "metadata": {
    "slideshow": {
     "slide_type": "fragment"
    }
   },
   "outputs": [
    {
     "data": {
      "text/plain": [
       "[1, 4, 27, 256, 3125, 46656]"
      ]
     },
     "execution_count": 83,
     "metadata": {},
     "output_type": "execute_result"
    }
   ],
   "source": [
    "nums = [ 1, 2, 3, 4, 5, 6 ]\n",
    "[(lambda x: x**x)(X) for X in nums]"
   ]
  },
  {
   "cell_type": "code",
   "execution_count": 84,
   "metadata": {
    "slideshow": {
     "slide_type": "fragment"
    }
   },
   "outputs": [
    {
     "name": "stdout",
     "output_type": "stream",
     "text": [
      "['Data!', 'Science!', 'Methods!', '4!', 'Vision!', 'Science!', 'Application!']\n"
     ]
    }
   ],
   "source": [
    "words = ['data', 'science', 'methods', '4', 'vision', 'science', 'application']\n",
    "f = lambda x: x.capitalize()+'!'\n",
    "change_words = [f(word) for word in words]\n",
    "print( change_words )"
   ]
  },
  {
   "cell_type": "markdown",
   "metadata": {
    "slideshow": {
     "slide_type": "slide"
    }
   },
   "source": [
    "## Powerful Functions for manipulating lists\n",
    "\n",
    "Some of the more common opperations done in Python with `for` loops:\n",
    "\n",
    "1. **Reduce** - an operation that combines a sequence of elements into a single value\n",
    "2. **Map** - apply an operation to each element in a list\n",
    "3. **Filter** - select a subset from elements in a list based on a condition\n",
    "\n",
    "these can be usually expressed using a combination of `lambda` functions and `map`, `filter`, `reduce`  \n",
    "\n",
    "Let's compare approaches & evaluate the performance...."
   ]
  },
  {
   "cell_type": "markdown",
   "metadata": {
    "slideshow": {
     "slide_type": "subslide"
    }
   },
   "source": [
    "### Reduce"
   ]
  },
  {
   "cell_type": "code",
   "execution_count": 85,
   "metadata": {},
   "outputs": [],
   "source": [
    "some_nums = [ num for num in range( 0, 10000 ) ]"
   ]
  },
  {
   "cell_type": "code",
   "execution_count": 87,
   "metadata": {},
   "outputs": [
    {
     "name": "stdout",
     "output_type": "stream",
     "text": [
      "238 µs ± 17.2 µs per loop (mean ± std. dev. of 7 runs, 1000 loops each)\n"
     ]
    }
   ],
   "source": [
    "%%timeit\n",
    "# for loop\n",
    "total = 0\n",
    "for x in some_nums:\n",
    "    total += x"
   ]
  },
  {
   "cell_type": "code",
   "execution_count": 86,
   "metadata": {},
   "outputs": [],
   "source": [
    "from functools import reduce"
   ]
  },
  {
   "cell_type": "code",
   "execution_count": 88,
   "metadata": {},
   "outputs": [
    {
     "name": "stdout",
     "output_type": "stream",
     "text": [
      "516 µs ± 18.1 µs per loop (mean ± std. dev. of 7 runs, 1000 loops each)\n"
     ]
    }
   ],
   "source": [
    "%%timeit\n",
    "total2 = reduce( lambda x, y: x + y, some_nums )"
   ]
  },
  {
   "cell_type": "markdown",
   "metadata": {
    "slideshow": {
     "slide_type": "subslide"
    }
   },
   "source": [
    "### Map"
   ]
  },
  {
   "cell_type": "code",
   "execution_count": 98,
   "metadata": {},
   "outputs": [
    {
     "name": "stdout",
     "output_type": "stream",
     "text": [
      "115314\n",
      "['whale', 'in', 'Spitzbergen', 'that', 'was', 'white', 'all', \"over.'\", 'A', 'Voyage', 'to', 'Greenland,', 'A.D.', '1671.', 'Harris', 'Coll.', \"'\", 'Several', 'whales', 'have', 'come', 'in', 'upon', 'this', 'coast', '(Fife).', 'Anno', '1652,', 'one', 'eighty', 'feet', 'in', 'length', 'of', 'the', 'whale', '-bone', 'kind', 'came', 'in,', 'which,', '(as', 'I', 'was', 'informed)', 'besides', 'a', 'vast', 'quantity', 'of', 'oil,', 'did', 'afford', '500', 'weight', 'of', 'baleen.', 'The', 'jaws', 'of', 'it', 'stand', 'for', 'a', 'gate', 'in', 'the', 'garden', 'of', \"Pitferren.'\", \"Sibbald's\", 'Fife', 'and', 'Kinross.', '4', 'Myself', 'have', 'agreed', 'to', 'try', 'whether', 'I', 'can', 'master', 'and', 'kill', 'this', 'Sperma-ceti', 'whale,', 'for', 'I', 'could', 'never', 'hear', 'of', 'any', 'of', 'that', 'sort', 'that']\n"
     ]
    }
   ],
   "source": [
    "# import the US Constitution as a string\n",
    "import requests\n",
    "\n",
    "url = \"https://gist.githubusercontent.com/StevenClontz/4445774/raw/1722a289b665d940495645a5eaaad4da8e3ad4c7/mobydick.txt\"\n",
    "response = requests.get(url)\n",
    "Melville = response.text.split()\n",
    "print( len( Melville ) )\n",
    "print( Melville[2000:2100])"
   ]
  },
  {
   "cell_type": "code",
   "execution_count": 99,
   "metadata": {
    "slideshow": {
     "slide_type": "subslide"
    }
   },
   "outputs": [
    {
     "name": "stdout",
     "output_type": "stream",
     "text": [
      "17.4 ms ± 539 µs per loop (mean ± std. dev. of 7 runs, 10 loops each)\n"
     ]
    }
   ],
   "source": [
    "%%timeit\n",
    "uppered_Melville = []\n",
    "for word in Melville:\n",
    "    uppered_Melville.append( word.capitalize() )"
   ]
  },
  {
   "cell_type": "code",
   "execution_count": 100,
   "metadata": {},
   "outputs": [
    {
     "name": "stdout",
     "output_type": "stream",
     "text": [
      "12.7 ms ± 50.4 µs per loop (mean ± std. dev. of 7 runs, 100 loops each)\n"
     ]
    }
   ],
   "source": [
    "%%timeit\n",
    "uppered_Melville = list(map(str.capitalize, Melville)) "
   ]
  },
  {
   "cell_type": "code",
   "execution_count": 101,
   "metadata": {},
   "outputs": [
    {
     "name": "stdout",
     "output_type": "stream",
     "text": [
      "13.2 ms ± 33.2 µs per loop (mean ± std. dev. of 7 runs, 100 loops each)\n"
     ]
    }
   ],
   "source": [
    "%%timeit\n",
    "uppered_Melville = [x.capitalize( )for x in Melville]  "
   ]
  },
  {
   "cell_type": "markdown",
   "metadata": {
    "slideshow": {
     "slide_type": "subslide"
    }
   },
   "source": [
    "### Filter"
   ]
  },
  {
   "cell_type": "code",
   "execution_count": 104,
   "metadata": {},
   "outputs": [
    {
     "data": {
      "text/plain": [
       "11"
      ]
     },
     "execution_count": 104,
     "metadata": {},
     "output_type": "execute_result"
    }
   ],
   "source": [
    "len( Melville[0])"
   ]
  },
  {
   "cell_type": "code",
   "execution_count": 105,
   "metadata": {},
   "outputs": [
    {
     "name": "stdout",
     "output_type": "stream",
     "text": [
      "4.94 ms ± 345 µs per loop (mean ± std. dev. of 7 runs, 100 loops each)\n"
     ]
    }
   ],
   "source": [
    "%%timeit\n",
    "long_words = []\n",
    "for word in Melville:\n",
    "    if len( word ) >= 12:\n",
    "        long_words.append( word )"
   ]
  },
  {
   "cell_type": "code",
   "execution_count": 106,
   "metadata": {},
   "outputs": [
    {
     "name": "stdout",
     "output_type": "stream",
     "text": [
      "8.48 ms ± 483 µs per loop (mean ± std. dev. of 7 runs, 100 loops each)\n"
     ]
    }
   ],
   "source": [
    "%%timeit\n",
    "long_words = list( filter(lambda x: len(x) >= 12, Melville) )"
   ]
  },
  {
   "cell_type": "code",
   "execution_count": 107,
   "metadata": {},
   "outputs": [
    {
     "name": "stdout",
     "output_type": "stream",
     "text": [
      "4.33 ms ± 356 µs per loop (mean ± std. dev. of 7 runs, 100 loops each)\n"
     ]
    }
   ],
   "source": [
    "%%timeit\n",
    "long_words = [x for x in Melville if len(x) >= 12]"
   ]
  },
  {
   "cell_type": "markdown",
   "metadata": {
    "slideshow": {
     "slide_type": "slide"
    }
   },
   "source": [
    "## That was a lot.  ....any questions before we tackle Python Classes?\n",
    "\n",
    "<img src=\"https://content.techgig.com/photo/80071467/pros-and-cons-of-python-programming-language-that-every-learner-must-know.jpg?132269\" width=\"100%\" style=\"margin-left:auto; margin-right:auto\">"
   ]
  }
 ],
 "metadata": {
  "celltoolbar": "Slideshow",
  "kernelspec": {
   "display_name": "Python 3",
   "language": "python",
   "name": "python3"
  },
  "language_info": {
   "codemirror_mode": {
    "name": "ipython",
    "version": 3
   },
   "file_extension": ".py",
   "mimetype": "text/x-python",
   "name": "python",
   "nbconvert_exporter": "python",
   "pygments_lexer": "ipython3",
   "version": "3.7.6"
  }
 },
 "nbformat": 4,
 "nbformat_minor": 4
}
