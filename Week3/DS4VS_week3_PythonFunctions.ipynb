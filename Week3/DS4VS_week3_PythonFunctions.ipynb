{
 "cells": [
  {
   "cell_type": "markdown",
   "metadata": {},
   "source": []
  },
  {
   "cell_type": "markdown",
   "metadata": {
    "slideshow": {
     "slide_type": "slide"
    }
   },
   "source": [
    "<br>\n",
    "\n",
    "# Week 3: Python Functions"
   ]
  },
  {
   "cell_type": "markdown",
   "metadata": {
    "slideshow": {
     "slide_type": "slide"
    }
   },
   "source": [
    "<br>\n",
    "\n",
    "## a Brief Recap:\n",
    "\n",
    "* Hello, how are you?\n",
    "* We will cover Git/Github next week along with loading data into the Python environment\n",
    "* Week 2 Discussion comments\n"
   ]
  },
  {
   "cell_type": "markdown",
   "metadata": {
    "slideshow": {
     "slide_type": "slide"
    }
   },
   "source": [
    "<br>\n",
    "\n",
    "## Why Functions?\n",
    "\n",
    "Flow control is a great way to recycle code in a script:"
   ]
  },
  {
   "cell_type": "code",
   "execution_count": null,
   "metadata": {},
   "outputs": [],
   "source": [
    "beers_on_wall = 99\n",
    "for beer in range( 0, beers_on_wall ):\n",
    "    print( beers_on_wall, ' bottles of beer on the wall, ', beers_on_wall, ' bottles of beer!' )\n",
    "    beers_on_wall -= 1\n",
    "    print( 'take one down, pass it around ...', beers_on_wall, ' bottles of beer on the wall!' )"
   ]
  },
  {
   "cell_type": "markdown",
   "metadata": {
    "slideshow": {
     "slide_type": "subslide"
    }
   },
   "source": [
    "<br>\n",
    "\n",
    "## Why Functions?\n",
    "\n",
    "However, what if you want to reuse code in different parts of your script, or in other scripts/files/etc.?  \n",
    "\n",
    "You could copy/paste the code and achieve the desired result....  \n",
    "\n",
    "but is this efficient?...  \n",
    "\n",
    "is it 'Pythonic'?..."
   ]
  },
  {
   "cell_type": "code",
   "execution_count": null,
   "metadata": {
    "slideshow": {
     "slide_type": "fragment"
    }
   },
   "outputs": [],
   "source": [
    "# not the first, & definitely not the last, but I would like to invoke The Zen of Python:\n",
    "import this"
   ]
  },
  {
   "cell_type": "markdown",
   "metadata": {
    "slideshow": {
     "slide_type": "subslide"
    }
   },
   "source": [
    "### Functions:\n",
    "\n",
    "1. Make your code easier to read\n",
    "2. Make programs smaller and more tractable\n",
    "3. Divide the program into chunks to facilitate debugging\n",
    "4. Functions can be recycled in other programs"
   ]
  },
  {
   "cell_type": "markdown",
   "metadata": {
    "slideshow": {
     "slide_type": "slide"
    }
   },
   "source": [
    "<br>\n",
    "\n",
    "## the Function\n",
    "\n",
    "**function** - a sequence of statements that performs a computation. it can take any number or type of input and return any number or type of output.  \n",
    "\n",
    "* **input** - zero or more parameters\n",
    "* **output** - zero or more results as return value(s)"
   ]
  },
  {
   "cell_type": "markdown",
   "metadata": {
    "slideshow": {
     "slide_type": "subslide"
    }
   },
   "source": [
    "<br>\n",
    "\n",
    "### Types of Function\n",
    "\n",
    "* Built-in Functions\n",
    "* User Defined Functions\n",
    "* Recursion Functions\n",
    "* Lambda Functions\n"
   ]
  },
  {
   "cell_type": "markdown",
   "metadata": {
    "slideshow": {
     "slide_type": "slide"
    }
   },
   "source": [
    "<br>\n",
    "\n",
    "## Python Built-in Functions\n",
    "\n",
    "Python Built-In functions are available as part of the Python Standard Library."
   ]
  },
  {
   "cell_type": "markdown",
   "metadata": {
    "slideshow": {
     "slide_type": "fragment"
    }
   },
   "source": [
    "<img src=\"python_builtins.png\" width=\"60%\" style=\"margin-left:auto; margin-right:auto\">\n"
   ]
  },
  {
   "cell_type": "markdown",
   "metadata": {
    "slideshow": {
     "slide_type": "subslide"
    }
   },
   "source": [
    "<br>\n",
    "\n",
    "### Becoming Familiar with Built-Ins\n",
    "\n",
    "* [Python Documentation](https://docs.python.org/3/library/functions.html) is a good place to start"
   ]
  },
  {
   "cell_type": "markdown",
   "metadata": {
    "slideshow": {
     "slide_type": "fragment"
    }
   },
   "source": [
    "* We can kinda pull up all the `Python` built-ins:\n"
   ]
  },
  {
   "cell_type": "code",
   "execution_count": null,
   "metadata": {
    "slideshow": {
     "slide_type": "fragment"
    }
   },
   "outputs": [],
   "source": [
    "dir(__builtin__)"
   ]
  },
  {
   "cell_type": "code",
   "execution_count": null,
   "metadata": {
    "slideshow": {
     "slide_type": "fragment"
    }
   },
   "outputs": [],
   "source": [
    "?pow"
   ]
  },
  {
   "cell_type": "code",
   "execution_count": null,
   "metadata": {
    "slideshow": {
     "slide_type": "fragment"
    }
   },
   "outputs": [],
   "source": [
    "# this is kinda meta....\n",
    "help( eval )"
   ]
  },
  {
   "cell_type": "markdown",
   "metadata": {
    "slideshow": {
     "slide_type": "slide"
    }
   },
   "source": [
    "## <span style=\"color:red\">Now you try...</span> "
   ]
  },
  {
   "cell_type": "code",
   "execution_count": null,
   "metadata": {
    "slideshow": {
     "slide_type": "-"
    }
   },
   "outputs": [],
   "source": [
    "string_pi = '3.141592265'\n",
    "# Use the float() builtin to recast string_pi as a float. \n",
    "# store the result as the variable float_pi\n",
    "float_pi = _____( _____ )\n",
    "# print the result\n",
    "_____( float_pi )"
   ]
  },
  {
   "cell_type": "code",
   "execution_count": null,
   "metadata": {},
   "outputs": [],
   "source": [
    "# Take turns un/commenting each variable. Do you get the behavior you expect?\n",
    "var = '3'\n",
    "#var = '3.3333'\n",
    "#var = 3.3333\n",
    "#var = 3.9999\n",
    "print( float( var ) )"
   ]
  },
  {
   "cell_type": "code",
   "execution_count": null,
   "metadata": {},
   "outputs": [],
   "source": [
    "# Take turns un/commenting each variable. Do you get the behavior you expect?\n",
    "var = '3'\n",
    "#var = 3.3333\n",
    "#var = 3.9999\n",
    "print( round( var ) )"
   ]
  },
  {
   "cell_type": "code",
   "execution_count": null,
   "metadata": {
    "slideshow": {
     "slide_type": "fragment"
    }
   },
   "outputs": [],
   "source": [
    "?float"
   ]
  },
  {
   "cell_type": "markdown",
   "metadata": {
    "slideshow": {
     "slide_type": "slide"
    }
   },
   "source": [
    "<br>\n",
    "\n",
    "## User Defined Functions\n",
    "\n",
    "Come in two flavors:  \n",
    "\n",
    "* User Defined, by other users: Modules to import\n",
    "* User Defined, by you....Youser Defined (bad joke?)"
   ]
  },
  {
   "cell_type": "markdown",
   "metadata": {
    "slideshow": {
     "slide_type": "subslide"
    }
   },
   "source": [
    "<br>\n",
    "\n",
    "### Using Functions by Importing Modules\n",
    "\n",
    "use a call to `import` followed by the modules name"
   ]
  },
  {
   "cell_type": "code",
   "execution_count": null,
   "metadata": {},
   "outputs": [],
   "source": [
    "import math\n",
    "#help( math )"
   ]
  },
  {
   "cell_type": "markdown",
   "metadata": {
    "slideshow": {
     "slide_type": "fragment"
    }
   },
   "source": [
    "To use a function from a modules:  `module.function_name()`"
   ]
  },
  {
   "cell_type": "code",
   "execution_count": null,
   "metadata": {},
   "outputs": [],
   "source": [
    "# for example\n",
    "degrees = 45\n",
    "radians = degrees / 180.0 * math.pi\n",
    "print( math.sin( radians) )"
   ]
  },
  {
   "cell_type": "markdown",
   "metadata": {
    "slideshow": {
     "slide_type": "fragment"
    }
   },
   "source": [
    "Alternatively, you can import all functions from a module:  `from module import *`"
   ]
  },
  {
   "cell_type": "code",
   "execution_count": null,
   "metadata": {},
   "outputs": [],
   "source": [
    "from math import *\n",
    "x = sin( 45 /360.0 * 2 * pi )\n",
    "print( x )"
   ]
  },
  {
   "cell_type": "markdown",
   "metadata": {
    "slideshow": {
     "slide_type": "subslide"
    }
   },
   "source": [
    "You can import a modules as an alias of you chosing:"
   ]
  },
  {
   "cell_type": "code",
   "execution_count": null,
   "metadata": {},
   "outputs": [],
   "source": [
    "import numpy as np"
   ]
  },
  {
   "cell_type": "code",
   "execution_count": null,
   "metadata": {
    "slideshow": {
     "slide_type": "fragment"
    }
   },
   "outputs": [],
   "source": [
    "import math as Bonnie_Michelle_Cooper\n",
    "\n",
    "radians = 0.7\n",
    "height = Bonnie_Michelle_Cooper.sin( radians )\n",
    "print( height )"
   ]
  },
  {
   "cell_type": "markdown",
   "metadata": {
    "slideshow": {
     "slide_type": "fragment"
    }
   },
   "source": [
    "However, it's not recommended to get too creative as this can make you code hard to read for others.  \n",
    "\n",
    "In fact, some Python modules have community agreed upon names.  \n",
    "It is best practice to use such names.  \n",
    "Here are a few examples that you will see throughout the semester:\n",
    "\n",
    "    import numpy as np\n",
    "    import pandas as pd\n",
    "    import matplotlib.pyplot as plt"
   ]
  },
  {
   "cell_type": "code",
   "execution_count": null,
   "metadata": {
    "slideshow": {
     "slide_type": "subslide"
    }
   },
   "outputs": [],
   "source": [
    "import binary_fractions"
   ]
  },
  {
   "cell_type": "code",
   "execution_count": null,
   "metadata": {
    "slideshow": {
     "slide_type": "fragment"
    }
   },
   "outputs": [],
   "source": [
    "#pip install binary-fractions\n",
    "from binary_fractions import Binary\n",
    "b = Binary(15.5)\n",
    "print(b)\n",
    "#help( binary_fractions )"
   ]
  },
  {
   "cell_type": "markdown",
   "metadata": {
    "slideshow": {
     "slide_type": "fragment"
    }
   },
   "source": [
    "For the curious: [`pip` is the standard package manager for `Python`](https://realpython.com/what-is-pip/)  \n",
    "`pip` can help you access any package hosted by [pypi.org](pypi.org) or openly accessible on [Github](https://tech-cookbook.com/2019/11/05/how-to-pip-install-from-github-repo/)"
   ]
  },
  {
   "cell_type": "markdown",
   "metadata": {
    "slideshow": {
     "slide_type": "slide"
    }
   },
   "source": [
    "<br>\n",
    "\n",
    "### Creating Your Own User Defined Functions\n",
    "\n",
    "Generalized Syntax:\n",
    "\n",
    "Void Functions (do not return any values):\n",
    "\n",
    "    def function_name( optional_arguments ):\n",
    "        executable statements \n",
    "        \n",
    "Fruitful Functions (returns value(s)): \n",
    "\n",
    "    def function_name( optional_arguments ):\n",
    "        executable statements\n",
    "        return values"
   ]
  },
  {
   "cell_type": "markdown",
   "metadata": {
    "slideshow": {
     "slide_type": "subslide"
    }
   },
   "source": [
    "<br>\n",
    "\n",
    "### Passing Arguments via Parameters\n",
    "\n",
    "The values that are passed to a function are **arguments**.  \n",
    "The values of the arguments are passed to the function's **parameters**."
   ]
  },
  {
   "cell_type": "markdown",
   "metadata": {
    "slideshow": {
     "slide_type": "subslide"
    }
   },
   "source": [
    "<br>\n",
    "\n",
    "### Let's look at a few examples:  "
   ]
  },
  {
   "cell_type": "code",
   "execution_count": null,
   "metadata": {
    "slideshow": {
     "slide_type": "fragment"
    }
   },
   "outputs": [],
   "source": [
    "#perhaps the most basic function of all time:\n",
    "def useless():\n",
    "    pass\n",
    "type( useless )"
   ]
  },
  {
   "cell_type": "markdown",
   "metadata": {
    "slideshow": {
     "slide_type": "subslide"
    }
   },
   "source": [
    "**Some 'Void' Functions**"
   ]
  },
  {
   "cell_type": "code",
   "execution_count": null,
   "metadata": {},
   "outputs": [],
   "source": [
    "# specifying default values and positional arguments are very flexible in python\n",
    "def count_2_three( one, two='two', three='three' ):\n",
    "    print( one )\n",
    "    print( two )\n",
    "    print( three )\n",
    "    \n",
    "count_2_three( 'uno' )\n",
    "#count_2_three( 'uno', two='dos' )\n",
    "#count_2_three( 'uno', three='tres', two='dos' )\n",
    "# you can even pass expressions\n",
    "#count_2_three( 'uno'*1, three='tres'*3, two='dos'*2 )"
   ]
  },
  {
   "cell_type": "code",
   "execution_count": null,
   "metadata": {
    "slideshow": {
     "slide_type": "fragment"
    }
   },
   "outputs": [],
   "source": [
    "result = count_2_three( 'uno'*1, three='tres'*3, two='dos'*2 )\n",
    "print( result )"
   ]
  },
  {
   "cell_type": "markdown",
   "metadata": {
    "slideshow": {
     "slide_type": "subslide"
    }
   },
   "source": [
    "**Variables used in a function are local** - they only exist inside the function unless declared global"
   ]
  },
  {
   "cell_type": "code",
   "execution_count": null,
   "metadata": {},
   "outputs": [],
   "source": [
    "def cat_twice( part1, part2 ):\n",
    "    cat = part1 + '4 ' + part2\n",
    "    print( cat )\n",
    "    \n",
    "\n",
    "line1 = 'Data Science Tools '\n",
    "line2 = 'Vision Science Applications'\n",
    "cat_twice( line1, line2 )\n",
    "#print( cat )"
   ]
  },
  {
   "cell_type": "markdown",
   "metadata": {
    "slideshow": {
     "slide_type": "subslide"
    }
   },
   "source": [
    "**Fruitful Functions** - there is no limit the the number or type of return values/objects"
   ]
  },
  {
   "cell_type": "code",
   "execution_count": null,
   "metadata": {},
   "outputs": [],
   "source": [
    "# a function to right justify some print statements\n",
    "def right_justify( s ):\n",
    "    length = len( s )\n",
    "    front_pad = ' ' * (70 - length)\n",
    "    right_s = front_pad + s\n",
    "    return right_s"
   ]
  },
  {
   "cell_type": "code",
   "execution_count": null,
   "metadata": {
    "slideshow": {
     "slide_type": "fragment"
    }
   },
   "outputs": [],
   "source": [
    "p1 = right_justify('monty python')\n",
    "p2 = right_justify('and the search')\n",
    "p3 = right_justify('for the holy grail')\n",
    "print( p1 ) \n",
    "print( p2 ) \n",
    "print( p3 )\n",
    "#type( p3 )"
   ]
  },
  {
   "cell_type": "code",
   "execution_count": null,
   "metadata": {
    "slideshow": {
     "slide_type": "subslide"
    }
   },
   "outputs": [],
   "source": [
    "# return numeric type\n",
    "def area( radius ):\n",
    "    return math.pi * radius ** 2"
   ]
  },
  {
   "cell_type": "code",
   "execution_count": null,
   "metadata": {},
   "outputs": [],
   "source": [
    "res = area( 4 )\n",
    "print( res, type( res ) )"
   ]
  },
  {
   "cell_type": "code",
   "execution_count": null,
   "metadata": {
    "slideshow": {
     "slide_type": "fragment"
    }
   },
   "outputs": [],
   "source": [
    "#return a bool\n",
    "def is_divisible( x,y ):\n",
    "    return x % y == 0"
   ]
  },
  {
   "cell_type": "code",
   "execution_count": null,
   "metadata": {},
   "outputs": [],
   "source": [
    "x = 21\n",
    "y = 7\n",
    "if is_divisible( x,y ):\n",
    "    print( 'x is divisible by y' )\n",
    "#res = is_divisible( x,y )\n",
    "#print( res, type( res ) )"
   ]
  },
  {
   "cell_type": "markdown",
   "metadata": {
    "slideshow": {
     "slide_type": "subslide"
    }
   },
   "source": [
    "<br>\n",
    "\n",
    "### Tips for Developing your own Functions\n",
    "\n",
    "**Incremental Development** - avoid frustrations of debugging\n",
    "\n",
    "1. Implement small incrmental changes to your function. If there is an error, you'll have a good idea where to look\n",
    "2. Use **test cases** - values for parameters with known outcomes\n",
    "3. Use **scaffolding code** to evalute the fuctions behavior\n",
    "    - temporary variables that hold intermediate values \n",
    "    - print functions\n",
    "    - other executable code\n",
    "4. When you are happy with your code, go back an incrementally streamline it (removee scaffolding code)\n",
    "5. ADD DOCUMENTATION!\n",
    "\n",
    "<br>"
   ]
  },
  {
   "cell_type": "markdown",
   "metadata": {
    "slideshow": {
     "slide_type": "slide"
    }
   },
   "source": [
    ".....and now for something completely different\n",
    "![](https://www.homestratosphere.com/wp-content/uploads/2021/01/european-larch-tree-jan252021-01-min.jpg)"
   ]
  },
  {
   "cell_type": "markdown",
   "metadata": {
    "slideshow": {
     "slide_type": "slide"
    }
   },
   "source": [
    "## <span style=\"color:red\">Now you try...</span> \n",
    "\n",
    "Let's do a mini-Python lab and write a few functions.  \n",
    "\n",
    "During last weeks lecture we talked about the methods associated with the built-in Python types. Someone asked if there is a simple way to print out all the methods and attributes associated with a built-in types. There is a shortcut to view them, but let's assume we need to print them out &/or store them to a list variable for later use.  "
   ]
  },
  {
   "cell_type": "markdown",
   "metadata": {
    "slideshow": {
     "slide_type": "fragment"
    }
   },
   "source": [
    "We can use the `dir()` function to return a list of all an object's methods:"
   ]
  },
  {
   "cell_type": "code",
   "execution_count": null,
   "metadata": {},
   "outputs": [],
   "source": [
    "help( dir )"
   ]
  },
  {
   "cell_type": "markdown",
   "metadata": {
    "slideshow": {
     "slide_type": "subslide"
    }
   },
   "source": [
    "1. Instantiate a string object as aString.  \n",
    "2. print the type of the aString\n",
    "3. call dir() on aString to view all the associated methods"
   ]
  },
  {
   "cell_type": "code",
   "execution_count": null,
   "metadata": {},
   "outputs": [],
   "source": [
    "aString = \"Let's use this string as an example\" #you can replace this with anything\n",
    "print( ____( aString ) )\n",
    "_____( aString )"
   ]
  },
  {
   "cell_type": "markdown",
   "metadata": {
    "slideshow": {
     "slide_type": "subslide"
    }
   },
   "source": [
    "### Dunders\n",
    "\n",
    "From the `dir()` output, we can see that roughly half of the methods start and end with two underscores (e.g. `__add__` ).  \n",
    "\n",
    "Double underscores before and after are a special naming convention in Python called **dunders**. Programmatically, there really isn't anything different about dunders compared to other methods. However, the naming convention carries special meaning to pythonistas (Python programmers) and dunders are often referred to a 'Special Methods' or 'Magic Methods'.  \n",
    "\n",
    "A dunder signifies that the method has a special role 'under the hood' of the class and is not typically meant to be directly called in use...."
   ]
  },
  {
   "cell_type": "code",
   "execution_count": null,
   "metadata": {
    "slideshow": {
     "slide_type": "fragment"
    }
   },
   "outputs": [],
   "source": [
    "#.... although, there's nothing really stopping us:\n",
    "aString.__hash__()"
   ]
  },
  {
   "cell_type": "markdown",
   "metadata": {
    "slideshow": {
     "slide_type": "subslide"
    }
   },
   "source": [
    "Lets write a `for` loop to return a list that excludes all the dunders:"
   ]
  },
  {
   "cell_type": "code",
   "execution_count": null,
   "metadata": {},
   "outputs": [],
   "source": [
    "#initialize an empty list to hold the result of the for loop\n",
    "res = []\n",
    "\n",
    "#for each attribute returned by dir( aString )\n",
    "for ______ in dir( aString ):\n",
    "    #filter out the dunders\n",
    "    #slice the iterable\n",
    "    if ______[0:___]!='__' and _____[-2:]!='___':\n",
    "        res.append( ______ )"
   ]
  },
  {
   "cell_type": "markdown",
   "metadata": {
    "slideshow": {
     "slide_type": "slide"
    }
   },
   "source": [
    "Great! Now can you rewrite the for loop as a list comprehension:"
   ]
  },
  {
   "cell_type": "code",
   "execution_count": null,
   "metadata": {},
   "outputs": [],
   "source": [
    "res2 = [ ______ for ______ in dir( aString ) if _____[0:__]!='__' and ______[-2:]!='__' ]"
   ]
  },
  {
   "cell_type": "code",
   "execution_count": null,
   "metadata": {
    "slideshow": {
     "slide_type": "fragment"
    }
   },
   "outputs": [],
   "source": [
    "# test for equality\n",
    "res.sort() == res2.sort()"
   ]
  },
  {
   "cell_type": "code",
   "execution_count": null,
   "metadata": {
    "slideshow": {
     "slide_type": "fragment"
    }
   },
   "outputs": [],
   "source": [
    "# print one of the results\n",
    "print( res )"
   ]
  },
  {
   "cell_type": "markdown",
   "metadata": {
    "slideshow": {
     "slide_type": "subslide"
    }
   },
   "source": [
    "That's great!  \n",
    "That list comp is pretty handy.  \n",
    "Why don't we generalize it, so that we can use it to return an iterable list of methods for any object  \n",
    "\n",
    "Let's write a function:"
   ]
  },
  {
   "cell_type": "code",
   "execution_count": null,
   "metadata": {},
   "outputs": [],
   "source": [
    "def getMethods( an_object ):\n",
    "    \"\"\"\n",
    "    return a list of methods belonging to object and filter out dunders\n",
    "    \"\"\"\n",
    "    methods = ### paste your list comprehension from above ###\n",
    "    return _______  "
   ]
  },
  {
   "cell_type": "code",
   "execution_count": null,
   "metadata": {
    "slideshow": {
     "slide_type": "fragment"
    }
   },
   "outputs": [],
   "source": [
    "# try the new function out\n",
    "new_string = 'This is a new string example. Even better than before' #or some other string of your chosing\n",
    "res = getMethods( new_string )\n",
    "print( res )"
   ]
  },
  {
   "cell_type": "code",
   "execution_count": null,
   "metadata": {
    "slideshow": {
     "slide_type": "fragment"
    }
   },
   "outputs": [],
   "source": [
    "# Let's try on a different type of Python object\n",
    "num = 12345\n",
    "res = getMethods( num )\n",
    "print( res )"
   ]
  },
  {
   "cell_type": "markdown",
   "metadata": {
    "slideshow": {
     "slide_type": "subslide"
    }
   },
   "source": [
    "Great. the function seems to work as intended.  \n",
    "But wouldn't it we great if we had a function that could also return information about the attribute?   \n",
    "\n",
    "Let's write another function to help us with this:"
   ]
  },
  {
   "cell_type": "code",
   "execution_count": null,
   "metadata": {},
   "outputs": [],
   "source": [
    "def getMethodHelp( an_object, attribute ):\n",
    "    \"\"\"\n",
    "    checks is attribute belongs to an_object\n",
    "    if True: returns a documentation string\n",
    "    if False: raises a custom error\n",
    "    \"\"\"\n",
    "    # use the __name__ dunder on the type object returned by calling type() on the object passed to getMethodHelp\n",
    "    type_string = type( _________ ).__name__\n",
    "    # use the function getMethods to return an iterable list of methods-excluding dunders\n",
    "    # test if the attribute is in that list\n",
    "    if __________ in getMethods( an_object ):\n",
    "        print( 'getMethodHelp for object type: {} attribute: {}\\n'.format( type_string, attribute ) )\n",
    "        # concatenate a string 'type_string.attribute'\n",
    "        # call eval() on the string\n",
    "        # call help() on the result of eval() \n",
    "        help_string = help( eval( _______ + '.' + _________) )\n",
    "        return help_string\n",
    "    else:\n",
    "        # if attribute is not in the list, raise an informative error\n",
    "        print( 'getMethodHelp for object type: {} attribute: {}\\n'.format( type_string, attribute ) )\n",
    "        raise ValueError('attribute does not belong to object')"
   ]
  },
  {
   "cell_type": "markdown",
   "metadata": {
    "slideshow": {
     "slide_type": "subslide"
    }
   },
   "source": [
    "And now to test drive our new function....."
   ]
  },
  {
   "cell_type": "code",
   "execution_count": null,
   "metadata": {},
   "outputs": [],
   "source": [
    "getMethodHelp( new_string, 'isalpha' )"
   ]
  },
  {
   "cell_type": "code",
   "execution_count": null,
   "metadata": {},
   "outputs": [],
   "source": [
    "getMethodHelp( num, 'denominator' )"
   ]
  },
  {
   "cell_type": "code",
   "execution_count": null,
   "metadata": {},
   "outputs": [],
   "source": [
    "getMethodHelp( num, 'isalpha' )"
   ]
  },
  {
   "cell_type": "markdown",
   "metadata": {
    "slideshow": {
     "slide_type": "slide"
    }
   },
   "source": [
    "<br>\n",
    "\n",
    "### Two more interesting cases of Function behavior in Python"
   ]
  },
  {
   "cell_type": "markdown",
   "metadata": {
    "slideshow": {
     "slide_type": "fragment"
    }
   },
   "source": [
    "**Recusion Functions** - in Python it is legal for a function to call itself\n",
    "\n",
    "![](https://files.realpython.com/media/fixing_problems.ffd6d34e887e.png)"
   ]
  },
  {
   "cell_type": "code",
   "execution_count": null,
   "metadata": {
    "slideshow": {
     "slide_type": "subslide"
    }
   },
   "outputs": [],
   "source": [
    "def factorial( n ):\n",
    "    if n == 0:\n",
    "        return 1\n",
    "    else:\n",
    "        recurse = factorial( n-1 )\n",
    "        result = n * recurse\n",
    "        print( result )\n",
    "        return result\n",
    "    \n",
    "result = factorial( 10 )"
   ]
  },
  {
   "cell_type": "markdown",
   "metadata": {
    "slideshow": {
     "slide_type": "subslide"
    }
   },
   "source": [
    "**Lambda Functions** - small (one line) ananymous functions. "
   ]
  },
  {
   "cell_type": "code",
   "execution_count": null,
   "metadata": {
    "slideshow": {
     "slide_type": "fragment"
    }
   },
   "outputs": [],
   "source": [
    "nums = [ 1, 2, 3, 4, 5, 6 ]\n",
    "[(lambda x: x**x)(x) for x in nums]"
   ]
  },
  {
   "cell_type": "code",
   "execution_count": null,
   "metadata": {
    "slideshow": {
     "slide_type": "fragment"
    }
   },
   "outputs": [],
   "source": [
    "words = ['data', 'science', 'methods', '4', 'vision', 'science', 'application']\n",
    "f = lambda x: x.capitalize()+'!'\n",
    "change_words = [f(word) for word in words]\n",
    "print( change_words )"
   ]
  },
  {
   "cell_type": "markdown",
   "metadata": {
    "slideshow": {
     "slide_type": "slide"
    }
   },
   "source": [
    "## Powerful Functions for manipulating lists\n",
    "\n",
    "Some of the more common opperations done in Python with `for` loops:\n",
    "\n",
    "1. **Reduce** - an operation that combines a sequence of elements into a single value\n",
    "2. **Map** - apply an operation to each element in a list\n",
    "3. **Filter** - select a subset from elements in a list based on a condition\n",
    "\n",
    "these can be usually expressed using a combination of `lambda` functions and `map`, `filter`, `reduce`  \n",
    "\n",
    "Let's compare approaches & evaluate the performance...."
   ]
  },
  {
   "cell_type": "markdown",
   "metadata": {
    "slideshow": {
     "slide_type": "subslide"
    }
   },
   "source": [
    "### Reduce"
   ]
  },
  {
   "cell_type": "code",
   "execution_count": null,
   "metadata": {},
   "outputs": [],
   "source": [
    "some_nums = [ num for num in range( 0, 10000 ) ]"
   ]
  },
  {
   "cell_type": "code",
   "execution_count": null,
   "metadata": {},
   "outputs": [],
   "source": [
    "%%timeit\n",
    "# for loop\n",
    "total = 0\n",
    "for x in some_nums:\n",
    "    total += x"
   ]
  },
  {
   "cell_type": "code",
   "execution_count": null,
   "metadata": {},
   "outputs": [],
   "source": [
    "%%timeit\n",
    "from functools import reduce\n",
    "total2 = reduce( lambda x, y: x + y, some_nums )"
   ]
  },
  {
   "cell_type": "markdown",
   "metadata": {
    "slideshow": {
     "slide_type": "subslide"
    }
   },
   "source": [
    "### Map"
   ]
  },
  {
   "cell_type": "code",
   "execution_count": 1,
   "metadata": {},
   "outputs": [
    {
     "name": "stdout",
     "output_type": "stream",
     "text": [
      "643210\n"
     ]
    }
   ],
   "source": [
    "# import the US Constitution as a string\n",
    "import requests\n",
    "\n",
    "url = \"https://gist.githubusercontent.com/StevenClontz/4445774/raw/1722a289b665d940495645a5eaaad4da8e3ad4c7/mobydick.txt\"\n",
    "response = requests.get(url)\n",
    "Melville = response.text\n",
    "print( len( Melville ) )"
   ]
  },
  {
   "cell_type": "code",
   "execution_count": null,
   "metadata": {
    "slideshow": {
     "slide_type": "subslide"
    }
   },
   "outputs": [],
   "source": [
    "%%timeit\n",
    "uppered_Melville = []\n",
    "for word in Melville:\n",
    "    uppered_Melville.append( word.capitalize() )"
   ]
  },
  {
   "cell_type": "code",
   "execution_count": null,
   "metadata": {},
   "outputs": [],
   "source": [
    "%%timeit\n",
    "uppered_Melville = list(map(str.capitalize, Melville)) "
   ]
  },
  {
   "cell_type": "code",
   "execution_count": null,
   "metadata": {},
   "outputs": [],
   "source": [
    "%%timeit\n",
    "uppered_Melville = [x.capitalize( )for x in Melville]"
   ]
  },
  {
   "cell_type": "markdown",
   "metadata": {
    "slideshow": {
     "slide_type": "subslide"
    }
   },
   "source": [
    "### Filter"
   ]
  },
  {
   "cell_type": "code",
   "execution_count": null,
   "metadata": {},
   "outputs": [],
   "source": [
    "%%timeit\n",
    "long_words = []\n",
    "for word in Melville:\n",
    "    if len( word ) >= 12:\n",
    "        long_names.append( word )"
   ]
  },
  {
   "cell_type": "code",
   "execution_count": null,
   "metadata": {},
   "outputs": [],
   "source": [
    "%%timeit\n",
    "long_words = list( filter(lambda x: len(x) >= 12, Melville) )"
   ]
  },
  {
   "cell_type": "code",
   "execution_count": null,
   "metadata": {},
   "outputs": [],
   "source": [
    "%%timeit\n",
    "long_words = [x for x in Melville if len(x) >= 12]"
   ]
  },
  {
   "cell_type": "markdown",
   "metadata": {
    "slideshow": {
     "slide_type": "slide"
    }
   },
   "source": [
    "## That was a lot.  ....any questions before we tackle Python Classes?\n",
    "\n",
    "<img src=\"https://content.techgig.com/photo/80071467/pros-and-cons-of-python-programming-language-that-every-learner-must-know.jpg?132269\" width=\"100%\" style=\"margin-left:auto; margin-right:auto\">"
   ]
  }
 ],
 "metadata": {
  "celltoolbar": "Slideshow",
  "kernelspec": {
   "display_name": "Python 3",
   "language": "python",
   "name": "python3"
  },
  "language_info": {
   "codemirror_mode": {
    "name": "ipython",
    "version": 3
   },
   "file_extension": ".py",
   "mimetype": "text/x-python",
   "name": "python",
   "nbconvert_exporter": "python",
   "pygments_lexer": "ipython3",
   "version": "3.7.6"
  }
 },
 "nbformat": 4,
 "nbformat_minor": 4
}
