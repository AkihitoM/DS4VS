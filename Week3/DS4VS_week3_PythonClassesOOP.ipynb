{
 "cells": [
  {
   "cell_type": "code",
   "execution_count": null,
   "metadata": {},
   "outputs": [],
   "source": []
  },
  {
   "cell_type": "markdown",
   "metadata": {
    "slideshow": {
     "slide_type": "slide"
    }
   },
   "source": [
    "<br>\n",
    "\n",
    "# Week 3: Classes, Objects & OOP"
   ]
  },
  {
   "cell_type": "markdown",
   "metadata": {
    "slideshow": {
     "slide_type": "slide"
    }
   },
   "source": [
    "<br>\n",
    "\n",
    "### Classes: User Defined Types\n",
    "\n",
    "Users can move beyond using Python's built-in types and define thier own.  \n",
    "\n",
    "A programmer defined type, called a **class**, is a Python object that organizes data as **attributes** and code as **methods**  \n",
    "\n",
    "Here is a basic pattern to define a class:  \n",
    "\n",
    "    class ClassName:\n",
    "        \"\"\"\n",
    "        a docstring to give a description\n",
    "        \"\"\"\n",
    "        <code to define attributes &/or methods>"
   ]
  },
  {
   "cell_type": "markdown",
   "metadata": {
    "slideshow": {
     "slide_type": "subslide"
    }
   },
   "source": [
    "<br>\n",
    "\n",
    "We can define and **instantiate** a `Cat` class object.  \n",
    "We will make it the simplest possible class:  "
   ]
  },
  {
   "cell_type": "code",
   "execution_count": null,
   "metadata": {
    "slideshow": {
     "slide_type": "-"
    }
   },
   "outputs": [],
   "source": [
    "# The simplest class\n",
    "class Cat():\n",
    "    pass"
   ]
  },
  {
   "cell_type": "code",
   "execution_count": null,
   "metadata": {},
   "outputs": [],
   "source": [
    "cat = Cat()\n",
    "print( cat )\n",
    "print( type( cat ) )"
   ]
  },
  {
   "cell_type": "markdown",
   "metadata": {
    "slideshow": {
     "slide_type": "subslide"
    }
   },
   "source": [
    "<br> \n",
    "\n",
    "### Attributes\n",
    "\n",
    "We can store data in a class object by assigning values as **attributes**"
   ]
  },
  {
   "cell_type": "code",
   "execution_count": null,
   "metadata": {},
   "outputs": [],
   "source": [
    "cat.weight = 12.5\n",
    "cat.age = 6\n",
    "cat.color = 'calico'\n",
    "cat.name = 'Captain Midnight'"
   ]
  },
  {
   "cell_type": "code",
   "execution_count": null,
   "metadata": {},
   "outputs": [],
   "source": [
    "print( vars( cat ) )"
   ]
  },
  {
   "cell_type": "markdown",
   "metadata": {
    "slideshow": {
     "slide_type": "fragment"
    }
   },
   "source": [
    "However, if we instantiate a new object, we would need to define the new objects attributes as well"
   ]
  },
  {
   "cell_type": "code",
   "execution_count": null,
   "metadata": {},
   "outputs": [],
   "source": [
    "another_cat = Cat()\n",
    "vars( another_cat )"
   ]
  },
  {
   "cell_type": "markdown",
   "metadata": {
    "slideshow": {
     "slide_type": "subslide"
    }
   },
   "source": [
    "We can assign attributes at instantiation if by using the object's **initialization method**  \n",
    "\n",
    "`__init__` is a special Python method for instantiating an object and the argument `self` is important for the object to refer to itself within it's own definition"
   ]
  },
  {
   "cell_type": "code",
   "execution_count": null,
   "metadata": {},
   "outputs": [],
   "source": [
    "class Cat( ):\n",
    "    def __init__( self, name, fur='fluffy' ):\n",
    "        self.name = name\n",
    "        self.fur = fur"
   ]
  },
  {
   "cell_type": "code",
   "execution_count": null,
   "metadata": {},
   "outputs": [],
   "source": [
    "acat = Cat( 'Captain Midnight' )\n",
    "vars( acat )"
   ]
  },
  {
   "cell_type": "code",
   "execution_count": null,
   "metadata": {},
   "outputs": [],
   "source": [
    "acat.name"
   ]
  },
  {
   "cell_type": "markdown",
   "metadata": {
    "slideshow": {
     "slide_type": "subslide"
    }
   },
   "source": [
    "Classes are very flexible structures that can be used to store values as attributes.  \n",
    "\n",
    "Classes have the added property of being **mutable**:"
   ]
  },
  {
   "cell_type": "code",
   "execution_count": null,
   "metadata": {},
   "outputs": [],
   "source": [
    "print( acat.name )\n",
    "acat.name = 'Suzzie Q'\n",
    "print( acat.name )"
   ]
  },
  {
   "cell_type": "markdown",
   "metadata": {
    "slideshow": {
     "slide_type": "fragment"
    }
   },
   "source": [
    "We can also copy class objects:"
   ]
  },
  {
   "cell_type": "code",
   "execution_count": null,
   "metadata": {},
   "outputs": [],
   "source": [
    "import copy \n",
    "\n",
    "a_third_cat = copy.copy( acat )\n",
    "print( vars( a_third_cat ) )\n",
    "#this has some interesting properties..."
   ]
  },
  {
   "cell_type": "markdown",
   "metadata": {
    "slideshow": {
     "slide_type": "subslide"
    }
   },
   "source": [
    "## <span style=\"color:red\">Now you try...</span> "
   ]
  },
  {
   "cell_type": "code",
   "execution_count": null,
   "metadata": {},
   "outputs": [],
   "source": [
    "# Define a new class object, Point.\n",
    "# assign two variables to point: x,y on initialization\n",
    "# define x,y in the __init__ method\n",
    "\n",
    "class ______ ( __ , __ ):\n",
    "    def __init__( ____, __, __ ):\n",
    "        self.__ = __\n",
    "        self.__ = __"
   ]
  },
  {
   "cell_type": "code",
   "execution_count": null,
   "metadata": {},
   "outputs": [],
   "source": [
    "# Instantiate 2 Point objects,\n",
    "point_a = \n",
    "point_b = "
   ]
  },
  {
   "cell_type": "code",
   "execution_count": null,
   "metadata": {},
   "outputs": [],
   "source": [
    "# pass your points to the following function:\n",
    "def distance_between_points( p1, p2 ):\n",
    "    return math.sqrt( ( p1.x - p2.x )**2 + ( p1.y - p2.y )**2 )\n",
    "\n",
    "d = distance_between_points( point_a, point_b )"
   ]
  },
  {
   "cell_type": "markdown",
   "metadata": {
    "slideshow": {
     "slide_type": "slide"
    }
   },
   "source": [
    "<br>\n",
    "\n",
    "### Methods"
   ]
  },
  {
   "cell_type": "code",
   "execution_count": null,
   "metadata": {},
   "outputs": [],
   "source": [
    "class Cat():\n",
    "    \"\"\"Represent a cat up for adoption\"\"\"\n",
    "    def __init__(self, name, age=1 ):\n",
    "        self.name = name\n",
    "        self.age = age \n",
    "    def __str__( self ):\n",
    "        return  \"My name is {} and I am {} years old\".format( self.name, self.age ) "
   ]
  },
  {
   "cell_type": "code",
   "execution_count": null,
   "metadata": {},
   "outputs": [],
   "source": [
    "kitty = Cat( 'Mittens' )\n",
    "print( kitty )"
   ]
  },
  {
   "cell_type": "markdown",
   "metadata": {
    "slideshow": {
     "slide_type": "subslide"
    }
   },
   "source": [
    "Methods can be used to keep track of and act on the attributes.  "
   ]
  },
  {
   "cell_type": "code",
   "execution_count": null,
   "metadata": {
    "slideshow": {
     "slide_type": "-"
    }
   },
   "outputs": [],
   "source": [
    "class Cat():\n",
    "    \"\"\"Represent a cat up for adoption\"\"\"\n",
    "    def __init__(self, name, age=1 ):\n",
    "        self.name = name\n",
    "        self.age = age \n",
    "    def __str__( self ):\n",
    "        return  \"My name is {} and I am {} years old\".format( self.name, self.age ) \n",
    "    def increment_age( self ):\n",
    "        self.age += 1"
   ]
  },
  {
   "cell_type": "code",
   "execution_count": null,
   "metadata": {},
   "outputs": [],
   "source": [
    "kitty = Cat( 'Mittens' )\n",
    "print( vars( kitty ) )\n",
    "kitty.increment_age()\n",
    "print( vars( kitty ) )"
   ]
  },
  {
   "cell_type": "markdown",
   "metadata": {
    "slideshow": {
     "slide_type": "subslide"
    }
   },
   "source": [
    "## Special Methods\n",
    "\n",
    "Python supports **operator overloading** - change the behavior of an operator to suit the desired behavior of user defined types.\n",
    "\n",
    "![](http://1.bp.blogspot.com/-FnIuZ0OPYk8/VcJSm4w254I/AAAAAAAAIpA/Y6_3b2r53TA/s1600/operator_overloading.PNG)"
   ]
  },
  {
   "cell_type": "code",
   "execution_count": null,
   "metadata": {
    "slideshow": {
     "slide_type": "subslide"
    }
   },
   "outputs": [],
   "source": [
    "# Let's revisit out Point class\n",
    "class Point:\n",
    "    \"\"\"Represents a pair of (x,y) coordinates\"\"\"\n",
    "    def __init__(self, x=0, y=0 ):\n",
    "        self.x = x\n",
    "        self.y = y \n",
    "    def __str__( self ):\n",
    "        return '( {}, {} )'.format( self.x, self.y ) \n",
    "    def __add__( self, other ):\n",
    "        tx = self.x + other.x\n",
    "        ty = self.y + other.y\n",
    "        return Point( tx,ty )"
   ]
  },
  {
   "cell_type": "code",
   "execution_count": null,
   "metadata": {
    "slideshow": {
     "slide_type": "fragment"
    }
   },
   "outputs": [],
   "source": [
    "p1 = Point( 2,2 )\n",
    "p2 = Point( 4,4 )\n",
    "print( p1 + p2 )"
   ]
  },
  {
   "cell_type": "code",
   "execution_count": null,
   "metadata": {
    "slideshow": {
     "slide_type": "subslide"
    }
   },
   "outputs": [],
   "source": [
    "class Word():\n",
    "    def __init__( self, word ):\n",
    "        self.word = word\n",
    "    def __eq__( self, anotherword ):\n",
    "        return self.word.lower() == anotherword.word.lower()"
   ]
  },
  {
   "cell_type": "code",
   "execution_count": null,
   "metadata": {
    "slideshow": {
     "slide_type": "fragment"
    }
   },
   "outputs": [],
   "source": [
    "w1 = Word( 'Gremlin' )\n",
    "w2 = Word( 'gremlin' )\n",
    "w3 = Word( 'Gomer' )\n",
    "print( w1 == w2 )\n",
    "print( w1 == w3 )"
   ]
  },
  {
   "cell_type": "markdown",
   "metadata": {
    "slideshow": {
     "slide_type": "slide"
    }
   },
   "source": [
    "<br>\n",
    "\n",
    "### Inheritance \n",
    "\n",
    "Define a new class that is a modified version of an existing class"
   ]
  },
  {
   "cell_type": "code",
   "execution_count": null,
   "metadata": {},
   "outputs": [],
   "source": [
    "class RetinalGanglionCell:\n",
    "    def __init__(self, name, number=1, track=1, session=1,\n",
    "                 tissue=\"retina\", cortex=False):\n",
    "        self.name = name\n",
    "        self.number = number\n",
    "        self.track = track\n",
    "        self.session = session\n",
    "        self.tissue = tissue\n",
    "        self.cortex = cortex\n",
    "        \n",
    "    def __str__(self):\n",
    "        return \"Cell: {} for recording session: {}, track number: {}\".format( self.name, self.session, self.track )\n",
    "\n",
    "    def fire_AP(self):\n",
    "        print(\"The Retinal Ganglion Cell fired and action potential.\")\n",
    "\n",
    "    def next_cell(self):\n",
    "        self.number += 1\n",
    "        print(\"Now recording cell number {} for session number{}, track number {}\".format( self.number, self.session, self.track ) )"
   ]
  },
  {
   "cell_type": "code",
   "execution_count": null,
   "metadata": {
    "slideshow": {
     "slide_type": "fragment"
    }
   },
   "outputs": [],
   "source": [
    "rgc_1 = RetinalGanglionCell( 'rgc1')\n",
    "print( rgc_1 )\n",
    "rgc_1.next_cell()"
   ]
  },
  {
   "cell_type": "markdown",
   "metadata": {
    "slideshow": {
     "slide_type": "subslide"
    }
   },
   "source": [
    "<br>\n",
    "\n",
    "### Inheritance\n",
    "\n",
    "Define subclasses, or children, of the parent class `RetinalGanglionCell`:"
   ]
  },
  {
   "cell_type": "code",
   "execution_count": null,
   "metadata": {
    "slideshow": {
     "slide_type": "-"
    }
   },
   "outputs": [],
   "source": [
    "class KoniocellularRGC( RetinalGanglionCell ):\n",
    "    pass\n",
    "\n",
    "krgc_1 = KoniocellularRGC(\"krgc_1\")\n",
    "print( vars( krgc_1 ) )\n",
    "krgc_1.next_cell()"
   ]
  },
  {
   "cell_type": "code",
   "execution_count": null,
   "metadata": {},
   "outputs": [],
   "source": [
    "class ParvocellularRGC( RetinalGanglionCell ):\n",
    "\n",
    "    def print_preferred_stimuli(self):\n",
    "        print(\"Parvocellular RGC prefer equiluminant chromatic stimuli and relatively lower spatial frequency.\")\n",
    "        \n",
    "prgc_1 = ParvocellularRGC(\"Casey\")\n",
    "print( vars( prgc_1 ) )\n",
    "prgc_1.print_preferred_stimuli()"
   ]
  },
  {
   "cell_type": "markdown",
   "metadata": {
    "slideshow": {
     "slide_type": "subslide"
    }
   },
   "source": [
    "<br>\n",
    "\n",
    "In the interest of time, we have been looking at 'toy' examples of user defined classes.  \n",
    "\n",
    "What does OOP look like in the wild? I'd like to show you some Matlab code.....  \n",
    "\n",
    "[Procedural code](https://github.com/SmilodonCub/ML/blob/master/CatSearch_Physiol.m)  \n",
    "\n",
    "[OOP code](https://github.com/SmilodonCub/McPeekLab_1704_ML2/blob/master/catSearchPHYSIOL_ML2/CatSearch_Physiol_ML2.m)"
   ]
  },
  {
   "cell_type": "markdown",
   "metadata": {
    "slideshow": {
     "slide_type": "slide"
    }
   },
   "source": [
    "## That's probably enough for one afternoon, eh?!\n",
    "\n",
    "<img src=\"https://content.techgig.com/photo/80071467/pros-and-cons-of-python-programming-language-that-every-learner-must-know.jpg?132269\" width=\"100%\" style=\"margin-left:auto; margin-right:auto\">"
   ]
  }
 ],
 "metadata": {
  "celltoolbar": "Slideshow",
  "kernelspec": {
   "display_name": "Python 3",
   "language": "python",
   "name": "python3"
  },
  "language_info": {
   "codemirror_mode": {
    "name": "ipython",
    "version": 3
   },
   "file_extension": ".py",
   "mimetype": "text/x-python",
   "name": "python",
   "nbconvert_exporter": "python",
   "pygments_lexer": "ipython3",
   "version": "3.7.6"
  }
 },
 "nbformat": 4,
 "nbformat_minor": 4
}
