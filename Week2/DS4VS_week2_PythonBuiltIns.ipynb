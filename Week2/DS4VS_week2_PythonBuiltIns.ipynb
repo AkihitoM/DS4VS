{
 "cells": [
  {
   "cell_type": "markdown",
   "metadata": {},
   "source": [
    "[![Open In Colab](https://colab.research.google.com/assets/colab-badge.svg)](https://colab.research.google.com/github/SmilodonCub/DS4VS/blob/master/Week2/DS4VS_week2_PythonBuiltIns.ipynb)"
   ]
  },
  {
   "cell_type": "markdown",
   "metadata": {
    "slideshow": {
     "slide_type": "slide"
    }
   },
   "source": [
    "# Week 2: Python Built-In Types"
   ]
  },
  {
   "cell_type": "markdown",
   "metadata": {
    "slideshow": {
     "slide_type": "slide"
    }
   },
   "source": [
    "## A Brief Recap:\n",
    "\n",
    "* Hello, how are you?...\n",
    "* Class Resources\n",
    "    * Slack\n",
    "    * DataCamp"
   ]
  },
  {
   "cell_type": "markdown",
   "metadata": {
    "slideshow": {
     "slide_type": "slide"
    }
   },
   "source": [
    "## A Brief Review of Python Primitives\n",
    "\n",
    "Last week we were given an introduction to Python Primitive types:  \n",
    "\n",
    "1. **Integers**"
   ]
  },
  {
   "cell_type": "code",
   "execution_count": null,
   "metadata": {
    "slideshow": {
     "slide_type": "-"
    }
   },
   "outputs": [],
   "source": [
    "x = 23\n",
    "print( 'type of x: ', type( x ) )"
   ]
  },
  {
   "cell_type": "markdown",
   "metadata": {
    "slideshow": {
     "slide_type": "fragment"
    }
   },
   "source": [
    "2. **Floats**"
   ]
  },
  {
   "cell_type": "code",
   "execution_count": null,
   "metadata": {
    "slideshow": {
     "slide_type": "-"
    }
   },
   "outputs": [],
   "source": [
    "x = 2.3\n",
    "print( 'type of x: ', type( x ) )"
   ]
  },
  {
   "cell_type": "markdown",
   "metadata": {
    "slideshow": {
     "slide_type": "subslide"
    }
   },
   "source": [
    "3. **Booleans**"
   ]
  },
  {
   "cell_type": "code",
   "execution_count": null,
   "metadata": {},
   "outputs": [],
   "source": [
    "x = bool( 23 )\n",
    "print( 'type of x: ', type( x ) )"
   ]
  },
  {
   "cell_type": "markdown",
   "metadata": {
    "slideshow": {
     "slide_type": "fragment"
    }
   },
   "source": [
    "4. **Strings**"
   ]
  },
  {
   "cell_type": "code",
   "execution_count": null,
   "metadata": {},
   "outputs": [],
   "source": [
    "x = '23'\n",
    "print( 'type of x: ', type( x ) )"
   ]
  },
  {
   "cell_type": "markdown",
   "metadata": {
    "slideshow": {
     "slide_type": "slide"
    }
   },
   "source": [
    "## Strings are more complicated than numeric types\n",
    "\n",
    "* numeric types ( `int`, `float` & `bool` ) can be thought of as atomic/elemental classes\n",
    "* Strings are more complicated, because the are sequences of elemental characters"
   ]
  },
  {
   "cell_type": "code",
   "execution_count": null,
   "metadata": {},
   "outputs": [],
   "source": [
    "num = 34.56\n",
    "string = 'This is an example string.' \n",
    "idx = 0\n",
    "print( string[idx] )\n",
    "print( num[idx] )"
   ]
  },
  {
   "cell_type": "markdown",
   "metadata": {
    "slideshow": {
     "slide_type": "slide"
    }
   },
   "source": [
    "## Strings have more dynamic behavior\n",
    "\n",
    "* strings are **subscriptable**, meaning we can access elements of a string\n",
    "* strings have many [built-in methods](https://docs.python.org/3/library/stdtypes.html#text-sequence-type-str) that we can use to manipulate them:\n",
    "    - Case: `.lower()`, `.upper()`, `.title()`, `.capitalize()`\n",
    "    - Searching & Selecting: `.startswith()`, `endswith()`, `.find()`, `.index()`\n",
    "    - Returns Informaton: `.isalpha()`, `.isnumeric()`, `.isupper()`\n",
    "    - and many more"
   ]
  },
  {
   "cell_type": "markdown",
   "metadata": {
    "slideshow": {
     "slide_type": "slide"
    }
   },
   "source": [
    "## Using String Methods\n",
    "\n",
    "use this pattern:  \n",
    "\n",
    "    string.method( arguments )"
   ]
  },
  {
   "cell_type": "markdown",
   "metadata": {
    "slideshow": {
     "slide_type": "fragment"
    }
   },
   "source": [
    "## <span style=\"color:red\">Now you try...</span> "
   ]
  },
  {
   "cell_type": "code",
   "execution_count": null,
   "metadata": {
    "slideshow": {
     "slide_type": "slide"
    }
   },
   "outputs": [],
   "source": [
    "hp = \"\"\"Mr and Mrs Dursley, of number four, Privet Drive, were proud to say that they were perfectly normal, thank you very much. They were the last people you’d expect to be involved in anything strange or mysterious, because they just didn’t hold with such nonsense.\n",
    "    Mr Dursley was the director of a firm called Grunnings, which made drills. He was a big, beefy man with hardly any neck, although he did have a very large moustache. Mrs Dursley was thin and blonde and had nearly twice the usual amount of neck, which came in very useful as she spent so much of her time craning over garden fences, spying on the neighbours. The Dursleys had a small son called Dudley and in their opinion there was no finer boy anywhere.\n",
    "    The Dursleys had everything they wanted, but they also had a secret, and their greatest fear was that somebody would discover it. They didn’t think they could bear it if anyone found out about the Potters. Mrs Potter was Mrs Dursley’s sister, but they hadn’t met for several years; in fact, Mrs Dursley pretended she didn’t have a sister, because her sister and her good-for-nothing husband were as unDursleyish as it was possible to be. The Dursleys shuddered to think what the neighbours would say if the Potters arrived in the street. The Dursleys knew that the Potters had a small son, too, but they had never even seen him. This boy was another good reason or keeping the Potters away; they didn’t want Dudley mixing with a child like that.\"\"\"\n",
    "\n",
    "print( hp )"
   ]
  },
  {
   "cell_type": "markdown",
   "metadata": {
    "slideshow": {
     "slide_type": "slide"
    }
   },
   "source": [
    "divide the string `hp` into paragraphs by using the `.split()` method with the argument '\\n'"
   ]
  },
  {
   "cell_type": "code",
   "execution_count": null,
   "metadata": {},
   "outputs": [],
   "source": [
    "hp_pars = hp.___( ___  )\n",
    "len( hp_pars )"
   ]
  },
  {
   "cell_type": "markdown",
   "metadata": {
    "slideshow": {
     "slide_type": "fragment"
    }
   },
   "source": [
    "Use the `.count()` method to find how many times the string 'Dursley' occurs within the string `hp`"
   ]
  },
  {
   "cell_type": "code",
   "execution_count": null,
   "metadata": {},
   "outputs": [],
   "source": [
    "num_Dursley = hp.___( ____ )"
   ]
  },
  {
   "cell_type": "markdown",
   "metadata": {
    "slideshow": {
     "slide_type": "slide"
    }
   },
   "source": [
    "## Slicing Strings\n",
    "\n",
    "Because strings are subscriptable, we can 'slice' a string to select a substring:  \n",
    "\n",
    "* `[:]`, or `[0:]`      extract the entire sequence\n",
    "* `[start:]`            extract from the start offset to the end of the string\n",
    "* `[:finish]`           extract up to, but not including the finish offset\n",
    "* `[start:finish]`      extract from the start offset up to but not including the finish offset\n",
    "* `[start:finish:step]` extract from the start offset up to but not including the finish offset skipping characters by step"
   ]
  },
  {
   "cell_type": "markdown",
   "metadata": {
    "slideshow": {
     "slide_type": "fragment"
    }
   },
   "source": [
    "Understanding how to slice strings is important, because the same principle can be applied to any subscriptable data type in Python."
   ]
  },
  {
   "cell_type": "markdown",
   "metadata": {
    "slideshow": {
     "slide_type": "fragment"
    }
   },
   "source": [
    "## <span style=\"color:red\">Now you try...</span> "
   ]
  },
  {
   "cell_type": "code",
   "execution_count": null,
   "metadata": {
    "slideshow": {
     "slide_type": "slide"
    }
   },
   "outputs": [],
   "source": [
    "num_string = '123456789'\n",
    "print( num_string )\n",
    "print( len( num_string ) )"
   ]
  },
  {
   "cell_type": "markdown",
   "metadata": {
    "slideshow": {
     "slide_type": "fragment"
    }
   },
   "source": [
    "<span style=\"color:red\">before running each cell, guess what you think the output will be....</span> "
   ]
  },
  {
   "cell_type": "code",
   "execution_count": null,
   "metadata": {
    "slideshow": {
     "slide_type": "fragment"
    }
   },
   "outputs": [],
   "source": [
    "print( num_string[7:] )"
   ]
  },
  {
   "cell_type": "code",
   "execution_count": null,
   "metadata": {
    "slideshow": {
     "slide_type": "fragment"
    }
   },
   "outputs": [],
   "source": [
    "print( num_string[4:6] )"
   ]
  },
  {
   "cell_type": "code",
   "execution_count": null,
   "metadata": {
    "slideshow": {
     "slide_type": "fragment"
    }
   },
   "outputs": [],
   "source": [
    "print( num_string[::2] )"
   ]
  },
  {
   "cell_type": "markdown",
   "metadata": {
    "slideshow": {
     "slide_type": "slide"
    }
   },
   "source": [
    "Moving on from the primitive types....\n",
    "\n",
    "## Lists & Tuples\n",
    "\n",
    "* Like Strings, Lists & Tuples are sequences of elements\n",
    "* Unlike Strings, Lists & Tuples can hold sequences of any Python data type"
   ]
  },
  {
   "cell_type": "markdown",
   "metadata": {
    "slideshow": {
     "slide_type": "slide"
    }
   },
   "source": [
    "## Lists  [ ]\n",
    "\n",
    "Python lists are **mutable** sequences  of elements of any type"
   ]
  },
  {
   "cell_type": "code",
   "execution_count": null,
   "metadata": {
    "slideshow": {
     "slide_type": "fragment"
    }
   },
   "outputs": [],
   "source": [
    "#lists can be of any type\n",
    "movies = [ 'Jaws', 'Jurassic Park', 'The Never Ending Story']\n",
    "numbers = [ 0, 20, 30, 4, 3.14, 7e10 ]\n",
    "empty = []\n",
    "\n",
    "print( movies, numbers, empty )"
   ]
  },
  {
   "cell_type": "code",
   "execution_count": null,
   "metadata": {
    "slideshow": {
     "slide_type": "fragment"
    }
   },
   "outputs": [],
   "source": [
    "# a list within another list is a nested list\n",
    "nested_list = [ movies, numbers, empty ]\n",
    "print( nested_list )"
   ]
  },
  {
   "cell_type": "markdown",
   "metadata": {
    "slideshow": {
     "slide_type": "slide"
    }
   },
   "source": [
    "### Slicing lists works the same as slicing strings"
   ]
  },
  {
   "cell_type": "code",
   "execution_count": null,
   "metadata": {
    "slideshow": {
     "slide_type": "-"
    }
   },
   "outputs": [],
   "source": [
    "print( movies[2:] )\n",
    "print( numbers[::3] )"
   ]
  },
  {
   "cell_type": "code",
   "execution_count": null,
   "metadata": {
    "slideshow": {
     "slide_type": "fragment"
    }
   },
   "outputs": [],
   "source": [
    "# here is an example of slicing a nested list\n",
    "print( nested_list[0][2])"
   ]
  },
  {
   "cell_type": "markdown",
   "metadata": {
    "slideshow": {
     "slide_type": "slide"
    }
   },
   "source": [
    "## Lists are Mutable\n",
    "\n",
    "**Mutable** - lists and mutable elements within can be changed. \n",
    "Lists can be changed using [built-in list methods](https://docs.python.org/3/tutorial/datastructures.html)"
   ]
  },
  {
   "cell_type": "code",
   "execution_count": null,
   "metadata": {},
   "outputs": [],
   "source": [
    "# change an element in a list\n",
    "print( movies )\n",
    "movies[1] = 'Lord of the Rings'\n",
    "print( movies )"
   ]
  },
  {
   "cell_type": "code",
   "execution_count": null,
   "metadata": {
    "slideshow": {
     "slide_type": "fragment"
    }
   },
   "outputs": [],
   "source": [
    "# add elements to a list\n",
    "movies.append( 'Akira' )\n",
    "print( movies )"
   ]
  },
  {
   "cell_type": "markdown",
   "metadata": {
    "slideshow": {
     "slide_type": "fragment"
    }
   },
   "source": [
    "## <span style=\"color:red\">Now you try...</span> "
   ]
  },
  {
   "cell_type": "markdown",
   "metadata": {
    "slideshow": {
     "slide_type": "slide"
    }
   },
   "source": [
    "Use the documentation for [built-in list methods](https://docs.python.org/3/tutorial/datastructures.html) to help you...."
   ]
  },
  {
   "cell_type": "code",
   "execution_count": null,
   "metadata": {},
   "outputs": [],
   "source": [
    "# add the list 'new_movies' to the end of the list 'movies' \n",
    "new_movies = [ 'Black Widow', 'Raya the Last Dragon', 'The Suicide Club' ]\n",
    "movies._____( _____ )\n",
    "print( movies )"
   ]
  },
  {
   "cell_type": "code",
   "execution_count": null,
   "metadata": {
    "slideshow": {
     "slide_type": "fragment"
    }
   },
   "outputs": [],
   "source": [
    "# take out 'The Never Ending Story' from the list 'movies'\n",
    "movies._____( _____ )\n",
    "print( movies )"
   ]
  },
  {
   "cell_type": "markdown",
   "metadata": {
    "slideshow": {
     "slide_type": "fragment"
    }
   },
   "source": [
    "Notice that list methods directly modify the list object"
   ]
  },
  {
   "cell_type": "markdown",
   "metadata": {
    "slideshow": {
     "slide_type": "slide"
    }
   },
   "source": [
    "## Tuples ( )\n",
    "\n",
    "*\\\"I pronounce tuple too-pull on Mon/Wed/Fri and tub-pull on Tues/Thurs/Sat.*   \n",
    "*On Sunday I don't talk about them :)\\\"*\n",
    "\n",
    "-Guido van Rossum\n",
    "\n",
    "<img src=\"https://gvanrossum.github.io/images/GuidoByPeterAdams.jpg\" width=\"50%\" style=\"float: right;\">"
   ]
  },
  {
   "cell_type": "markdown",
   "metadata": {
    "slideshow": {
     "slide_type": "slide"
    }
   },
   "source": [
    "## Tuples ( )\n",
    "\n",
    "Python tuples are **immutable** sequences of elements of any type"
   ]
  },
  {
   "cell_type": "code",
   "execution_count": null,
   "metadata": {
    "slideshow": {
     "slide_type": "fragment"
    }
   },
   "outputs": [],
   "source": [
    "# tuples can be of any data types\n",
    "\n",
    "sfreq = ( 0.1, 1, 10, 100 ) \n",
    "subjects = ( 'BC', 'ZB', 'BBL', 'QZ' )\n",
    "print( sfreq, subjects )"
   ]
  },
  {
   "cell_type": "code",
   "execution_count": null,
   "metadata": {
    "slideshow": {
     "slide_type": "fragment"
    }
   },
   "outputs": [],
   "source": [
    "# a nested tuple\n",
    "params = ( 'BC', sfreq, [ 0.25, 2.5, 5, 10, 20, 40] )\n",
    "print( params )"
   ]
  },
  {
   "cell_type": "markdown",
   "metadata": {
    "slideshow": {
     "slide_type": "slide"
    }
   },
   "source": [
    "Because tuples are immutable, we cannot change them the way we can change lists:"
   ]
  },
  {
   "cell_type": "code",
   "execution_count": null,
   "metadata": {},
   "outputs": [],
   "source": [
    "print( params )"
   ]
  },
  {
   "cell_type": "code",
   "execution_count": null,
   "metadata": {
    "slideshow": {
     "slide_type": "fragment"
    }
   },
   "outputs": [],
   "source": [
    "params[0] = 'ZB'"
   ]
  },
  {
   "cell_type": "code",
   "execution_count": null,
   "metadata": {
    "slideshow": {
     "slide_type": "fragment"
    }
   },
   "outputs": [],
   "source": [
    "# you can't even change a mutable object within a tuple\n",
    "params[1][0] = 200"
   ]
  },
  {
   "cell_type": "markdown",
   "metadata": {
    "slideshow": {
     "slide_type": "slide"
    }
   },
   "source": [
    "### Tuple Methods\n",
    "\n",
    "\n",
    "Tuples have `.index()` and `.count()` methods"
   ]
  },
  {
   "cell_type": "code",
   "execution_count": null,
   "metadata": {},
   "outputs": [],
   "source": [
    "params.index('BC')"
   ]
  },
  {
   "cell_type": "markdown",
   "metadata": {
    "slideshow": {
     "slide_type": "fragment"
    }
   },
   "source": [
    "However, because tuples are immutable, they do not have any on methods that modify as lists do.  \n",
    "(e.g. tuples have no `.append`, `.insert()` `.remove()` etc)"
   ]
  },
  {
   "cell_type": "markdown",
   "metadata": {
    "slideshow": {
     "slide_type": "slide"
    }
   },
   "source": [
    "### Tuple unpacking"
   ]
  },
  {
   "cell_type": "code",
   "execution_count": null,
   "metadata": {},
   "outputs": [],
   "source": [
    "a, b, c = params\n",
    "print( a )"
   ]
  },
  {
   "cell_type": "code",
   "execution_count": null,
   "metadata": {
    "slideshow": {
     "slide_type": "fragment"
    }
   },
   "outputs": [],
   "source": [
    "# let's make a similar list object\n",
    "params_list = [ 'BC', sfreq, [ 0.25, 2.5, 5, 10, 20, 40] ]\n",
    "\n",
    "#can we do the same with lists?....\n",
    "d, e, f = params_list\n",
    "print( f )"
   ]
  },
  {
   "cell_type": "markdown",
   "metadata": {
    "slideshow": {
     "slide_type": "slide"
    }
   },
   "source": [
    "### [Lists] vs (Tuples)\n",
    "\n",
    "Tuples seem like an up-tight versions of lists. Why do we need them?"
   ]
  },
  {
   "cell_type": "markdown",
   "metadata": {
    "slideshow": {
     "slide_type": "fragment"
    }
   },
   "source": [
    "several reasons:  \n",
    "    \n",
    " * Context dependent\n",
    " * Memory efficient\n",
    " * tuples can be **hashed**"
   ]
  },
  {
   "cell_type": "markdown",
   "metadata": {
    "slideshow": {
     "slide_type": "slide"
    }
   },
   "source": [
    "## Dictionaries { }\n",
    "\n",
    "Python dictionaries are mutable collections of key:value pairs  \n",
    "\n",
    "Remember how we used offset/index numbers to slice lists and strings?...."
   ]
  },
  {
   "cell_type": "code",
   "execution_count": null,
   "metadata": {},
   "outputs": [],
   "source": [
    "print( string )\n",
    "print( string[ 0:4 ] )"
   ]
  },
  {
   "cell_type": "markdown",
   "metadata": {
    "slideshow": {
     "slide_type": "fragment"
    }
   },
   "source": [
    "An interesting way to think of a Python dictionary is like a list that doesn't have any index numbers. Rather, it has keys associated with values and the keys can be whatever the user defines them to be.  \n",
    "\n",
    "Let's build a few dictionaries..."
   ]
  },
  {
   "cell_type": "markdown",
   "metadata": {
    "slideshow": {
     "slide_type": "slide"
    }
   },
   "source": [
    "### Instantiating Dictionaries"
   ]
  },
  {
   "cell_type": "code",
   "execution_count": null,
   "metadata": {},
   "outputs": [],
   "source": [
    "# use the dict() call\n",
    "\n",
    "eng2sp = dict()\n",
    "print( eng2sp )\n",
    "print( '^ curly brackets are used for dictionaries^' )"
   ]
  },
  {
   "cell_type": "code",
   "execution_count": null,
   "metadata": {
    "slideshow": {
     "slide_type": "fragment"
    }
   },
   "outputs": [],
   "source": [
    "#define a dictionary item\n",
    "eng2sp[ 'one' ] = 'uno'\n",
    "print( eng2sp )"
   ]
  },
  {
   "cell_type": "code",
   "execution_count": null,
   "metadata": {
    "slideshow": {
     "slide_type": "slide"
    }
   },
   "outputs": [],
   "source": [
    "# another way to initialize a dict()\n",
    "eng2sp = { 'one':'uno', 'two':'dos', 'three':'tres' }\n",
    "print( eng2sp )"
   ]
  },
  {
   "cell_type": "code",
   "execution_count": null,
   "metadata": {},
   "outputs": [],
   "source": [
    "# and yet another way\n",
    "eng2sp = [ ['one','uno'], ['two','dos'], ['three','tres'] ]\n",
    "print( dict( eng2sp ) )"
   ]
  },
  {
   "cell_type": "markdown",
   "metadata": {
    "slideshow": {
     "slide_type": "slide"
    }
   },
   "source": [
    "### Dictionary Keys must be immutable"
   ]
  },
  {
   "cell_type": "code",
   "execution_count": null,
   "metadata": {},
   "outputs": [],
   "source": [
    "# This will work\n",
    "\n",
    "eng2sp2fr =  [ (('one','uno'), 'un'), (('two','dos'), 'deux'), (('three','tres'), 'trois') ]\n",
    "print( dict( eng2sp2fr ) )"
   ]
  },
  {
   "cell_type": "code",
   "execution_count": null,
   "metadata": {},
   "outputs": [],
   "source": [
    "# Will this work?....\n",
    "\n",
    "eng2sp2fr =  [ (['one','uno'], 'un'), (['two','dos'], 'deux'), (['three','tres'], 'trois') ]\n",
    "print( dict( eng2sp2fr ) )"
   ]
  },
  {
   "cell_type": "markdown",
   "metadata": {
    "slideshow": {
     "slide_type": "slide"
    }
   },
   "source": [
    "### Working with Dictionaries\n",
    "\n",
    "* access values with [key] or `.get()`\n",
    "* access all values with `.values()`\n",
    "* access all keys with `.keys()`\n",
    "* access key:value pairs with `.items()`\n",
    "\n",
    "Python Dictionaries are mutable:  \n",
    "\n",
    "* add key:value pairs with `.update()`\n",
    "* remove with `del` or `.pop()`"
   ]
  },
  {
   "cell_type": "markdown",
   "metadata": {
    "slideshow": {
     "slide_type": "slide"
    }
   },
   "source": [
    "## <span style=\"color:red\">Now you try...</span> "
   ]
  },
  {
   "cell_type": "code",
   "execution_count": null,
   "metadata": {},
   "outputs": [],
   "source": [
    "signals = {'green': 'go', 'yellow': 'go faster', 'red': 'smile for the camera'}\n",
    "print( signals )"
   ]
  },
  {
   "cell_type": "code",
   "execution_count": null,
   "metadata": {},
   "outputs": [],
   "source": [
    "# change the value for 'red' to something more appropriate\n",
    "signals[____] = 'stop'\n",
    "print( signals )"
   ]
  },
  {
   "cell_type": "code",
   "execution_count": null,
   "metadata": {},
   "outputs": [],
   "source": [
    "more_signals = { 'school zone':'slow down', 'animal crossing':'slow down', 'road hazard':'slow down'}\n",
    "signals._____( ____ )\n",
    "print( signals )"
   ]
  },
  {
   "cell_type": "markdown",
   "metadata": {
    "slideshow": {
     "slide_type": "slide"
    }
   },
   "source": [
    "### A dictionary as a collection of counters"
   ]
  },
  {
   "cell_type": "code",
   "execution_count": null,
   "metadata": {},
   "outputs": [],
   "source": [
    "def histogram( s ):\n",
    "    d = dict()\n",
    "    for c in s:\n",
    "        if c not in d:\n",
    "            d[ c ] = 1\n",
    "        else:\n",
    "            d[ c ] += 1\n",
    "    return d\n",
    "\n",
    "dist = histogram( hp )\n",
    "print( dist )\n",
    "keys = dist.keys()\n",
    "values = dist.values()\n",
    "import matplotlib.pyplot as plt\n",
    "plt.bar(keys, values)\n",
    "plt.show()"
   ]
  },
  {
   "cell_type": "markdown",
   "metadata": {
    "slideshow": {
     "slide_type": "slide"
    }
   },
   "source": [
    "## <span style=\"color:red\">Now you try...</span> \n",
    "\n",
    "fill in the parameters below and reuse the `histogram()` function...  \n",
    "\n",
    "* `loc` = distribution center\n",
    "* `scale` = standard deviation\n",
    "* `size` = number of samples"
   ]
  },
  {
   "cell_type": "code",
   "execution_count": null,
   "metadata": {
    "slideshow": {
     "slide_type": "subslide"
    }
   },
   "outputs": [],
   "source": [
    "from numpy import random\n",
    "x = random.normal(loc=____, scale=____, size=____ ).round() \n",
    "\n",
    "dist = histogram( x )\n",
    "keys = dist.keys()\n",
    "values = dist.values()\n",
    "import matplotlib.pyplot as plt\n",
    "plt.bar(keys, values)\n",
    "plt.show()"
   ]
  },
  {
   "cell_type": "markdown",
   "metadata": {
    "slideshow": {
     "slide_type": "slide"
    }
   },
   "source": [
    "## Some other Python Built-in Types...\n",
    "\n",
    "* Sets\n",
    "* range\n",
    "* complex\n",
    "* binary sequence types\n",
    "\n"
   ]
  },
  {
   "cell_type": "markdown",
   "metadata": {
    "slideshow": {
     "slide_type": "slide"
    }
   },
   "source": [
    "## Summary\n",
    "\n",
    "* we experimented with lists, tuples and dictionaries\n",
    "    * immutability is a key difference between tuples and lists & dicts\n",
    "    * a key difference between lists & tuples and dictionaries: the former are iterable\n",
    "      (we will revisit this concept in the next notebook)\n",
    "* we were introduced to a few other Python built-in types\n"
   ]
  },
  {
   "cell_type": "markdown",
   "metadata": {
    "slideshow": {
     "slide_type": "slide"
    }
   },
   "source": [
    "## Let's take a break!\n",
    "\n",
    "<img src=\"https://content.techgig.com/photo/80071467/pros-and-cons-of-python-programming-language-that-every-learner-must-know.jpg?132269\" width=\"100%\" style=\"margin-left:auto; margin-right:auto\">"
   ]
  }
 ],
 "metadata": {
  "celltoolbar": "Slideshow",
  "kernelspec": {
   "display_name": "Python 3",
   "language": "python",
   "name": "python3"
  },
  "language_info": {
   "codemirror_mode": {
    "name": "ipython",
    "version": 3
   },
   "file_extension": ".py",
   "mimetype": "text/x-python",
   "name": "python",
   "nbconvert_exporter": "python",
   "pygments_lexer": "ipython3",
   "version": "3.7.6"
  }
 },
 "nbformat": 4,
 "nbformat_minor": 4
}
