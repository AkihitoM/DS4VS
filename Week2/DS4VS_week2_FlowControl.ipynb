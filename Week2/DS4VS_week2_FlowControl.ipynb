{
 "cells": [
  {
   "cell_type": "markdown",
   "metadata": {},
   "source": [
    "[![Open In Colab](https://colab.research.google.com/assets/colab-badge.svg)](https://colab.research.google.com/github/SmilodonCub/DS4VS/blob/master/Week2/DS4VS_week2_FlowControl.ipynb)"
   ]
  },
  {
   "cell_type": "markdown",
   "metadata": {
    "slideshow": {
     "slide_type": "slide"
    }
   },
   "source": [
    "# Loops, Conditionals & Pythonic Alternatives"
   ]
  },
  {
   "cell_type": "markdown",
   "metadata": {
    "slideshow": {
     "slide_type": "slide"
    }
   },
   "source": [
    "## Flow Control\n",
    "\n",
    "<img src=\"https://www.scientecheasy.com/wp-content/uploads/2019/10/control-flow.png\" width=\"75%\" style=\"margin-left:auto; margin-right:auto\">"
   ]
  },
  {
   "cell_type": "markdown",
   "metadata": {
    "slideshow": {
     "slide_type": "slide"
    }
   },
   "source": [
    "## Sequential Flow Control \n",
    "\n",
    "The Python interpreter executes code line-by-line starting from the top"
   ]
  },
  {
   "cell_type": "code",
   "execution_count": null,
   "metadata": {},
   "outputs": [],
   "source": [
    "# an example of some code that will be interpreted sequentially by Python:\n",
    "import nltk, re, pprint\n",
    "from nltk.corpus import PlaintextCorpusReader\n",
    "corpus_root = '/home/bonzilla/Documents/DAACS_BERT/DAACS-Writing/data/WGU-Essays'\n",
    "wordlists = PlaintextCorpusReader( corpus_root, '.*' )\n",
    "filenames =  wordlists.fileids()\n",
    "print( filenames[0] )\n",
    "file_path = corpus_root + '/' + filenames[0]\n",
    "file = open( file_path )\n",
    "Essay0001_raw = file.read( )\n",
    "len_Essay0001_raw = len( Essay0001_raw )\n",
    "print( len_Essay0001_raw )"
   ]
  },
  {
   "cell_type": "markdown",
   "metadata": {
    "slideshow": {
     "slide_type": "slide"
    }
   },
   "source": [
    "## Problematic!\n",
    "\n",
    "this folder holds a lot of files:"
   ]
  },
  {
   "cell_type": "code",
   "execution_count": null,
   "metadata": {},
   "outputs": [],
   "source": [
    "len( filenames )"
   ]
  },
  {
   "cell_type": "markdown",
   "metadata": {
    "slideshow": {
     "slide_type": "fragment"
    }
   },
   "source": [
    "What if I want to find the length of each file in the directory?  \n",
    "\n",
    "Would it be efficient to copy/paste the same code 1138 times?...."
   ]
  },
  {
   "cell_type": "markdown",
   "metadata": {
    "slideshow": {
     "slide_type": "fragment"
    }
   },
   "source": [
    "# It would be very inefficient, messy, ugly and most certainly unPythonic"
   ]
  },
  {
   "cell_type": "markdown",
   "metadata": {
    "slideshow": {
     "slide_type": "slide"
    }
   },
   "source": [
    "## Iterating with `for` loops\n",
    "\n",
    "basic syntax:\n",
    "\n",
    "    for an_element in a_sequence:\n",
    "        execute this code"
   ]
  },
  {
   "cell_type": "markdown",
   "metadata": {
    "slideshow": {
     "slide_type": "slide"
    }
   },
   "source": [
    "### `for` loops with lists"
   ]
  },
  {
   "cell_type": "code",
   "execution_count": null,
   "metadata": {},
   "outputs": [],
   "source": [
    "print( type( filenames ) )"
   ]
  },
  {
   "cell_type": "markdown",
   "metadata": {
    "slideshow": {
     "slide_type": "fragment"
    }
   },
   "source": [
    "we see that `filenames` is of type `list`, it is an sequence that we can iterate through in a for loop:"
   ]
  },
  {
   "cell_type": "code",
   "execution_count": null,
   "metadata": {},
   "outputs": [],
   "source": [
    "for filename in filenames:\n",
    "    file_path = corpus_root + '/' + filename\n",
    "    file = open( file_path )\n",
    "    raw_essay = file.read( )\n",
    "    len_raw_essay = len( raw_essay )\n",
    "    print( len_raw_essay )"
   ]
  },
  {
   "cell_type": "markdown",
   "metadata": {
    "slideshow": {
     "slide_type": "slide"
    }
   },
   "source": [
    "What is we want to use these values in the future?  \n",
    "\n",
    "Let's use this `for` loop to store the essay length values in a new list:"
   ]
  },
  {
   "cell_type": "code",
   "execution_count": null,
   "metadata": {},
   "outputs": [],
   "source": [
    "essay_lengths = []\n",
    "for filename in filenames:\n",
    "    file_path = corpus_root + '/' + filename\n",
    "    file = open( file_path )\n",
    "    raw_essay = file.read( )\n",
    "    len_raw_essay = len( raw_essay )\n",
    "    essay_length.______( _______ )"
   ]
  },
  {
   "cell_type": "markdown",
   "metadata": {
    "slideshow": {
     "slide_type": "slide"
    }
   },
   "source": [
    "### Iterating with a 'range' object"
   ]
  },
  {
   "cell_type": "code",
   "execution_count": null,
   "metadata": {},
   "outputs": [],
   "source": [
    "?range"
   ]
  },
  {
   "cell_type": "code",
   "execution_count": null,
   "metadata": {
    "slideshow": {
     "slide_type": "fragment"
    }
   },
   "outputs": [],
   "source": [
    "num=1\n",
    "for idx in range( 1, 100, 5 ):\n",
    "    print( idx )\n",
    "    num *= idx\n",
    "print( num )    "
   ]
  },
  {
   "cell_type": "markdown",
   "metadata": {
    "slideshow": {
     "slide_type": "slide"
    }
   },
   "source": [
    "### enumerating `for` loops with lists"
   ]
  },
  {
   "cell_type": "code",
   "execution_count": null,
   "metadata": {},
   "outputs": [],
   "source": [
    "for idx, filename in enumerate( filenames ):\n",
    "    print( '{} is offset number {} in filenames'.format( filename, idx ) )"
   ]
  },
  {
   "cell_type": "code",
   "execution_count": null,
   "metadata": {
    "slideshow": {
     "slide_type": "fragment"
    }
   },
   "outputs": [],
   "source": [
    "# initialize a list to hold the for loop results\n",
    "name_idx_pairs = []\n",
    "\n",
    "#loop through using enumerate\n",
    "for idx, filename in enumerate( filenames ):\n",
    "    # add the idx & filename values as a tuple to our list\n",
    "    name_idx_pairs.( ____(____,____) )\n",
    "\n",
    "#print the first 10 results\n",
    "name_idx_pairs[:10]"
   ]
  },
  {
   "cell_type": "markdown",
   "metadata": {
    "slideshow": {
     "slide_type": "slide"
    }
   },
   "source": [
    "### `for` loops with dictionaries\n",
    "\n",
    "iteration works well on sequential Python types.  \n",
    "Can we loop through a dictionary with a for loop?"
   ]
  },
  {
   "cell_type": "code",
   "execution_count": null,
   "metadata": {},
   "outputs": [],
   "source": [
    "# let's create a dictionary from the list of tuples we created\n",
    "name_idx_pairs_dict = {}\n",
    "for tup in name_idx_pairs:\n",
    "    name_idx_pairs_dict[ tup[0] ] = tup[1]\n",
    "    \n",
    "name_idx_pairs_dict"
   ]
  },
  {
   "cell_type": "code",
   "execution_count": null,
   "metadata": {
    "slideshow": {
     "slide_type": "fragment"
    }
   },
   "outputs": [],
   "source": [
    "# now lets see what happens when we try to iterate through a dictionary\n",
    "for idx in range(0,10):\n",
    "    print( name_idx_pairs_dict[ idx ] )"
   ]
  },
  {
   "cell_type": "markdown",
   "metadata": {
    "slideshow": {
     "slide_type": "subslide"
    }
   },
   "source": [
    "If you put a dictionary directly in a for loop, Python will automatically iterate over the dictionary keys:"
   ]
  },
  {
   "cell_type": "code",
   "execution_count": null,
   "metadata": {},
   "outputs": [],
   "source": [
    "for key in name_idx_pairs_dict:\n",
    "    print( key, 'has the offset: ', name_idx_pairs_dict[ key ])"
   ]
  },
  {
   "cell_type": "code",
   "execution_count": null,
   "metadata": {
    "slideshow": {
     "slide_type": "fragment"
    }
   },
   "outputs": [],
   "source": [
    "# can also iterate through a dictionaries items:\n",
    "for item in name_idx_pairs_dict.items():\n",
    "    print( type( item ) )"
   ]
  },
  {
   "cell_type": "markdown",
   "metadata": {
    "slideshow": {
     "slide_type": "slide"
    }
   },
   "source": [
    "## Iterating with `while` loops\n",
    "\n",
    "a `while` loop will iterate over code (similar to a `for` loop), but only if a conditional statement is satisfied\n",
    "\n",
    "basic structure:\n",
    "\n",
    "    while <conditional statement evaluates True>:\n",
    "        execute this code\n",
    "\n",
    "Python Conditionals (Boolean Expressions):\n",
    "\n",
    "| Relational Operator |          Interpretation         |\n",
    "|:-------------------:|:-------------------------------:|\n",
    "|        x == y       |         x is equal to y         |\n",
    "|        x != y       |       x is not equal to y       |\n",
    "|        x > y        |       x is greater than y       |\n",
    "|        x < y        |         x is less than y        |\n",
    "|        x >= y       | x is greater than or equal to y |\n",
    "|        x <= y       |   x is less than or equal to y  |"
   ]
  },
  {
   "cell_type": "code",
   "execution_count": null,
   "metadata": {
    "slideshow": {
     "slide_type": "subslide"
    }
   },
   "outputs": [],
   "source": [
    "count = 1\n",
    "while count < 10:\n",
    "    print( count )\n",
    "    count += 1"
   ]
  },
  {
   "cell_type": "markdown",
   "metadata": {
    "slideshow": {
     "slide_type": "slide"
    }
   },
   "source": [
    "### Controlling `while` loops\n",
    "\n",
    "If the conditional of a while loop never tests `False`, things can get out of control....  \n",
    "Your only hope is **CTRL + C**, but in jupyter, you need to stop the kernal. "
   ]
  },
  {
   "cell_type": "markdown",
   "metadata": {},
   "source": [
    "    num = 0\n",
    "    while num < 5:\n",
    "        print( 'This while loop will run forever!' )"
   ]
  },
  {
   "cell_type": "code",
   "execution_count": null,
   "metadata": {},
   "outputs": [],
   "source": [
    "# How do we fix the above while loop?\n",
    "\n"
   ]
  },
  {
   "cell_type": "markdown",
   "metadata": {
    "slideshow": {
     "slide_type": "slide"
    }
   },
   "source": [
    "### Fine-Tuning loops"
   ]
  },
  {
   "cell_type": "markdown",
   "metadata": {},
   "source": [
    "Python Logical Operators:\n",
    "\n",
    "| Logical Operator |          Interpretation         |\n",
    "|:----------------:|:-------------------------------:|\n",
    "|      x and y     |      x and y evaluate True      |\n",
    "|      x or y      |       x or y evaluate True      |\n",
    "|       not y      |     negation of a statement     |"
   ]
  },
  {
   "cell_type": "markdown",
   "metadata": {
    "slideshow": {
     "slide_type": "fragment"
    }
   },
   "source": [
    "### Other Control Statements:  \n",
    "\n",
    "* **`break`** - exit a loop when a statement is met\n",
    "* **`continue`** - skip the iteration of a loop without exiting\n",
    "* **`pass`** - allows you to skips some code without exiting the iteration or the loop\n",
    "* **`try`** - see if some code executes, if not, the user can define methods to handle given the errors thrown by the code."
   ]
  },
  {
   "cell_type": "markdown",
   "metadata": {
    "slideshow": {
     "slide_type": "subslide"
    }
   },
   "source": [
    "Before we play with these other control statements, it will be helpful to learn about Conditional Flow Control....."
   ]
  },
  {
   "cell_type": "markdown",
   "metadata": {
    "slideshow": {
     "slide_type": "slide"
    }
   },
   "source": [
    "## Flow Control with Conditionals... using `if`, `elif` & `else`\n",
    "\n",
    "Conditional `if`/`elif`/`else` statements give your program the ability the reactively change behavior  \n",
    "\n",
    "Basic structure:  \n",
    "\n",
    "    if <conditional statement>:\n",
    "        perform this code\n",
    "    elif <conditional statement>:\n",
    "        perform some different code\n",
    "    else:\n",
    "        do this instead\n",
    "        \n",
    "<br>        \n",
    "        \n",
    "* there is no limit to the number of (chained) conditional statements\n",
    "* there must be an expression following the conditional\n",
    "    * when no action is needed, `pass` is sufficient"
   ]
  },
  {
   "cell_type": "code",
   "execution_count": null,
   "metadata": {
    "slideshow": {
     "slide_type": "subslide"
    }
   },
   "outputs": [],
   "source": [
    "# chained conditional expressions\n",
    "x = 2\n",
    "y = 10\n",
    "\n",
    "if x < y:\n",
    "    print( 'x is lss than y' )\n",
    "elif x > y: \n",
    "    print( 'x is greater than y' )\n",
    "else:\n",
    "    print( 'x and y are equal' )"
   ]
  },
  {
   "cell_type": "markdown",
   "metadata": {
    "slideshow": {
     "slide_type": "slide"
    }
   },
   "source": [
    "## Nested Flow Control\n",
    "\n",
    "Oh my!! ...conditional statements that use `pass` and `break` for added control nested inside a while loop"
   ]
  },
  {
   "cell_type": "code",
   "execution_count": null,
   "metadata": {
    "slideshow": {
     "slide_type": "-"
    }
   },
   "outputs": [],
   "source": [
    "x = 1\n",
    "while x <= 20:\n",
    "    if x > 0 and x <=10: #the exxpression after if is called the conditional\n",
    "        print( 'x is positive' )\n",
    "        if x%2==0: #an alternative branch\n",
    "            print( '{} is even'.format(x) )\n",
    "            x+=1\n",
    "        else:\n",
    "            x+=1\n",
    "            pass\n",
    "    elif x > 10:\n",
    "        print( 'x is positive' )\n",
    "        if x%2!=0: #an alternative branch\n",
    "            print( '{} is odd'.format(x) )\n",
    "            x+=1\n",
    "        else:\n",
    "            x+=1\n",
    "            pass        \n",
    "    else:\n",
    "        print( 'x is not positive' )\n",
    "        break\n",
    "        "
   ]
  },
  {
   "cell_type": "markdown",
   "metadata": {
    "slideshow": {
     "slide_type": "slide"
    }
   },
   "source": [
    "## List Comprehensions\n",
    "\n",
    "Nested conditionals can get quite messy!  \n",
    "Nested conditionals can take up many lines of code!\n",
    "\n",
    "Let's remind outselves about the Zen of Python:"
   ]
  },
  {
   "cell_type": "code",
   "execution_count": null,
   "metadata": {},
   "outputs": [],
   "source": [
    "import this"
   ]
  },
  {
   "cell_type": "markdown",
   "metadata": {
    "slideshow": {
     "slide_type": "slide"
    }
   },
   "source": [
    "### List Comprehensions are a 'Pythonic' alternative  when iterating over lists\n",
    "\n",
    "general form:\n",
    "\n",
    "    [<do this!> for an_item in list_of_items ]\n",
    "    \n",
    "    [<do this!> for an_item in list_of_items if <condition>]\n",
    "    \n",
    "    \n",
    "Oh joy!:  \n",
    "\n",
    "* it's pythonic: simple, readable\n",
    "* it also executes faster than a for loop"
   ]
  },
  {
   "cell_type": "code",
   "execution_count": null,
   "metadata": {
    "slideshow": {
     "slide_type": "slide"
    }
   },
   "outputs": [],
   "source": [
    "hp = \"\"\"Mr and Mrs Dursley, of number four, Privet Drive, were proud to say that they were perfectly normal, thank you very much. They were the last people you’d expect to be involved in anything strange or mysterious, because they just didn’t hold with such nonsense.\n",
    "    Mr Dursley was the director of a firm called Grunnings, which made drills. He was a big, beefy man with hardly any neck, although he did have a very large moustache. Mrs Dursley was thin and blonde and had nearly twice the usual amount of neck, which came in very useful as she spent so much of her time craning over garden fences, spying on the neighbours. The Dursleys had a small son called Dudley and in their opinion there was no finer boy anywhere.\n",
    "    The Dursleys had everything they wanted, but they also had a secret, and their greatest fear was that somebody would discover it. They didn’t think they could bear it if anyone found out about the Potters. Mrs Potter was Mrs Dursley’s sister, but they hadn’t met for several years; in fact, Mrs Dursley pretended she didn’t have a sister, because her sister and her good-for-nothing husband were as unDursleyish as it was possible to be. The Dursleys shuddered to think what the neighbours would say if the Potters arrived in the street. The Dursleys knew that the Potters had a small son, too, but they had never even seen him. This boy was another good reason or keeping the Potters away; they didn’t want Dudley mixing with a child like that.\"\"\"\n",
    "\n",
    "print( hp )"
   ]
  },
  {
   "cell_type": "code",
   "execution_count": null,
   "metadata": {
    "slideshow": {
     "slide_type": "slide"
    }
   },
   "outputs": [],
   "source": [
    "# make a list of words from the string\n",
    "hp_words = hp.split(' ')\n",
    "hp_words\n",
    "\n",
    "# use a list comprehension to make a list of all the first letters of each word:\n",
    "hp_1stletters = [ word[0] for word in hp_words ]\n"
   ]
  },
  {
   "cell_type": "code",
   "execution_count": null,
   "metadata": {
    "slideshow": {
     "slide_type": "slide"
    }
   },
   "outputs": [],
   "source": [
    "breweries = [ 'singlecut', 'kcbc', 'bridge & tunnel', 'queens', 'finback', 'interboro', 'grimm']\n",
    "\n",
    "#write a list comprehension to capitalize each item\n",
    "Breweries = [ brewery._____() for brewery in _______]"
   ]
  },
  {
   "cell_type": "code",
   "execution_count": null,
   "metadata": {
    "slideshow": {
     "slide_type": "fragment"
    }
   },
   "outputs": [],
   "source": [
    "#write a list comprehension to generate a list of strings of odd numbers in a given range\n",
    "start = 10\n",
    "stop = 50\n",
    "odd_range = [ str(____) for num in range( ___, ___ ) if ____%2!=0 ]"
   ]
  },
  {
   "cell_type": "markdown",
   "metadata": {
    "slideshow": {
     "slide_type": "slide"
    }
   },
   "source": [
    "## Summary\n",
    "\n",
    "We covered a lot today.  \n",
    "After working through the basic Python Built-in structures, we took a tour of Flow Control:  \n",
    "\n",
    "* `for` loops\n",
    "* `while` loops\n",
    "* conditional flow cotrol with `it`/`elif`/`else`\n",
    "* some 'Pythonic' alternatives...\n",
    "* ...and some other operators  \n"
   ]
  },
  {
   "cell_type": "markdown",
   "metadata": {
    "slideshow": {
     "slide_type": "subslide"
    }
   },
   "source": [
    "\n",
    "Flow control is very powerful and adds flexibility to the use of code within a script.  \n",
    "However, what if we need to reuse chunks of code throughout a script, or across different scripts?   \n",
    "\n",
    "is it 'Pythonic' to copy/paste loops?......"
   ]
  },
  {
   "cell_type": "markdown",
   "metadata": {
    "slideshow": {
     "slide_type": "fragment"
    }
   },
   "source": [
    "# NO!!!!\n",
    "\n",
    "so next week we will look at writing functions and classes as an alternative"
   ]
  },
  {
   "cell_type": "markdown",
   "metadata": {
    "slideshow": {
     "slide_type": "slide"
    }
   },
   "source": [
    "## That's all for today!\n",
    "\n",
    "<img src=\"https://content.techgig.com/photo/80071467/pros-and-cons-of-python-programming-language-that-every-learner-must-know.jpg?132269\" width=\"100%\" style=\"margin-left:auto; margin-right:auto\">"
   ]
  }
 ],
 "metadata": {
  "celltoolbar": "Slideshow",
  "kernelspec": {
   "display_name": "Python 3",
   "language": "python",
   "name": "python3"
  },
  "language_info": {
   "codemirror_mode": {
    "name": "ipython",
    "version": 3
   },
   "file_extension": ".py",
   "mimetype": "text/x-python",
   "name": "python",
   "nbconvert_exporter": "python",
   "pygments_lexer": "ipython3",
   "version": "3.7.6"
  }
 },
 "nbformat": 4,
 "nbformat_minor": 4
}
